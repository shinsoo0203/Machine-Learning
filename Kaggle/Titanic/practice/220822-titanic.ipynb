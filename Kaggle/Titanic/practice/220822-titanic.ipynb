{
 "cells": [
  {
   "cell_type": "code",
   "execution_count": 1,
   "metadata": {
    "_cell_guid": "b1076dfc-b9ad-4769-8c92-a6c4dae69d19",
    "_uuid": "8f2839f25d086af736a60e9eeb907d3b93b6e0e5",
    "execution": {
     "iopub.execute_input": "2022-08-22T14:26:22.417561Z",
     "iopub.status.busy": "2022-08-22T14:26:22.417080Z",
     "iopub.status.idle": "2022-08-22T14:26:22.454131Z",
     "shell.execute_reply": "2022-08-22T14:26:22.453024Z",
     "shell.execute_reply.started": "2022-08-22T14:26:22.417524Z"
    }
   },
   "outputs": [
    {
     "ename": "FileNotFoundError",
     "evalue": "[Errno 2] File /kaggle/input/titanic/train.csv does not exist: '/kaggle/input/titanic/train.csv'",
     "output_type": "error",
     "traceback": [
      "\u001b[1;31m---------------------------------------------------------------------------\u001b[0m",
      "\u001b[1;31mFileNotFoundError\u001b[0m                         Traceback (most recent call last)",
      "\u001b[1;32m<ipython-input-1-d8db6af6f224>\u001b[0m in \u001b[0;36m<module>\u001b[1;34m\u001b[0m\n\u001b[0;32m      8\u001b[0m         \u001b[1;31m#print(os.path.join(dirname, filename))\u001b[0m\u001b[1;33m\u001b[0m\u001b[1;33m\u001b[0m\u001b[1;33m\u001b[0m\u001b[0m\n\u001b[0;32m      9\u001b[0m \u001b[1;33m\u001b[0m\u001b[0m\n\u001b[1;32m---> 10\u001b[1;33m \u001b[0mtrain_df\u001b[0m \u001b[1;33m=\u001b[0m \u001b[0mpd\u001b[0m\u001b[1;33m.\u001b[0m\u001b[0mread_csv\u001b[0m\u001b[1;33m(\u001b[0m\u001b[1;34m'/kaggle/input/titanic/train.csv'\u001b[0m\u001b[1;33m)\u001b[0m\u001b[1;33m\u001b[0m\u001b[1;33m\u001b[0m\u001b[0m\n\u001b[0m\u001b[0;32m     11\u001b[0m \u001b[0mtest_df\u001b[0m \u001b[1;33m=\u001b[0m \u001b[0mpd\u001b[0m\u001b[1;33m.\u001b[0m\u001b[0mread_csv\u001b[0m\u001b[1;33m(\u001b[0m\u001b[1;34m'/kaggle/input/titanic/test.csv'\u001b[0m\u001b[1;33m)\u001b[0m\u001b[1;33m\u001b[0m\u001b[1;33m\u001b[0m\u001b[0m\n",
      "\u001b[1;32m~\\anaconda3\\lib\\site-packages\\pandas\\io\\parsers.py\u001b[0m in \u001b[0;36mparser_f\u001b[1;34m(filepath_or_buffer, sep, delimiter, header, names, index_col, usecols, squeeze, prefix, mangle_dupe_cols, dtype, engine, converters, true_values, false_values, skipinitialspace, skiprows, skipfooter, nrows, na_values, keep_default_na, na_filter, verbose, skip_blank_lines, parse_dates, infer_datetime_format, keep_date_col, date_parser, dayfirst, cache_dates, iterator, chunksize, compression, thousands, decimal, lineterminator, quotechar, quoting, doublequote, escapechar, comment, encoding, dialect, error_bad_lines, warn_bad_lines, delim_whitespace, low_memory, memory_map, float_precision)\u001b[0m\n\u001b[0;32m    674\u001b[0m         )\n\u001b[0;32m    675\u001b[0m \u001b[1;33m\u001b[0m\u001b[0m\n\u001b[1;32m--> 676\u001b[1;33m         \u001b[1;32mreturn\u001b[0m \u001b[0m_read\u001b[0m\u001b[1;33m(\u001b[0m\u001b[0mfilepath_or_buffer\u001b[0m\u001b[1;33m,\u001b[0m \u001b[0mkwds\u001b[0m\u001b[1;33m)\u001b[0m\u001b[1;33m\u001b[0m\u001b[1;33m\u001b[0m\u001b[0m\n\u001b[0m\u001b[0;32m    677\u001b[0m \u001b[1;33m\u001b[0m\u001b[0m\n\u001b[0;32m    678\u001b[0m     \u001b[0mparser_f\u001b[0m\u001b[1;33m.\u001b[0m\u001b[0m__name__\u001b[0m \u001b[1;33m=\u001b[0m \u001b[0mname\u001b[0m\u001b[1;33m\u001b[0m\u001b[1;33m\u001b[0m\u001b[0m\n",
      "\u001b[1;32m~\\anaconda3\\lib\\site-packages\\pandas\\io\\parsers.py\u001b[0m in \u001b[0;36m_read\u001b[1;34m(filepath_or_buffer, kwds)\u001b[0m\n\u001b[0;32m    446\u001b[0m \u001b[1;33m\u001b[0m\u001b[0m\n\u001b[0;32m    447\u001b[0m     \u001b[1;31m# Create the parser.\u001b[0m\u001b[1;33m\u001b[0m\u001b[1;33m\u001b[0m\u001b[1;33m\u001b[0m\u001b[0m\n\u001b[1;32m--> 448\u001b[1;33m     \u001b[0mparser\u001b[0m \u001b[1;33m=\u001b[0m \u001b[0mTextFileReader\u001b[0m\u001b[1;33m(\u001b[0m\u001b[0mfp_or_buf\u001b[0m\u001b[1;33m,\u001b[0m \u001b[1;33m**\u001b[0m\u001b[0mkwds\u001b[0m\u001b[1;33m)\u001b[0m\u001b[1;33m\u001b[0m\u001b[1;33m\u001b[0m\u001b[0m\n\u001b[0m\u001b[0;32m    449\u001b[0m \u001b[1;33m\u001b[0m\u001b[0m\n\u001b[0;32m    450\u001b[0m     \u001b[1;32mif\u001b[0m \u001b[0mchunksize\u001b[0m \u001b[1;32mor\u001b[0m \u001b[0miterator\u001b[0m\u001b[1;33m:\u001b[0m\u001b[1;33m\u001b[0m\u001b[1;33m\u001b[0m\u001b[0m\n",
      "\u001b[1;32m~\\anaconda3\\lib\\site-packages\\pandas\\io\\parsers.py\u001b[0m in \u001b[0;36m__init__\u001b[1;34m(self, f, engine, **kwds)\u001b[0m\n\u001b[0;32m    878\u001b[0m             \u001b[0mself\u001b[0m\u001b[1;33m.\u001b[0m\u001b[0moptions\u001b[0m\u001b[1;33m[\u001b[0m\u001b[1;34m\"has_index_names\"\u001b[0m\u001b[1;33m]\u001b[0m \u001b[1;33m=\u001b[0m \u001b[0mkwds\u001b[0m\u001b[1;33m[\u001b[0m\u001b[1;34m\"has_index_names\"\u001b[0m\u001b[1;33m]\u001b[0m\u001b[1;33m\u001b[0m\u001b[1;33m\u001b[0m\u001b[0m\n\u001b[0;32m    879\u001b[0m \u001b[1;33m\u001b[0m\u001b[0m\n\u001b[1;32m--> 880\u001b[1;33m         \u001b[0mself\u001b[0m\u001b[1;33m.\u001b[0m\u001b[0m_make_engine\u001b[0m\u001b[1;33m(\u001b[0m\u001b[0mself\u001b[0m\u001b[1;33m.\u001b[0m\u001b[0mengine\u001b[0m\u001b[1;33m)\u001b[0m\u001b[1;33m\u001b[0m\u001b[1;33m\u001b[0m\u001b[0m\n\u001b[0m\u001b[0;32m    881\u001b[0m \u001b[1;33m\u001b[0m\u001b[0m\n\u001b[0;32m    882\u001b[0m     \u001b[1;32mdef\u001b[0m \u001b[0mclose\u001b[0m\u001b[1;33m(\u001b[0m\u001b[0mself\u001b[0m\u001b[1;33m)\u001b[0m\u001b[1;33m:\u001b[0m\u001b[1;33m\u001b[0m\u001b[1;33m\u001b[0m\u001b[0m\n",
      "\u001b[1;32m~\\anaconda3\\lib\\site-packages\\pandas\\io\\parsers.py\u001b[0m in \u001b[0;36m_make_engine\u001b[1;34m(self, engine)\u001b[0m\n\u001b[0;32m   1112\u001b[0m     \u001b[1;32mdef\u001b[0m \u001b[0m_make_engine\u001b[0m\u001b[1;33m(\u001b[0m\u001b[0mself\u001b[0m\u001b[1;33m,\u001b[0m \u001b[0mengine\u001b[0m\u001b[1;33m=\u001b[0m\u001b[1;34m\"c\"\u001b[0m\u001b[1;33m)\u001b[0m\u001b[1;33m:\u001b[0m\u001b[1;33m\u001b[0m\u001b[1;33m\u001b[0m\u001b[0m\n\u001b[0;32m   1113\u001b[0m         \u001b[1;32mif\u001b[0m \u001b[0mengine\u001b[0m \u001b[1;33m==\u001b[0m \u001b[1;34m\"c\"\u001b[0m\u001b[1;33m:\u001b[0m\u001b[1;33m\u001b[0m\u001b[1;33m\u001b[0m\u001b[0m\n\u001b[1;32m-> 1114\u001b[1;33m             \u001b[0mself\u001b[0m\u001b[1;33m.\u001b[0m\u001b[0m_engine\u001b[0m \u001b[1;33m=\u001b[0m \u001b[0mCParserWrapper\u001b[0m\u001b[1;33m(\u001b[0m\u001b[0mself\u001b[0m\u001b[1;33m.\u001b[0m\u001b[0mf\u001b[0m\u001b[1;33m,\u001b[0m \u001b[1;33m**\u001b[0m\u001b[0mself\u001b[0m\u001b[1;33m.\u001b[0m\u001b[0moptions\u001b[0m\u001b[1;33m)\u001b[0m\u001b[1;33m\u001b[0m\u001b[1;33m\u001b[0m\u001b[0m\n\u001b[0m\u001b[0;32m   1115\u001b[0m         \u001b[1;32melse\u001b[0m\u001b[1;33m:\u001b[0m\u001b[1;33m\u001b[0m\u001b[1;33m\u001b[0m\u001b[0m\n\u001b[0;32m   1116\u001b[0m             \u001b[1;32mif\u001b[0m \u001b[0mengine\u001b[0m \u001b[1;33m==\u001b[0m \u001b[1;34m\"python\"\u001b[0m\u001b[1;33m:\u001b[0m\u001b[1;33m\u001b[0m\u001b[1;33m\u001b[0m\u001b[0m\n",
      "\u001b[1;32m~\\anaconda3\\lib\\site-packages\\pandas\\io\\parsers.py\u001b[0m in \u001b[0;36m__init__\u001b[1;34m(self, src, **kwds)\u001b[0m\n\u001b[0;32m   1889\u001b[0m         \u001b[0mkwds\u001b[0m\u001b[1;33m[\u001b[0m\u001b[1;34m\"usecols\"\u001b[0m\u001b[1;33m]\u001b[0m \u001b[1;33m=\u001b[0m \u001b[0mself\u001b[0m\u001b[1;33m.\u001b[0m\u001b[0musecols\u001b[0m\u001b[1;33m\u001b[0m\u001b[1;33m\u001b[0m\u001b[0m\n\u001b[0;32m   1890\u001b[0m \u001b[1;33m\u001b[0m\u001b[0m\n\u001b[1;32m-> 1891\u001b[1;33m         \u001b[0mself\u001b[0m\u001b[1;33m.\u001b[0m\u001b[0m_reader\u001b[0m \u001b[1;33m=\u001b[0m \u001b[0mparsers\u001b[0m\u001b[1;33m.\u001b[0m\u001b[0mTextReader\u001b[0m\u001b[1;33m(\u001b[0m\u001b[0msrc\u001b[0m\u001b[1;33m,\u001b[0m \u001b[1;33m**\u001b[0m\u001b[0mkwds\u001b[0m\u001b[1;33m)\u001b[0m\u001b[1;33m\u001b[0m\u001b[1;33m\u001b[0m\u001b[0m\n\u001b[0m\u001b[0;32m   1892\u001b[0m         \u001b[0mself\u001b[0m\u001b[1;33m.\u001b[0m\u001b[0munnamed_cols\u001b[0m \u001b[1;33m=\u001b[0m \u001b[0mself\u001b[0m\u001b[1;33m.\u001b[0m\u001b[0m_reader\u001b[0m\u001b[1;33m.\u001b[0m\u001b[0munnamed_cols\u001b[0m\u001b[1;33m\u001b[0m\u001b[1;33m\u001b[0m\u001b[0m\n\u001b[0;32m   1893\u001b[0m \u001b[1;33m\u001b[0m\u001b[0m\n",
      "\u001b[1;32mpandas\\_libs\\parsers.pyx\u001b[0m in \u001b[0;36mpandas._libs.parsers.TextReader.__cinit__\u001b[1;34m()\u001b[0m\n",
      "\u001b[1;32mpandas\\_libs\\parsers.pyx\u001b[0m in \u001b[0;36mpandas._libs.parsers.TextReader._setup_parser_source\u001b[1;34m()\u001b[0m\n",
      "\u001b[1;31mFileNotFoundError\u001b[0m: [Errno 2] File /kaggle/input/titanic/train.csv does not exist: '/kaggle/input/titanic/train.csv'"
     ]
    }
   ],
   "source": [
    "import numpy as np\n",
    "import pandas as pd\n",
    "\n",
    "import os\n",
    "for dirname, _, filenames in os.walk('/kaggle/input'):\n",
    "    for filename in filenames:\n",
    "        os.path.join(dirname, filename)\n",
    "        #print(os.path.join(dirname, filename))\n",
    "\n",
    "train_df = pd.read_csv('/kaggle/input/titanic/train.csv')\n",
    "test_df = pd.read_csv('/kaggle/input/titanic/test.csv')"
   ]
  },
  {
   "cell_type": "code",
   "execution_count": 8,
   "metadata": {
    "execution": {
     "iopub.execute_input": "2022-08-22T14:45:59.395720Z",
     "iopub.status.busy": "2022-08-22T14:45:59.395147Z",
     "iopub.status.idle": "2022-08-22T14:45:59.416663Z",
     "shell.execute_reply": "2022-08-22T14:45:59.414951Z",
     "shell.execute_reply.started": "2022-08-22T14:45:59.395671Z"
    }
   },
   "outputs": [],
   "source": [
    "## OVERVIEW\n",
    "# train_df.columns\n",
    "# tr_df.shape\n",
    "\n",
    "print(train_df.info(),'\\n') #column.dtypes\n",
    "# train_df.describe() #count/mean/std/min/25%-75%/max\n",
    "print(train_df.isnull().sum())\n",
    "# print(test_df.isnull().sum())\n",
    "\n",
    "# print(train_df.head())\n",
    "# train_df.tail()\n",
    "\n",
    "tr_df = train_df"
   ]
  },
  {
   "cell_type": "code",
   "execution_count": 7,
   "metadata": {
    "execution": {
     "iopub.execute_input": "2022-08-22T14:44:55.346757Z",
     "iopub.status.busy": "2022-08-22T14:44:55.344660Z",
     "iopub.status.idle": "2022-08-22T14:44:55.936995Z",
     "shell.execute_reply": "2022-08-22T14:44:55.935159Z",
     "shell.execute_reply.started": "2022-08-22T14:44:55.346686Z"
    }
   },
   "outputs": [],
   "source": [
    "## DATA CORRELATION\n",
    "import seaborn as sns\n",
    "import matplotlib.pyplot as plt\n",
    "\n",
    "plt.figure(figsize=(12, 8))\n",
    "plt.title(\"TITANIC CORR MATRIX\")\n",
    "sns.heatmap(train_df.corr().sort_values(\"Survived\", ascending=False) ,annot=True, fmt='f', cmap=\"Blues\")\n",
    "plt.show()"
   ]
  },
  {
   "cell_type": "code",
   "execution_count": 12,
   "metadata": {
    "execution": {
     "iopub.execute_input": "2022-08-21T07:08:16.268595Z",
     "iopub.status.busy": "2022-08-21T07:08:16.268125Z",
     "iopub.status.idle": "2022-08-21T07:08:16.281124Z",
     "shell.execute_reply": "2022-08-21T07:08:16.279336Z",
     "shell.execute_reply.started": "2022-08-21T07:08:16.268560Z"
    }
   },
   "outputs": [],
   "source": [
    "## NOT NULL COLUMN\n",
    "women = train_df.loc[train_df.Sex=='female']['Survived']\n",
    "class1 = train_df.loc[train_df.Pclass==1]['Survived']\n",
    "\n",
    "rate = len(train_df)/len(women)\n",
    "print('% of women who survived:', rate)"
   ]
  },
  {
   "cell_type": "code",
   "execution_count": 11,
   "metadata": {
    "execution": {
     "iopub.execute_input": "2022-08-22T14:51:25.539847Z",
     "iopub.status.busy": "2022-08-22T14:51:25.539348Z",
     "iopub.status.idle": "2022-08-22T14:51:25.549830Z",
     "shell.execute_reply": "2022-08-22T14:51:25.548388Z",
     "shell.execute_reply.started": "2022-08-22T14:51:25.539799Z"
    }
   },
   "outputs": [],
   "source": [
    "# NULL\n",
    "tr_df['Age']=tr_df['Age'].fillna(0)\n",
    "tr_df['Age']=tr_df['Age'].astype('int')\n",
    "\n",
    "test_df['Age']=test_df['Age'].fillna(0)\n",
    "test_df['Age']=test_df['Age'].astype('int')"
   ]
  },
  {
   "cell_type": "code",
   "execution_count": 14,
   "metadata": {
    "execution": {
     "iopub.execute_input": "2022-08-21T07:08:16.300443Z",
     "iopub.status.busy": "2022-08-21T07:08:16.298301Z",
     "iopub.status.idle": "2022-08-21T07:08:16.310364Z",
     "shell.execute_reply": "2022-08-21T07:08:16.309144Z",
     "shell.execute_reply.started": "2022-08-21T07:08:16.300385Z"
    }
   },
   "outputs": [],
   "source": [
    "## Float COLUMN\n",
    "tr_df['Age']=tr_df['Age'].fillna(0)\n",
    "# tr_df['Age']=tr_df['Age'].astype('int') #change type\n",
    "# tr_df['Age'].dtypes #check type\n",
    "\n",
    "## DELETE COLUMN\n",
    "# del tr_df['PassengerId']\n",
    "# train_df=train_df.dropna(how='any', subset=['Age'])"
   ]
  },
  {
   "cell_type": "code",
   "execution_count": 15,
   "metadata": {
    "execution": {
     "iopub.execute_input": "2022-08-21T07:08:16.313402Z",
     "iopub.status.busy": "2022-08-21T07:08:16.312822Z",
     "iopub.status.idle": "2022-08-21T07:08:16.324034Z",
     "shell.execute_reply": "2022-08-21T07:08:16.322429Z",
     "shell.execute_reply.started": "2022-08-21T07:08:16.313349Z"
    }
   },
   "outputs": [],
   "source": [
    "## RECOMMEND HYPER PARAM & MODEL ACCURACY\n",
    "# from sklearn.model_selection import GridSearchCV\n",
    "\n",
    "# params = { 'n_estimators' : [8, 10, 20, 50, 100], #[10, 100]\n",
    "#            'max_depth' : [4, 5, 6, 8] #[6, 8, 10, 12]\n",
    "# #            'min_samples_leaf' : [2, 3], #[8, 12, 18]\n",
    "# #            'min_samples_split' : [2, 3] #[8, 16, 20]\n",
    "#             }\n",
    "\n",
    "# # RandomForestClassifier 객체 생성 후 GridSearchCV 수행\n",
    "# rf_clf = RandomForestClassifier(random_state = 1, n_jobs = -1)\n",
    "# grid_cv = GridSearchCV(rf_clf, param_grid = params, cv = 3, n_jobs = -1)\n",
    "# grid_cv.fit(X, y)\n",
    "\n",
    "# print('최적 하이퍼 파라미터: ', grid_cv.best_params_)\n",
    "# print('최고 예측 정확도: {:.4f}'.format(grid_cv.best_score_))"
   ]
  },
  {
   "cell_type": "code",
   "execution_count": null,
   "metadata": {},
   "outputs": [],
   "source": [
    "# 전체 데이터를 이용해 다시 모델을 학습시킵니다.\n",
    "\n",
    "rf.fit(titanicNot0_dummies, titanicNot0[\"age\"].astype(\"int\"))\n",
    "\n",
    "titanic0 = titanic0.drop(['deck','embarked','embark_town'], axis=1)"
   ]
  },
  {
   "cell_type": "code",
   "execution_count": 15,
   "metadata": {
    "execution": {
     "iopub.execute_input": "2022-08-22T14:53:28.510349Z",
     "iopub.status.busy": "2022-08-22T14:53:28.509835Z",
     "iopub.status.idle": "2022-08-22T14:53:28.552947Z",
     "shell.execute_reply": "2022-08-22T14:53:28.551941Z",
     "shell.execute_reply.started": "2022-08-22T14:53:28.510304Z"
    }
   },
   "outputs": [],
   "source": [
    "from sklearn.ensemble import RandomForestClassifier\n",
    "\n",
    "## ONE-HOT INCODING\n",
    "y = tr_df[\"Survived\"]\n",
    "features = [\"Pclass\",\"Sex\",\"Age\",\"SibSp\",\"Parch\"]\n",
    "# features = [\"Pclass\",\"Sex\",\"Age\",\"SibSp\",\"Parch\",\"Ticket\"]\n",
    "X = pd.get_dummies(tr_df[features]) #data(object) to value\n",
    "\n",
    "## SET MODEL PARAMETER\n",
    "# model = RandomForestClassifier()\n",
    "# model = RandomForestClassifier(n_estimators = 10, max_depth = 5, random_state= 1)\n",
    "# model = RandomForestClassifier(n_estimators = 100, max_depth = 5, random_state= 1)\n",
    "model = RandomForestClassifier(n_estimators=10, max_depth=5)\n",
    "print(model)\n",
    "model.fit(X, y)\n",
    "\n",
    "\n",
    "## ACCURACY w/ train_df\n",
    "from sklearn.metrics import accuracy_score\n",
    "predict = model.predict(X)\n",
    "# accuracy = accuracy_score(y, predict)\n",
    "# print('Accuracy of RF model: {:.4f}'.format(accuracy))\n",
    "\n",
    "# # from sklearn.metrics import mean_squared_error\n",
    "\n",
    "# # rf.fit(titanicNot0_dummies[:600], titanicNot0[\"age\"][:600].astype(\"int\"))\n",
    "# # rf_prediction = rf.predict(titanicNot0_dummies[600:])\n",
    "# # rf_mse = mean_squared_error(titanicNot0[\"age\"][600:], rf_prediction)\n",
    "# # rf_rmse = np.sqrt(rf_mse)\n",
    "# # print(rf_rmse)\n",
    "\n",
    "# # violinplot\n",
    "# plt.figure(figsize=(15,6))\n",
    "\n",
    "# # 예측데이터 violinplot\n",
    "# plt.subplot(121)\n",
    "# sns.violinplot(rf_prediction, palette=\"Reds\")\n",
    "\n",
    "# # 실제데이터 violinplot\n",
    "# plt.subplot(122)\n",
    "# sns.violinplot(titanicNot0[\"age\"][600:])"
   ]
  },
  {
   "cell_type": "code",
   "execution_count": 16,
   "metadata": {
    "execution": {
     "iopub.execute_input": "2022-08-22T14:53:32.141809Z",
     "iopub.status.busy": "2022-08-22T14:53:32.141006Z",
     "iopub.status.idle": "2022-08-22T14:53:32.383100Z",
     "shell.execute_reply": "2022-08-22T14:53:32.381744Z",
     "shell.execute_reply.started": "2022-08-22T14:53:32.141764Z"
    }
   },
   "outputs": [],
   "source": [
    "## FEATURE IMPORTANCE\n",
    "import matplotlib.pyplot as plt\n",
    "import seaborn as sns\n",
    "%matplotlib inline\n",
    "\n",
    "ftr_importances_values = model.feature_importances_\n",
    "ftr_importances = pd.Series(ftr_importances_values, index = X.columns)\n",
    "ftr_top20 = ftr_importances.sort_values(ascending=False)[:20]\n",
    "\n",
    "plt.figure(figsize=(8,6))\n",
    "plt.title('Top 20 Feature Importances')\n",
    "sns.barplot(x=ftr_top20, y=ftr_top20.index)\n",
    "plt.show()"
   ]
  },
  {
   "cell_type": "code",
   "execution_count": 17,
   "metadata": {
    "execution": {
     "iopub.execute_input": "2022-08-22T14:53:35.686609Z",
     "iopub.status.busy": "2022-08-22T14:53:35.686177Z",
     "iopub.status.idle": "2022-08-22T14:53:35.711437Z",
     "shell.execute_reply": "2022-08-22T14:53:35.710114Z",
     "shell.execute_reply.started": "2022-08-22T14:53:35.686570Z"
    }
   },
   "outputs": [],
   "source": [
    "## SUBMIT RESULT\n",
    "X_test = pd.get_dummies(test_df[features])\n",
    "predictions = model.predict(X_test)\n",
    "\n",
    "output = pd.DataFrame({'PassengerId': test_df.PassengerId, 'Survived': predictions})\n",
    "output.to_csv('submission.csv', index=False)\n",
    "print(\"Your submission was successfully saved!\")"
   ]
  }
 ],
 "metadata": {
  "kernelspec": {
   "display_name": "Python 3",
   "language": "python",
   "name": "python3"
  },
  "language_info": {
   "codemirror_mode": {
    "name": "ipython",
    "version": 3
   },
   "file_extension": ".py",
   "mimetype": "text/x-python",
   "name": "python",
   "nbconvert_exporter": "python",
   "pygments_lexer": "ipython3",
   "version": "3.8.3"
  }
 },
 "nbformat": 4,
 "nbformat_minor": 4
}
