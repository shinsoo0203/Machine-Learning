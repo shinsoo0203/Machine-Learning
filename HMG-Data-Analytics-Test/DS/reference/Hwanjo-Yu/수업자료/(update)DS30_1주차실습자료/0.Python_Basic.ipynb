{
 "cells": [
  {
   "cell_type": "markdown",
   "metadata": {
    "id": "r3lhS1k0cbVu"
   },
   "source": [
    "# 1. Data Structures"
   ]
  },
  {
   "cell_type": "markdown",
   "metadata": {
    "id": "3lPGujuXcf1P"
   },
   "source": [
    "- Lists\n",
    "- Dictionaries\n",
    "- Tuples\n",
    "- Sets"
   ]
  },
  {
   "cell_type": "markdown",
   "metadata": {
    "id": "MD6wS0DBcm8W"
   },
   "source": [
    "## 1.1  Lists"
   ]
  },
  {
   "cell_type": "code",
   "execution_count": 1,
   "metadata": {
    "executionInfo": {
     "elapsed": 760,
     "status": "ok",
     "timestamp": 1609035446640,
     "user": {
      "displayName": "Hwanjo Yu",
      "photoUrl": "",
      "userId": "05791772201597468055"
     },
     "user_tz": -540
    },
    "id": "xQQjnc0Mfulx"
   },
   "outputs": [],
   "source": [
    "import numpy as np"
   ]
  },
  {
   "cell_type": "code",
   "execution_count": 2,
   "metadata": {
    "colab": {
     "base_uri": "https://localhost:8080/"
    },
    "executionInfo": {
     "elapsed": 553,
     "status": "ok",
     "timestamp": 1609035447032,
     "user": {
      "displayName": "Hwanjo Yu",
      "photoUrl": "",
      "userId": "05791772201597468055"
     },
     "user_tz": -540
    },
    "id": "vQhz44kwfrTX",
    "outputId": "35ef2b32-4ad1-43b3-e132-bae84ab1c79a"
   },
   "outputs": [
    {
     "name": "stdout",
     "output_type": "stream",
     "text": [
      "['abc', 13, 3.141592653589793]\n"
     ]
    }
   ],
   "source": [
    "L = ['abc', 13, np.pi]\n",
    "print(L)"
   ]
  },
  {
   "cell_type": "code",
   "execution_count": 4,
   "metadata": {
    "colab": {
     "base_uri": "https://localhost:8080/"
    },
    "executionInfo": {
     "elapsed": 664,
     "status": "ok",
     "timestamp": 1609035465159,
     "user": {
      "displayName": "Hwanjo Yu",
      "photoUrl": "",
      "userId": "05791772201597468055"
     },
     "user_tz": -540
    },
    "id": "nIEKfOdBfyrs",
    "outputId": "d234bd63-4d72-4488-8419-95aa3fb5a31f"
   },
   "outputs": [
    {
     "data": {
      "text/plain": [
       "3"
      ]
     },
     "execution_count": 4,
     "metadata": {
      "tags": []
     },
     "output_type": "execute_result"
    }
   ],
   "source": [
    "# length (number of items) of the list:\n",
    "len(L)"
   ]
  },
  {
   "cell_type": "code",
   "execution_count": 6,
   "metadata": {
    "colab": {
     "base_uri": "https://localhost:8080/"
    },
    "executionInfo": {
     "elapsed": 670,
     "status": "ok",
     "timestamp": 1609035508220,
     "user": {
      "displayName": "Hwanjo Yu",
      "photoUrl": "",
      "userId": "05791772201597468055"
     },
     "user_tz": -540
    },
    "id": "aV20i_W3f3O3",
    "outputId": "f527b58b-5281-4e3f-f44d-dff111c28aa3"
   },
   "outputs": [
    {
     "data": {
      "text/plain": [
       "13"
      ]
     },
     "execution_count": 6,
     "metadata": {
      "tags": []
     },
     "output_type": "execute_result"
    }
   ],
   "source": [
    "# you can index, slice and so on, just as for strings:\n",
    "#Indexing by position:\n",
    "L[1]"
   ]
  },
  {
   "cell_type": "code",
   "execution_count": 9,
   "metadata": {
    "colab": {
     "base_uri": "https://localhost:8080/"
    },
    "executionInfo": {
     "elapsed": 691,
     "status": "ok",
     "timestamp": 1609035607853,
     "user": {
      "displayName": "Hwanjo Yu",
      "photoUrl": "",
      "userId": "05791772201597468055"
     },
     "user_tz": -540
    },
    "id": "nh_cv6FRf6ef",
    "outputId": "48c1f99a-4489-453d-87fd-50588c32ea21"
   },
   "outputs": [
    {
     "data": {
      "text/plain": [
       "[13]"
      ]
     },
     "execution_count": 9,
     "metadata": {
      "tags": []
     },
     "output_type": "execute_result"
    }
   ],
   "source": [
    "#Slicing a list returns a new list.\n",
    "L[1:-1]"
   ]
  },
  {
   "cell_type": "code",
   "execution_count": 11,
   "metadata": {
    "colab": {
     "base_uri": "https://localhost:8080/"
    },
    "executionInfo": {
     "elapsed": 831,
     "status": "ok",
     "timestamp": 1609035683328,
     "user": {
      "displayName": "Hwanjo Yu",
      "photoUrl": "",
      "userId": "05791772201597468055"
     },
     "user_tz": -540
    },
    "id": "TVfePVJOf-AE",
    "outputId": "8bf6e83a-8d33-42e7-8a5b-daf494c1f681"
   },
   "outputs": [
    {
     "data": {
      "text/plain": [
       "['abc', 13, 3.141592653589793, 'cde', 2.718281828459045, 34]"
      ]
     },
     "execution_count": 11,
     "metadata": {
      "tags": []
     },
     "output_type": "execute_result"
    }
   ],
   "source": [
    "# Concat make a new list\n",
    "L + ['cde',np.e,34]"
   ]
  },
  {
   "cell_type": "code",
   "execution_count": 12,
   "metadata": {
    "colab": {
     "base_uri": "https://localhost:8080/"
    },
    "executionInfo": {
     "elapsed": 892,
     "status": "ok",
     "timestamp": 1609035683680,
     "user": {
      "displayName": "Hwanjo Yu",
      "photoUrl": "",
      "userId": "05791772201597468055"
     },
     "user_tz": -540
    },
    "id": "wX1ToOiJgAx8",
    "outputId": "f7809fdd-c05d-4019-eccf-546906629429"
   },
   "outputs": [
    {
     "data": {
      "text/plain": [
       "['abc', 13, 3.141592653589793, 'abc', 13, 3.141592653589793]"
      ]
     },
     "execution_count": 12,
     "metadata": {
      "tags": []
     },
     "output_type": "execute_result"
    }
   ],
   "source": [
    "# Repeating a list\n",
    "L * 2 "
   ]
  },
  {
   "cell_type": "code",
   "execution_count": 13,
   "metadata": {
    "colab": {
     "base_uri": "https://localhost:8080/"
    },
    "executionInfo": {
     "elapsed": 973,
     "status": "ok",
     "timestamp": 1609035684080,
     "user": {
      "displayName": "Hwanjo Yu",
      "photoUrl": "",
      "userId": "05791772201597468055"
     },
     "user_tz": -540
    },
    "id": "rAfp3JNZgKP5",
    "outputId": "05bf9e05-906e-402c-e710-3d433ae15f75"
   },
   "outputs": [
    {
     "data": {
      "text/plain": [
       "['abc', 13, 3.141592653589793]"
      ]
     },
     "execution_count": 13,
     "metadata": {
      "tags": []
     },
     "output_type": "execute_result"
    }
   ],
   "source": [
    "# the original list are not changing.\n",
    "L"
   ]
  },
  {
   "cell_type": "code",
   "execution_count": 14,
   "metadata": {
    "colab": {
     "base_uri": "https://localhost:8080/"
    },
    "executionInfo": {
     "elapsed": 610,
     "status": "ok",
     "timestamp": 1609035684080,
     "user": {
      "displayName": "Hwanjo Yu",
      "photoUrl": "",
      "userId": "05791772201597468055"
     },
     "user_tz": -540
    },
    "id": "tx_SocftgOVB",
    "outputId": "8ecc90c2-abdc-42df-dad0-54da405b8511"
   },
   "outputs": [
    {
     "data": {
      "text/plain": [
       "['abc', 13, 3.141592653589793, '2.85']"
      ]
     },
     "execution_count": 14,
     "metadata": {
      "tags": []
     },
     "output_type": "execute_result"
    }
   ],
   "source": [
    "# Adding new objects at the end of the list:\n",
    "L.append('2.85')\n",
    "L"
   ]
  },
  {
   "cell_type": "code",
   "execution_count": 15,
   "metadata": {
    "colab": {
     "base_uri": "https://localhost:8080/"
    },
    "executionInfo": {
     "elapsed": 811,
     "status": "ok",
     "timestamp": 1609035684582,
     "user": {
      "displayName": "Hwanjo Yu",
      "photoUrl": "",
      "userId": "05791772201597468055"
     },
     "user_tz": -540
    },
    "id": "SPn-jLzpgUCl",
    "outputId": "3e9c0fee-88a5-40ce-f891-d60e4e8f53a2"
   },
   "outputs": [
    {
     "data": {
      "text/plain": [
       "['abc', 13, '2.85']"
      ]
     },
     "execution_count": 15,
     "metadata": {
      "tags": []
     },
     "output_type": "execute_result"
    }
   ],
   "source": [
    "# Removing an item on index position\n",
    "L.pop(2)\n",
    "L"
   ]
  },
  {
   "cell_type": "code",
   "execution_count": 23,
   "metadata": {
    "colab": {
     "base_uri": "https://localhost:8080/"
    },
    "executionInfo": {
     "elapsed": 685,
     "status": "ok",
     "timestamp": 1609035953203,
     "user": {
      "displayName": "Hwanjo Yu",
      "photoUrl": "",
      "userId": "05791772201597468055"
     },
     "user_tz": -540
    },
    "id": "tkTE1AIQgYFw",
    "outputId": "e4b4c229-50fd-41c1-dd55-25d5dd329510"
   },
   "outputs": [
    {
     "data": {
      "text/plain": [
       "['ab', 'cd', 'er']"
      ]
     },
     "execution_count": 23,
     "metadata": {
      "tags": []
     },
     "output_type": "execute_result"
    }
   ],
   "source": [
    "# Sorting a List:\n",
    "l = ['cd','er','ab']\n",
    "l.sort() # List is mutable\n",
    "l"
   ]
  },
  {
   "cell_type": "code",
   "execution_count": 24,
   "metadata": {
    "colab": {
     "base_uri": "https://localhost:8080/"
    },
    "executionInfo": {
     "elapsed": 700,
     "status": "ok",
     "timestamp": 1609035957274,
     "user": {
      "displayName": "Hwanjo Yu",
      "photoUrl": "",
      "userId": "05791772201597468055"
     },
     "user_tz": -540
    },
    "id": "2JBZ1q13gbqU",
    "outputId": "93293b78-d26c-4ec8-fe7a-7b9fe6bcfce5"
   },
   "outputs": [
    {
     "data": {
      "text/plain": [
       "['er', 'cd', 'ab']"
      ]
     },
     "execution_count": 24,
     "metadata": {
      "tags": []
     },
     "output_type": "execute_result"
    }
   ],
   "source": [
    "# sorting descending:\n",
    "l.reverse()\n",
    "l"
   ]
  },
  {
   "cell_type": "code",
   "execution_count": 25,
   "metadata": {
    "colab": {
     "base_uri": "https://localhost:8080/"
    },
    "executionInfo": {
     "elapsed": 726,
     "status": "ok",
     "timestamp": 1609035961367,
     "user": {
      "displayName": "Hwanjo Yu",
      "photoUrl": "",
      "userId": "05791772201597468055"
     },
     "user_tz": -540
    },
    "id": "xNQwoHRngfIa",
    "outputId": "cf49688a-d6f7-434e-c303-3722e4412a4e"
   },
   "outputs": [
    {
     "data": {
      "text/plain": [
       "[[0, 1, 2], [3, 4, 5], [6, 7, 8]]"
      ]
     },
     "execution_count": 25,
     "metadata": {
      "tags": []
     },
     "output_type": "execute_result"
    }
   ],
   "source": [
    "# Nesting\n",
    "# Representing a matrix\n",
    "matrix = [[0,1,2],[3,4,5],[6,7,8]]\n",
    "matrix"
   ]
  },
  {
   "cell_type": "code",
   "execution_count": 26,
   "metadata": {
    "colab": {
     "base_uri": "https://localhost:8080/"
    },
    "executionInfo": {
     "elapsed": 692,
     "status": "ok",
     "timestamp": 1609035963524,
     "user": {
      "displayName": "Hwanjo Yu",
      "photoUrl": "",
      "userId": "05791772201597468055"
     },
     "user_tz": -540
    },
    "id": "ZaV-oplaghCt",
    "outputId": "46e1dcea-b015-4bb5-dd81-dd087329a2ea"
   },
   "outputs": [
    {
     "data": {
      "text/plain": [
       "list"
      ]
     },
     "execution_count": 26,
     "metadata": {
      "tags": []
     },
     "output_type": "execute_result"
    }
   ],
   "source": [
    "#Checking the type\n",
    "type(matrix)"
   ]
  },
  {
   "cell_type": "code",
   "execution_count": 27,
   "metadata": {
    "colab": {
     "base_uri": "https://localhost:8080/"
    },
    "executionInfo": {
     "elapsed": 666,
     "status": "ok",
     "timestamp": 1609035966537,
     "user": {
      "displayName": "Hwanjo Yu",
      "photoUrl": "",
      "userId": "05791772201597468055"
     },
     "user_tz": -540
    },
    "id": "R--D8AdAgkRl",
    "outputId": "42962de0-8f85-42c8-ea00-ac73ee8ecce1"
   },
   "outputs": [
    {
     "data": {
      "text/plain": [
       "[3, 4, 5]"
      ]
     },
     "execution_count": 27,
     "metadata": {
      "tags": []
     },
     "output_type": "execute_result"
    }
   ],
   "source": [
    "# Accesing by index:\n",
    "matrix[1]"
   ]
  },
  {
   "cell_type": "code",
   "execution_count": 28,
   "metadata": {
    "colab": {
     "base_uri": "https://localhost:8080/"
    },
    "executionInfo": {
     "elapsed": 715,
     "status": "ok",
     "timestamp": 1609035969624,
     "user": {
      "displayName": "Hwanjo Yu",
      "photoUrl": "",
      "userId": "05791772201597468055"
     },
     "user_tz": -540
    },
    "id": "sCSmDFJtgmE2",
    "outputId": "4ed793f2-3a5b-448a-972c-fc45ba95dd46"
   },
   "outputs": [
    {
     "data": {
      "text/plain": [
       "5"
      ]
     },
     "execution_count": 28,
     "metadata": {
      "tags": []
     },
     "output_type": "execute_result"
    }
   ],
   "source": [
    "# Accesing a specific value of each item\n",
    "matrix[1][2]"
   ]
  },
  {
   "cell_type": "markdown",
   "metadata": {
    "id": "wMrA2TBugpEx"
   },
   "source": [
    "## 1.2. Dictionaries"
   ]
  },
  {
   "cell_type": "markdown",
   "metadata": {
    "id": "4x2oIZC_gyRn"
   },
   "source": [
    "### Consist in a series of key:value pairs."
   ]
  },
  {
   "cell_type": "code",
   "execution_count": 29,
   "metadata": {
    "executionInfo": {
     "elapsed": 690,
     "status": "ok",
     "timestamp": 1609036024663,
     "user": {
      "displayName": "Hwanjo Yu",
      "photoUrl": "",
      "userId": "05791772201597468055"
     },
     "user_tz": -540
    },
    "id": "L8QohRa_grNk"
   },
   "outputs": [],
   "source": [
    "d = {'car':'Audi','quantity':12,'color':'black'}"
   ]
  },
  {
   "cell_type": "code",
   "execution_count": 31,
   "metadata": {
    "colab": {
     "base_uri": "https://localhost:8080/",
     "height": 36
    },
    "executionInfo": {
     "elapsed": 691,
     "status": "ok",
     "timestamp": 1609036068505,
     "user": {
      "displayName": "Hwanjo Yu",
      "photoUrl": "",
      "userId": "05791772201597468055"
     },
     "user_tz": -540
    },
    "id": "sX6EXAregwt4",
    "outputId": "c8965ea1-b20f-4ddb-88b3-06371dd1915b"
   },
   "outputs": [
    {
     "data": {
      "application/vnd.google.colaboratory.intrinsic+json": {
       "type": "string"
      },
      "text/plain": [
       "'black'"
      ]
     },
     "execution_count": 31,
     "metadata": {
      "tags": []
     },
     "output_type": "execute_result"
    }
   ],
   "source": [
    "# accesing an item: you must to specify the key:\n",
    "d['color']"
   ]
  },
  {
   "cell_type": "code",
   "execution_count": 33,
   "metadata": {
    "colab": {
     "base_uri": "https://localhost:8080/"
    },
    "executionInfo": {
     "elapsed": 718,
     "status": "ok",
     "timestamp": 1609036078560,
     "user": {
      "displayName": "Hwanjo Yu",
      "photoUrl": "",
      "userId": "05791772201597468055"
     },
     "user_tz": -540
    },
    "id": "VXa4TgwHg3Dp",
    "outputId": "949027dd-8f27-4334-c494-2c1a7205a098"
   },
   "outputs": [
    {
     "data": {
      "text/plain": [
       "{'car': 'Audi', 'color': 'black', 'quantity': 16}"
      ]
     },
     "execution_count": 33,
     "metadata": {
      "tags": []
     },
     "output_type": "execute_result"
    }
   ],
   "source": [
    "# Adding some value to 'quantity':\n",
    "d['quantity'] += 2\n",
    "d"
   ]
  },
  {
   "cell_type": "code",
   "execution_count": 35,
   "metadata": {
    "colab": {
     "base_uri": "https://localhost:8080/"
    },
    "executionInfo": {
     "elapsed": 692,
     "status": "ok",
     "timestamp": 1609036093554,
     "user": {
      "displayName": "Hwanjo Yu",
      "photoUrl": "",
      "userId": "05791772201597468055"
     },
     "user_tz": -540
    },
    "id": "zYkveBagg4pB",
    "outputId": "4fac54cd-faaa-4a26-d395-896f7f9f8aa8"
   },
   "outputs": [
    {
     "data": {
      "text/plain": [
       "{'brand': 'Audi', 'model': 'A5', 'price': 60000}"
      ]
     },
     "execution_count": 35,
     "metadata": {
      "tags": []
     },
     "output_type": "execute_result"
    }
   ],
   "source": [
    "# Create key by asigment since a empty dict\n",
    "d = {}\n",
    "d['brand'] = 'Audi'\n",
    "d['model'] = 'A5'\n",
    "d['price'] = 60000\n",
    "d"
   ]
  },
  {
   "cell_type": "code",
   "execution_count": 37,
   "metadata": {
    "colab": {
     "base_uri": "https://localhost:8080/"
    },
    "executionInfo": {
     "elapsed": 670,
     "status": "ok",
     "timestamp": 1609036112955,
     "user": {
      "displayName": "Hwanjo Yu",
      "photoUrl": "",
      "userId": "05791772201597468055"
     },
     "user_tz": -540
    },
    "id": "4eB0pLr6g6UA",
    "outputId": "56064e0e-03a5-4fb5-f43b-2066f3541caf"
   },
   "outputs": [
    {
     "data": {
      "text/plain": [
       "{'brand': 'Audi', 'model': 'A5', 'price': 60000}"
      ]
     },
     "execution_count": 37,
     "metadata": {
      "tags": []
     },
     "output_type": "execute_result"
    }
   ],
   "source": [
    "# Another way to create a dictionary\n",
    "car = dict(brand='Audi',model='A5',price=60000)\n",
    "car"
   ]
  },
  {
   "cell_type": "code",
   "execution_count": 44,
   "metadata": {
    "colab": {
     "base_uri": "https://localhost:8080/"
    },
    "executionInfo": {
     "elapsed": 648,
     "status": "ok",
     "timestamp": 1609036201455,
     "user": {
      "displayName": "Hwanjo Yu",
      "photoUrl": "",
      "userId": "05791772201597468055"
     },
     "user_tz": -540
    },
    "id": "LHIkjD2Gg8DS",
    "outputId": "42a45502-e320-40fd-c672-94f2ae62039f"
   },
   "outputs": [
    {
     "data": {
      "text/plain": [
       "dict_keys(['brand', 'model', 'price'])"
      ]
     },
     "execution_count": 44,
     "metadata": {
      "tags": []
     },
     "output_type": "execute_result"
    }
   ],
   "source": [
    "#Keys:\n",
    "car.keys()"
   ]
  },
  {
   "cell_type": "code",
   "execution_count": 45,
   "metadata": {
    "colab": {
     "base_uri": "https://localhost:8080/"
    },
    "executionInfo": {
     "elapsed": 766,
     "status": "ok",
     "timestamp": 1609036202480,
     "user": {
      "displayName": "Hwanjo Yu",
      "photoUrl": "",
      "userId": "05791772201597468055"
     },
     "user_tz": -540
    },
    "id": "CHChyl_Bg-LQ",
    "outputId": "6c574e29-fa58-4e2b-8ebe-e1a69856cc9f"
   },
   "outputs": [
    {
     "data": {
      "text/plain": [
       "dict_values(['Audi', 'A5', 60000])"
      ]
     },
     "execution_count": 45,
     "metadata": {
      "tags": []
     },
     "output_type": "execute_result"
    }
   ],
   "source": [
    "#values:\n",
    "car.values()"
   ]
  },
  {
   "cell_type": "code",
   "execution_count": 46,
   "metadata": {
    "colab": {
     "base_uri": "https://localhost:8080/"
    },
    "executionInfo": {
     "elapsed": 850,
     "status": "ok",
     "timestamp": 1609036203208,
     "user": {
      "displayName": "Hwanjo Yu",
      "photoUrl": "",
      "userId": "05791772201597468055"
     },
     "user_tz": -540
    },
    "id": "5gjZZ35ZhAD5",
    "outputId": "a85f3ddc-b52b-4bc8-dfd2-fcb1aeefe1b7"
   },
   "outputs": [
    {
     "data": {
      "text/plain": [
       "dict_items([('brand', 'Audi'), ('model', 'A5'), ('price', 60000)])"
      ]
     },
     "execution_count": 46,
     "metadata": {
      "tags": []
     },
     "output_type": "execute_result"
    }
   ],
   "source": [
    "# key/value pairs\n",
    "car.items()"
   ]
  },
  {
   "cell_type": "markdown",
   "metadata": {
    "id": "32Qxb_0NhJKi"
   },
   "source": [
    "### Sorting Keys"
   ]
  },
  {
   "cell_type": "code",
   "execution_count": 47,
   "metadata": {
    "colab": {
     "base_uri": "https://localhost:8080/"
    },
    "executionInfo": {
     "elapsed": 742,
     "status": "ok",
     "timestamp": 1609036204738,
     "user": {
      "displayName": "Hwanjo Yu",
      "photoUrl": "",
      "userId": "05791772201597468055"
     },
     "user_tz": -540
    },
    "id": "4MAjtKNuhAtw",
    "outputId": "d6e1defd-06b2-4b0f-cfde-e196876b055f"
   },
   "outputs": [
    {
     "data": {
      "text/plain": [
       "['brand', 'model', 'price']"
      ]
     },
     "execution_count": 47,
     "metadata": {
      "tags": []
     },
     "output_type": "execute_result"
    }
   ],
   "source": [
    "k = list(car.keys())\n",
    "k"
   ]
  },
  {
   "cell_type": "code",
   "execution_count": 48,
   "metadata": {
    "colab": {
     "base_uri": "https://localhost:8080/"
    },
    "executionInfo": {
     "elapsed": 714,
     "status": "ok",
     "timestamp": 1609036208941,
     "user": {
      "displayName": "Hwanjo Yu",
      "photoUrl": "",
      "userId": "05791772201597468055"
     },
     "user_tz": -540
    },
    "id": "Cy-D0XVUhMGy",
    "outputId": "e5d93b83-c1a1-4a0e-8a1c-6874a1a5a6b9"
   },
   "outputs": [
    {
     "data": {
      "text/plain": [
       "['price', 'model', 'brand']"
      ]
     },
     "execution_count": 48,
     "metadata": {
      "tags": []
     },
     "output_type": "execute_result"
    }
   ],
   "source": [
    "k.sort(reverse=True)\n",
    "k"
   ]
  },
  {
   "cell_type": "markdown",
   "metadata": {
    "id": "NRtMrXYvhpR6"
   },
   "source": [
    "## 1.3 Tuples"
   ]
  },
  {
   "cell_type": "markdown",
   "metadata": {
    "id": "tEIWv-6thz8K"
   },
   "source": [
    "It is an object like a list but it cannot be changed, they are immutable like strings.\n",
    "They are coded in parentheses instead of square brackets, and they support arbitrary types, arbitrary nesting and the usual sequence operations."
   ]
  },
  {
   "cell_type": "code",
   "execution_count": 49,
   "metadata": {
    "colab": {
     "base_uri": "https://localhost:8080/"
    },
    "executionInfo": {
     "elapsed": 690,
     "status": "ok",
     "timestamp": 1609036245348,
     "user": {
      "displayName": "Hwanjo Yu",
      "photoUrl": "",
      "userId": "05791772201597468055"
     },
     "user_tz": -540
    },
    "id": "Xb2O5MPUhbaR",
    "outputId": "1f98d4b6-5851-4cc7-aae7-9d5fe4fc8c0c"
   },
   "outputs": [
    {
     "data": {
      "text/plain": [
       "4"
      ]
     },
     "execution_count": 49,
     "metadata": {
      "tags": []
     },
     "output_type": "execute_result"
    }
   ],
   "source": [
    "# Lenght of the tuple\n",
    "T = ('a','b','c','d')\n",
    "len(T)"
   ]
  },
  {
   "cell_type": "code",
   "execution_count": 52,
   "metadata": {
    "colab": {
     "base_uri": "https://localhost:8080/"
    },
    "executionInfo": {
     "elapsed": 807,
     "status": "ok",
     "timestamp": 1609036328598,
     "user": {
      "displayName": "Hwanjo Yu",
      "photoUrl": "",
      "userId": "05791772201597468055"
     },
     "user_tz": -540
    },
    "id": "1ILaCVEch6h5",
    "outputId": "a04427ef-81f2-44ac-9199-a328e4976729"
   },
   "outputs": [
    {
     "name": "stdout",
     "output_type": "stream",
     "text": [
      "('a', 'b', 'c', 'd', 'e', 10)\n",
      "('a', 'b', 'c', 'd')\n"
     ]
    }
   ],
   "source": [
    "# Concatenation\n",
    "aa = T + ('e',10)\n",
    "print(aa)\n",
    "print(T)"
   ]
  },
  {
   "cell_type": "code",
   "execution_count": 53,
   "metadata": {
    "colab": {
     "base_uri": "https://localhost:8080/",
     "height": 36
    },
    "executionInfo": {
     "elapsed": 565,
     "status": "ok",
     "timestamp": 1609036329051,
     "user": {
      "displayName": "Hwanjo Yu",
      "photoUrl": "",
      "userId": "05791772201597468055"
     },
     "user_tz": -540
    },
    "id": "dRY1q8dFh8KZ",
    "outputId": "c58bbc49-fe9f-4cca-c7b4-9023372960bb"
   },
   "outputs": [
    {
     "data": {
      "application/vnd.google.colaboratory.intrinsic+json": {
       "type": "string"
      },
      "text/plain": [
       "'c'"
      ]
     },
     "execution_count": 53,
     "metadata": {
      "tags": []
     },
     "output_type": "execute_result"
    }
   ],
   "source": [
    "#Indexing, slincing and more\n",
    "T[2]  # indexing"
   ]
  },
  {
   "cell_type": "code",
   "execution_count": 54,
   "metadata": {
    "colab": {
     "base_uri": "https://localhost:8080/",
     "height": 36
    },
    "executionInfo": {
     "elapsed": 744,
     "status": "ok",
     "timestamp": 1609036330597,
     "user": {
      "displayName": "Hwanjo Yu",
      "photoUrl": "",
      "userId": "05791772201597468055"
     },
     "user_tz": -540
    },
    "id": "mN5OmQOch9mZ",
    "outputId": "795ee61b-0e86-4eb5-c1f8-dcf8132e571e"
   },
   "outputs": [
    {
     "data": {
      "application/vnd.google.colaboratory.intrinsic+json": {
       "type": "string"
      },
      "text/plain": [
       "'d'"
      ]
     },
     "execution_count": 54,
     "metadata": {
      "tags": []
     },
     "output_type": "execute_result"
    }
   ],
   "source": [
    "T[-1]"
   ]
  },
  {
   "cell_type": "code",
   "execution_count": 56,
   "metadata": {
    "colab": {
     "base_uri": "https://localhost:8080/"
    },
    "executionInfo": {
     "elapsed": 764,
     "status": "ok",
     "timestamp": 1609036363800,
     "user": {
      "displayName": "Hwanjo Yu",
      "photoUrl": "",
      "userId": "05791772201597468055"
     },
     "user_tz": -540
    },
    "id": "c0HgR7ggh_Qg",
    "outputId": "9b849ae0-0fbb-4c63-d244-1127ae3cf4d9"
   },
   "outputs": [
    {
     "data": {
      "text/plain": [
       "('a', 'b', 'c')"
      ]
     },
     "execution_count": 56,
     "metadata": {
      "tags": []
     },
     "output_type": "execute_result"
    }
   ],
   "source": [
    "T[:-1]  # slicing"
   ]
  },
  {
   "cell_type": "code",
   "execution_count": 57,
   "metadata": {
    "colab": {
     "base_uri": "https://localhost:8080/"
    },
    "executionInfo": {
     "elapsed": 438,
     "status": "ok",
     "timestamp": 1609036364107,
     "user": {
      "displayName": "Hwanjo Yu",
      "photoUrl": "",
      "userId": "05791772201597468055"
     },
     "user_tz": -540
    },
    "id": "k5fZMHp4iArP",
    "outputId": "9f0f1f93-55a4-49df-dd32-a02ab07bfe14"
   },
   "outputs": [
    {
     "data": {
      "text/plain": [
       "('a', 'b', 'c', 'd')"
      ]
     },
     "execution_count": 57,
     "metadata": {
      "tags": []
     },
     "output_type": "execute_result"
    }
   ],
   "source": [
    "T"
   ]
  },
  {
   "cell_type": "code",
   "execution_count": 59,
   "metadata": {
    "colab": {
     "base_uri": "https://localhost:8080/",
     "height": 195
    },
    "executionInfo": {
     "elapsed": 693,
     "status": "error",
     "timestamp": 1609036371525,
     "user": {
      "displayName": "Hwanjo Yu",
      "photoUrl": "",
      "userId": "05791772201597468055"
     },
     "user_tz": -540
    },
    "id": "Ywuo_bKkiBsR",
    "outputId": "ebe2ccd5-70f6-4617-d43b-1f8b91ba5de8"
   },
   "outputs": [
    {
     "ename": "TypeError",
     "evalue": "ignored",
     "output_type": "error",
     "traceback": [
      "\u001b[0;31m---------------------------------------------------------------------------\u001b[0m",
      "\u001b[0;31mTypeError\u001b[0m                                 Traceback (most recent call last)",
      "\u001b[0;32m<ipython-input-59-fded277eb6d6>\u001b[0m in \u001b[0;36m<module>\u001b[0;34m()\u001b[0m\n\u001b[1;32m      1\u001b[0m \u001b[0;31m#Tuples are immutable\u001b[0m\u001b[0;34m\u001b[0m\u001b[0;34m\u001b[0m\u001b[0;34m\u001b[0m\u001b[0m\n\u001b[0;32m----> 2\u001b[0;31m \u001b[0mT\u001b[0m\u001b[0;34m[\u001b[0m\u001b[0;36m0\u001b[0m\u001b[0;34m]\u001b[0m \u001b[0;34m=\u001b[0m \u001b[0;36m2\u001b[0m\u001b[0;34m\u001b[0m\u001b[0;34m\u001b[0m\u001b[0m\n\u001b[0m",
      "\u001b[0;31mTypeError\u001b[0m: 'tuple' object does not support item assignment"
     ]
    }
   ],
   "source": [
    "#Tuples are immutable\n",
    "T[0] = 2"
   ]
  },
  {
   "cell_type": "code",
   "execution_count": 60,
   "metadata": {
    "colab": {
     "base_uri": "https://localhost:8080/"
    },
    "executionInfo": {
     "elapsed": 668,
     "status": "ok",
     "timestamp": 1609036372980,
     "user": {
      "displayName": "Hwanjo Yu",
      "photoUrl": "",
      "userId": "05791772201597468055"
     },
     "user_tz": -540
    },
    "id": "6_h3OCWaiDbZ",
    "outputId": "595b8608-e438-4020-cf7d-1140c7f33dfd"
   },
   "outputs": [
    {
     "data": {
      "text/plain": [
       "3"
      ]
     },
     "execution_count": 60,
     "metadata": {
      "tags": []
     },
     "output_type": "execute_result"
    }
   ],
   "source": [
    "# Tuple index\n",
    "T.index('d')"
   ]
  },
  {
   "cell_type": "code",
   "execution_count": 61,
   "metadata": {
    "colab": {
     "base_uri": "https://localhost:8080/"
    },
    "executionInfo": {
     "elapsed": 688,
     "status": "ok",
     "timestamp": 1609036379364,
     "user": {
      "displayName": "Hwanjo Yu",
      "photoUrl": "",
      "userId": "05791772201597468055"
     },
     "user_tz": -540
    },
    "id": "30tPDQpYiE6Y",
    "outputId": "3dd51355-1ce1-465b-e06c-da12d70f273a"
   },
   "outputs": [
    {
     "data": {
      "text/plain": [
       "1"
      ]
     },
     "execution_count": 61,
     "metadata": {
      "tags": []
     },
     "output_type": "execute_result"
    }
   ],
   "source": [
    "# Counting similar elements\n",
    "T.count('a')"
   ]
  },
  {
   "cell_type": "code",
   "execution_count": 62,
   "metadata": {
    "colab": {
     "base_uri": "https://localhost:8080/"
    },
    "executionInfo": {
     "elapsed": 653,
     "status": "ok",
     "timestamp": 1609036394223,
     "user": {
      "displayName": "Hwanjo Yu",
      "photoUrl": "",
      "userId": "05791772201597468055"
     },
     "user_tz": -540
    },
    "id": "QK9tROY1aTzs",
    "outputId": "89556cf6-078a-4cee-eae9-36eee8f4f858"
   },
   "outputs": [
    {
     "data": {
      "text/plain": [
       "('a', 'b', 'c', 'd')"
      ]
     },
     "execution_count": 62,
     "metadata": {
      "tags": []
     },
     "output_type": "execute_result"
    }
   ],
   "source": [
    "T"
   ]
  },
  {
   "cell_type": "code",
   "execution_count": 64,
   "metadata": {
    "colab": {
     "base_uri": "https://localhost:8080/"
    },
    "executionInfo": {
     "elapsed": 673,
     "status": "ok",
     "timestamp": 1609036417878,
     "user": {
      "displayName": "Hwanjo Yu",
      "photoUrl": "",
      "userId": "05791772201597468055"
     },
     "user_tz": -540
    },
    "id": "3TLYyeuiiHRq",
    "outputId": "4bd769a3-796a-444a-93f3-21f164e8c9c2"
   },
   "outputs": [
    {
     "data": {
      "text/plain": [
       "('c', 'd', 11, 11)"
      ]
     },
     "execution_count": 64,
     "metadata": {
      "tags": []
     },
     "output_type": "execute_result"
    }
   ],
   "source": [
    "# Making a new Tuple\n",
    "T = T[1:]+(11,)\n",
    "T"
   ]
  },
  {
   "cell_type": "code",
   "execution_count": 69,
   "metadata": {
    "colab": {
     "base_uri": "https://localhost:8080/"
    },
    "executionInfo": {
     "elapsed": 698,
     "status": "ok",
     "timestamp": 1609036544237,
     "user": {
      "displayName": "Hwanjo Yu",
      "photoUrl": "",
      "userId": "05791772201597468055"
     },
     "user_tz": -540
    },
    "id": "YnOhbqQwiJgQ",
    "outputId": "7587ef5c-4600-44f1-a724-93de85d3e509"
   },
   "outputs": [
    {
     "data": {
      "text/plain": [
       "('car', 5.0, [10, 20, 30])"
      ]
     },
     "execution_count": 69,
     "metadata": {
      "tags": []
     },
     "output_type": "execute_result"
    }
   ],
   "source": [
    "# nesting\n",
    "T = 'car',5.0,[10,20,30]\n",
    "T"
   ]
  },
  {
   "cell_type": "code",
   "execution_count": 74,
   "metadata": {
    "colab": {
     "base_uri": "https://localhost:8080/"
    },
    "executionInfo": {
     "elapsed": 702,
     "status": "ok",
     "timestamp": 1609037270204,
     "user": {
      "displayName": "Hwanjo Yu",
      "photoUrl": "",
      "userId": "05791772201597468055"
     },
     "user_tz": -540
    },
    "id": "STyvJTgRiRkI",
    "outputId": "aeae45a2-7cc9-49da-ef4a-17117a1f684a"
   },
   "outputs": [
    {
     "name": "stdout",
     "output_type": "stream",
     "text": [
      "('car', 5.0, [10, [5], 30])\n"
     ]
    }
   ],
   "source": [
    "T[2][1] = [5]\n",
    "print(T)"
   ]
  },
  {
   "cell_type": "markdown",
   "metadata": {
    "id": "0YFzcpJ4ibdW"
   },
   "source": [
    "## 1.4 Sets"
   ]
  },
  {
   "cell_type": "markdown",
   "metadata": {
    "id": "FiMDsWtyij_7"
   },
   "source": [
    "### They are unordered collections of unique and immutable objects."
   ]
  },
  {
   "cell_type": "code",
   "execution_count": 78,
   "metadata": {
    "colab": {
     "base_uri": "https://localhost:8080/"
    },
    "executionInfo": {
     "elapsed": 717,
     "status": "ok",
     "timestamp": 1609037290923,
     "user": {
      "displayName": "Hwanjo Yu",
      "photoUrl": "",
      "userId": "05791772201597468055"
     },
     "user_tz": -540
    },
    "id": "2nhdGr3UiVcY",
    "outputId": "47595146-1333-41b8-da1b-8edecb712a5a"
   },
   "outputs": [
    {
     "data": {
      "text/plain": [
       "set"
      ]
     },
     "execution_count": 78,
     "metadata": {
      "tags": []
     },
     "output_type": "execute_result"
    }
   ],
   "source": [
    "S = {'h','a','m'}\n",
    "type(S)"
   ]
  },
  {
   "cell_type": "code",
   "execution_count": 79,
   "metadata": {
    "colab": {
     "base_uri": "https://localhost:8080/"
    },
    "executionInfo": {
     "elapsed": 548,
     "status": "ok",
     "timestamp": 1609037291321,
     "user": {
      "displayName": "Hwanjo Yu",
      "photoUrl": "",
      "userId": "05791772201597468055"
     },
     "user_tz": -540
    },
    "id": "7RteC7htipoB",
    "outputId": "d4e53da5-b173-4a63-e092-9719134e58f3"
   },
   "outputs": [
    {
     "data": {
      "text/plain": [
       "set"
      ]
     },
     "execution_count": 79,
     "metadata": {
      "tags": []
     },
     "output_type": "execute_result"
    }
   ],
   "source": [
    "A = set('airplane')\n",
    "type(A)"
   ]
  },
  {
   "cell_type": "code",
   "execution_count": 80,
   "metadata": {
    "colab": {
     "base_uri": "https://localhost:8080/"
    },
    "executionInfo": {
     "elapsed": 628,
     "status": "ok",
     "timestamp": 1609037292069,
     "user": {
      "displayName": "Hwanjo Yu",
      "photoUrl": "",
      "userId": "05791772201597468055"
     },
     "user_tz": -540
    },
    "id": "_EtKuygtirap",
    "outputId": "501707ea-a0ad-4708-d470-eff99e10738a"
   },
   "outputs": [
    {
     "data": {
      "text/plain": [
       "{'a', 'e', 'i', 'l', 'n', 'p', 'r'}"
      ]
     },
     "execution_count": 80,
     "metadata": {
      "tags": []
     },
     "output_type": "execute_result"
    }
   ],
   "source": [
    "A"
   ]
  },
  {
   "cell_type": "code",
   "execution_count": 81,
   "metadata": {
    "colab": {
     "base_uri": "https://localhost:8080/"
    },
    "executionInfo": {
     "elapsed": 877,
     "status": "ok",
     "timestamp": 1609037292939,
     "user": {
      "displayName": "Hwanjo Yu",
      "photoUrl": "",
      "userId": "05791772201597468055"
     },
     "user_tz": -540
    },
    "id": "hyI-VAgWitoh",
    "outputId": "01cf5f46-e7c2-4759-c088-4acd8f4aa39c"
   },
   "outputs": [
    {
     "data": {
      "text/plain": [
       "({'a', 'h', 'm'}, {'a', 'e', 'i', 'l', 'n', 'p', 'r'})"
      ]
     },
     "execution_count": 81,
     "metadata": {
      "tags": []
     },
     "output_type": "execute_result"
    }
   ],
   "source": [
    "# Tuple of two sets\n",
    "S, A"
   ]
  },
  {
   "cell_type": "code",
   "execution_count": 82,
   "metadata": {
    "colab": {
     "base_uri": "https://localhost:8080/"
    },
    "executionInfo": {
     "elapsed": 418,
     "status": "ok",
     "timestamp": 1609037293786,
     "user": {
      "displayName": "Hwanjo Yu",
      "photoUrl": "",
      "userId": "05791772201597468055"
     },
     "user_tz": -540
    },
    "id": "Lm4UogfriwfC",
    "outputId": "b1b17cd0-a592-4e27-ba00-8fcd83cd078b"
   },
   "outputs": [
    {
     "data": {
      "text/plain": [
       "{'a'}"
      ]
     },
     "execution_count": 82,
     "metadata": {
      "tags": []
     },
     "output_type": "execute_result"
    }
   ],
   "source": [
    "# Intersection\n",
    "S & A"
   ]
  },
  {
   "cell_type": "code",
   "execution_count": 83,
   "metadata": {
    "colab": {
     "base_uri": "https://localhost:8080/"
    },
    "executionInfo": {
     "elapsed": 695,
     "status": "ok",
     "timestamp": 1609037315939,
     "user": {
      "displayName": "Hwanjo Yu",
      "photoUrl": "",
      "userId": "05791772201597468055"
     },
     "user_tz": -540
    },
    "id": "Ntrwbdg9a_HR",
    "outputId": "e170c1c6-e9f4-41b4-b3b2-968845751f3d"
   },
   "outputs": [
    {
     "data": {
      "text/plain": [
       "{'a', 'h', 'm'}"
      ]
     },
     "execution_count": 83,
     "metadata": {
      "tags": []
     },
     "output_type": "execute_result"
    }
   ],
   "source": [
    "S"
   ]
  },
  {
   "cell_type": "code",
   "execution_count": 84,
   "metadata": {
    "colab": {
     "base_uri": "https://localhost:8080/"
    },
    "executionInfo": {
     "elapsed": 576,
     "status": "ok",
     "timestamp": 1609037316857,
     "user": {
      "displayName": "Hwanjo Yu",
      "photoUrl": "",
      "userId": "05791772201597468055"
     },
     "user_tz": -540
    },
    "id": "4YjwlOlubAP5",
    "outputId": "98a0efb6-2368-4f28-cc03-96b6d58a05c5"
   },
   "outputs": [
    {
     "data": {
      "text/plain": [
       "{'a', 'e', 'i', 'l', 'n', 'p', 'r'}"
      ]
     },
     "execution_count": 84,
     "metadata": {
      "tags": []
     },
     "output_type": "execute_result"
    }
   ],
   "source": [
    "A"
   ]
  },
  {
   "cell_type": "code",
   "execution_count": 85,
   "metadata": {
    "colab": {
     "base_uri": "https://localhost:8080/"
    },
    "executionInfo": {
     "elapsed": 1301,
     "status": "ok",
     "timestamp": 1609037318329,
     "user": {
      "displayName": "Hwanjo Yu",
      "photoUrl": "",
      "userId": "05791772201597468055"
     },
     "user_tz": -540
    },
    "id": "t9IxAm42i0hI",
    "outputId": "b34a850f-1845-4d37-87f4-3207dfc8380c"
   },
   "outputs": [
    {
     "data": {
      "text/plain": [
       "{'a', 'e', 'h', 'i', 'l', 'm', 'n', 'p', 'r'}"
      ]
     },
     "execution_count": 85,
     "metadata": {
      "tags": []
     },
     "output_type": "execute_result"
    }
   ],
   "source": [
    "# Union\n",
    "S | A"
   ]
  },
  {
   "cell_type": "code",
   "execution_count": 86,
   "metadata": {
    "colab": {
     "base_uri": "https://localhost:8080/"
    },
    "executionInfo": {
     "elapsed": 753,
     "status": "ok",
     "timestamp": 1609037318676,
     "user": {
      "displayName": "Hwanjo Yu",
      "photoUrl": "",
      "userId": "05791772201597468055"
     },
     "user_tz": -540
    },
    "id": "TFVuILUri13x",
    "outputId": "257d2c6d-eb63-4464-d0a6-7b616945c297"
   },
   "outputs": [
    {
     "data": {
      "text/plain": [
       "{'e', 'i', 'l', 'n', 'p', 'r'}"
      ]
     },
     "execution_count": 86,
     "metadata": {
      "tags": []
     },
     "output_type": "execute_result"
    }
   ],
   "source": [
    "# Difference\n",
    "(A - S)"
   ]
  },
  {
   "cell_type": "code",
   "execution_count": 87,
   "metadata": {
    "colab": {
     "base_uri": "https://localhost:8080/"
    },
    "executionInfo": {
     "elapsed": 558,
     "status": "ok",
     "timestamp": 1609037319715,
     "user": {
      "displayName": "Hwanjo Yu",
      "photoUrl": "",
      "userId": "05791772201597468055"
     },
     "user_tz": -540
    },
    "id": "vKX6pIHgi3XI",
    "outputId": "b3bc19e1-5f39-4dfc-ded9-8c14591241be"
   },
   "outputs": [
    {
     "data": {
      "text/plain": [
       "[1, 2, 3, 4]"
      ]
     },
     "execution_count": 87,
     "metadata": {
      "tags": []
     },
     "output_type": "execute_result"
    }
   ],
   "source": [
    "# Filtering duplicates\n",
    "list(set([1, 2, 1, 2, 3, 4]))"
   ]
  },
  {
   "cell_type": "code",
   "execution_count": 88,
   "metadata": {
    "colab": {
     "base_uri": "https://localhost:8080/"
    },
    "executionInfo": {
     "elapsed": 634,
     "status": "ok",
     "timestamp": 1609037320750,
     "user": {
      "displayName": "Hwanjo Yu",
      "photoUrl": "",
      "userId": "05791772201597468055"
     },
     "user_tz": -540
    },
    "id": "u4XtwakQi4o5",
    "outputId": "4edc9561-87d8-4626-bfc2-4f999e6ee293"
   },
   "outputs": [
    {
     "data": {
      "text/plain": [
       "{'c'}"
      ]
     },
     "execution_count": 88,
     "metadata": {
      "tags": []
     },
     "output_type": "execute_result"
    }
   ],
   "source": [
    "# Finding differences in collections\n",
    "r = set('car') - set ('bar')\n",
    "r"
   ]
  },
  {
   "cell_type": "code",
   "execution_count": 89,
   "metadata": {
    "colab": {
     "base_uri": "https://localhost:8080/"
    },
    "executionInfo": {
     "elapsed": 805,
     "status": "ok",
     "timestamp": 1609037322535,
     "user": {
      "displayName": "Hwanjo Yu",
      "photoUrl": "",
      "userId": "05791772201597468055"
     },
     "user_tz": -540
    },
    "id": "EdWQTNeji6Sx",
    "outputId": "83b4ce52-b2f8-4690-b050-6b27ed0508f7"
   },
   "outputs": [
    {
     "data": {
      "text/plain": [
       "set"
      ]
     },
     "execution_count": 89,
     "metadata": {
      "tags": []
     },
     "output_type": "execute_result"
    }
   ],
   "source": [
    "type(r)"
   ]
  },
  {
   "cell_type": "code",
   "execution_count": 90,
   "metadata": {
    "colab": {
     "base_uri": "https://localhost:8080/"
    },
    "executionInfo": {
     "elapsed": 670,
     "status": "ok",
     "timestamp": 1609037323689,
     "user": {
      "displayName": "Hwanjo Yu",
      "photoUrl": "",
      "userId": "05791772201597468055"
     },
     "user_tz": -540
    },
    "id": "Z7AwSRgBi7qC",
    "outputId": "89664b95-46e2-427e-de95-339e2c73d951"
   },
   "outputs": [
    {
     "data": {
      "text/plain": [
       "True"
      ]
     },
     "execution_count": 90,
     "metadata": {
      "tags": []
     },
     "output_type": "execute_result"
    }
   ],
   "source": [
    "# Logical expressions:\n",
    "set('hello') == set('olleh')"
   ]
  },
  {
   "cell_type": "code",
   "execution_count": 91,
   "metadata": {
    "colab": {
     "base_uri": "https://localhost:8080/"
    },
    "executionInfo": {
     "elapsed": 722,
     "status": "ok",
     "timestamp": 1609037325085,
     "user": {
      "displayName": "Hwanjo Yu",
      "photoUrl": "",
      "userId": "05791772201597468055"
     },
     "user_tz": -540
    },
    "id": "36fVB_Cni9O4",
    "outputId": "1af1496f-6ced-43d0-dd6c-c092915ef0a5"
   },
   "outputs": [
    {
     "data": {
      "text/plain": [
       "(True, True, True)"
      ]
     },
     "execution_count": 91,
     "metadata": {
      "tags": []
     },
     "output_type": "execute_result"
    }
   ],
   "source": [
    "# Sets also support in membership tests\n",
    "'p' in set('pizza'), 'p' in 'purple', 'air' in ['ozone','air','plane']"
   ]
  },
  {
   "cell_type": "markdown",
   "metadata": {
    "id": "vkx2HZ0OjTSE"
   },
   "source": [
    "# 2. Functions"
   ]
  },
  {
   "cell_type": "code",
   "execution_count": 92,
   "metadata": {
    "colab": {
     "base_uri": "https://localhost:8080/"
    },
    "executionInfo": {
     "elapsed": 846,
     "status": "ok",
     "timestamp": 1609037356054,
     "user": {
      "displayName": "Hwanjo Yu",
      "photoUrl": "",
      "userId": "05791772201597468055"
     },
     "user_tz": -540
    },
    "id": "IRpP_TrijL77",
    "outputId": "d7365e93-5429-448a-93d5-da28e7c2f860"
   },
   "outputs": [
    {
     "name": "stdout",
     "output_type": "stream",
     "text": [
      "Hello!\n"
     ]
    }
   ],
   "source": [
    "# Functions without arguments\n",
    "def user():\n",
    "    print('Hello!')\n",
    "    \n",
    "user()"
   ]
  },
  {
   "cell_type": "code",
   "execution_count": 93,
   "metadata": {
    "colab": {
     "base_uri": "https://localhost:8080/"
    },
    "executionInfo": {
     "elapsed": 583,
     "status": "ok",
     "timestamp": 1609037356919,
     "user": {
      "displayName": "Hwanjo Yu",
      "photoUrl": "",
      "userId": "05791772201597468055"
     },
     "user_tz": -540
    },
    "id": "RcyAno8clfJM",
    "outputId": "0e8cde55-c432-4a72-f4ee-4047946d2dd9"
   },
   "outputs": [
    {
     "name": "stdout",
     "output_type": "stream",
     "text": [
      "\n",
      "I have an Audi model A7\n"
     ]
    }
   ],
   "source": [
    "# Functions with arguments\n",
    "def describe_car(brand, model):\n",
    "    print(\"\\nI have an \" + brand + \" model \" + model)\n",
    "    \n",
    "describe_car('Audi','A7')   "
   ]
  },
  {
   "cell_type": "code",
   "execution_count": 94,
   "metadata": {
    "colab": {
     "base_uri": "https://localhost:8080/",
     "height": 36
    },
    "executionInfo": {
     "elapsed": 571,
     "status": "ok",
     "timestamp": 1609037357844,
     "user": {
      "displayName": "Hwanjo Yu",
      "photoUrl": "",
      "userId": "05791772201597468055"
     },
     "user_tz": -540
    },
    "id": "vldfblBflg55",
    "outputId": "20c6b5b5-158d-47a4-b062-d2f88c98a6f9"
   },
   "outputs": [
    {
     "data": {
      "application/vnd.google.colaboratory.intrinsic+json": {
       "type": "string"
      },
      "text/plain": [
       "'Steve Jobs'"
      ]
     },
     "execution_count": 94,
     "metadata": {
      "tags": []
     },
     "output_type": "execute_result"
    }
   ],
   "source": [
    "# Functions with return values\n",
    "def person(first_name, last_name):\n",
    "    full_name = first_name + ' ' + last_name\n",
    "    return full_name\n",
    "\n",
    "person('Steve','Jobs')"
   ]
  },
  {
   "cell_type": "code",
   "execution_count": 95,
   "metadata": {
    "colab": {
     "base_uri": "https://localhost:8080/"
    },
    "executionInfo": {
     "elapsed": 696,
     "status": "ok",
     "timestamp": 1609037358791,
     "user": {
      "displayName": "Hwanjo Yu",
      "photoUrl": "",
      "userId": "05791772201597468055"
     },
     "user_tz": -540
    },
    "id": "vWhWETOulmxq",
    "outputId": "c2af8830-7b7b-433c-8d6e-35385997f785"
   },
   "outputs": [
    {
     "data": {
      "text/plain": [
       "{'first': 'Steve', 'last': 'Jobs'}"
      ]
     },
     "execution_count": 95,
     "metadata": {
      "tags": []
     },
     "output_type": "execute_result"
    }
   ],
   "source": [
    "# Returning a dictionary\n",
    "def person(first_name, last_name):\n",
    "    full_name = {'first':first_name,'last':last_name}\n",
    "    return full_name\n",
    "\n",
    "person('Steve','Jobs')"
   ]
  },
  {
   "cell_type": "code",
   "execution_count": 96,
   "metadata": {
    "colab": {
     "base_uri": "https://localhost:8080/"
    },
    "executionInfo": {
     "elapsed": 714,
     "status": "ok",
     "timestamp": 1609037359584,
     "user": {
      "displayName": "Hwanjo Yu",
      "photoUrl": "",
      "userId": "05791772201597468055"
     },
     "user_tz": -540
    },
    "id": "3itH_Oh2lrkh",
    "outputId": "412e59fd-99e7-4299-b8bd-7b0cf818dc30"
   },
   "outputs": [
    {
     "name": "stdout",
     "output_type": "stream",
     "text": [
      "Brand: Audi\n",
      "Brand: BMW\n",
      "Brand: Bentley\n",
      "Brand: Ferrari\n"
     ]
    }
   ],
   "source": [
    "# Passing a list\n",
    "def brand_cars(names):\n",
    "    for name in names:\n",
    "        msg = \"Brand: \" + name\n",
    "        print(msg)\n",
    "brand_names = ['Audi','BMW','Bentley','Ferrari']\n",
    "brand_cars(brand_names)"
   ]
  },
  {
   "cell_type": "code",
   "execution_count": 97,
   "metadata": {
    "colab": {
     "base_uri": "https://localhost:8080/"
    },
    "executionInfo": {
     "elapsed": 733,
     "status": "ok",
     "timestamp": 1609037360380,
     "user": {
      "displayName": "Hwanjo Yu",
      "photoUrl": "",
      "userId": "05791772201597468055"
     },
     "user_tz": -540
    },
    "id": "FI-hol-Jlu-S",
    "outputId": "423b8136-1388-4a21-c945-1d29aecba414"
   },
   "outputs": [
    {
     "name": "stdout",
     "output_type": "stream",
     "text": [
      "Brand: ['Audi', 'BMW', 'Bentley', 'Ferrari']\n",
      "Brand: ['Audi', 'BMW']\n",
      "----------------------------------\n",
      "Brand: ['Audi', 'BMW', 'Bentley', 'Ferrari']\n",
      "Brand: ['Audi', 'BMW']\n"
     ]
    }
   ],
   "source": [
    "# Passing an Arbitrary Number of Arguments\n",
    "def brand_cars(*names):\n",
    "    for name in names:\n",
    "        msg = \"Brand: \" + str(name)\n",
    "        print(msg)\n",
    "\n",
    "brand_names = ['Audi','BMW','Bentley','Ferrari']\n",
    "brand_names_=['Audi','BMW']\n",
    "brand_cars(brand_names)\n",
    "brand_cars(brand_names_)\n",
    "print(\"----------------------------------\")\n",
    "brand_cars(brand_names, brand_names_)"
   ]
  },
  {
   "cell_type": "code",
   "execution_count": 98,
   "metadata": {
    "colab": {
     "base_uri": "https://localhost:8080/"
    },
    "executionInfo": {
     "elapsed": 679,
     "status": "ok",
     "timestamp": 1609037361191,
     "user": {
      "displayName": "Hwanjo Yu",
      "photoUrl": "",
      "userId": "05791772201597468055"
     },
     "user_tz": -540
    },
    "id": "tNZT5B29mB6I",
    "outputId": "333bb06b-b29c-4cf6-e7cf-6b9983df98b3"
   },
   "outputs": [
    {
     "name": "stdout",
     "output_type": "stream",
     "text": [
      "{'first_name': 'Carl', 'last_name': 'Sagan', 'location': 'USA', 'field': 'Astronomy'}\n"
     ]
    }
   ],
   "source": [
    "# Using Arbitrary Keyword Arguments\n",
    "def build_profile(first, last, **user_info):\n",
    "    profile = {}\n",
    "    profile['first_name'] = first\n",
    "    profile['last_name'] = last\n",
    "    for key, value in user_info.items():\n",
    "        profile[key] = value\n",
    "    return profile\n",
    "\n",
    "user_profile = build_profile('Carl','Sagan',\n",
    "                             location='USA',\n",
    "                             field='Astronomy')\n",
    "\n",
    "print(user_profile)"
   ]
  },
  {
   "cell_type": "markdown",
   "metadata": {
    "id": "XNluxv5Hn4nR"
   },
   "source": [
    "### Callback Functions"
   ]
  },
  {
   "cell_type": "code",
   "execution_count": 99,
   "metadata": {
    "executionInfo": {
     "elapsed": 663,
     "status": "ok",
     "timestamp": 1609037363421,
     "user": {
      "displayName": "Hwanjo Yu",
      "photoUrl": "",
      "userId": "05791772201597468055"
     },
     "user_tz": -540
    },
    "id": "n0wYbM0Rn2ww"
   },
   "outputs": [],
   "source": [
    "def apply_async(func, args, callback=None):\n",
    "    result = func(args)\n",
    "    if callback is not None:\n",
    "        callback(result)\n",
    "    return result"
   ]
  },
  {
   "cell_type": "code",
   "execution_count": 100,
   "metadata": {
    "colab": {
     "base_uri": "https://localhost:8080/"
    },
    "executionInfo": {
     "elapsed": 681,
     "status": "ok",
     "timestamp": 1609037364153,
     "user": {
      "displayName": "Hwanjo Yu",
      "photoUrl": "",
      "userId": "05791772201597468055"
     },
     "user_tz": -540
    },
    "id": "Z0XbX6hNnLMJ",
    "outputId": "a3902d21-6de6-4882-bc62-0f1fec1a3480"
   },
   "outputs": [
    {
     "name": "stdout",
     "output_type": "stream",
     "text": [
      "Value: 9\n"
     ]
    }
   ],
   "source": [
    "def print_result(result):\n",
    "    print('Value: {}'.format(result))\n",
    "\n",
    "def add(args):\n",
    "    return args[0] + args[1] + args[2]\n",
    "\n",
    "result = apply_async(add, (2, 3, 4), callback=print_result)"
   ]
  },
  {
   "cell_type": "code",
   "execution_count": 101,
   "metadata": {
    "executionInfo": {
     "elapsed": 691,
     "status": "ok",
     "timestamp": 1609037381397,
     "user": {
      "displayName": "Hwanjo Yu",
      "photoUrl": "",
      "userId": "05791772201597468055"
     },
     "user_tz": -540
    },
    "id": "IBKDNYGeofyh"
   },
   "outputs": [],
   "source": [
    "result = apply_async(add, ('hello', 'python', '!!'))"
   ]
  },
  {
   "cell_type": "code",
   "execution_count": 102,
   "metadata": {
    "colab": {
     "base_uri": "https://localhost:8080/",
     "height": 36
    },
    "executionInfo": {
     "elapsed": 1079,
     "status": "ok",
     "timestamp": 1609037382546,
     "user": {
      "displayName": "Hwanjo Yu",
      "photoUrl": "",
      "userId": "05791772201597468055"
     },
     "user_tz": -540
    },
    "id": "Sw8ChSU4onnK",
    "outputId": "ce3d5201-e07b-4d54-c44c-8211938a7d9f"
   },
   "outputs": [
    {
     "data": {
      "application/vnd.google.colaboratory.intrinsic+json": {
       "type": "string"
      },
      "text/plain": [
       "'hellopython!!'"
      ]
     },
     "execution_count": 102,
     "metadata": {
      "tags": []
     },
     "output_type": "execute_result"
    }
   ],
   "source": [
    "result"
   ]
  },
  {
   "cell_type": "markdown",
   "metadata": {
    "id": "IAU1FboNqDdd"
   },
   "source": [
    "### Lambda Functions"
   ]
  },
  {
   "cell_type": "code",
   "execution_count": 108,
   "metadata": {
    "colab": {
     "base_uri": "https://localhost:8080/"
    },
    "executionInfo": {
     "elapsed": 721,
     "status": "ok",
     "timestamp": 1609037455479,
     "user": {
      "displayName": "Hwanjo Yu",
      "photoUrl": "",
      "userId": "05791772201597468055"
     },
     "user_tz": -540
    },
    "id": "i7HWC6EApfKw",
    "outputId": "6ecde882-1404-45bc-c587-ee03b48a199a"
   },
   "outputs": [
    {
     "data": {
      "text/plain": [
       "11"
      ]
     },
     "execution_count": 108,
     "metadata": {
      "tags": []
     },
     "output_type": "execute_result"
    }
   ],
   "source": [
    "x = 10\n",
    "a = lambda y: x + y**2\n",
    "a(1)"
   ]
  },
  {
   "cell_type": "code",
   "execution_count": 109,
   "metadata": {
    "executionInfo": {
     "elapsed": 460,
     "status": "ok",
     "timestamp": 1609037455795,
     "user": {
      "displayName": "Hwanjo Yu",
      "photoUrl": "",
      "userId": "05791772201597468055"
     },
     "user_tz": -540
    },
    "id": "kAjGXRkMqIc4"
   },
   "outputs": [],
   "source": [
    "# Function to capture a value at the point of definition and keep it\n",
    "x = 5\n",
    "a = lambda y, x=x: x + y\n",
    "x = 11\n",
    "b = lambda y, x=x: x + y"
   ]
  },
  {
   "cell_type": "code",
   "execution_count": 110,
   "metadata": {
    "colab": {
     "base_uri": "https://localhost:8080/"
    },
    "executionInfo": {
     "elapsed": 616,
     "status": "ok",
     "timestamp": 1609037456543,
     "user": {
      "displayName": "Hwanjo Yu",
      "photoUrl": "",
      "userId": "05791772201597468055"
     },
     "user_tz": -540
    },
    "id": "NDEWFOLrqX9p",
    "outputId": "b459e50c-ad10-4868-8057-1d6d7468192f"
   },
   "outputs": [
    {
     "data": {
      "text/plain": [
       "8"
      ]
     },
     "execution_count": 110,
     "metadata": {
      "tags": []
     },
     "output_type": "execute_result"
    }
   ],
   "source": [
    "a(3)"
   ]
  },
  {
   "cell_type": "code",
   "execution_count": 111,
   "metadata": {
    "colab": {
     "base_uri": "https://localhost:8080/"
    },
    "executionInfo": {
     "elapsed": 612,
     "status": "ok",
     "timestamp": 1609037457403,
     "user": {
      "displayName": "Hwanjo Yu",
      "photoUrl": "",
      "userId": "05791772201597468055"
     },
     "user_tz": -540
    },
    "id": "OQ-1qH5hqc65",
    "outputId": "8d95c5f7-5f21-4385-8aec-750ccf58f9f3"
   },
   "outputs": [
    {
     "data": {
      "text/plain": [
       "7"
      ]
     },
     "execution_count": 111,
     "metadata": {
      "tags": []
     },
     "output_type": "execute_result"
    }
   ],
   "source": [
    "b(3, 4)"
   ]
  },
  {
   "cell_type": "markdown",
   "metadata": {
    "id": "ncwjHwX-q0Hi"
   },
   "source": [
    "### Map and Filter"
   ]
  },
  {
   "cell_type": "markdown",
   "metadata": {
    "id": "32MfgnPjq2ub"
   },
   "source": [
    "#### Map takes two arguments. The first argument is the name of a function and the second a sequence. map() applies the function to all the elements of the sequence."
   ]
  },
  {
   "cell_type": "code",
   "execution_count": 112,
   "metadata": {
    "colab": {
     "base_uri": "https://localhost:8080/"
    },
    "executionInfo": {
     "elapsed": 710,
     "status": "ok",
     "timestamp": 1609037461143,
     "user": {
      "displayName": "Hwanjo Yu",
      "photoUrl": "",
      "userId": "05791772201597468055"
     },
     "user_tz": -540
    },
    "id": "X4p4NOUAqe6X",
    "outputId": "802fd4e4-5d17-4c70-c5c5-1d717bfa6073"
   },
   "outputs": [
    {
     "name": "stdout",
     "output_type": "stream",
     "text": [
      "[97.16000000000001, 83.30000000000001, 81.14, 85.64, 88.7]\n"
     ]
    }
   ],
   "source": [
    "C = [36.2, 28.5, 27.3, 29.8, 31.5]\n",
    "F = list(map(lambda x: (float(9)/5)*x + 32, C))\n",
    "print(F)"
   ]
  },
  {
   "cell_type": "markdown",
   "metadata": {
    "id": "--FIUw2srRC5"
   },
   "source": [
    "#### Filter offers to filter out all the elements of a sequence, for which the function returns True."
   ]
  },
  {
   "cell_type": "code",
   "execution_count": 113,
   "metadata": {
    "colab": {
     "base_uri": "https://localhost:8080/"
    },
    "executionInfo": {
     "elapsed": 657,
     "status": "ok",
     "timestamp": 1609037463701,
     "user": {
      "displayName": "Hwanjo Yu",
      "photoUrl": "",
      "userId": "05791772201597468055"
     },
     "user_tz": -540
    },
    "id": "AotKGcX1rDaI",
    "outputId": "97b52667-5ba4-426f-e776-0be7f6cf4db4"
   },
   "outputs": [
    {
     "name": "stdout",
     "output_type": "stream",
     "text": [
      "[1, 3, 5, 7, 13]\n"
     ]
    }
   ],
   "source": [
    "numbers = [0, 1, 3, 5, 7, 8, 10, 13, 16, 24, 36]\n",
    "odd_numbers = list(filter(lambda x: x % 2, numbers))\n",
    "print(odd_numbers)"
   ]
  },
  {
   "cell_type": "markdown",
   "metadata": {
    "id": "RLqbYuVOrrsb"
   },
   "source": [
    "## Python Built-in Function"
   ]
  },
  {
   "cell_type": "code",
   "execution_count": 114,
   "metadata": {
    "colab": {
     "base_uri": "https://localhost:8080/"
    },
    "executionInfo": {
     "elapsed": 701,
     "status": "ok",
     "timestamp": 1609037490382,
     "user": {
      "displayName": "Hwanjo Yu",
      "photoUrl": "",
      "userId": "05791772201597468055"
     },
     "user_tz": -540
    },
    "id": "aiZ1RnYJrYwB",
    "outputId": "d1819d3d-f44c-4f52-9cca-d753773ab2df"
   },
   "outputs": [
    {
     "name": "stdout",
     "output_type": "stream",
     "text": [
      "0\n",
      "1\n",
      "2\n",
      "=======\n",
      "a\n",
      "b\n",
      "c\n"
     ]
    }
   ],
   "source": [
    "# Range function\n",
    "for i in range(3):\n",
    "    print(i)\n",
    "print('=======')\n",
    "l = ['a','b','c']\n",
    "for i in range(len(l)):\n",
    "    print(l[i])"
   ]
  },
  {
   "cell_type": "code",
   "execution_count": 115,
   "metadata": {
    "colab": {
     "base_uri": "https://localhost:8080/"
    },
    "executionInfo": {
     "elapsed": 755,
     "status": "ok",
     "timestamp": 1609037504379,
     "user": {
      "displayName": "Hwanjo Yu",
      "photoUrl": "",
      "userId": "05791772201597468055"
     },
     "user_tz": -540
    },
    "id": "SM08lANwr1PA",
    "outputId": "690ddeec-b4e2-468c-bff8-a9ff74bd2a49"
   },
   "outputs": [
    {
     "name": "stdout",
     "output_type": "stream",
     "text": [
      "0 34\n",
      "1 House\n",
      "2 12\n",
      "3 False\n",
      "4 72.3\n"
     ]
    }
   ],
   "source": [
    "# Enumerate\n",
    "a = [34, 'House', 12, False, 72.3]\n",
    "for (i, x) in enumerate(a):\n",
    "    print(i, x)"
   ]
  },
  {
   "cell_type": "code",
   "execution_count": 116,
   "metadata": {
    "colab": {
     "base_uri": "https://localhost:8080/"
    },
    "executionInfo": {
     "elapsed": 790,
     "status": "ok",
     "timestamp": 1609037507763,
     "user": {
      "displayName": "Hwanjo Yu",
      "photoUrl": "",
      "userId": "05791772201597468055"
     },
     "user_tz": -540
    },
    "id": "qLp5CuOIr6kh",
    "outputId": "be30802b-f5f7-40fe-8206-ed146b0593f1"
   },
   "outputs": [
    {
     "data": {
      "text/plain": [
       "[('a', 'd'), ('b', 'e'), ('c', 'f')]"
      ]
     },
     "execution_count": 116,
     "metadata": {
      "tags": []
     },
     "output_type": "execute_result"
    }
   ],
   "source": [
    "# zip\n",
    "list(zip(\"abc\", \"def\"))"
   ]
  },
  {
   "cell_type": "code",
   "execution_count": 117,
   "metadata": {
    "colab": {
     "base_uri": "https://localhost:8080/"
    },
    "executionInfo": {
     "elapsed": 694,
     "status": "ok",
     "timestamp": 1609037509654,
     "user": {
      "displayName": "Hwanjo Yu",
      "photoUrl": "",
      "userId": "05791772201597468055"
     },
     "user_tz": -540
    },
    "id": "ot1gTJKLr_gJ",
    "outputId": "4aa964d5-1088-4d83-9fb3-8f1d57abb65b"
   },
   "outputs": [
    {
     "data": {
      "text/plain": [
       "{'brand': 'Audi', 'model': 'A5', 'price': 60000}"
      ]
     },
     "execution_count": 117,
     "metadata": {
      "tags": []
     },
     "output_type": "execute_result"
    }
   ],
   "source": [
    "car = dict(zip(['brand','model','price'],['Audi','A5',60000]))\n",
    "car"
   ]
  },
  {
   "cell_type": "markdown",
   "metadata": {
    "id": "M8tZYbKEsw9H"
   },
   "source": [
    "## List comprehension expression"
   ]
  },
  {
   "cell_type": "code",
   "execution_count": 118,
   "metadata": {
    "colab": {
     "base_uri": "https://localhost:8080/"
    },
    "executionInfo": {
     "elapsed": 727,
     "status": "ok",
     "timestamp": 1609037511630,
     "user": {
      "displayName": "Hwanjo Yu",
      "photoUrl": "",
      "userId": "05791772201597468055"
     },
     "user_tz": -540
    },
    "id": "Q4ZHQUNFsOPX",
    "outputId": "2412cca6-726e-4676-82ce-068210db0da6"
   },
   "outputs": [
    {
     "data": {
      "text/plain": [
       "[[0, 1, 2], [3, 4, 5], [6, 7, 8]]"
      ]
     },
     "execution_count": 118,
     "metadata": {
      "tags": []
     },
     "output_type": "execute_result"
    }
   ],
   "source": [
    "matrix = [[0,1,2],[3,4,5],[6,7,8]]\n",
    "matrix"
   ]
  },
  {
   "cell_type": "code",
   "execution_count": 122,
   "metadata": {
    "executionInfo": {
     "elapsed": 671,
     "status": "ok",
     "timestamp": 1609037527836,
     "user": {
      "displayName": "Hwanjo Yu",
      "photoUrl": "",
      "userId": "05791772201597468055"
     },
     "user_tz": -540
    },
    "id": "6pA4vBdugCUr"
   },
   "outputs": [],
   "source": [
    "newcol = []\n",
    "for row in matrix:\n",
    "    newcol.append(row[2])"
   ]
  },
  {
   "cell_type": "code",
   "execution_count": 123,
   "metadata": {
    "colab": {
     "base_uri": "https://localhost:8080/"
    },
    "executionInfo": {
     "elapsed": 575,
     "status": "ok",
     "timestamp": 1609037528266,
     "user": {
      "displayName": "Hwanjo Yu",
      "photoUrl": "",
      "userId": "05791772201597468055"
     },
     "user_tz": -540
    },
    "id": "Su8nSQcIgMwa",
    "outputId": "6cf0edd7-b8cc-4a77-ad28-84ce6df93bf3"
   },
   "outputs": [
    {
     "data": {
      "text/plain": [
       "[2, 5, 8]"
      ]
     },
     "execution_count": 123,
     "metadata": {
      "tags": []
     },
     "output_type": "execute_result"
    }
   ],
   "source": [
    "newcol"
   ]
  },
  {
   "cell_type": "code",
   "execution_count": 124,
   "metadata": {
    "colab": {
     "base_uri": "https://localhost:8080/"
    },
    "executionInfo": {
     "elapsed": 858,
     "status": "ok",
     "timestamp": 1609037528971,
     "user": {
      "displayName": "Hwanjo Yu",
      "photoUrl": "",
      "userId": "05791772201597468055"
     },
     "user_tz": -540
    },
    "id": "gD2jyKtns15A",
    "outputId": "4505ec83-2c3a-421a-faf8-b0f7206c7f64"
   },
   "outputs": [
    {
     "data": {
      "text/plain": [
       "[2, 5, 8]"
      ]
     },
     "execution_count": 124,
     "metadata": {
      "tags": []
     },
     "output_type": "execute_result"
    }
   ],
   "source": [
    "# Collecting the items of the column 3\n",
    "newcol = [row[2] for row in matrix]\n",
    "newcol"
   ]
  },
  {
   "cell_type": "code",
   "execution_count": 125,
   "metadata": {
    "colab": {
     "base_uri": "https://localhost:8080/"
    },
    "executionInfo": {
     "elapsed": 699,
     "status": "ok",
     "timestamp": 1609037529285,
     "user": {
      "displayName": "Hwanjo Yu",
      "photoUrl": "",
      "userId": "05791772201597468055"
     },
     "user_tz": -540
    },
    "id": "yMJzzNv5s3SA",
    "outputId": "a1207dcc-acae-4d1b-e8bb-682f8d1e18d9"
   },
   "outputs": [
    {
     "data": {
      "text/plain": [
       "[[0, 1, 2], [3, 4, 5], [6, 7, 8]]"
      ]
     },
     "execution_count": 125,
     "metadata": {
      "tags": []
     },
     "output_type": "execute_result"
    }
   ],
   "source": [
    "# the original list is not changing\n",
    "matrix"
   ]
  },
  {
   "cell_type": "code",
   "execution_count": 126,
   "metadata": {
    "colab": {
     "base_uri": "https://localhost:8080/"
    },
    "executionInfo": {
     "elapsed": 628,
     "status": "ok",
     "timestamp": 1609037529752,
     "user": {
      "displayName": "Hwanjo Yu",
      "photoUrl": "",
      "userId": "05791772201597468055"
     },
     "user_tz": -540
    },
    "id": "qNSv-hdrs7dp",
    "outputId": "0b882495-b8f3-46e6-8f81-3f99c93cfc10"
   },
   "outputs": [
    {
     "data": {
      "text/plain": [
       "[2, 8]"
      ]
     },
     "execution_count": 126,
     "metadata": {
      "tags": []
     },
     "output_type": "execute_result"
    }
   ],
   "source": [
    "# Filter out odd items:\n",
    "[row[2] for row in matrix if row[2] % 2 == 0]"
   ]
  },
  {
   "cell_type": "code",
   "execution_count": 127,
   "metadata": {
    "colab": {
     "base_uri": "https://localhost:8080/"
    },
    "executionInfo": {
     "elapsed": 685,
     "status": "ok",
     "timestamp": 1609037530491,
     "user": {
      "displayName": "Hwanjo Yu",
      "photoUrl": "",
      "userId": "05791772201597468055"
     },
     "user_tz": -540
    },
    "id": "tFPQhgc3s8jQ",
    "outputId": "635f3b63-ea40-41df-84fa-da1a0067b0de"
   },
   "outputs": [
    {
     "data": {
      "text/plain": [
       "[0, 1, 2, 3, 4]"
      ]
     },
     "execution_count": 127,
     "metadata": {
      "tags": []
     },
     "output_type": "execute_result"
    }
   ],
   "source": [
    "# Sequence of numbers:\n",
    "list(range(5))"
   ]
  },
  {
   "cell_type": "code",
   "execution_count": 128,
   "metadata": {
    "colab": {
     "base_uri": "https://localhost:8080/"
    },
    "executionInfo": {
     "elapsed": 644,
     "status": "ok",
     "timestamp": 1609037531754,
     "user": {
      "displayName": "Hwanjo Yu",
      "photoUrl": "",
      "userId": "05791772201597468055"
     },
     "user_tz": -540
    },
    "id": "Q8uDPzT4s9-w",
    "outputId": "1b7d9fd0-63d5-49d9-d678-db2455bac72b"
   },
   "outputs": [
    {
     "data": {
      "text/plain": [
       "[[0, 0, 0.0],\n",
       " [1, 1, 1.0],\n",
       " [4, 8, 1.4142135623730951],\n",
       " [9, 27, 1.7320508075688772],\n",
       " [16, 64, 2.0]]"
      ]
     },
     "execution_count": 128,
     "metadata": {
      "tags": []
     },
     "output_type": "execute_result"
    }
   ],
   "source": [
    "# Multiple values:\n",
    "import numpy as np\n",
    "[[x ** 2, x ** 3, np.sqrt(x)] for x in range(5)]"
   ]
  },
  {
   "cell_type": "code",
   "execution_count": 129,
   "metadata": {
    "colab": {
     "base_uri": "https://localhost:8080/"
    },
    "executionInfo": {
     "elapsed": 665,
     "status": "ok",
     "timestamp": 1609037533430,
     "user": {
      "displayName": "Hwanjo Yu",
      "photoUrl": "",
      "userId": "05791772201597468055"
     },
     "user_tz": -540
    },
    "id": "ViWXCTLjtAvn",
    "outputId": "4e02a3fa-bf5a-44ab-a37c-22720fc32fe3"
   },
   "outputs": [
    {
     "name": "stdout",
     "output_type": "stream",
     "text": [
      "-2\n",
      "0\n",
      "2\n",
      "4\n"
     ]
    }
   ],
   "source": [
    "# range: init value to final value and the step on the sequence.\n",
    "for i in range(-2,5,2):\n",
    "    print(i)"
   ]
  },
  {
   "cell_type": "code",
   "execution_count": 130,
   "metadata": {
    "colab": {
     "base_uri": "https://localhost:8080/"
    },
    "executionInfo": {
     "elapsed": 694,
     "status": "ok",
     "timestamp": 1609037534957,
     "user": {
      "displayName": "Hwanjo Yu",
      "photoUrl": "",
      "userId": "05791772201597468055"
     },
     "user_tz": -540
    },
    "id": "iwgd06i8tDzg",
    "outputId": "8adaa61e-6644-4aef-a524-91019c8cc778"
   },
   "outputs": [
    {
     "data": {
      "text/plain": [
       "[[4, 8, 1.4142135623730951], [16, 64, 2.0]]"
      ]
     },
     "execution_count": 130,
     "metadata": {
      "tags": []
     },
     "output_type": "execute_result"
    }
   ],
   "source": [
    "# Multiple values with if sentence:\n",
    "[[x ** 2, x ** 3, np.sqrt(x)] for x in range(-10,5,2) if x > 0]"
   ]
  },
  {
   "cell_type": "markdown",
   "metadata": {
    "id": "qCzJqKXDtNrf"
   },
   "source": [
    "# 3. Object Oriented Programming (OOP)"
   ]
  },
  {
   "cell_type": "code",
   "execution_count": null,
   "metadata": {
    "id": "wo1tBD3sHP9Y"
   },
   "outputs": [],
   "source": [
    "int a = 4;\n",
    "float b = 8;\n",
    "char c = \"abc\";\n",
    "\n",
    "struct {int a; float b; float c[10]; def myfunc(a) {int .a.s. .. return a+4}} mytype;\n",
    "mytype kkk = mytype(3, 1,5, [12,3.5,...]);\n",
    "print(kkk.a)\n",
    "print(kkk.c[4])"
   ]
  },
  {
   "cell_type": "markdown",
   "metadata": {
    "id": "UV_5tYpite2P"
   },
   "source": [
    "## Classes, Methods, Sub Classes and Inheritance:"
   ]
  },
  {
   "cell_type": "code",
   "execution_count": 131,
   "metadata": {
    "executionInfo": {
     "elapsed": 767,
     "status": "ok",
     "timestamp": 1609038066708,
     "user": {
      "displayName": "Hwanjo Yu",
      "photoUrl": "",
      "userId": "05791772201597468055"
     },
     "user_tz": -540
    },
    "id": "FINzUXRztH04"
   },
   "outputs": [],
   "source": [
    "# Constructor\n",
    "class Person:\n",
    "    def __init__(self, first_name, surname, tel):\n",
    "      self.first_name = first_name\n",
    "      self.surname = surname\n",
    "      self.tel = tel\n",
    "    \n",
    "\n",
    "newperson = Person('Jack','Sparrow','41256315')  # newperson은 Person이라는 type을 가진 instance"
   ]
  },
  {
   "cell_type": "code",
   "execution_count": 132,
   "metadata": {
    "colab": {
     "base_uri": "https://localhost:8080/",
     "height": 36
    },
    "executionInfo": {
     "elapsed": 684,
     "status": "ok",
     "timestamp": 1609038159677,
     "user": {
      "displayName": "Hwanjo Yu",
      "photoUrl": "",
      "userId": "05791772201597468055"
     },
     "user_tz": -540
    },
    "id": "_Sz4M201tgvZ",
    "outputId": "cb437554-6996-4c24-883f-e992200b155f"
   },
   "outputs": [
    {
     "data": {
      "application/vnd.google.colaboratory.intrinsic+json": {
       "type": "string"
      },
      "text/plain": [
       "'Jack'"
      ]
     },
     "execution_count": 132,
     "metadata": {
      "tags": []
     },
     "output_type": "execute_result"
    }
   ],
   "source": [
    "newperson.first_name"
   ]
  },
  {
   "cell_type": "code",
   "execution_count": 133,
   "metadata": {
    "colab": {
     "base_uri": "https://localhost:8080/",
     "height": 36
    },
    "executionInfo": {
     "elapsed": 677,
     "status": "ok",
     "timestamp": 1609038166490,
     "user": {
      "displayName": "Hwanjo Yu",
      "photoUrl": "",
      "userId": "05791772201597468055"
     },
     "user_tz": -540
    },
    "id": "rb3U7VW6mCH8",
    "outputId": "885fa6c5-508f-4b4b-b4d0-e544d113abc8"
   },
   "outputs": [
    {
     "data": {
      "application/vnd.google.colaboratory.intrinsic+json": {
       "type": "string"
      },
      "text/plain": [
       "'Sparrow'"
      ]
     },
     "execution_count": 133,
     "metadata": {
      "tags": []
     },
     "output_type": "execute_result"
    }
   ],
   "source": [
    "newperson.surname"
   ]
  },
  {
   "cell_type": "code",
   "execution_count": 134,
   "metadata": {
    "colab": {
     "base_uri": "https://localhost:8080/",
     "height": 36
    },
    "executionInfo": {
     "elapsed": 690,
     "status": "ok",
     "timestamp": 1609038168688,
     "user": {
      "displayName": "Hwanjo Yu",
      "photoUrl": "",
      "userId": "05791772201597468055"
     },
     "user_tz": -540
    },
    "id": "2jPdWf6ZmJ3Y",
    "outputId": "453d2666-f8f9-4a79-e2c0-d79aabb03038"
   },
   "outputs": [
    {
     "data": {
      "application/vnd.google.colaboratory.intrinsic+json": {
       "type": "string"
      },
      "text/plain": [
       "'41256315'"
      ]
     },
     "execution_count": 134,
     "metadata": {
      "tags": []
     },
     "output_type": "execute_result"
    }
   ],
   "source": [
    "newperson.tel"
   ]
  },
  {
   "cell_type": "code",
   "execution_count": 135,
   "metadata": {
    "executionInfo": {
     "elapsed": 796,
     "status": "ok",
     "timestamp": 1609038175235,
     "user": {
      "displayName": "Hwanjo Yu",
      "photoUrl": "",
      "userId": "05791772201597468055"
     },
     "user_tz": -540
    },
    "id": "p67Mjp-Elj7k"
   },
   "outputs": [],
   "source": [
    "class Test:\n",
    "    def __init__(self):\n",
    "      self.a = 3\n",
    "      print('abcd')"
   ]
  },
  {
   "cell_type": "code",
   "execution_count": 136,
   "metadata": {
    "colab": {
     "base_uri": "https://localhost:8080/"
    },
    "executionInfo": {
     "elapsed": 662,
     "status": "ok",
     "timestamp": 1609038214617,
     "user": {
      "displayName": "Hwanjo Yu",
      "photoUrl": "",
      "userId": "05791772201597468055"
     },
     "user_tz": -540
    },
    "id": "9MBH_g6fltbk",
    "outputId": "cf0586a1-0274-4a61-eecc-fcd50518f992"
   },
   "outputs": [
    {
     "name": "stdout",
     "output_type": "stream",
     "text": [
      "abcd\n"
     ]
    }
   ],
   "source": [
    "test = Test()"
   ]
  },
  {
   "cell_type": "code",
   "execution_count": 137,
   "metadata": {
    "colab": {
     "base_uri": "https://localhost:8080/"
    },
    "executionInfo": {
     "elapsed": 691,
     "status": "ok",
     "timestamp": 1609038217915,
     "user": {
      "displayName": "Hwanjo Yu",
      "photoUrl": "",
      "userId": "05791772201597468055"
     },
     "user_tz": -540
    },
    "id": "rDssaBJal4Xr",
    "outputId": "66c18583-f4d6-4bbb-dc89-eab00fea50e7"
   },
   "outputs": [
    {
     "data": {
      "text/plain": [
       "3"
      ]
     },
     "execution_count": 137,
     "metadata": {
      "tags": []
     },
     "output_type": "execute_result"
    }
   ],
   "source": [
    "test.a"
   ]
  },
  {
   "cell_type": "code",
   "execution_count": 140,
   "metadata": {
    "executionInfo": {
     "elapsed": 669,
     "status": "ok",
     "timestamp": 1609038345750,
     "user": {
      "displayName": "Hwanjo Yu",
      "photoUrl": "",
      "userId": "05791772201597468055"
     },
     "user_tz": -540
    },
    "id": "HN3IEZFTtiiV"
   },
   "outputs": [],
   "source": [
    "# Including a method:\n",
    "class Person:\n",
    "    def __init__(self, first_name, surname, tel):\n",
    "      self.first_name = first_name\n",
    "      self.surname = surname\n",
    "      self.tel = tel\n",
    "\n",
    "    def full_name(self):\n",
    "      return self.first_name + \" \" + self.surname\n",
    "\n",
    "newperson = Person('Jack','Sparrow','41256315')"
   ]
  },
  {
   "cell_type": "code",
   "execution_count": 141,
   "metadata": {
    "colab": {
     "base_uri": "https://localhost:8080/"
    },
    "executionInfo": {
     "elapsed": 761,
     "status": "ok",
     "timestamp": 1609038346629,
     "user": {
      "displayName": "Hwanjo Yu",
      "photoUrl": "",
      "userId": "05791772201597468055"
     },
     "user_tz": -540
    },
    "id": "DFCcTvmXtkmC",
    "outputId": "4a682c93-c947-4c4a-e8e5-e448a6c4b470"
   },
   "outputs": [
    {
     "name": "stdout",
     "output_type": "stream",
     "text": [
      "Jack Sparrow\n"
     ]
    }
   ],
   "source": [
    "print(newperson.full_name())"
   ]
  },
  {
   "cell_type": "code",
   "execution_count": 144,
   "metadata": {
    "executionInfo": {
     "elapsed": 883,
     "status": "ok",
     "timestamp": 1609038584565,
     "user": {
      "displayName": "Hwanjo Yu",
      "photoUrl": "",
      "userId": "05791772201597468055"
     },
     "user_tz": -540
    },
    "id": "uxvV3dKktmNv"
   },
   "outputs": [],
   "source": [
    "#Including a SubClass of Person:\n",
    "# Including a method:\n",
    "class Person:\n",
    "    def __init__(self, first_name, surname, tel):\n",
    "      self.first_name = first_name\n",
    "      self.surname = surname\n",
    "      self.tel = tel\n",
    "\n",
    "    def full_name(self):\n",
    "      return self.first_name + \" \" + self.surname\n",
    "\n",
    "\n",
    "class Employee(Person):# Inheritance\n",
    "    def __init__(self, first_name, surname, tel, salary):\n",
    "        super().__init__(first_name, surname, tel)\n",
    "        self.salary = salary"
   ]
  },
  {
   "cell_type": "code",
   "execution_count": 145,
   "metadata": {
    "colab": {
     "base_uri": "https://localhost:8080/"
    },
    "executionInfo": {
     "elapsed": 676,
     "status": "ok",
     "timestamp": 1609038590796,
     "user": {
      "displayName": "Hwanjo Yu",
      "photoUrl": "",
      "userId": "05791772201597468055"
     },
     "user_tz": -540
    },
    "id": "ZqMXpnNEtnsI",
    "outputId": "5bb20e25-f93c-4103-fcd2-9862dc862858"
   },
   "outputs": [
    {
     "data": {
      "text/plain": [
       "1253652"
      ]
     },
     "execution_count": 145,
     "metadata": {
      "tags": []
     },
     "output_type": "execute_result"
    }
   ],
   "source": [
    "# Creating and object: Intance of the class\n",
    "empl = Employee('Jack','Sparrow','41256315',1253652)   \n",
    "empl.salary"
   ]
  },
  {
   "cell_type": "code",
   "execution_count": 146,
   "metadata": {
    "colab": {
     "base_uri": "https://localhost:8080/",
     "height": 36
    },
    "executionInfo": {
     "elapsed": 691,
     "status": "ok",
     "timestamp": 1609038592851,
     "user": {
      "displayName": "Hwanjo Yu",
      "photoUrl": "",
      "userId": "05791772201597468055"
     },
     "user_tz": -540
    },
    "id": "p0T8LD7CnZ_n",
    "outputId": "fa9efae5-2572-430e-876f-b25f60a4246b"
   },
   "outputs": [
    {
     "data": {
      "application/vnd.google.colaboratory.intrinsic+json": {
       "type": "string"
      },
      "text/plain": [
       "'Jack Sparrow'"
      ]
     },
     "execution_count": 146,
     "metadata": {
      "tags": []
     },
     "output_type": "execute_result"
    }
   ],
   "source": [
    "empl.full_name()"
   ]
  },
  {
   "cell_type": "code",
   "execution_count": 147,
   "metadata": {
    "executionInfo": {
     "elapsed": 710,
     "status": "ok",
     "timestamp": 1609038598314,
     "user": {
      "displayName": "Hwanjo Yu",
      "photoUrl": "",
      "userId": "05791772201597468055"
     },
     "user_tz": -540
    },
    "id": "094dLpr1tpSY"
   },
   "outputs": [],
   "source": [
    "# Including a method:\n",
    "class Person:\n",
    "    def __init__(self, first_name, surname, tel):\n",
    "        self.first_name = first_name\n",
    "        self.surname = surname\n",
    "        self.tel = tel\n",
    "\n",
    "    def __full_name__(self):\n",
    "        return self.first_name + \" \" + self.surname\n",
    "\n",
    "\n",
    "class Employee(Person):\n",
    "    def __init__(self, first_name, surname, tel, salary, age):\n",
    "        super().__init__(first_name, surname, tel)\n",
    "        self.salary = salary\n",
    "        self.age = age\n",
    "        \n",
    "    def full_data(self):\n",
    "        return super().__full_name__() + \", \" +  str(self.age)"
   ]
  },
  {
   "cell_type": "code",
   "execution_count": 148,
   "metadata": {
    "executionInfo": {
     "elapsed": 685,
     "status": "ok",
     "timestamp": 1609038599525,
     "user": {
      "displayName": "Hwanjo Yu",
      "photoUrl": "",
      "userId": "05791772201597468055"
     },
     "user_tz": -540
    },
    "id": "pWR9eEiptrJ3"
   },
   "outputs": [],
   "source": [
    "empl = Employee('Mario','Bros','415245821',100000,36)"
   ]
  },
  {
   "cell_type": "code",
   "execution_count": 149,
   "metadata": {
    "colab": {
     "base_uri": "https://localhost:8080/",
     "height": 36
    },
    "executionInfo": {
     "elapsed": 570,
     "status": "ok",
     "timestamp": 1609038600405,
     "user": {
      "displayName": "Hwanjo Yu",
      "photoUrl": "",
      "userId": "05791772201597468055"
     },
     "user_tz": -540
    },
    "id": "M35KNlj4t4nU",
    "outputId": "91689ec3-8fc6-41de-a26d-484c9f0bff8e"
   },
   "outputs": [
    {
     "data": {
      "application/vnd.google.colaboratory.intrinsic+json": {
       "type": "string"
      },
      "text/plain": [
       "'Mario Bros, 36'"
      ]
     },
     "execution_count": 149,
     "metadata": {
      "tags": []
     },
     "output_type": "execute_result"
    }
   ],
   "source": [
    "empl.full_data()"
   ]
  },
  {
   "cell_type": "markdown",
   "metadata": {
    "id": "kAgjX92Kt-8A"
   },
   "source": [
    "#### Double underscore before and after method is used when it will be override by another method."
   ]
  },
  {
   "cell_type": "code",
   "execution_count": null,
   "metadata": {
    "id": "2FLzaXdo_EqR"
   },
   "outputs": [],
   "source": []
  }
 ],
 "metadata": {
  "colab": {
   "collapsed_sections": [],
   "name": "0.Python_Basic.ipynb",
   "provenance": []
  },
  "kernelspec": {
   "display_name": "Python 3 (ipykernel)",
   "language": "python",
   "name": "python3"
  },
  "language_info": {
   "codemirror_mode": {
    "name": "ipython",
    "version": 3
   },
   "file_extension": ".py",
   "mimetype": "text/x-python",
   "name": "python",
   "nbconvert_exporter": "python",
   "pygments_lexer": "ipython3",
   "version": "3.8.12"
  }
 },
 "nbformat": 4,
 "nbformat_minor": 1
}
