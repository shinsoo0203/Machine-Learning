{
 "cells": [
  {
   "cell_type": "markdown",
   "metadata": {
    "id": "A4PI4Cd-xBBC"
   },
   "source": [
    "# Language Modeling with RNNs\n",
    "[참고자료1](https://wikidocs.net/21668), \n",
    "[참고자료2](https://github.com/yunjey/pytorch-tutorial/blob/master/tutorials/02-intermediate/language_model/main.py#L30-L50)"
   ]
  },
  {
   "cell_type": "markdown",
   "metadata": {
    "id": "19E_czi9xRS0"
   },
   "source": [
    "Language Modeling (LM)은 언어라는 현상을 모델링하고자 단어 시퀀스 (또는 문장)에 확률을 할당한는 모델이다.\n",
    "\n",
    "다시 말하면, 언어 모델은 가장 자연스러운 단어 시퀀스를 찾아내는 모델이다. 단어 시퀀스에 확률을 할당하게 하기 위해 가장 보편적으로 사용되는 방법은 언어 모델이 **이전 단어들이 주어졌을 때 다음 단어를 예측** 하도록 하는 것이다."
   ]
  },
  {
   "cell_type": "markdown",
   "metadata": {
    "id": "gH2uwOIVyRMd"
   },
   "source": [
    "**단어 시퀀스의 확률**\n",
    "\n",
    "하나의 단어를 $w$, 단어 시퀀스를 대문자 $W$ 라고 한다면, $n$개의 단어가 등장하는 단어 시퀀스 $W$의 확률은 다음과 같다.\n",
    "\n",
    "$$P(W)=P(w_1, w_2, \\cdots, w_n)$$\n",
    "\n",
    "**다음 단어 등장 확률**\n",
    "\n",
    "다음 단어가 등장할 확률을 식으로 표현하면, $n-1$개의 단어가 나열된 상태에서 $n$번째 단어의 확률은 다음과 같다.\n",
    "\n",
    "$$p(w_n|w_1, \\cdots, w_{n-1})$$\n",
    "\n",
    "전체 단어 시퀀스 $W$의 확률은 모든 단어가 예측되고 나서야 알 수 있으므로 단어 시퀀스의 확률은 다음과 같다. (Chain Rule)\n",
    "$$P(W)=P(w_1, w_2, \\cdots, w_n)=\\prod_{i=1}^{n}P(w_n|w_1, \\cdots, w_{n-1})$$\n",
    "\n",
    "예제로 검색엔진에서 특정 단어를 치면 뒤에 단어를 제안 해주는 것을 생각 할 수 있다."
   ]
  },
  {
   "cell_type": "markdown",
   "metadata": {
    "id": "GN-lHofkS8hi"
   },
   "source": [
    "**Perplexity**\n",
    "\n",
    "Language Model의 성능을 평가하는 방법\n",
    "\n",
    "$$PPL(W)=P(w_1, w_2, \\cdots, w_N)^{-\\frac{1}{N}}$$\n",
    "\n",
    "PPL은 언어모델이 `헷갈리는 정도` 라고 해석 할 수 있다. 값이 낮을수록 좋은 성능이다.\n",
    "\n",
    "예를들어서 PPL이 10인 언어 모델은 모델이 테스트 데이터에 대해서 다음 단어를 예측 하는 모든 시점마다 평균적으로 10개의 단어를 가지고 어떤 것이 정답인지 고민하고 있다고 볼 수 있다.\n",
    "\n",
    "$$PPL(W)=P(w_1, w_2, \\cdots, w_N)^{-\\frac{1}{N}}=(\\frac{1}{10}^{N})^{-\\frac{1}{N}}=10$$"
   ]
  },
  {
   "cell_type": "markdown",
   "metadata": {
    "id": "7tTPdxH3Mm8s"
   },
   "source": [
    "**Cross Entropy와의 관계**\n",
    "\n",
    "$$PPL=exp(Cross Entropy)$$"
   ]
  },
  {
   "cell_type": "markdown",
   "metadata": {
    "id": "-WQdLL9ZxHrn"
   },
   "source": [
    "## Requirements"
   ]
  },
  {
   "cell_type": "code",
   "execution_count": 1,
   "metadata": {
    "colab": {
     "base_uri": "https://localhost:8080/"
    },
    "executionInfo": {
     "elapsed": 20113,
     "status": "ok",
     "timestamp": 1650367154875,
     "user": {
      "displayName": "JaeHyung Lee",
      "userId": "18392552705726331072"
     },
     "user_tz": -540
    },
    "id": "VRXLmEK6U6h-",
    "outputId": "0999f5ef-9e53-412a-b94a-97c9bd26409e"
   },
   "outputs": [
    {
     "name": "stdout",
     "output_type": "stream",
     "text": [
      "Mounted at /content/gdrive/\n"
     ]
    }
   ],
   "source": [
    "from google.colab import drive \n",
    "drive.mount('/content/gdrive/')\n",
    "\n",
    "import os\n",
    "os.chdir('/content/gdrive/My Drive/Colab Notebooks/')"
   ]
  },
  {
   "cell_type": "code",
   "execution_count": 2,
   "metadata": {
    "executionInfo": {
     "elapsed": 6834,
     "status": "ok",
     "timestamp": 1650367171597,
     "user": {
      "displayName": "JaeHyung Lee",
      "userId": "18392552705726331072"
     },
     "user_tz": -540
    },
    "id": "qJZZ1nYzdRbD"
   },
   "outputs": [],
   "source": [
    "# Some part of the code was referenced from below.\n",
    "# https://github.com/pytorch/examples/tree/master/word_language_model \n",
    "import torch\n",
    "import torch.nn as nn\n",
    "import numpy as np\n",
    "from torch.nn.utils import clip_grad_norm_"
   ]
  },
  {
   "cell_type": "markdown",
   "metadata": {
    "id": "_yXiG1UN5cHF"
   },
   "source": [
    "## Preprocessing"
   ]
  },
  {
   "cell_type": "code",
   "execution_count": 3,
   "metadata": {
    "executionInfo": {
     "elapsed": 4,
     "status": "ok",
     "timestamp": 1650367171597,
     "user": {
      "displayName": "JaeHyung Lee",
      "userId": "18392552705726331072"
     },
     "user_tz": -540
    },
    "id": "8eZEoKG5dTTh"
   },
   "outputs": [],
   "source": [
    "import os\n",
    "\n",
    "# Dictionary\n",
    "class Dictionary(object):\n",
    "    def __init__(self):\n",
    "        self.word2idx = {}\n",
    "        self.idx2word = {}\n",
    "        self.idx = 0\n",
    "    \n",
    "    def add_word(self, word):\n",
    "        if not word in self.word2idx:\n",
    "            self.word2idx[word] = self.idx\n",
    "            self.idx2word[self.idx] = word\n",
    "            self.idx += 1\n",
    "    \n",
    "    def __len__(self):\n",
    "        return len(self.word2idx)\n",
    "\n",
    "# Corpus\n",
    "class Corpus(object):\n",
    "    def __init__(self):\n",
    "        self.dictionary = Dictionary()\n",
    "\n",
    "    def get_data(self, path, batch_size=20):\n",
    "        # Add words to the dictionary\n",
    "        with open(path, 'r') as f:\n",
    "            tokens = 0\n",
    "            for line in f:\n",
    "                words = line.split() + ['<eos>']\n",
    "                tokens += len(words)\n",
    "                for word in words: \n",
    "                    self.dictionary.add_word(word)  \n",
    "        \n",
    "        # Tokenize the file content\n",
    "        ids = torch.LongTensor(tokens)\n",
    "        token = 0\n",
    "        with open(path, 'r') as f:\n",
    "            for line in f:\n",
    "                words = line.split() + ['<eos>']\n",
    "                for word in words:\n",
    "                    ids[token] = self.dictionary.word2idx[word]\n",
    "                    token += 1\n",
    "        num_batches = ids.size(0) // batch_size\n",
    "        ids = ids[:num_batches*batch_size]\n",
    "        # word index들의 sequence를 return\n",
    "        return ids.view(batch_size, -1)"
   ]
  },
  {
   "cell_type": "markdown",
   "metadata": {
    "id": "z54v8M1C5gil"
   },
   "source": [
    "## Hyperparameters"
   ]
  },
  {
   "cell_type": "markdown",
   "metadata": {
    "id": "-l1uMzKRefX3"
   },
   "source": [
    "Train data download:\n",
    "https://url.kr/sulxnh\n",
    "<!-- https://drive.google.com/file/d/1vQRyXr5pdJfdAlzR7WUuOFoqJL4CRqK3/view?usp=sharing -->\n",
    "\n",
    "데이터의 경로는 `/gdrive/My Drive/Colab Notebooks/train.txt`로 지정해주시기 바랍니다."
   ]
  },
  {
   "cell_type": "code",
   "execution_count": 4,
   "metadata": {
    "executionInfo": {
     "elapsed": 3727,
     "status": "ok",
     "timestamp": 1650367175321,
     "user": {
      "displayName": "JaeHyung Lee",
      "userId": "18392552705726331072"
     },
     "user_tz": -540
    },
    "id": "Eu2eAaSKdjgg"
   },
   "outputs": [],
   "source": [
    "# Device configuration\n",
    "device = torch.device('cuda' if torch.cuda.is_available() else 'cpu')\n",
    "\n",
    "# Hyper-parameters\n",
    "embed_size = 128\n",
    "hidden_size = 1024\n",
    "\n",
    "num_layers = 1\n",
    "num_epochs = 5\n",
    "\n",
    "num_samples = 1000     # number of words to be sampled\n",
    "\n",
    "batch_size = 20\n",
    "seq_length = 30\n",
    "learning_rate = 0.002\n",
    "\n",
    "# Load \"Penn Treebank\" dataset\n",
    "corpus = Corpus()\n",
    "ids = corpus.get_data('./train.txt', batch_size)\n",
    "vocab_size = len(corpus.dictionary)\n",
    "num_batches = ids.size(1) // seq_length"
   ]
  },
  {
   "cell_type": "code",
   "execution_count": 5,
   "metadata": {
    "colab": {
     "base_uri": "https://localhost:8080/"
    },
    "executionInfo": {
     "elapsed": 16,
     "status": "ok",
     "timestamp": 1650367175323,
     "user": {
      "displayName": "JaeHyung Lee",
      "userId": "18392552705726331072"
     },
     "user_tz": -540
    },
    "id": "Tth2qEvNh477",
    "outputId": "21801851-9ae7-4312-cd41-8a7aba7167be"
   },
   "outputs": [
    {
     "data": {
      "text/plain": [
       "tensor([[   0,    1,    2,  ...,  152, 4955, 4150],\n",
       "        [  93,  718,  590,  ...,  170, 6784,  133],\n",
       "        [  27,  930,   42,  ...,  392, 4864,   26],\n",
       "        ...,\n",
       "        [ 997,   42,  507,  ...,  682, 6849, 6344],\n",
       "        [ 392, 5518, 3034,  ..., 2264,   42, 3401],\n",
       "        [4210,  467, 1496,  ..., 9999,  119, 1143]])"
      ]
     },
     "execution_count": 5,
     "metadata": {},
     "output_type": "execute_result"
    }
   ],
   "source": [
    "ids"
   ]
  },
  {
   "cell_type": "markdown",
   "metadata": {
    "id": "C-FgZsWu5jde"
   },
   "source": [
    "## Model"
   ]
  },
  {
   "cell_type": "code",
   "execution_count": 6,
   "metadata": {
    "executionInfo": {
     "elapsed": 15,
     "status": "ok",
     "timestamp": 1650367175324,
     "user": {
      "displayName": "JaeHyung Lee",
      "userId": "18392552705726331072"
     },
     "user_tz": -540
    },
    "id": "wYePnZpdds3w"
   },
   "outputs": [],
   "source": [
    "# RNN based language model\n",
    "class RNNLM(nn.Module):\n",
    "    def __init__(self, vocab_size, embed_size, hidden_size, num_layers):\n",
    "        super(RNNLM, self).__init__()\n",
    "        self.embed = nn.Embedding(vocab_size, embed_size)\n",
    "        self.lstm = nn.LSTM(embed_size, hidden_size, num_layers, batch_first=True)\n",
    "        self.linear = nn.Linear(hidden_size, vocab_size)\n",
    "        \n",
    "    def forward(self, x, h):\n",
    "        # Embed word ids to vectors\n",
    "        x = self.embed(x)\n",
    "        \n",
    "        # Forward propagate LSTM\n",
    "        out, (h, c) = self.lstm(x, h)\n",
    "        \n",
    "        # Reshape output to (batch_size*sequence_length, hidden_size)\n",
    "        out = out.reshape(out.size(0)*out.size(1), out.size(2))\n",
    "        \n",
    "        # Decode hidden states of all time steps\n",
    "        out = self.linear(out)\n",
    "        return out, (h, c)"
   ]
  },
  {
   "cell_type": "code",
   "execution_count": 7,
   "metadata": {
    "executionInfo": {
     "elapsed": 10020,
     "status": "ok",
     "timestamp": 1650367185330,
     "user": {
      "displayName": "JaeHyung Lee",
      "userId": "18392552705726331072"
     },
     "user_tz": -540
    },
    "id": "9b394wMaeUS-"
   },
   "outputs": [],
   "source": [
    "model = RNNLM(vocab_size, embed_size, hidden_size, num_layers).to(device)"
   ]
  },
  {
   "cell_type": "code",
   "execution_count": 8,
   "metadata": {
    "executionInfo": {
     "elapsed": 10,
     "status": "ok",
     "timestamp": 1650367185331,
     "user": {
      "displayName": "JaeHyung Lee",
      "userId": "18392552705726331072"
     },
     "user_tz": -540
    },
    "id": "9nDH-7MSeVx3"
   },
   "outputs": [],
   "source": [
    "# Loss and optimizer\n",
    "criterion = nn.CrossEntropyLoss()\n",
    "optimizer = torch.optim.Adam(model.parameters(), lr=learning_rate)\n",
    "\n",
    "# Truncated backpropagation\n",
    "def detach(states):\n",
    "    return [state.detach() for state in states]"
   ]
  },
  {
   "cell_type": "code",
   "execution_count": 9,
   "metadata": {
    "colab": {
     "base_uri": "https://localhost:8080/"
    },
    "executionInfo": {
     "elapsed": 493655,
     "status": "ok",
     "timestamp": 1650367678977,
     "user": {
      "displayName": "JaeHyung Lee",
      "userId": "18392552705726331072"
     },
     "user_tz": -540
    },
    "id": "oTImZuq3eY0-",
    "outputId": "3036ed47-a4e2-4464-a499-1dd2dbfebe91"
   },
   "outputs": [
    {
     "name": "stdout",
     "output_type": "stream",
     "text": [
      "Epoch [1/5], Step[0/1549], Loss: 9.2065, Perplexity: 9961.93\n",
      "Epoch [1/5], Step[100/1549], Loss: 5.9976, Perplexity: 402.47\n",
      "Epoch [1/5], Step[200/1549], Loss: 5.9204, Perplexity: 372.56\n",
      "Epoch [1/5], Step[300/1549], Loss: 5.7660, Perplexity: 319.25\n",
      "Epoch [1/5], Step[400/1549], Loss: 5.6974, Perplexity: 298.09\n",
      "Epoch [1/5], Step[500/1549], Loss: 5.0929, Perplexity: 162.87\n",
      "Epoch [1/5], Step[600/1549], Loss: 5.1624, Perplexity: 174.58\n",
      "Epoch [1/5], Step[700/1549], Loss: 5.3218, Perplexity: 204.75\n",
      "Epoch [1/5], Step[800/1549], Loss: 5.1488, Perplexity: 172.23\n",
      "Epoch [1/5], Step[900/1549], Loss: 5.0973, Perplexity: 163.58\n",
      "Epoch [1/5], Step[1000/1549], Loss: 5.1383, Perplexity: 170.43\n",
      "Epoch [1/5], Step[1100/1549], Loss: 5.3104, Perplexity: 202.44\n",
      "Epoch [1/5], Step[1200/1549], Loss: 5.1157, Perplexity: 166.61\n",
      "Epoch [1/5], Step[1300/1549], Loss: 5.1095, Perplexity: 165.58\n",
      "Epoch [1/5], Step[1400/1549], Loss: 4.7800, Perplexity: 119.10\n",
      "Epoch [1/5], Step[1500/1549], Loss: 5.1351, Perplexity: 169.88\n",
      "Epoch [2/5], Step[0/1549], Loss: 5.4191, Perplexity: 225.69\n",
      "Epoch [2/5], Step[100/1549], Loss: 4.5238, Perplexity: 92.19\n",
      "Epoch [2/5], Step[200/1549], Loss: 4.6915, Perplexity: 109.01\n",
      "Epoch [2/5], Step[300/1549], Loss: 4.6989, Perplexity: 109.83\n",
      "Epoch [2/5], Step[400/1549], Loss: 4.5317, Perplexity: 92.91\n",
      "Epoch [2/5], Step[500/1549], Loss: 4.0889, Perplexity: 59.67\n",
      "Epoch [2/5], Step[600/1549], Loss: 4.3973, Perplexity: 81.23\n",
      "Epoch [2/5], Step[700/1549], Loss: 4.4266, Perplexity: 83.64\n",
      "Epoch [2/5], Step[800/1549], Loss: 4.3449, Perplexity: 77.09\n",
      "Epoch [2/5], Step[900/1549], Loss: 4.2473, Perplexity: 69.92\n",
      "Epoch [2/5], Step[1000/1549], Loss: 4.2906, Perplexity: 73.01\n",
      "Epoch [2/5], Step[1100/1549], Loss: 4.5083, Perplexity: 90.76\n",
      "Epoch [2/5], Step[1200/1549], Loss: 4.3732, Perplexity: 79.30\n",
      "Epoch [2/5], Step[1300/1549], Loss: 4.2807, Perplexity: 72.29\n",
      "Epoch [2/5], Step[1400/1549], Loss: 3.9009, Perplexity: 49.45\n",
      "Epoch [2/5], Step[1500/1549], Loss: 4.2824, Perplexity: 72.41\n",
      "Epoch [3/5], Step[0/1549], Loss: 4.4375, Perplexity: 84.56\n",
      "Epoch [3/5], Step[100/1549], Loss: 3.8977, Perplexity: 49.29\n",
      "Epoch [3/5], Step[200/1549], Loss: 4.0478, Perplexity: 57.27\n",
      "Epoch [3/5], Step[300/1549], Loss: 3.9279, Perplexity: 50.80\n",
      "Epoch [3/5], Step[400/1549], Loss: 3.8569, Perplexity: 47.32\n",
      "Epoch [3/5], Step[500/1549], Loss: 3.3659, Perplexity: 28.96\n",
      "Epoch [3/5], Step[600/1549], Loss: 3.7799, Perplexity: 43.81\n",
      "Epoch [3/5], Step[700/1549], Loss: 3.7439, Perplexity: 42.26\n",
      "Epoch [3/5], Step[800/1549], Loss: 3.7627, Perplexity: 43.06\n",
      "Epoch [3/5], Step[900/1549], Loss: 3.5232, Perplexity: 33.89\n",
      "Epoch [3/5], Step[1000/1549], Loss: 3.6365, Perplexity: 37.96\n",
      "Epoch [3/5], Step[1100/1549], Loss: 3.7858, Perplexity: 44.07\n",
      "Epoch [3/5], Step[1200/1549], Loss: 3.7113, Perplexity: 40.91\n",
      "Epoch [3/5], Step[1300/1549], Loss: 3.5362, Perplexity: 34.34\n",
      "Epoch [3/5], Step[1400/1549], Loss: 3.1380, Perplexity: 23.06\n",
      "Epoch [3/5], Step[1500/1549], Loss: 3.5257, Perplexity: 33.98\n",
      "Epoch [4/5], Step[0/1549], Loss: 3.5104, Perplexity: 33.46\n",
      "Epoch [4/5], Step[100/1549], Loss: 3.3555, Perplexity: 28.66\n",
      "Epoch [4/5], Step[200/1549], Loss: 3.5363, Perplexity: 34.34\n",
      "Epoch [4/5], Step[300/1549], Loss: 3.4000, Perplexity: 29.96\n",
      "Epoch [4/5], Step[400/1549], Loss: 3.3481, Perplexity: 28.45\n",
      "Epoch [4/5], Step[500/1549], Loss: 2.8996, Perplexity: 18.17\n",
      "Epoch [4/5], Step[600/1549], Loss: 3.3080, Perplexity: 27.33\n",
      "Epoch [4/5], Step[700/1549], Loss: 3.2467, Perplexity: 25.70\n",
      "Epoch [4/5], Step[800/1549], Loss: 3.3194, Perplexity: 27.64\n",
      "Epoch [4/5], Step[900/1549], Loss: 3.0616, Perplexity: 21.36\n",
      "Epoch [4/5], Step[1000/1549], Loss: 3.1047, Perplexity: 22.30\n",
      "Epoch [4/5], Step[1100/1549], Loss: 3.2761, Perplexity: 26.47\n",
      "Epoch [4/5], Step[1200/1549], Loss: 3.2323, Perplexity: 25.34\n",
      "Epoch [4/5], Step[1300/1549], Loss: 3.0387, Perplexity: 20.88\n",
      "Epoch [4/5], Step[1400/1549], Loss: 2.7132, Perplexity: 15.08\n",
      "Epoch [4/5], Step[1500/1549], Loss: 3.0006, Perplexity: 20.10\n",
      "Epoch [5/5], Step[0/1549], Loss: 3.0343, Perplexity: 20.79\n",
      "Epoch [5/5], Step[100/1549], Loss: 2.9598, Perplexity: 19.29\n",
      "Epoch [5/5], Step[200/1549], Loss: 3.0947, Perplexity: 22.08\n",
      "Epoch [5/5], Step[300/1549], Loss: 3.0247, Perplexity: 20.59\n",
      "Epoch [5/5], Step[400/1549], Loss: 3.0084, Perplexity: 20.25\n",
      "Epoch [5/5], Step[500/1549], Loss: 2.5830, Perplexity: 13.24\n",
      "Epoch [5/5], Step[600/1549], Loss: 3.0124, Perplexity: 20.34\n",
      "Epoch [5/5], Step[700/1549], Loss: 2.9016, Perplexity: 18.20\n",
      "Epoch [5/5], Step[800/1549], Loss: 3.1054, Perplexity: 22.32\n",
      "Epoch [5/5], Step[900/1549], Loss: 2.7559, Perplexity: 15.73\n",
      "Epoch [5/5], Step[1000/1549], Loss: 2.8176, Perplexity: 16.74\n",
      "Epoch [5/5], Step[1100/1549], Loss: 2.9933, Perplexity: 19.95\n",
      "Epoch [5/5], Step[1200/1549], Loss: 2.8489, Perplexity: 17.27\n",
      "Epoch [5/5], Step[1300/1549], Loss: 2.7720, Perplexity: 15.99\n",
      "Epoch [5/5], Step[1400/1549], Loss: 2.3712, Perplexity: 10.71\n",
      "Epoch [5/5], Step[1500/1549], Loss: 2.7167, Perplexity: 15.13\n"
     ]
    }
   ],
   "source": [
    "# Train the model\n",
    "for epoch in range(num_epochs):\n",
    "    # Set initial hidden and cell states\n",
    "    states = (torch.zeros(num_layers, batch_size, hidden_size).to(device),\n",
    "              torch.zeros(num_layers, batch_size, hidden_size).to(device))\n",
    "    \n",
    "    for i in range(0, ids.size(1) - seq_length, seq_length):\n",
    "        # Get mini-batch inputs and targets\n",
    "        inputs = ids[:, i:i+seq_length].to(device)\n",
    "        targets = ids[:, (i+1):(i+1)+seq_length].to(device)\n",
    "        \n",
    "        # Forward pass\n",
    "        states = detach(states)\n",
    "        outputs, states = model(inputs, states)\n",
    "        loss = criterion(outputs, targets.reshape(-1))\n",
    "        \n",
    "        # Backward and optimize\n",
    "        optimizer.zero_grad()\n",
    "        loss.backward()\n",
    "        clip_grad_norm_(model.parameters(), 0.5)\n",
    "        optimizer.step()\n",
    "\n",
    "        step = (i+1) // seq_length\n",
    "        if step % 100 == 0:\n",
    "            print ('Epoch [{}/{}], Step[{}/{}], Loss: {:.4f}, Perplexity: {:5.2f}'\n",
    "                   .format(epoch+1, num_epochs, step, num_batches, loss.item(), np.exp(loss.item())))"
   ]
  },
  {
   "cell_type": "code",
   "execution_count": 10,
   "metadata": {
    "colab": {
     "base_uri": "https://localhost:8080/"
    },
    "executionInfo": {
     "elapsed": 1012,
     "status": "ok",
     "timestamp": 1650367679984,
     "user": {
      "displayName": "JaeHyung Lee",
      "userId": "18392552705726331072"
     },
     "user_tz": -540
    },
    "id": "CG4s6q_zeaoH",
    "outputId": "bddb0cad-32d2-4500-e744-6d2dfb02519d"
   },
   "outputs": [
    {
     "name": "stdout",
     "output_type": "stream",
     "text": [
      "Sampled [100/1000] words and save to sample.txt\n",
      "Sampled [200/1000] words and save to sample.txt\n",
      "Sampled [300/1000] words and save to sample.txt\n",
      "Sampled [400/1000] words and save to sample.txt\n",
      "Sampled [500/1000] words and save to sample.txt\n",
      "Sampled [600/1000] words and save to sample.txt\n",
      "Sampled [700/1000] words and save to sample.txt\n",
      "Sampled [800/1000] words and save to sample.txt\n",
      "Sampled [900/1000] words and save to sample.txt\n",
      "Sampled [1000/1000] words and save to sample.txt\n"
     ]
    }
   ],
   "source": [
    "# Test the model\n",
    "with torch.no_grad():\n",
    "    with open('sample.txt', 'w') as f:\n",
    "        # Set intial hidden ane cell states\n",
    "        state = (torch.zeros(num_layers, 1, hidden_size).to(device),\n",
    "                 torch.zeros(num_layers, 1, hidden_size).to(device))\n",
    "\n",
    "        # Select one word id randomly\n",
    "        prob = torch.ones(vocab_size)\n",
    "        input = torch.multinomial(prob, num_samples=1).unsqueeze(1).to(device)\n",
    "\n",
    "        for i in range(num_samples):\n",
    "            # Forward propagate RNN \n",
    "            output, state = model(input, state)\n",
    "\n",
    "            # Sample a word id\n",
    "            prob = output.exp()\n",
    "            word_id = torch.multinomial(prob, num_samples=1).item()\n",
    "\n",
    "            # Fill input with sampled word id for the next time step\n",
    "            input.fill_(word_id)\n",
    "\n",
    "            # File write\n",
    "            word = corpus.dictionary.idx2word[word_id]\n",
    "            word = '\\n' if word == '<eos>' else word + ' '\n",
    "            f.write(word)\n",
    "\n",
    "            if (i+1) % 100 == 0:\n",
    "                print('Sampled [{}/{}] words and save to {}'.format(i+1, num_samples, 'sample.txt'))"
   ]
  },
  {
   "cell_type": "code",
   "execution_count": 11,
   "metadata": {
    "colab": {
     "base_uri": "https://localhost:8080/"
    },
    "executionInfo": {
     "elapsed": 11,
     "status": "ok",
     "timestamp": 1650367679985,
     "user": {
      "displayName": "JaeHyung Lee",
      "userId": "18392552705726331072"
     },
     "user_tz": -540
    },
    "id": "kfd5Z9SrwseB",
    "outputId": "ea38c3e8-2047-4b3a-d0b4-5c244a527067"
   },
   "outputs": [
    {
     "data": {
      "text/plain": [
       "999"
      ]
     },
     "execution_count": 11,
     "metadata": {},
     "output_type": "execute_result"
    }
   ],
   "source": [
    "i"
   ]
  },
  {
   "cell_type": "code",
   "execution_count": 11,
   "metadata": {
    "executionInfo": {
     "elapsed": 6,
     "status": "ok",
     "timestamp": 1650367679985,
     "user": {
      "displayName": "JaeHyung Lee",
      "userId": "18392552705726331072"
     },
     "user_tz": -540
    },
    "id": "UcFEpoaWYgj2"
   },
   "outputs": [],
   "source": []
  }
 ],
 "metadata": {
  "accelerator": "GPU",
  "colab": {
   "collapsed_sections": [],
   "name": "9.Pytorch_Language Modeling Basic.ipynb",
   "provenance": []
  },
  "kernelspec": {
   "display_name": "Python 3",
   "language": "python",
   "name": "python3"
  },
  "language_info": {
   "codemirror_mode": {
    "name": "ipython",
    "version": 3
   },
   "file_extension": ".py",
   "mimetype": "text/x-python",
   "name": "python",
   "nbconvert_exporter": "python",
   "pygments_lexer": "ipython3",
   "version": "3.7.10"
  }
 },
 "nbformat": 4,
 "nbformat_minor": 1
}
