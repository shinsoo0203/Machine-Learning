{
 "cells": [
  {
   "cell_type": "markdown",
   "metadata": {
    "id": "SPCmq7m4AITp"
   },
   "source": [
    "# Multi-class Classification with Softmax"
   ]
  },
  {
   "cell_type": "markdown",
   "metadata": {
    "id": "g42LtORVAOVN"
   },
   "source": [
    "## 1. Softmax Cost function with Pytorch"
   ]
  },
  {
   "cell_type": "markdown",
   "metadata": {
    "id": "oKSAzTOvAfZn"
   },
   "source": [
    "소프트맥스 함수는 다음과 같이 정의 된다.\n",
    "$$\\sigma(\\mathbf{z})_i=\\frac{exp({z_i})}{\\sum_{j=1}^{K}exp({z_j})}$$\n",
    "\n",
    "위의 식은 $K$의 개의 classes가 있을 때 $i$ 주어진 $\\mathbf{z}$ (보통 각 클래스에 해당하는 scores를 element로 갖는 벡터)를 확률로 바꾸기 위해서 softmax 를 사용한다. (scores -> [0, 1] 범위의 값들로 변환)"
   ]
  },
  {
   "cell_type": "code",
   "execution_count": 1,
   "metadata": {
    "executionInfo": {
     "elapsed": 4342,
     "status": "ok",
     "timestamp": 1604464781931,
     "user": {
      "displayName": "Hyunjun Ju",
      "photoUrl": "https://lh3.googleusercontent.com/a-/AOh14GiCzaSSZyO3yoasrnyevyNptZrh7JcyJZBo1rp6eg=s64",
      "userId": "01229565994772394967"
     },
     "user_tz": -540
    },
    "id": "R3Gx-N0fXh8B"
   },
   "outputs": [],
   "source": [
    "import torch\n",
    "import torch.nn.functional as F"
   ]
  },
  {
   "cell_type": "code",
   "execution_count": 2,
   "metadata": {
    "executionInfo": {
     "elapsed": 792,
     "status": "ok",
     "timestamp": 1604464785544,
     "user": {
      "displayName": "Hyunjun Ju",
      "photoUrl": "https://lh3.googleusercontent.com/a-/AOh14GiCzaSSZyO3yoasrnyevyNptZrh7JcyJZBo1rp6eg=s64",
      "userId": "01229565994772394967"
     },
     "user_tz": -540
    },
    "id": "wySlwimeXvbX"
   },
   "outputs": [],
   "source": [
    "z = torch.FloatTensor([1, 2, 3])"
   ]
  },
  {
   "cell_type": "code",
   "execution_count": 3,
   "metadata": {
    "colab": {
     "base_uri": "https://localhost:8080/"
    },
    "executionInfo": {
     "elapsed": 736,
     "status": "ok",
     "timestamp": 1604464804407,
     "user": {
      "displayName": "Hyunjun Ju",
      "photoUrl": "https://lh3.googleusercontent.com/a-/AOh14GiCzaSSZyO3yoasrnyevyNptZrh7JcyJZBo1rp6eg=s64",
      "userId": "01229565994772394967"
     },
     "user_tz": -540
    },
    "id": "cWvmKoAcAT_2",
    "outputId": "596588c6-c228-43df-b181-a56254bdf428"
   },
   "outputs": [
    {
     "name": "stdout",
     "output_type": "stream",
     "text": [
      "tensor([0.0900, 0.2447, 0.6652])\n"
     ]
    }
   ],
   "source": [
    "hypothesis = F.softmax(z, dim=0)\n",
    "print(hypothesis)"
   ]
  },
  {
   "cell_type": "code",
   "execution_count": 4,
   "metadata": {
    "colab": {
     "base_uri": "https://localhost:8080/",
     "height": 35
    },
    "executionInfo": {
     "elapsed": 1161,
     "status": "ok",
     "timestamp": 1602828221292,
     "user": {
      "displayName": "Hyunjun Ju",
      "photoUrl": "https://lh3.googleusercontent.com/a-/AOh14GiCzaSSZyO3yoasrnyevyNptZrh7JcyJZBo1rp6eg=s64",
      "userId": "01229565994772394967"
     },
     "user_tz": -540
    },
    "id": "sc4oytNSAXfQ",
    "outputId": "8baa66c6-29f7-436f-f98b-1ec0c5eb55c4"
   },
   "outputs": [
    {
     "data": {
      "text/plain": [
       "tensor(1.)"
      ]
     },
     "execution_count": 4,
     "metadata": {},
     "output_type": "execute_result"
    }
   ],
   "source": [
    "hypothesis.sum()"
   ]
  },
  {
   "cell_type": "markdown",
   "metadata": {
    "id": "lfvxQacRFp8f"
   },
   "source": [
    "이제 cost function을 구현"
   ]
  },
  {
   "cell_type": "markdown",
   "metadata": {
    "id": "VO1sBuUgIOi5"
   },
   "source": [
    "Cross Entropy\n",
    "\n",
    "일반적으로 Multi-class classification을 할 때는 Cross Entropy를 사용한다.\n",
    "식은 다음과 같다.\n",
    "$$\\mathcal{L}=-\\sum_{j=1}^{K}y_j\\log (p_j)$$\n",
    "여기에서 $K$는 클래스 갯수 이고 $y_j$는 $\\mathbf{y}$라는 one-hot vector label의 $j$번째 element를 뜻 하고 $p_j$는 softmax output의 $j$ 번째 element 값을 뜻 한다.\n",
    "\n",
    "이것을 N개의 전체 데이터에 대해서 확장 시키면 다음과 같다.\n",
    "$$\\mathcal{L}=-\\frac{1}{N}\\sum_{i=1}^{N} \\sum_{j=1}^{K}y_j^{(i)}\\log (p_j^{(i)})$$\n",
    "\n",
    "Binary Classification과의 관계\n",
    "Logistic Regression에서의 cost function을 다시 써 보면 다음과 같다.\n",
    "$$\\mathcal{L}=-\\left(y\\log H(x) + (1-y)\\log (1-H(x)\\right)$$\n",
    "이것을 cross entropy 관점에서 해석 할 수 있다.\n",
    "\n",
    "- $y=y_1$\n",
    "- $1-y=y_2$\n",
    "- $H(x)=p_1$\n",
    "- $1-H(x)=p_2$\n",
    "\n",
    "라고 해석하면 $K=2$인 경우로 볼 수 있다. (Cross Entropy의 Special Case)\n",
    "\n",
    "$$\\mathcal{L}=-\\frac{1}{N}\\sum_{i=1}^{N}\\sum_{j=1}^{2}y_j^{(i)}\\log (p_j^{(i)})= -\\frac{1}{N}\\sum_{i=1}^{N}\\left(y^{(i)}\\log (p^{(i)})+(1-y^{(i)})\\log (1-p^{(i)})\\right)$$"
   ]
  },
  {
   "cell_type": "code",
   "execution_count": 5,
   "metadata": {
    "executionInfo": {
     "elapsed": 834,
     "status": "ok",
     "timestamp": 1604465026691,
     "user": {
      "displayName": "Hyunjun Ju",
      "photoUrl": "https://lh3.googleusercontent.com/a-/AOh14GiCzaSSZyO3yoasrnyevyNptZrh7JcyJZBo1rp6eg=s64",
      "userId": "01229565994772394967"
     },
     "user_tz": -540
    },
    "id": "uBDEnodvAban"
   },
   "outputs": [],
   "source": [
    "z = torch.rand(3, 5, requires_grad=True)"
   ]
  },
  {
   "cell_type": "code",
   "execution_count": 10,
   "metadata": {
    "colab": {
     "base_uri": "https://localhost:8080/"
    },
    "executionInfo": {
     "elapsed": 807,
     "status": "ok",
     "timestamp": 1604465175291,
     "user": {
      "displayName": "Hyunjun Ju",
      "photoUrl": "https://lh3.googleusercontent.com/a-/AOh14GiCzaSSZyO3yoasrnyevyNptZrh7JcyJZBo1rp6eg=s64",
      "userId": "01229565994772394967"
     },
     "user_tz": -540
    },
    "id": "6sUWzooLk5JD",
    "outputId": "cf748556-c0e8-466f-cd81-8ed4e20f1b31"
   },
   "outputs": [
    {
     "name": "stdout",
     "output_type": "stream",
     "text": [
      "tensor([[0.1591, 0.2278, 0.2215, 0.1459, 0.2457],\n",
      "        [0.1610, 0.2088, 0.2699, 0.1309, 0.2294],\n",
      "        [0.2486, 0.1642, 0.1506, 0.2251, 0.2115]], grad_fn=<SoftmaxBackward>)\n"
     ]
    }
   ],
   "source": [
    "F.softmax(z, dim=1)\n",
    "print(hypothesis)"
   ]
  },
  {
   "cell_type": "code",
   "execution_count": 11,
   "metadata": {
    "colab": {
     "base_uri": "https://localhost:8080/"
    },
    "executionInfo": {
     "elapsed": 737,
     "status": "ok",
     "timestamp": 1604465267341,
     "user": {
      "displayName": "Hyunjun Ju",
      "photoUrl": "https://lh3.googleusercontent.com/a-/AOh14GiCzaSSZyO3yoasrnyevyNptZrh7JcyJZBo1rp6eg=s64",
      "userId": "01229565994772394967"
     },
     "user_tz": -540
    },
    "id": "0gR1DXobF37G",
    "outputId": "d2ba0f88-3f61-4e7d-d783-fd5a0a381a45"
   },
   "outputs": [
    {
     "name": "stdout",
     "output_type": "stream",
     "text": [
      "tensor([1, 0, 2])\n"
     ]
    }
   ],
   "source": [
    "# Label 생성\n",
    "y = torch.randint(high=5, size=(3,)).long()\n",
    "print(y)"
   ]
  },
  {
   "cell_type": "code",
   "execution_count": 12,
   "metadata": {
    "colab": {
     "base_uri": "https://localhost:8080/"
    },
    "executionInfo": {
     "elapsed": 826,
     "status": "ok",
     "timestamp": 1604465363549,
     "user": {
      "displayName": "Hyunjun Ju",
      "photoUrl": "https://lh3.googleusercontent.com/a-/AOh14GiCzaSSZyO3yoasrnyevyNptZrh7JcyJZBo1rp6eg=s64",
      "userId": "01229565994772394967"
     },
     "user_tz": -540
    },
    "id": "Tr3XpPyVF7G9",
    "outputId": "a4125b8b-aea3-4718-e7f1-e5a6a70fbcd4"
   },
   "outputs": [
    {
     "data": {
      "text/plain": [
       "tensor([[0., 1., 0., 0., 0.],\n",
       "        [1., 0., 0., 0., 0.],\n",
       "        [0., 0., 1., 0., 0.]])"
      ]
     },
     "execution_count": 12,
     "metadata": {},
     "output_type": "execute_result"
    }
   ],
   "source": [
    "# One-hot encoding\n",
    "y_one_hot = torch.zeros_like(hypothesis)\n",
    "y_one_hot.scatter_(dim=1, index=y.unsqueeze(1), value=1)"
   ]
  },
  {
   "cell_type": "code",
   "execution_count": 13,
   "metadata": {
    "colab": {
     "base_uri": "https://localhost:8080/"
    },
    "executionInfo": {
     "elapsed": 796,
     "status": "ok",
     "timestamp": 1604465388787,
     "user": {
      "displayName": "Hyunjun Ju",
      "photoUrl": "https://lh3.googleusercontent.com/a-/AOh14GiCzaSSZyO3yoasrnyevyNptZrh7JcyJZBo1rp6eg=s64",
      "userId": "01229565994772394967"
     },
     "user_tz": -540
    },
    "id": "x5sEdh0zGtFL",
    "outputId": "06502021-6361-4bd1-d48f-cddb667f2395"
   },
   "outputs": [
    {
     "data": {
      "text/plain": [
       "tensor([[1],\n",
       "        [0],\n",
       "        [2]])"
      ]
     },
     "execution_count": 13,
     "metadata": {},
     "output_type": "execute_result"
    }
   ],
   "source": [
    "y.unsqueeze(1)"
   ]
  },
  {
   "cell_type": "code",
   "execution_count": 14,
   "metadata": {
    "colab": {
     "base_uri": "https://localhost:8080/"
    },
    "executionInfo": {
     "elapsed": 1002,
     "status": "ok",
     "timestamp": 1604465415894,
     "user": {
      "displayName": "Hyunjun Ju",
      "photoUrl": "https://lh3.googleusercontent.com/a-/AOh14GiCzaSSZyO3yoasrnyevyNptZrh7JcyJZBo1rp6eg=s64",
      "userId": "01229565994772394967"
     },
     "user_tz": -540
    },
    "id": "k0O9OuN2HEZH",
    "outputId": "b4ed6a92-204a-40df-f0c6-31082df8febe"
   },
   "outputs": [
    {
     "name": "stdout",
     "output_type": "stream",
     "text": [
      "tensor([[0., 1., 0., 0., 0.],\n",
      "        [1., 0., 0., 0., 0.],\n",
      "        [0., 0., 1., 0., 0.]])\n"
     ]
    }
   ],
   "source": [
    "print(y_one_hot)"
   ]
  },
  {
   "cell_type": "code",
   "execution_count": 15,
   "metadata": {
    "colab": {
     "base_uri": "https://localhost:8080/"
    },
    "executionInfo": {
     "elapsed": 727,
     "status": "ok",
     "timestamp": 1604465452380,
     "user": {
      "displayName": "Hyunjun Ju",
      "photoUrl": "https://lh3.googleusercontent.com/a-/AOh14GiCzaSSZyO3yoasrnyevyNptZrh7JcyJZBo1rp6eg=s64",
      "userId": "01229565994772394967"
     },
     "user_tz": -540
    },
    "id": "vB9Ib-YyHhQ2",
    "outputId": "2c27d249-914e-4186-f65a-db7216657715"
   },
   "outputs": [
    {
     "name": "stdout",
     "output_type": "stream",
     "text": [
      "tensor(1.7330, grad_fn=<MeanBackward0>)\n"
     ]
    }
   ],
   "source": [
    "cost = (y_one_hot * -torch.log(hypothesis)).sum(dim=1).mean()\n",
    "print(cost)"
   ]
  },
  {
   "cell_type": "markdown",
   "metadata": {
    "id": "F7LcPSiAMjIm"
   },
   "source": [
    "다른 함수 활용하기\n",
    "\n",
    "1. F.softmax() + torch.log() = F.log_softmax()"
   ]
  },
  {
   "cell_type": "code",
   "execution_count": 16,
   "metadata": {
    "colab": {
     "base_uri": "https://localhost:8080/"
    },
    "executionInfo": {
     "elapsed": 760,
     "status": "ok",
     "timestamp": 1604465500197,
     "user": {
      "displayName": "Hyunjun Ju",
      "photoUrl": "https://lh3.googleusercontent.com/a-/AOh14GiCzaSSZyO3yoasrnyevyNptZrh7JcyJZBo1rp6eg=s64",
      "userId": "01229565994772394967"
     },
     "user_tz": -540
    },
    "id": "JDR3AY8qMTbJ",
    "outputId": "956eff57-cd1a-4211-ef6e-b41f9d29052a"
   },
   "outputs": [
    {
     "data": {
      "text/plain": [
       "tensor([[-1.8383, -1.4794, -1.5073, -1.9245, -1.4037],\n",
       "        [-1.8265, -1.5665, -1.3098, -2.0331, -1.4721],\n",
       "        [-1.3917, -1.8069, -1.8930, -1.4913, -1.5536]], grad_fn=<LogBackward>)"
      ]
     },
     "execution_count": 16,
     "metadata": {},
     "output_type": "execute_result"
    }
   ],
   "source": [
    "# 처음 구현\n",
    "torch.log(F.softmax(z, dim=1))"
   ]
  },
  {
   "cell_type": "code",
   "execution_count": 17,
   "metadata": {
    "colab": {
     "base_uri": "https://localhost:8080/"
    },
    "executionInfo": {
     "elapsed": 850,
     "status": "ok",
     "timestamp": 1604465526466,
     "user": {
      "displayName": "Hyunjun Ju",
      "photoUrl": "https://lh3.googleusercontent.com/a-/AOh14GiCzaSSZyO3yoasrnyevyNptZrh7JcyJZBo1rp6eg=s64",
      "userId": "01229565994772394967"
     },
     "user_tz": -540
    },
    "id": "pdr8m6ljMxLM",
    "outputId": "d8d71ab8-17db-4383-ae0c-563eb42d97b9"
   },
   "outputs": [
    {
     "data": {
      "text/plain": [
       "tensor([[-1.8383, -1.4794, -1.5073, -1.9245, -1.4037],\n",
       "        [-1.8265, -1.5665, -1.3098, -2.0331, -1.4721],\n",
       "        [-1.3917, -1.8069, -1.8930, -1.4913, -1.5536]],\n",
       "       grad_fn=<LogSoftmaxBackward>)"
      ]
     },
     "execution_count": 17,
     "metadata": {},
     "output_type": "execute_result"
    }
   ],
   "source": [
    "# F.log_softmax() 활용\n",
    "torch.log_softmax(z, dim=1)"
   ]
  },
  {
   "cell_type": "markdown",
   "metadata": {
    "id": "Q7fBYT5jM9Xy"
   },
   "source": [
    "2. F.log_softmax() + F.nll_loss() = F.cross_entropy()"
   ]
  },
  {
   "cell_type": "code",
   "execution_count": 18,
   "metadata": {
    "colab": {
     "base_uri": "https://localhost:8080/"
    },
    "executionInfo": {
     "elapsed": 800,
     "status": "ok",
     "timestamp": 1604465539190,
     "user": {
      "displayName": "Hyunjun Ju",
      "photoUrl": "https://lh3.googleusercontent.com/a-/AOh14GiCzaSSZyO3yoasrnyevyNptZrh7JcyJZBo1rp6eg=s64",
      "userId": "01229565994772394967"
     },
     "user_tz": -540
    },
    "id": "Jyl5ItBCM55N",
    "outputId": "77165612-4512-4361-f907-780e409b983b"
   },
   "outputs": [
    {
     "data": {
      "text/plain": [
       "tensor(1.7330, grad_fn=<MeanBackward0>)"
      ]
     },
     "execution_count": 18,
     "metadata": {},
     "output_type": "execute_result"
    }
   ],
   "source": [
    "# 첫 번째 구현\n",
    "(y_one_hot * -torch.log(F.softmax(z, dim=1))).sum(dim=1).mean()"
   ]
  },
  {
   "cell_type": "code",
   "execution_count": 19,
   "metadata": {
    "colab": {
     "base_uri": "https://localhost:8080/"
    },
    "executionInfo": {
     "elapsed": 797,
     "status": "ok",
     "timestamp": 1604465549179,
     "user": {
      "displayName": "Hyunjun Ju",
      "photoUrl": "https://lh3.googleusercontent.com/a-/AOh14GiCzaSSZyO3yoasrnyevyNptZrh7JcyJZBo1rp6eg=s64",
      "userId": "01229565994772394967"
     },
     "user_tz": -540
    },
    "id": "8YnX55KmNJr-",
    "outputId": "7ef37d4e-83de-4fc6-c100-53aa05573dde"
   },
   "outputs": [
    {
     "data": {
      "text/plain": [
       "tensor(1.7330, grad_fn=<MeanBackward0>)"
      ]
     },
     "execution_count": 19,
     "metadata": {},
     "output_type": "execute_result"
    }
   ],
   "source": [
    "# 두 번쨰 구현\n",
    "(y_one_hot * - F.log_softmax(z, dim=1)).sum(dim=1).mean()"
   ]
  },
  {
   "cell_type": "code",
   "execution_count": 20,
   "metadata": {
    "colab": {
     "base_uri": "https://localhost:8080/"
    },
    "executionInfo": {
     "elapsed": 773,
     "status": "ok",
     "timestamp": 1604465594116,
     "user": {
      "displayName": "Hyunjun Ju",
      "photoUrl": "https://lh3.googleusercontent.com/a-/AOh14GiCzaSSZyO3yoasrnyevyNptZrh7JcyJZBo1rp6eg=s64",
      "userId": "01229565994772394967"
     },
     "user_tz": -540
    },
    "id": "1upvYtIZNL1G",
    "outputId": "521baea4-4c1c-44fe-d59c-91d5045db367"
   },
   "outputs": [
    {
     "data": {
      "text/plain": [
       "tensor(1.7330, grad_fn=<NllLossBackward>)"
      ]
     },
     "execution_count": 20,
     "metadata": {},
     "output_type": "execute_result"
    }
   ],
   "source": [
    "# 세번째 구현\n",
    "# F.nll_loss()를 사용하면 one-hot vector를 넣을 필요 없음.\n",
    "F.nll_loss(F.log_softmax(z, dim=1), y)"
   ]
  },
  {
   "cell_type": "code",
   "execution_count": 21,
   "metadata": {
    "colab": {
     "base_uri": "https://localhost:8080/"
    },
    "executionInfo": {
     "elapsed": 873,
     "status": "ok",
     "timestamp": 1604465613793,
     "user": {
      "displayName": "Hyunjun Ju",
      "photoUrl": "https://lh3.googleusercontent.com/a-/AOh14GiCzaSSZyO3yoasrnyevyNptZrh7JcyJZBo1rp6eg=s64",
      "userId": "01229565994772394967"
     },
     "user_tz": -540
    },
    "id": "Lf1C03LqNO7e",
    "outputId": "505a8e54-4d75-4c59-a175-c0d947b71a11"
   },
   "outputs": [
    {
     "data": {
      "text/plain": [
       "tensor(1.7330, grad_fn=<NllLossBackward>)"
      ]
     },
     "execution_count": 21,
     "metadata": {},
     "output_type": "execute_result"
    }
   ],
   "source": [
    "# 네번째 구현\n",
    "F.cross_entropy(z, y)"
   ]
  },
  {
   "cell_type": "markdown",
   "metadata": {
    "id": "VbHNdS8-OJsP"
   },
   "source": [
    "## 2. Multi-class Classification Implementation"
   ]
  },
  {
   "cell_type": "code",
   "execution_count": 22,
   "metadata": {
    "executionInfo": {
     "elapsed": 918,
     "status": "ok",
     "timestamp": 1604465682757,
     "user": {
      "displayName": "Hyunjun Ju",
      "photoUrl": "https://lh3.googleusercontent.com/a-/AOh14GiCzaSSZyO3yoasrnyevyNptZrh7JcyJZBo1rp6eg=s64",
      "userId": "01229565994772394967"
     },
     "user_tz": -540
    },
    "id": "qjzAcvkdOFro"
   },
   "outputs": [],
   "source": [
    "import torch\n",
    "import torch.nn as nn\n",
    "import torch.nn.functional as F\n",
    "import torch.optim as optim"
   ]
  },
  {
   "cell_type": "code",
   "execution_count": 23,
   "metadata": {
    "executionInfo": {
     "elapsed": 959,
     "status": "ok",
     "timestamp": 1604465693683,
     "user": {
      "displayName": "Hyunjun Ju",
      "photoUrl": "https://lh3.googleusercontent.com/a-/AOh14GiCzaSSZyO3yoasrnyevyNptZrh7JcyJZBo1rp6eg=s64",
      "userId": "01229565994772394967"
     },
     "user_tz": -540
    },
    "id": "7lCEl4k5Q3Lb"
   },
   "outputs": [],
   "source": [
    "x_train = [[1, 2, 1, 1],\n",
    "           [2, 1, 3, 2],\n",
    "           [3, 1, 3, 4],\n",
    "           [4, 1, 5, 5],\n",
    "           [1, 7, 5, 5],\n",
    "           [1, 2, 5, 6],\n",
    "           [1, 6, 6, 6],\n",
    "           [1, 7, 7, 7]]\n",
    "# classes: 0, 1, 2\n",
    "y_train = [2, 2, 2, 1, 1, 1, 0, 0]\n",
    "x_train = torch.FloatTensor(x_train)\n",
    "y_train = torch.LongTensor(y_train)"
   ]
  },
  {
   "cell_type": "code",
   "execution_count": 24,
   "metadata": {
    "colab": {
     "base_uri": "https://localhost:8080/"
    },
    "executionInfo": {
     "elapsed": 982,
     "status": "ok",
     "timestamp": 1604465696998,
     "user": {
      "displayName": "Hyunjun Ju",
      "photoUrl": "https://lh3.googleusercontent.com/a-/AOh14GiCzaSSZyO3yoasrnyevyNptZrh7JcyJZBo1rp6eg=s64",
      "userId": "01229565994772394967"
     },
     "user_tz": -540
    },
    "id": "xjxQorHwQ3lk",
    "outputId": "9cf8259d-8364-4c05-a3a8-a6fe4dfcd4e6"
   },
   "outputs": [
    {
     "name": "stdout",
     "output_type": "stream",
     "text": [
      "torch.Size([8, 4])\n",
      "torch.Size([8])\n"
     ]
    }
   ],
   "source": [
    "print(x_train.shape)\n",
    "print(y_train.shape)"
   ]
  },
  {
   "cell_type": "markdown",
   "metadata": {
    "id": "tbC47Sg9Q-g-"
   },
   "source": [
    "### 2.1. Low-level Implementation"
   ]
  },
  {
   "cell_type": "code",
   "execution_count": 25,
   "metadata": {
    "colab": {
     "base_uri": "https://localhost:8080/"
    },
    "executionInfo": {
     "elapsed": 990,
     "status": "ok",
     "timestamp": 1604465742838,
     "user": {
      "displayName": "Hyunjun Ju",
      "photoUrl": "https://lh3.googleusercontent.com/a-/AOh14GiCzaSSZyO3yoasrnyevyNptZrh7JcyJZBo1rp6eg=s64",
      "userId": "01229565994772394967"
     },
     "user_tz": -540
    },
    "id": "Z6W7kiBhQ53E",
    "outputId": "9dd5fe1c-16a2-4b20-bbf3-8e9b0355783d"
   },
   "outputs": [
    {
     "name": "stdout",
     "output_type": "stream",
     "text": [
      "torch.Size([8, 3])\n"
     ]
    }
   ],
   "source": [
    "# One-hot Encoding\n",
    "y_one_hot = torch.zeros(8, 3)\n",
    "y_one_hot.scatter_(1, y_train.unsqueeze(1), 1)\n",
    "print(y_one_hot.shape)"
   ]
  },
  {
   "cell_type": "code",
   "execution_count": 26,
   "metadata": {
    "executionInfo": {
     "elapsed": 790,
     "status": "ok",
     "timestamp": 1604465789155,
     "user": {
      "displayName": "Hyunjun Ju",
      "photoUrl": "https://lh3.googleusercontent.com/a-/AOh14GiCzaSSZyO3yoasrnyevyNptZrh7JcyJZBo1rp6eg=s64",
      "userId": "01229565994772394967"
     },
     "user_tz": -540
    },
    "id": "keCBs70kRERE"
   },
   "outputs": [],
   "source": [
    "# 모델 초기화\n",
    "W = torch.zeros((4, 3), requires_grad=True)\n",
    "b = torch.zeros(1, requires_grad=True)\n",
    "# optimizer 설정\n",
    "optimizer = optim.SGD([W, b], lr=0.1)"
   ]
  },
  {
   "cell_type": "code",
   "execution_count": 27,
   "metadata": {
    "colab": {
     "base_uri": "https://localhost:8080/"
    },
    "executionInfo": {
     "elapsed": 1804,
     "status": "ok",
     "timestamp": 1604465854544,
     "user": {
      "displayName": "Hyunjun Ju",
      "photoUrl": "https://lh3.googleusercontent.com/a-/AOh14GiCzaSSZyO3yoasrnyevyNptZrh7JcyJZBo1rp6eg=s64",
      "userId": "01229565994772394967"
     },
     "user_tz": -540
    },
    "id": "p0HWIy-dRINs",
    "outputId": "c79005d7-18c7-419f-e703-de6c2aac28f7"
   },
   "outputs": [
    {
     "name": "stdout",
     "output_type": "stream",
     "text": [
      "Epoch    0/1000 Cost: 1.098612\n",
      "Epoch  100/1000 Cost: 0.761050\n",
      "Epoch  200/1000 Cost: 0.689991\n",
      "Epoch  300/1000 Cost: 0.643229\n",
      "Epoch  400/1000 Cost: 0.604117\n",
      "Epoch  500/1000 Cost: 0.568255\n",
      "Epoch  600/1000 Cost: 0.533922\n",
      "Epoch  700/1000 Cost: 0.500291\n",
      "Epoch  800/1000 Cost: 0.466908\n",
      "Epoch  900/1000 Cost: 0.433507\n",
      "Epoch 1000/1000 Cost: 0.399962\n"
     ]
    }
   ],
   "source": [
    "nb_epochs = 1000\n",
    "for epoch in range(nb_epochs + 1):\n",
    "\n",
    "    # 가설\n",
    "    hypothesis = F.softmax(x_train.matmul(W) + b, dim=1) \n",
    "\n",
    "    # 비용 함수\n",
    "    cost = (y_one_hot * -torch.log(hypothesis)).sum(dim=1).mean()\n",
    "\n",
    "    # cost로 H(x) 개선\n",
    "    optimizer.zero_grad()\n",
    "    cost.backward()\n",
    "    optimizer.step()\n",
    "\n",
    "    # 100번마다 로그 출력\n",
    "    if epoch % 100 == 0:\n",
    "        print('Epoch {:4d}/{} Cost: {:.6f}'.format(\n",
    "            epoch, nb_epochs, cost.item()\n",
    "        ))"
   ]
  },
  {
   "cell_type": "markdown",
   "metadata": {
    "id": "JsfvbGe0RTe6"
   },
   "source": [
    "### 2.2 High-level Implementation"
   ]
  },
  {
   "cell_type": "markdown",
   "metadata": {
    "id": "v-5yNzEjRakV"
   },
   "source": [
    "F.cross_entropy() 사용하기"
   ]
  },
  {
   "cell_type": "code",
   "execution_count": 28,
   "metadata": {
    "colab": {
     "base_uri": "https://localhost:8080/"
    },
    "executionInfo": {
     "elapsed": 765,
     "status": "ok",
     "timestamp": 1604465922246,
     "user": {
      "displayName": "Hyunjun Ju",
      "photoUrl": "https://lh3.googleusercontent.com/a-/AOh14GiCzaSSZyO3yoasrnyevyNptZrh7JcyJZBo1rp6eg=s64",
      "userId": "01229565994772394967"
     },
     "user_tz": -540
    },
    "id": "qh23JzHfRK_c",
    "outputId": "1212249d-b47b-4fc5-9be0-8fc8be6473b7"
   },
   "outputs": [
    {
     "name": "stdout",
     "output_type": "stream",
     "text": [
      "Epoch 0/1000 Cost:  1.098612\n",
      "Epoch 100/1000 Cost:  0.761050\n",
      "Epoch 200/1000 Cost:  0.689991\n",
      "Epoch 300/1000 Cost:  0.643229\n",
      "Epoch 400/1000 Cost:  0.604117\n",
      "Epoch 500/1000 Cost:  0.568255\n",
      "Epoch 600/1000 Cost:  0.533922\n",
      "Epoch 700/1000 Cost:  0.500291\n",
      "Epoch 800/1000 Cost:  0.466908\n",
      "Epoch 900/1000 Cost:  0.433507\n",
      "Epoch 1000/1000 Cost:  0.399962\n"
     ]
    }
   ],
   "source": [
    "# 모델 초기화\n",
    "W = torch.zeros((4, 3), requires_grad=True)\n",
    "b = torch.zeros(1, requires_grad=True)\n",
    "# optimizer 설정\n",
    "optimizer = optim.SGD([W, b], lr=0.1)\n",
    "\n",
    "nb_epochs = 1000\n",
    "for epoch in range(nb_epochs + 1):\n",
    "\n",
    "    # Cost 계산\n",
    "    z = x_train.matmul(W) + b\n",
    "    cost = F.cross_entropy(z, y_train)\n",
    "\n",
    "    # cost로 H(x) 개선\n",
    "    optimizer.zero_grad()\n",
    "    cost.backward()\n",
    "    optimizer.step()\n",
    "\n",
    "    # 100번마다 로그 출력\n",
    "    if epoch % 100 == 0:\n",
    "        print(f\"Epoch {epoch}/{nb_epochs} Cost: {cost.item(): .6f}\")"
   ]
  },
  {
   "cell_type": "markdown",
   "metadata": {
    "id": "4HlttvOfRfeQ"
   },
   "source": [
    "### 2.3. Implementation with nn.Module"
   ]
  },
  {
   "cell_type": "code",
   "execution_count": 30,
   "metadata": {
    "executionInfo": {
     "elapsed": 746,
     "status": "ok",
     "timestamp": 1604466015573,
     "user": {
      "displayName": "Hyunjun Ju",
      "photoUrl": "https://lh3.googleusercontent.com/a-/AOh14GiCzaSSZyO3yoasrnyevyNptZrh7JcyJZBo1rp6eg=s64",
      "userId": "01229565994772394967"
     },
     "user_tz": -540
    },
    "id": "K3wjq39RRXx1"
   },
   "outputs": [],
   "source": [
    "# 모델을 선언 및 초기화. 4개의 특성을 가지고 3개의 클래스로 분류. input_dim=4, output_dim=3.\n",
    "model = nn.Linear(4, 3)"
   ]
  },
  {
   "cell_type": "code",
   "execution_count": 31,
   "metadata": {
    "colab": {
     "base_uri": "https://localhost:8080/"
    },
    "executionInfo": {
     "elapsed": 761,
     "status": "ok",
     "timestamp": 1604466016835,
     "user": {
      "displayName": "Hyunjun Ju",
      "photoUrl": "https://lh3.googleusercontent.com/a-/AOh14GiCzaSSZyO3yoasrnyevyNptZrh7JcyJZBo1rp6eg=s64",
      "userId": "01229565994772394967"
     },
     "user_tz": -540
    },
    "id": "bqpBZ0geRj_U",
    "outputId": "ccbb63cc-aba6-43ee-ad67-c73e3273eaf5"
   },
   "outputs": [
    {
     "name": "stdout",
     "output_type": "stream",
     "text": [
      "Epoch 0/1000 Cost:  3.281332\n",
      "Epoch 100/1000 Cost:  0.690425\n",
      "Epoch 200/1000 Cost:  0.607049\n",
      "Epoch 300/1000 Cost:  0.549280\n",
      "Epoch 400/1000 Cost:  0.498466\n",
      "Epoch 500/1000 Cost:  0.450477\n",
      "Epoch 600/1000 Cost:  0.403753\n",
      "Epoch 700/1000 Cost:  0.357587\n",
      "Epoch 800/1000 Cost:  0.311905\n",
      "Epoch 900/1000 Cost:  0.268670\n",
      "Epoch 1000/1000 Cost:  0.241308\n"
     ]
    }
   ],
   "source": [
    "# optimizer 설정\n",
    "optimizer = optim.SGD(model.parameters(), lr=0.1)\n",
    "\n",
    "nb_epochs = 1000\n",
    "for epoch in range(nb_epochs + 1):\n",
    "\n",
    "    # H(x) 계산\n",
    "    prediction = model(x_train)\n",
    "\n",
    "    # cost 계산\n",
    "    cost = F.cross_entropy(prediction, y_train)\n",
    "\n",
    "    # cost로 H(x) 개선\n",
    "    optimizer.zero_grad()\n",
    "    cost.backward()\n",
    "    optimizer.step()\n",
    "\n",
    "    # 20번마다 로그 출력\n",
    "    if epoch % 100 == 0:\n",
    "        print(f\"Epoch {epoch}/{nb_epochs} Cost: {cost.item(): .6f}\")"
   ]
  },
  {
   "cell_type": "markdown",
   "metadata": {
    "id": "rrolhfdxRmk9"
   },
   "source": [
    "### 2.4 Implementatio with class"
   ]
  },
  {
   "cell_type": "markdown",
   "metadata": {
    "id": "RzI2gg5tIA2z"
   },
   "source": [
    "[연습]\n",
    "\n",
    "- Data: x_train, y_train"
   ]
  },
  {
   "cell_type": "code",
   "execution_count": null,
   "metadata": {
    "executionInfo": {
     "elapsed": 763,
     "status": "ok",
     "timestamp": 1604466948908,
     "user": {
      "displayName": "Hyunjun Ju",
      "photoUrl": "https://lh3.googleusercontent.com/a-/AOh14GiCzaSSZyO3yoasrnyevyNptZrh7JcyJZBo1rp6eg=s64",
      "userId": "01229565994772394967"
     },
     "user_tz": -540
    },
    "id": "1Sja8bKjRlf0"
   },
   "outputs": [],
   "source": [
    "class SoftmaxClassifierModel(nn.Module):\n",
    "    def __init__(self):\n",
    "        # Your Code\n",
    "        super().__init__()\n",
    "    \n",
    "    def forward(self, x):\n",
    "        # Your Code"
   ]
  },
  {
   "cell_type": "code",
   "execution_count": null,
   "metadata": {
    "executionInfo": {
     "elapsed": 524,
     "status": "ok",
     "timestamp": 1604466949353,
     "user": {
      "displayName": "Hyunjun Ju",
      "photoUrl": "https://lh3.googleusercontent.com/a-/AOh14GiCzaSSZyO3yoasrnyevyNptZrh7JcyJZBo1rp6eg=s64",
      "userId": "01229565994772394967"
     },
     "user_tz": -540
    },
    "id": "DwuunNv5RvLU"
   },
   "outputs": [],
   "source": [
    "model = SoftmaxClassifierModel()"
   ]
  },
  {
   "cell_type": "code",
   "execution_count": null,
   "metadata": {
    "colab": {
     "base_uri": "https://localhost:8080/"
    },
    "executionInfo": {
     "elapsed": 816,
     "status": "ok",
     "timestamp": 1604467065382,
     "user": {
      "displayName": "Hyunjun Ju",
      "photoUrl": "https://lh3.googleusercontent.com/a-/AOh14GiCzaSSZyO3yoasrnyevyNptZrh7JcyJZBo1rp6eg=s64",
      "userId": "01229565994772394967"
     },
     "user_tz": -540
    },
    "id": "JzL08umwRwx0",
    "outputId": "bf757344-f286-422b-a573-52bf689a124c"
   },
   "outputs": [],
   "source": [
    "# optimizer 설정\n",
    "optimizer = optim.SGD(model.parameters(), lr=0.1)\n",
    "\n",
    "nb_epochs = 1000\n",
    "for epoch in range(nb_epochs + 1):\n",
    "\n",
    "    # H(x) 계산\n",
    "    # Your Code\n",
    "    prediction = model(x_train)\n",
    "\n",
    "    # cost 계산\n",
    "    # Your Code\n",
    "    cost = F.cross_entropy(prediction, y_train)\n",
    "\n",
    "    # cost로 H(x) 개선\n",
    "    optimizer.zero_grad()\n",
    "    cost.backward()\n",
    "    optimizer.step()\n",
    "\n",
    "    # 20번마다 로그 출력\n",
    "    if epoch % 100 == 0:\n",
    "        print('Epoch {:4d}/{} Cost: {:.6f}'.format(\n",
    "            epoch, nb_epochs, cost.item()\n",
    "        ))"
   ]
  },
  {
   "cell_type": "markdown",
   "metadata": {
    "id": "7gZgSlVbU29a"
   },
   "source": [
    "## 3. MNIST Classification with Linear Model"
   ]
  },
  {
   "cell_type": "code",
   "execution_count": 32,
   "metadata": {
    "executionInfo": {
     "elapsed": 773,
     "status": "ok",
     "timestamp": 1604467993678,
     "user": {
      "displayName": "Hyunjun Ju",
      "photoUrl": "https://lh3.googleusercontent.com/a-/AOh14GiCzaSSZyO3yoasrnyevyNptZrh7JcyJZBo1rp6eg=s64",
      "userId": "01229565994772394967"
     },
     "user_tz": -540
    },
    "id": "YmcD8isrU9NU"
   },
   "outputs": [],
   "source": [
    "import torch\n",
    "import torchvision.datasets as dsets\n",
    "import torchvision.transforms as transforms\n",
    "from torch.utils.data import DataLoader\n",
    "import torch.nn as nn\n",
    "import matplotlib.pyplot as plt\n",
    "import random"
   ]
  },
  {
   "cell_type": "code",
   "execution_count": 33,
   "metadata": {
    "executionInfo": {
     "elapsed": 857,
     "status": "ok",
     "timestamp": 1604467995260,
     "user": {
      "displayName": "Hyunjun Ju",
      "photoUrl": "https://lh3.googleusercontent.com/a-/AOh14GiCzaSSZyO3yoasrnyevyNptZrh7JcyJZBo1rp6eg=s64",
      "userId": "01229565994772394967"
     },
     "user_tz": -540
    },
    "id": "xHu_2Y8gU_ZV"
   },
   "outputs": [],
   "source": [
    "device = torch.device(\"cuda\" if torch.cuda.is_available() else \"cpu\")"
   ]
  },
  {
   "cell_type": "code",
   "execution_count": 34,
   "metadata": {
    "colab": {
     "base_uri": "https://localhost:8080/"
    },
    "executionInfo": {
     "elapsed": 860,
     "status": "ok",
     "timestamp": 1604467996859,
     "user": {
      "displayName": "Hyunjun Ju",
      "photoUrl": "https://lh3.googleusercontent.com/a-/AOh14GiCzaSSZyO3yoasrnyevyNptZrh7JcyJZBo1rp6eg=s64",
      "userId": "01229565994772394967"
     },
     "user_tz": -540
    },
    "id": "slicCA2tVKJk",
    "outputId": "f5ac173a-0368-41d9-bb4d-a72432914b58"
   },
   "outputs": [
    {
     "name": "stdout",
     "output_type": "stream",
     "text": [
      "cuda\n"
     ]
    }
   ],
   "source": [
    "print(device)"
   ]
  },
  {
   "cell_type": "code",
   "execution_count": 35,
   "metadata": {
    "executionInfo": {
     "elapsed": 1141,
     "status": "ok",
     "timestamp": 1604468065599,
     "user": {
      "displayName": "Hyunjun Ju",
      "photoUrl": "https://lh3.googleusercontent.com/a-/AOh14GiCzaSSZyO3yoasrnyevyNptZrh7JcyJZBo1rp6eg=s64",
      "userId": "01229565994772394967"
     },
     "user_tz": -540
    },
    "id": "p6YH22bnVU6u"
   },
   "outputs": [],
   "source": [
    "# for reproducibility\n",
    "random.seed(777)\n",
    "torch.manual_seed(777)\n",
    "if device == 'cuda':\n",
    "    torch.cuda.manual_seed_all(777)"
   ]
  },
  {
   "cell_type": "code",
   "execution_count": 36,
   "metadata": {
    "executionInfo": {
     "elapsed": 916,
     "status": "ok",
     "timestamp": 1604468105802,
     "user": {
      "displayName": "Hyunjun Ju",
      "photoUrl": "https://lh3.googleusercontent.com/a-/AOh14GiCzaSSZyO3yoasrnyevyNptZrh7JcyJZBo1rp6eg=s64",
      "userId": "01229565994772394967"
     },
     "user_tz": -540
    },
    "id": "UWGKOGPqVf5k"
   },
   "outputs": [],
   "source": [
    "# hyperparameters\n",
    "training_epochs = 15\n",
    "batch_size = 100"
   ]
  },
  {
   "cell_type": "markdown",
   "metadata": {
    "id": "wBdHDB4iVlGR"
   },
   "source": [
    "MNIST Classifier"
   ]
  },
  {
   "cell_type": "code",
   "execution_count": 39,
   "metadata": {
    "colab": {
     "base_uri": "https://localhost:8080/",
     "height": 382,
     "referenced_widgets": [
      "a6e1f4c7e2df4f358b6dd3c3a45effb4",
      "587b95f1a2db4892aac585c753a16356",
      "6c5266c5d35d49c484603149a60c79df",
      "81cca86a0d2d4cde95b0709fca0f5c67",
      "97de28a986e04e4aac2bd31b74163d91",
      "32a68c6f2d6047d6a6bd191183cfe5f5",
      "2e308e3f6faf4055a15e46df25dcc30b",
      "63a425779df646c1b88a42bc4cfb74a0",
      "ca10c555e1d44d4a9e6e431ac9299350",
      "2697e44feb54451e8f0c5bfa7ba1b2cf",
      "db9045b37b454175928601aaf76aead0",
      "f3c42024ba7f418ca4e3c7d8d0b7e175",
      "910c556152c44983a95f5785c80ca783",
      "3f32564b4e4b4e33915e6f75a647f8ac",
      "b837c77fdf474d4ca90fed09111ddf00",
      "7ca5d030c322418eb1587d825596793f",
      "e78dc993607c4607ab1f777191527e20",
      "a26fc0136e0247528c047edde4b82fc2",
      "1b44b24308c14ce1b38cb59103a59c2f",
      "90514257763947df9e00b3fc344e092f",
      "6f573d70388a42aa87b868b2fd6b1a2c",
      "2b672ec798e9492d9a163f912b6ed4fe",
      "cf9ed367f56d4f1aaed38b215666be5d",
      "3be9b79a7fb54648ba2433aca0874755",
      "995edcd5af0d4ac49d7337ed0d482bb6",
      "136a453dcc694fbab9ac161216162790",
      "52e4f9de21e748a3a3189cc23997f16c",
      "7999db6a12874e9a91fd10e2c04a9c0d",
      "9087afaa3fc941d0a4d542d86bde262f",
      "bb46b04e66e94c60acb4c75905b64e68",
      "24d6446d11a845218eddc3afd15a656b",
      "20d216667e6d43e1a5b1b6002331dfd6"
     ]
    },
    "executionInfo": {
     "elapsed": 1802,
     "status": "ok",
     "timestamp": 1604468206438,
     "user": {
      "displayName": "Hyunjun Ju",
      "photoUrl": "https://lh3.googleusercontent.com/a-/AOh14GiCzaSSZyO3yoasrnyevyNptZrh7JcyJZBo1rp6eg=s64",
      "userId": "01229565994772394967"
     },
     "user_tz": -540
    },
    "id": "hYDYMiCZVhO8",
    "outputId": "1c6bddb7-fdd0-4e21-8b45-fe89a93f9ed6"
   },
   "outputs": [
    {
     "name": "stderr",
     "output_type": "stream",
     "text": [
      "/home/hyunjun/anaconda3/envs/rs/lib/python3.8/site-packages/torchvision/datasets/mnist.py:498: UserWarning: The given NumPy array is not writeable, and PyTorch does not support non-writeable tensors. This means you can write to the underlying (supposedly non-writeable) NumPy array using the tensor. You may want to copy the array to protect its data or make it writeable before converting it to a tensor. This type of warning will be suppressed for the rest of this program. (Triggered internally at  /opt/conda/conda-bld/pytorch_1631630839582/work/torch/csrc/utils/tensor_numpy.cpp:180.)\n",
      "  return torch.from_numpy(parsed.astype(m[2], copy=False)).view(*s)\n"
     ]
    }
   ],
   "source": [
    "# MNIST dataset\n",
    "mnist_train = dsets.MNIST(root='MNIST_data/',\n",
    "                          train=True,\n",
    "                          transform=transforms.ToTensor(),\n",
    "                          download=True)\n",
    "\n",
    "mnist_test = dsets.MNIST(root='MNIST_data/',\n",
    "                         train=False,\n",
    "                         transform=transforms.ToTensor(),\n",
    "                         download=True)"
   ]
  },
  {
   "cell_type": "code",
   "execution_count": 40,
   "metadata": {
    "executionInfo": {
     "elapsed": 821,
     "status": "ok",
     "timestamp": 1604468366344,
     "user": {
      "displayName": "Hyunjun Ju",
      "photoUrl": "https://lh3.googleusercontent.com/a-/AOh14GiCzaSSZyO3yoasrnyevyNptZrh7JcyJZBo1rp6eg=s64",
      "userId": "01229565994772394967"
     },
     "user_tz": -540
    },
    "id": "60t9fFYiVoNU"
   },
   "outputs": [],
   "source": [
    "# dataset loader\n",
    "data_loader = DataLoader(dataset=mnist_train,\n",
    "                         batch_size=batch_size, # 배치 크기는 100\n",
    "                         shuffle=True,\n",
    "                         drop_last=True)"
   ]
  },
  {
   "cell_type": "code",
   "execution_count": 41,
   "metadata": {
    "executionInfo": {
     "elapsed": 10599,
     "status": "ok",
     "timestamp": 1604468429649,
     "user": {
      "displayName": "Hyunjun Ju",
      "photoUrl": "https://lh3.googleusercontent.com/a-/AOh14GiCzaSSZyO3yoasrnyevyNptZrh7JcyJZBo1rp6eg=s64",
      "userId": "01229565994772394967"
     },
     "user_tz": -540
    },
    "id": "SonswzDyVsBM"
   },
   "outputs": [],
   "source": [
    "# MNIST data image of shape 28 * 28 = 784\n",
    "linear = nn.Linear(784, 10, bias=True).to(device)"
   ]
  },
  {
   "cell_type": "code",
   "execution_count": 42,
   "metadata": {
    "executionInfo": {
     "elapsed": 817,
     "status": "ok",
     "timestamp": 1604468525708,
     "user": {
      "displayName": "Hyunjun Ju",
      "photoUrl": "https://lh3.googleusercontent.com/a-/AOh14GiCzaSSZyO3yoasrnyevyNptZrh7JcyJZBo1rp6eg=s64",
      "userId": "01229565994772394967"
     },
     "user_tz": -540
    },
    "id": "D3Xn7RaRV2EE"
   },
   "outputs": [],
   "source": [
    "# Obejective function and Optimizer\n",
    "criterion = nn.CrossEntropyLoss() # 내부적으로 소프트맥스 함수를 포함하고 있음.\n",
    "optimizer = torch.optim.SGD(linear.parameters(), lr=0.1)"
   ]
  },
  {
   "cell_type": "code",
   "execution_count": 43,
   "metadata": {
    "colab": {
     "base_uri": "https://localhost:8080/"
    },
    "executionInfo": {
     "elapsed": 57857,
     "status": "ok",
     "timestamp": 1604469222122,
     "user": {
      "displayName": "Hyunjun Ju",
      "photoUrl": "https://lh3.googleusercontent.com/a-/AOh14GiCzaSSZyO3yoasrnyevyNptZrh7JcyJZBo1rp6eg=s64",
      "userId": "01229565994772394967"
     },
     "user_tz": -540
    },
    "id": "_BKX4IsaV7AM",
    "outputId": "f043bc00-de62-42a8-8e95-a96395906244"
   },
   "outputs": [
    {
     "name": "stdout",
     "output_type": "stream",
     "text": [
      "Epoch: 0001 cost = 0.535146952\n",
      "Epoch: 0002 cost = 0.359576732\n",
      "Epoch: 0003 cost = 0.331263363\n",
      "Epoch: 0004 cost = 0.316403836\n",
      "Epoch: 0005 cost = 0.307106405\n",
      "Epoch: 0006 cost = 0.300456613\n",
      "Epoch: 0007 cost = 0.294932663\n",
      "Epoch: 0008 cost = 0.290955693\n",
      "Epoch: 0009 cost = 0.287074119\n",
      "Epoch: 0010 cost = 0.284515440\n",
      "Epoch: 0011 cost = 0.281915218\n",
      "Epoch: 0012 cost = 0.279527277\n",
      "Epoch: 0013 cost = 0.277636498\n",
      "Epoch: 0014 cost = 0.275875330\n",
      "Epoch: 0015 cost = 0.274422616\n",
      "Learning finished\n"
     ]
    }
   ],
   "source": [
    "for epoch in range(training_epochs): # 앞서 training_epochs의 값은 15로 지정함.\n",
    "    avg_cost = 0\n",
    "    total_batch = len(data_loader)\n",
    "\n",
    "    for X, Y in data_loader:\n",
    "        # 배치 크기가 100이므로 아래의 연산에서 X는 (100, 784)의 텐서가 된다.\n",
    "        X = X.view(-1, 28 * 28).to(device)\n",
    "        # 레이블은 원-핫 인코딩이 된 상태가 아니라 0 ~ 9의 정수.\n",
    "        Y = Y.to(device)\n",
    "\n",
    "        hypothesis = linear(X)\n",
    "        cost = criterion(hypothesis, Y)\n",
    "\n",
    "        optimizer.zero_grad()\n",
    "        cost.backward()\n",
    "        optimizer.step()\n",
    "\n",
    "        avg_cost += cost / total_batch\n",
    "\n",
    "    print('Epoch:', '%04d' % (epoch + 1), 'cost =', '{:.9f}'.format(avg_cost))\n",
    "\n",
    "print('Learning finished')"
   ]
  },
  {
   "cell_type": "markdown",
   "metadata": {
    "id": "9sk8kGWRMpzE"
   },
   "source": [
    "Class를 이용해서 코딩 + Custom DataLoader 사용해 보기"
   ]
  },
  {
   "cell_type": "code",
   "execution_count": null,
   "metadata": {
    "executionInfo": {
     "elapsed": 816,
     "status": "ok",
     "timestamp": 1604470206127,
     "user": {
      "displayName": "Hyunjun Ju",
      "photoUrl": "https://lh3.googleusercontent.com/a-/AOh14GiCzaSSZyO3yoasrnyevyNptZrh7JcyJZBo1rp6eg=s64",
      "userId": "01229565994772394967"
     },
     "user_tz": -540
    },
    "id": "bKBiak5iMupX"
   },
   "outputs": [],
   "source": [
    "import torch\n",
    "from torchvision import transforms\n",
    "\n",
    "# Your Code\n",
    "class MNISTDataset(torch.utils.data.Dataset):\n",
    "    def __init__(self, x, y):\n",
    "        # Your Code\n",
    "    \n",
    "    def __len__(self):\n",
    "        # Your Code\n",
    "    \n",
    "    def __getitem__(self, idx):\n",
    "        # Your Code"
   ]
  },
  {
   "cell_type": "code",
   "execution_count": null,
   "metadata": {
    "executionInfo": {
     "elapsed": 788,
     "status": "ok",
     "timestamp": 1604470236782,
     "user": {
      "displayName": "Hyunjun Ju",
      "photoUrl": "https://lh3.googleusercontent.com/a-/AOh14GiCzaSSZyO3yoasrnyevyNptZrh7JcyJZBo1rp6eg=s64",
      "userId": "01229565994772394967"
     },
     "user_tz": -540
    },
    "id": "NcIbZKICODrk"
   },
   "outputs": [],
   "source": [
    "x_train = mnist_train.data / 256.\n",
    "y_train = mnist_train.targets"
   ]
  },
  {
   "cell_type": "code",
   "execution_count": null,
   "metadata": {
    "executionInfo": {
     "elapsed": 900,
     "status": "ok",
     "timestamp": 1604470238296,
     "user": {
      "displayName": "Hyunjun Ju",
      "photoUrl": "https://lh3.googleusercontent.com/a-/AOh14GiCzaSSZyO3yoasrnyevyNptZrh7JcyJZBo1rp6eg=s64",
      "userId": "01229565994772394967"
     },
     "user_tz": -540
    },
    "id": "fdhz3vzGOcBt"
   },
   "outputs": [],
   "source": [
    "# Your Code\n",
    "mnist_train_data = \n",
    "data_loader = "
   ]
  },
  {
   "cell_type": "code",
   "execution_count": null,
   "metadata": {
    "executionInfo": {
     "elapsed": 791,
     "status": "ok",
     "timestamp": 1604470310426,
     "user": {
      "displayName": "Hyunjun Ju",
      "photoUrl": "https://lh3.googleusercontent.com/a-/AOh14GiCzaSSZyO3yoasrnyevyNptZrh7JcyJZBo1rp6eg=s64",
      "userId": "01229565994772394967"
     },
     "user_tz": -540
    },
    "id": "JAuccBUgPIzS"
   },
   "outputs": [],
   "source": [
    "# Your Code\n",
    "class MultiClassLinear(nn.Module):\n",
    "    def __init__(self):\n",
    "        super().__init__()\n",
    "    \n",
    "    def forward(self, x):\n",
    "        # Your Code"
   ]
  },
  {
   "cell_type": "code",
   "execution_count": null,
   "metadata": {
    "executionInfo": {
     "elapsed": 787,
     "status": "ok",
     "timestamp": 1604470323061,
     "user": {
      "displayName": "Hyunjun Ju",
      "photoUrl": "https://lh3.googleusercontent.com/a-/AOh14GiCzaSSZyO3yoasrnyevyNptZrh7JcyJZBo1rp6eg=s64",
      "userId": "01229565994772394967"
     },
     "user_tz": -540
    },
    "id": "Ioe2aqA0PZHM"
   },
   "outputs": [],
   "source": [
    "model = MultiClassLinear().to(device)"
   ]
  },
  {
   "cell_type": "code",
   "execution_count": null,
   "metadata": {
    "executionInfo": {
     "elapsed": 941,
     "status": "ok",
     "timestamp": 1604470470016,
     "user": {
      "displayName": "Hyunjun Ju",
      "photoUrl": "https://lh3.googleusercontent.com/a-/AOh14GiCzaSSZyO3yoasrnyevyNptZrh7JcyJZBo1rp6eg=s64",
      "userId": "01229565994772394967"
     },
     "user_tz": -540
    },
    "id": "Yo94xrd-Pc-x"
   },
   "outputs": [],
   "source": [
    "criterion = nn.CrossEntropyLoss()\n",
    "optimizer = torch.optim.SGD(model.parameters(), lr=0.1, weight_decay=0.01)"
   ]
  },
  {
   "cell_type": "code",
   "execution_count": null,
   "metadata": {
    "colab": {
     "base_uri": "https://localhost:8080/",
     "height": 613
    },
    "executionInfo": {
     "elapsed": 10730,
     "status": "error",
     "timestamp": 1604470480185,
     "user": {
      "displayName": "Hyunjun Ju",
      "photoUrl": "https://lh3.googleusercontent.com/a-/AOh14GiCzaSSZyO3yoasrnyevyNptZrh7JcyJZBo1rp6eg=s64",
      "userId": "01229565994772394967"
     },
     "user_tz": -540
    },
    "id": "dvzK65bbP3wb",
    "outputId": "c3aea3be-c359-4859-dfe5-a79174348352"
   },
   "outputs": [],
   "source": [
    "for epoch in range(training_epochs):\n",
    "    avg_cost = 0\n",
    "    total_batch = len(data_loader)\n",
    "    \n",
    "    for x, y in data_loader:\n",
    "        x = x.view(-1, 28 * 28).to(device)\n",
    "        y = y.to(device)\n",
    "        hypothesis = model(x)\n",
    "        cost = criterion(hypothesis, y)\n",
    "        optimizer.zero_grad()\n",
    "        cost.backward()\n",
    "        optimizer.step()\n",
    "\n",
    "        avg_cost += cost / total_batch\n",
    "    print(f\"Epoch {epoch+1} Cost: {avg_cost:.9f}\")\n",
    "print('Learning finished')"
   ]
  },
  {
   "cell_type": "code",
   "execution_count": null,
   "metadata": {
    "id": "jnZWOhrTQEQJ"
   },
   "outputs": [],
   "source": []
  }
 ],
 "metadata": {
  "accelerator": "GPU",
  "colab": {
   "authorship_tag": "ABX9TyMiUzgYhSzu2W5d6e8RDJ7R",
   "collapsed_sections": [],
   "name": "4.Pytorch_Multiclass_Classification (수업용).ipynb",
   "provenance": [
    {
     "file_id": "14VidN-dK_e4grAkdA96vmOPK8ITOVdfq",
     "timestamp": 1603686458159
    }
   ]
  },
  "kernelspec": {
   "display_name": "Python 3 (ipykernel)",
   "language": "python",
   "name": "python3"
  },
  "language_info": {
   "codemirror_mode": {
    "name": "ipython",
    "version": 3
   },
   "file_extension": ".py",
   "mimetype": "text/x-python",
   "name": "python",
   "nbconvert_exporter": "python",
   "pygments_lexer": "ipython3",
   "version": "3.8.12"
  },
  "widgets": {
   "application/vnd.jupyter.widget-state+json": {
    "136a453dcc694fbab9ac161216162790": {
     "model_module": "@jupyter-widgets/base",
     "model_name": "LayoutModel",
     "state": {
      "_model_module": "@jupyter-widgets/base",
      "_model_module_version": "1.2.0",
      "_model_name": "LayoutModel",
      "_view_count": null,
      "_view_module": "@jupyter-widgets/base",
      "_view_module_version": "1.2.0",
      "_view_name": "LayoutView",
      "align_content": null,
      "align_items": null,
      "align_self": null,
      "border": null,
      "bottom": null,
      "display": null,
      "flex": null,
      "flex_flow": null,
      "grid_area": null,
      "grid_auto_columns": null,
      "grid_auto_flow": null,
      "grid_auto_rows": null,
      "grid_column": null,
      "grid_gap": null,
      "grid_row": null,
      "grid_template_areas": null,
      "grid_template_columns": null,
      "grid_template_rows": null,
      "height": null,
      "justify_content": null,
      "justify_items": null,
      "left": null,
      "margin": null,
      "max_height": null,
      "max_width": null,
      "min_height": null,
      "min_width": null,
      "object_fit": null,
      "object_position": null,
      "order": null,
      "overflow": null,
      "overflow_x": null,
      "overflow_y": null,
      "padding": null,
      "right": null,
      "top": null,
      "visibility": null,
      "width": null
     }
    },
    "1b44b24308c14ce1b38cb59103a59c2f": {
     "model_module": "@jupyter-widgets/controls",
     "model_name": "FloatProgressModel",
     "state": {
      "_dom_classes": [],
      "_model_module": "@jupyter-widgets/controls",
      "_model_module_version": "1.5.0",
      "_model_name": "FloatProgressModel",
      "_view_count": null,
      "_view_module": "@jupyter-widgets/controls",
      "_view_module_version": "1.5.0",
      "_view_name": "ProgressView",
      "bar_style": "info",
      "description": "",
      "description_tooltip": null,
      "layout": "IPY_MODEL_2b672ec798e9492d9a163f912b6ed4fe",
      "max": 1,
      "min": 0,
      "orientation": "horizontal",
      "style": "IPY_MODEL_6f573d70388a42aa87b868b2fd6b1a2c",
      "value": 1
     }
    },
    "20d216667e6d43e1a5b1b6002331dfd6": {
     "model_module": "@jupyter-widgets/base",
     "model_name": "LayoutModel",
     "state": {
      "_model_module": "@jupyter-widgets/base",
      "_model_module_version": "1.2.0",
      "_model_name": "LayoutModel",
      "_view_count": null,
      "_view_module": "@jupyter-widgets/base",
      "_view_module_version": "1.2.0",
      "_view_name": "LayoutView",
      "align_content": null,
      "align_items": null,
      "align_self": null,
      "border": null,
      "bottom": null,
      "display": null,
      "flex": null,
      "flex_flow": null,
      "grid_area": null,
      "grid_auto_columns": null,
      "grid_auto_flow": null,
      "grid_auto_rows": null,
      "grid_column": null,
      "grid_gap": null,
      "grid_row": null,
      "grid_template_areas": null,
      "grid_template_columns": null,
      "grid_template_rows": null,
      "height": null,
      "justify_content": null,
      "justify_items": null,
      "left": null,
      "margin": null,
      "max_height": null,
      "max_width": null,
      "min_height": null,
      "min_width": null,
      "object_fit": null,
      "object_position": null,
      "order": null,
      "overflow": null,
      "overflow_x": null,
      "overflow_y": null,
      "padding": null,
      "right": null,
      "top": null,
      "visibility": null,
      "width": null
     }
    },
    "24d6446d11a845218eddc3afd15a656b": {
     "model_module": "@jupyter-widgets/controls",
     "model_name": "DescriptionStyleModel",
     "state": {
      "_model_module": "@jupyter-widgets/controls",
      "_model_module_version": "1.5.0",
      "_model_name": "DescriptionStyleModel",
      "_view_count": null,
      "_view_module": "@jupyter-widgets/base",
      "_view_module_version": "1.2.0",
      "_view_name": "StyleView",
      "description_width": ""
     }
    },
    "2697e44feb54451e8f0c5bfa7ba1b2cf": {
     "model_module": "@jupyter-widgets/base",
     "model_name": "LayoutModel",
     "state": {
      "_model_module": "@jupyter-widgets/base",
      "_model_module_version": "1.2.0",
      "_model_name": "LayoutModel",
      "_view_count": null,
      "_view_module": "@jupyter-widgets/base",
      "_view_module_version": "1.2.0",
      "_view_name": "LayoutView",
      "align_content": null,
      "align_items": null,
      "align_self": null,
      "border": null,
      "bottom": null,
      "display": null,
      "flex": null,
      "flex_flow": null,
      "grid_area": null,
      "grid_auto_columns": null,
      "grid_auto_flow": null,
      "grid_auto_rows": null,
      "grid_column": null,
      "grid_gap": null,
      "grid_row": null,
      "grid_template_areas": null,
      "grid_template_columns": null,
      "grid_template_rows": null,
      "height": null,
      "justify_content": null,
      "justify_items": null,
      "left": null,
      "margin": null,
      "max_height": null,
      "max_width": null,
      "min_height": null,
      "min_width": null,
      "object_fit": null,
      "object_position": null,
      "order": null,
      "overflow": null,
      "overflow_x": null,
      "overflow_y": null,
      "padding": null,
      "right": null,
      "top": null,
      "visibility": null,
      "width": null
     }
    },
    "2b672ec798e9492d9a163f912b6ed4fe": {
     "model_module": "@jupyter-widgets/base",
     "model_name": "LayoutModel",
     "state": {
      "_model_module": "@jupyter-widgets/base",
      "_model_module_version": "1.2.0",
      "_model_name": "LayoutModel",
      "_view_count": null,
      "_view_module": "@jupyter-widgets/base",
      "_view_module_version": "1.2.0",
      "_view_name": "LayoutView",
      "align_content": null,
      "align_items": null,
      "align_self": null,
      "border": null,
      "bottom": null,
      "display": null,
      "flex": null,
      "flex_flow": null,
      "grid_area": null,
      "grid_auto_columns": null,
      "grid_auto_flow": null,
      "grid_auto_rows": null,
      "grid_column": null,
      "grid_gap": null,
      "grid_row": null,
      "grid_template_areas": null,
      "grid_template_columns": null,
      "grid_template_rows": null,
      "height": null,
      "justify_content": null,
      "justify_items": null,
      "left": null,
      "margin": null,
      "max_height": null,
      "max_width": null,
      "min_height": null,
      "min_width": null,
      "object_fit": null,
      "object_position": null,
      "order": null,
      "overflow": null,
      "overflow_x": null,
      "overflow_y": null,
      "padding": null,
      "right": null,
      "top": null,
      "visibility": null,
      "width": null
     }
    },
    "2e308e3f6faf4055a15e46df25dcc30b": {
     "model_module": "@jupyter-widgets/controls",
     "model_name": "DescriptionStyleModel",
     "state": {
      "_model_module": "@jupyter-widgets/controls",
      "_model_module_version": "1.5.0",
      "_model_name": "DescriptionStyleModel",
      "_view_count": null,
      "_view_module": "@jupyter-widgets/base",
      "_view_module_version": "1.2.0",
      "_view_name": "StyleView",
      "description_width": ""
     }
    },
    "32a68c6f2d6047d6a6bd191183cfe5f5": {
     "model_module": "@jupyter-widgets/base",
     "model_name": "LayoutModel",
     "state": {
      "_model_module": "@jupyter-widgets/base",
      "_model_module_version": "1.2.0",
      "_model_name": "LayoutModel",
      "_view_count": null,
      "_view_module": "@jupyter-widgets/base",
      "_view_module_version": "1.2.0",
      "_view_name": "LayoutView",
      "align_content": null,
      "align_items": null,
      "align_self": null,
      "border": null,
      "bottom": null,
      "display": null,
      "flex": null,
      "flex_flow": null,
      "grid_area": null,
      "grid_auto_columns": null,
      "grid_auto_flow": null,
      "grid_auto_rows": null,
      "grid_column": null,
      "grid_gap": null,
      "grid_row": null,
      "grid_template_areas": null,
      "grid_template_columns": null,
      "grid_template_rows": null,
      "height": null,
      "justify_content": null,
      "justify_items": null,
      "left": null,
      "margin": null,
      "max_height": null,
      "max_width": null,
      "min_height": null,
      "min_width": null,
      "object_fit": null,
      "object_position": null,
      "order": null,
      "overflow": null,
      "overflow_x": null,
      "overflow_y": null,
      "padding": null,
      "right": null,
      "top": null,
      "visibility": null,
      "width": null
     }
    },
    "3be9b79a7fb54648ba2433aca0874755": {
     "model_module": "@jupyter-widgets/base",
     "model_name": "LayoutModel",
     "state": {
      "_model_module": "@jupyter-widgets/base",
      "_model_module_version": "1.2.0",
      "_model_name": "LayoutModel",
      "_view_count": null,
      "_view_module": "@jupyter-widgets/base",
      "_view_module_version": "1.2.0",
      "_view_name": "LayoutView",
      "align_content": null,
      "align_items": null,
      "align_self": null,
      "border": null,
      "bottom": null,
      "display": null,
      "flex": null,
      "flex_flow": null,
      "grid_area": null,
      "grid_auto_columns": null,
      "grid_auto_flow": null,
      "grid_auto_rows": null,
      "grid_column": null,
      "grid_gap": null,
      "grid_row": null,
      "grid_template_areas": null,
      "grid_template_columns": null,
      "grid_template_rows": null,
      "height": null,
      "justify_content": null,
      "justify_items": null,
      "left": null,
      "margin": null,
      "max_height": null,
      "max_width": null,
      "min_height": null,
      "min_width": null,
      "object_fit": null,
      "object_position": null,
      "order": null,
      "overflow": null,
      "overflow_x": null,
      "overflow_y": null,
      "padding": null,
      "right": null,
      "top": null,
      "visibility": null,
      "width": null
     }
    },
    "3f32564b4e4b4e33915e6f75a647f8ac": {
     "model_module": "@jupyter-widgets/base",
     "model_name": "LayoutModel",
     "state": {
      "_model_module": "@jupyter-widgets/base",
      "_model_module_version": "1.2.0",
      "_model_name": "LayoutModel",
      "_view_count": null,
      "_view_module": "@jupyter-widgets/base",
      "_view_module_version": "1.2.0",
      "_view_name": "LayoutView",
      "align_content": null,
      "align_items": null,
      "align_self": null,
      "border": null,
      "bottom": null,
      "display": null,
      "flex": null,
      "flex_flow": null,
      "grid_area": null,
      "grid_auto_columns": null,
      "grid_auto_flow": null,
      "grid_auto_rows": null,
      "grid_column": null,
      "grid_gap": null,
      "grid_row": null,
      "grid_template_areas": null,
      "grid_template_columns": null,
      "grid_template_rows": null,
      "height": null,
      "justify_content": null,
      "justify_items": null,
      "left": null,
      "margin": null,
      "max_height": null,
      "max_width": null,
      "min_height": null,
      "min_width": null,
      "object_fit": null,
      "object_position": null,
      "order": null,
      "overflow": null,
      "overflow_x": null,
      "overflow_y": null,
      "padding": null,
      "right": null,
      "top": null,
      "visibility": null,
      "width": null
     }
    },
    "52e4f9de21e748a3a3189cc23997f16c": {
     "model_module": "@jupyter-widgets/controls",
     "model_name": "FloatProgressModel",
     "state": {
      "_dom_classes": [],
      "_model_module": "@jupyter-widgets/controls",
      "_model_module_version": "1.5.0",
      "_model_name": "FloatProgressModel",
      "_view_count": null,
      "_view_module": "@jupyter-widgets/controls",
      "_view_module_version": "1.5.0",
      "_view_name": "ProgressView",
      "bar_style": "info",
      "description": "",
      "description_tooltip": null,
      "layout": "IPY_MODEL_bb46b04e66e94c60acb4c75905b64e68",
      "max": 1,
      "min": 0,
      "orientation": "horizontal",
      "style": "IPY_MODEL_9087afaa3fc941d0a4d542d86bde262f",
      "value": 0
     }
    },
    "587b95f1a2db4892aac585c753a16356": {
     "model_module": "@jupyter-widgets/base",
     "model_name": "LayoutModel",
     "state": {
      "_model_module": "@jupyter-widgets/base",
      "_model_module_version": "1.2.0",
      "_model_name": "LayoutModel",
      "_view_count": null,
      "_view_module": "@jupyter-widgets/base",
      "_view_module_version": "1.2.0",
      "_view_name": "LayoutView",
      "align_content": null,
      "align_items": null,
      "align_self": null,
      "border": null,
      "bottom": null,
      "display": null,
      "flex": null,
      "flex_flow": null,
      "grid_area": null,
      "grid_auto_columns": null,
      "grid_auto_flow": null,
      "grid_auto_rows": null,
      "grid_column": null,
      "grid_gap": null,
      "grid_row": null,
      "grid_template_areas": null,
      "grid_template_columns": null,
      "grid_template_rows": null,
      "height": null,
      "justify_content": null,
      "justify_items": null,
      "left": null,
      "margin": null,
      "max_height": null,
      "max_width": null,
      "min_height": null,
      "min_width": null,
      "object_fit": null,
      "object_position": null,
      "order": null,
      "overflow": null,
      "overflow_x": null,
      "overflow_y": null,
      "padding": null,
      "right": null,
      "top": null,
      "visibility": null,
      "width": null
     }
    },
    "63a425779df646c1b88a42bc4cfb74a0": {
     "model_module": "@jupyter-widgets/base",
     "model_name": "LayoutModel",
     "state": {
      "_model_module": "@jupyter-widgets/base",
      "_model_module_version": "1.2.0",
      "_model_name": "LayoutModel",
      "_view_count": null,
      "_view_module": "@jupyter-widgets/base",
      "_view_module_version": "1.2.0",
      "_view_name": "LayoutView",
      "align_content": null,
      "align_items": null,
      "align_self": null,
      "border": null,
      "bottom": null,
      "display": null,
      "flex": null,
      "flex_flow": null,
      "grid_area": null,
      "grid_auto_columns": null,
      "grid_auto_flow": null,
      "grid_auto_rows": null,
      "grid_column": null,
      "grid_gap": null,
      "grid_row": null,
      "grid_template_areas": null,
      "grid_template_columns": null,
      "grid_template_rows": null,
      "height": null,
      "justify_content": null,
      "justify_items": null,
      "left": null,
      "margin": null,
      "max_height": null,
      "max_width": null,
      "min_height": null,
      "min_width": null,
      "object_fit": null,
      "object_position": null,
      "order": null,
      "overflow": null,
      "overflow_x": null,
      "overflow_y": null,
      "padding": null,
      "right": null,
      "top": null,
      "visibility": null,
      "width": null
     }
    },
    "6c5266c5d35d49c484603149a60c79df": {
     "model_module": "@jupyter-widgets/controls",
     "model_name": "FloatProgressModel",
     "state": {
      "_dom_classes": [],
      "_model_module": "@jupyter-widgets/controls",
      "_model_module_version": "1.5.0",
      "_model_name": "FloatProgressModel",
      "_view_count": null,
      "_view_module": "@jupyter-widgets/controls",
      "_view_module_version": "1.5.0",
      "_view_name": "ProgressView",
      "bar_style": "info",
      "description": "",
      "description_tooltip": null,
      "layout": "IPY_MODEL_32a68c6f2d6047d6a6bd191183cfe5f5",
      "max": 1,
      "min": 0,
      "orientation": "horizontal",
      "style": "IPY_MODEL_97de28a986e04e4aac2bd31b74163d91",
      "value": 1
     }
    },
    "6f573d70388a42aa87b868b2fd6b1a2c": {
     "model_module": "@jupyter-widgets/controls",
     "model_name": "ProgressStyleModel",
     "state": {
      "_model_module": "@jupyter-widgets/controls",
      "_model_module_version": "1.5.0",
      "_model_name": "ProgressStyleModel",
      "_view_count": null,
      "_view_module": "@jupyter-widgets/base",
      "_view_module_version": "1.2.0",
      "_view_name": "StyleView",
      "bar_color": null,
      "description_width": "initial"
     }
    },
    "7999db6a12874e9a91fd10e2c04a9c0d": {
     "model_module": "@jupyter-widgets/controls",
     "model_name": "HTMLModel",
     "state": {
      "_dom_classes": [],
      "_model_module": "@jupyter-widgets/controls",
      "_model_module_version": "1.5.0",
      "_model_name": "HTMLModel",
      "_view_count": null,
      "_view_module": "@jupyter-widgets/controls",
      "_view_module_version": "1.5.0",
      "_view_name": "HTMLView",
      "description": "",
      "description_tooltip": null,
      "layout": "IPY_MODEL_20d216667e6d43e1a5b1b6002331dfd6",
      "placeholder": "​",
      "style": "IPY_MODEL_24d6446d11a845218eddc3afd15a656b",
      "value": " 0/? [00:00&lt;?, ?it/s]"
     }
    },
    "7ca5d030c322418eb1587d825596793f": {
     "model_module": "@jupyter-widgets/base",
     "model_name": "LayoutModel",
     "state": {
      "_model_module": "@jupyter-widgets/base",
      "_model_module_version": "1.2.0",
      "_model_name": "LayoutModel",
      "_view_count": null,
      "_view_module": "@jupyter-widgets/base",
      "_view_module_version": "1.2.0",
      "_view_name": "LayoutView",
      "align_content": null,
      "align_items": null,
      "align_self": null,
      "border": null,
      "bottom": null,
      "display": null,
      "flex": null,
      "flex_flow": null,
      "grid_area": null,
      "grid_auto_columns": null,
      "grid_auto_flow": null,
      "grid_auto_rows": null,
      "grid_column": null,
      "grid_gap": null,
      "grid_row": null,
      "grid_template_areas": null,
      "grid_template_columns": null,
      "grid_template_rows": null,
      "height": null,
      "justify_content": null,
      "justify_items": null,
      "left": null,
      "margin": null,
      "max_height": null,
      "max_width": null,
      "min_height": null,
      "min_width": null,
      "object_fit": null,
      "object_position": null,
      "order": null,
      "overflow": null,
      "overflow_x": null,
      "overflow_y": null,
      "padding": null,
      "right": null,
      "top": null,
      "visibility": null,
      "width": null
     }
    },
    "81cca86a0d2d4cde95b0709fca0f5c67": {
     "model_module": "@jupyter-widgets/controls",
     "model_name": "HTMLModel",
     "state": {
      "_dom_classes": [],
      "_model_module": "@jupyter-widgets/controls",
      "_model_module_version": "1.5.0",
      "_model_name": "HTMLModel",
      "_view_count": null,
      "_view_module": "@jupyter-widgets/controls",
      "_view_module_version": "1.5.0",
      "_view_name": "HTMLView",
      "description": "",
      "description_tooltip": null,
      "layout": "IPY_MODEL_63a425779df646c1b88a42bc4cfb74a0",
      "placeholder": "​",
      "style": "IPY_MODEL_2e308e3f6faf4055a15e46df25dcc30b",
      "value": " 9920512/? [00:19&lt;00:00, 167793.27it/s]"
     }
    },
    "90514257763947df9e00b3fc344e092f": {
     "model_module": "@jupyter-widgets/controls",
     "model_name": "HTMLModel",
     "state": {
      "_dom_classes": [],
      "_model_module": "@jupyter-widgets/controls",
      "_model_module_version": "1.5.0",
      "_model_name": "HTMLModel",
      "_view_count": null,
      "_view_module": "@jupyter-widgets/controls",
      "_view_module_version": "1.5.0",
      "_view_name": "HTMLView",
      "description": "",
      "description_tooltip": null,
      "layout": "IPY_MODEL_3be9b79a7fb54648ba2433aca0874755",
      "placeholder": "​",
      "style": "IPY_MODEL_cf9ed367f56d4f1aaed38b215666be5d",
      "value": " 1654784/? [00:19&lt;00:00, 129563.81it/s]"
     }
    },
    "9087afaa3fc941d0a4d542d86bde262f": {
     "model_module": "@jupyter-widgets/controls",
     "model_name": "ProgressStyleModel",
     "state": {
      "_model_module": "@jupyter-widgets/controls",
      "_model_module_version": "1.5.0",
      "_model_name": "ProgressStyleModel",
      "_view_count": null,
      "_view_module": "@jupyter-widgets/base",
      "_view_module_version": "1.2.0",
      "_view_name": "StyleView",
      "bar_color": null,
      "description_width": "initial"
     }
    },
    "910c556152c44983a95f5785c80ca783": {
     "model_module": "@jupyter-widgets/controls",
     "model_name": "ProgressStyleModel",
     "state": {
      "_model_module": "@jupyter-widgets/controls",
      "_model_module_version": "1.5.0",
      "_model_name": "ProgressStyleModel",
      "_view_count": null,
      "_view_module": "@jupyter-widgets/base",
      "_view_module_version": "1.2.0",
      "_view_name": "StyleView",
      "bar_color": null,
      "description_width": "initial"
     }
    },
    "97de28a986e04e4aac2bd31b74163d91": {
     "model_module": "@jupyter-widgets/controls",
     "model_name": "ProgressStyleModel",
     "state": {
      "_model_module": "@jupyter-widgets/controls",
      "_model_module_version": "1.5.0",
      "_model_name": "ProgressStyleModel",
      "_view_count": null,
      "_view_module": "@jupyter-widgets/base",
      "_view_module_version": "1.2.0",
      "_view_name": "StyleView",
      "bar_color": null,
      "description_width": "initial"
     }
    },
    "995edcd5af0d4ac49d7337ed0d482bb6": {
     "model_module": "@jupyter-widgets/controls",
     "model_name": "HBoxModel",
     "state": {
      "_dom_classes": [],
      "_model_module": "@jupyter-widgets/controls",
      "_model_module_version": "1.5.0",
      "_model_name": "HBoxModel",
      "_view_count": null,
      "_view_module": "@jupyter-widgets/controls",
      "_view_module_version": "1.5.0",
      "_view_name": "HBoxView",
      "box_style": "",
      "children": [
       "IPY_MODEL_52e4f9de21e748a3a3189cc23997f16c",
       "IPY_MODEL_7999db6a12874e9a91fd10e2c04a9c0d"
      ],
      "layout": "IPY_MODEL_136a453dcc694fbab9ac161216162790"
     }
    },
    "a26fc0136e0247528c047edde4b82fc2": {
     "model_module": "@jupyter-widgets/base",
     "model_name": "LayoutModel",
     "state": {
      "_model_module": "@jupyter-widgets/base",
      "_model_module_version": "1.2.0",
      "_model_name": "LayoutModel",
      "_view_count": null,
      "_view_module": "@jupyter-widgets/base",
      "_view_module_version": "1.2.0",
      "_view_name": "LayoutView",
      "align_content": null,
      "align_items": null,
      "align_self": null,
      "border": null,
      "bottom": null,
      "display": null,
      "flex": null,
      "flex_flow": null,
      "grid_area": null,
      "grid_auto_columns": null,
      "grid_auto_flow": null,
      "grid_auto_rows": null,
      "grid_column": null,
      "grid_gap": null,
      "grid_row": null,
      "grid_template_areas": null,
      "grid_template_columns": null,
      "grid_template_rows": null,
      "height": null,
      "justify_content": null,
      "justify_items": null,
      "left": null,
      "margin": null,
      "max_height": null,
      "max_width": null,
      "min_height": null,
      "min_width": null,
      "object_fit": null,
      "object_position": null,
      "order": null,
      "overflow": null,
      "overflow_x": null,
      "overflow_y": null,
      "padding": null,
      "right": null,
      "top": null,
      "visibility": null,
      "width": null
     }
    },
    "a6e1f4c7e2df4f358b6dd3c3a45effb4": {
     "model_module": "@jupyter-widgets/controls",
     "model_name": "HBoxModel",
     "state": {
      "_dom_classes": [],
      "_model_module": "@jupyter-widgets/controls",
      "_model_module_version": "1.5.0",
      "_model_name": "HBoxModel",
      "_view_count": null,
      "_view_module": "@jupyter-widgets/controls",
      "_view_module_version": "1.5.0",
      "_view_name": "HBoxView",
      "box_style": "",
      "children": [
       "IPY_MODEL_6c5266c5d35d49c484603149a60c79df",
       "IPY_MODEL_81cca86a0d2d4cde95b0709fca0f5c67"
      ],
      "layout": "IPY_MODEL_587b95f1a2db4892aac585c753a16356"
     }
    },
    "b837c77fdf474d4ca90fed09111ddf00": {
     "model_module": "@jupyter-widgets/controls",
     "model_name": "DescriptionStyleModel",
     "state": {
      "_model_module": "@jupyter-widgets/controls",
      "_model_module_version": "1.5.0",
      "_model_name": "DescriptionStyleModel",
      "_view_count": null,
      "_view_module": "@jupyter-widgets/base",
      "_view_module_version": "1.2.0",
      "_view_name": "StyleView",
      "description_width": ""
     }
    },
    "bb46b04e66e94c60acb4c75905b64e68": {
     "model_module": "@jupyter-widgets/base",
     "model_name": "LayoutModel",
     "state": {
      "_model_module": "@jupyter-widgets/base",
      "_model_module_version": "1.2.0",
      "_model_name": "LayoutModel",
      "_view_count": null,
      "_view_module": "@jupyter-widgets/base",
      "_view_module_version": "1.2.0",
      "_view_name": "LayoutView",
      "align_content": null,
      "align_items": null,
      "align_self": null,
      "border": null,
      "bottom": null,
      "display": null,
      "flex": null,
      "flex_flow": null,
      "grid_area": null,
      "grid_auto_columns": null,
      "grid_auto_flow": null,
      "grid_auto_rows": null,
      "grid_column": null,
      "grid_gap": null,
      "grid_row": null,
      "grid_template_areas": null,
      "grid_template_columns": null,
      "grid_template_rows": null,
      "height": null,
      "justify_content": null,
      "justify_items": null,
      "left": null,
      "margin": null,
      "max_height": null,
      "max_width": null,
      "min_height": null,
      "min_width": null,
      "object_fit": null,
      "object_position": null,
      "order": null,
      "overflow": null,
      "overflow_x": null,
      "overflow_y": null,
      "padding": null,
      "right": null,
      "top": null,
      "visibility": null,
      "width": null
     }
    },
    "ca10c555e1d44d4a9e6e431ac9299350": {
     "model_module": "@jupyter-widgets/controls",
     "model_name": "HBoxModel",
     "state": {
      "_dom_classes": [],
      "_model_module": "@jupyter-widgets/controls",
      "_model_module_version": "1.5.0",
      "_model_name": "HBoxModel",
      "_view_count": null,
      "_view_module": "@jupyter-widgets/controls",
      "_view_module_version": "1.5.0",
      "_view_name": "HBoxView",
      "box_style": "",
      "children": [
       "IPY_MODEL_db9045b37b454175928601aaf76aead0",
       "IPY_MODEL_f3c42024ba7f418ca4e3c7d8d0b7e175"
      ],
      "layout": "IPY_MODEL_2697e44feb54451e8f0c5bfa7ba1b2cf"
     }
    },
    "cf9ed367f56d4f1aaed38b215666be5d": {
     "model_module": "@jupyter-widgets/controls",
     "model_name": "DescriptionStyleModel",
     "state": {
      "_model_module": "@jupyter-widgets/controls",
      "_model_module_version": "1.5.0",
      "_model_name": "DescriptionStyleModel",
      "_view_count": null,
      "_view_module": "@jupyter-widgets/base",
      "_view_module_version": "1.2.0",
      "_view_name": "StyleView",
      "description_width": ""
     }
    },
    "db9045b37b454175928601aaf76aead0": {
     "model_module": "@jupyter-widgets/controls",
     "model_name": "FloatProgressModel",
     "state": {
      "_dom_classes": [],
      "_model_module": "@jupyter-widgets/controls",
      "_model_module_version": "1.5.0",
      "_model_name": "FloatProgressModel",
      "_view_count": null,
      "_view_module": "@jupyter-widgets/controls",
      "_view_module_version": "1.5.0",
      "_view_name": "ProgressView",
      "bar_style": "info",
      "description": "",
      "description_tooltip": null,
      "layout": "IPY_MODEL_3f32564b4e4b4e33915e6f75a647f8ac",
      "max": 1,
      "min": 0,
      "orientation": "horizontal",
      "style": "IPY_MODEL_910c556152c44983a95f5785c80ca783",
      "value": 0
     }
    },
    "e78dc993607c4607ab1f777191527e20": {
     "model_module": "@jupyter-widgets/controls",
     "model_name": "HBoxModel",
     "state": {
      "_dom_classes": [],
      "_model_module": "@jupyter-widgets/controls",
      "_model_module_version": "1.5.0",
      "_model_name": "HBoxModel",
      "_view_count": null,
      "_view_module": "@jupyter-widgets/controls",
      "_view_module_version": "1.5.0",
      "_view_name": "HBoxView",
      "box_style": "",
      "children": [
       "IPY_MODEL_1b44b24308c14ce1b38cb59103a59c2f",
       "IPY_MODEL_90514257763947df9e00b3fc344e092f"
      ],
      "layout": "IPY_MODEL_a26fc0136e0247528c047edde4b82fc2"
     }
    },
    "f3c42024ba7f418ca4e3c7d8d0b7e175": {
     "model_module": "@jupyter-widgets/controls",
     "model_name": "HTMLModel",
     "state": {
      "_dom_classes": [],
      "_model_module": "@jupyter-widgets/controls",
      "_model_module_version": "1.5.0",
      "_model_name": "HTMLModel",
      "_view_count": null,
      "_view_module": "@jupyter-widgets/controls",
      "_view_module_version": "1.5.0",
      "_view_name": "HTMLView",
      "description": "",
      "description_tooltip": null,
      "layout": "IPY_MODEL_7ca5d030c322418eb1587d825596793f",
      "placeholder": "​",
      "style": "IPY_MODEL_b837c77fdf474d4ca90fed09111ddf00",
      "value": " 0/? [00:00&lt;?, ?it/s]"
     }
    }
   }
  }
 },
 "nbformat": 4,
 "nbformat_minor": 1
}
