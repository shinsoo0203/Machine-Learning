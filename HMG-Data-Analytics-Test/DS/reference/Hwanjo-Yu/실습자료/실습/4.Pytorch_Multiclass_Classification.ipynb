{
 "cells": [
  {
   "cell_type": "markdown",
   "metadata": {
    "id": "SPCmq7m4AITp"
   },
   "source": [
    "# Multi-class Classification with Sofmax"
   ]
  },
  {
   "cell_type": "markdown",
   "metadata": {
    "id": "g42LtORVAOVN"
   },
   "source": [
    "## 1. Softmax Cost function with Pytorch"
   ]
  },
  {
   "cell_type": "markdown",
   "metadata": {
    "id": "oKSAzTOvAfZn"
   },
   "source": [
    "소프트맥스 함수는 다음과 같이 정의 된다.\n",
    "$$\\sigma(\\mathbf{z})_i=\\frac{exp({z_i})}{\\sum_{j=1}^{K}exp({z_j})}$$\n",
    "\n",
    "위의 식은 $K$의 개의 classes가 있을 때 $i$ 주어진 $\\mathbf{z}$ (보통 각 클래스에 해당하는 scores를 element로 갖는 벡터)를 확률로 바꾸기 위해서 softmax 를 사용한다. (scores -> [0, 1] 범위의 값들로 변환)"
   ]
  },
  {
   "cell_type": "code",
   "execution_count": 1,
   "metadata": {
    "executionInfo": {
     "elapsed": 4713,
     "status": "ok",
     "timestamp": 1603687164447,
     "user": {
      "displayName": "Hyunjun Ju",
      "photoUrl": "https://lh3.googleusercontent.com/a-/AOh14GiCzaSSZyO3yoasrnyevyNptZrh7JcyJZBo1rp6eg=s64",
      "userId": "01229565994772394967"
     },
     "user_tz": -540
    },
    "id": "R3Gx-N0fXh8B"
   },
   "outputs": [],
   "source": [
    "import torch\n",
    "import torch.nn.functional as F"
   ]
  },
  {
   "cell_type": "code",
   "execution_count": 2,
   "metadata": {
    "executionInfo": {
     "elapsed": 4714,
     "status": "ok",
     "timestamp": 1603687164454,
     "user": {
      "displayName": "Hyunjun Ju",
      "photoUrl": "https://lh3.googleusercontent.com/a-/AOh14GiCzaSSZyO3yoasrnyevyNptZrh7JcyJZBo1rp6eg=s64",
      "userId": "01229565994772394967"
     },
     "user_tz": -540
    },
    "id": "wySlwimeXvbX"
   },
   "outputs": [],
   "source": [
    "z = torch.FloatTensor([1, 2, 3])"
   ]
  },
  {
   "cell_type": "code",
   "execution_count": 3,
   "metadata": {
    "colab": {
     "base_uri": "https://localhost:8080/",
     "height": 35
    },
    "executionInfo": {
     "elapsed": 4664,
     "status": "ok",
     "timestamp": 1603687164454,
     "user": {
      "displayName": "Hyunjun Ju",
      "photoUrl": "https://lh3.googleusercontent.com/a-/AOh14GiCzaSSZyO3yoasrnyevyNptZrh7JcyJZBo1rp6eg=s64",
      "userId": "01229565994772394967"
     },
     "user_tz": -540
    },
    "id": "cWvmKoAcAT_2",
    "outputId": "9fa0d81d-dd40-4245-f952-c96af2182806"
   },
   "outputs": [
    {
     "name": "stdout",
     "output_type": "stream",
     "text": [
      "tensor([0.0900, 0.2447, 0.6652])\n"
     ]
    }
   ],
   "source": [
    "hypothesis = F.softmax(z, dim=0)\n",
    "print(hypothesis)"
   ]
  },
  {
   "cell_type": "code",
   "execution_count": 4,
   "metadata": {
    "colab": {
     "base_uri": "https://localhost:8080/",
     "height": 35
    },
    "executionInfo": {
     "elapsed": 4653,
     "status": "ok",
     "timestamp": 1603687164455,
     "user": {
      "displayName": "Hyunjun Ju",
      "photoUrl": "https://lh3.googleusercontent.com/a-/AOh14GiCzaSSZyO3yoasrnyevyNptZrh7JcyJZBo1rp6eg=s64",
      "userId": "01229565994772394967"
     },
     "user_tz": -540
    },
    "id": "sc4oytNSAXfQ",
    "outputId": "03678660-595f-4c08-ee02-7b196a5e4c2e"
   },
   "outputs": [
    {
     "data": {
      "text/plain": [
       "tensor(1.)"
      ]
     },
     "execution_count": 4,
     "metadata": {},
     "output_type": "execute_result"
    }
   ],
   "source": [
    "hypothesis.sum()"
   ]
  },
  {
   "cell_type": "markdown",
   "metadata": {
    "id": "lfvxQacRFp8f"
   },
   "source": [
    "이제 cost function을 구현"
   ]
  },
  {
   "cell_type": "markdown",
   "metadata": {
    "id": "VO1sBuUgIOi5"
   },
   "source": [
    "Cross Entropy\n",
    "\n",
    "일반적으로 Multi-class classification을 할 때는 Cross Entropy를 사용한다.\n",
    "식은 다음과 같다.\n",
    "$$\\mathcal{L}=-\\sum_{j=1}^{K}y_j\\log (p_j)$$\n",
    "여기에서 $K$는 클래스 갯수 이고 $y_j$는 $\\mathbf{y}$라는 one-hot vector label의 $j$번째 element를 뜻 하고 $p_j$는 softmax output의 $j$ 번째 element 값을 뜻 한다.\n",
    "\n",
    "이것을 N개의 전체 데이터에 대해서 확장 시키면 다음과 같다.\n",
    "$$\\mathcal{L}=-\\frac{1}{N}\\sum_{i=1}^{N} \\sum_{j=1}^{K}y_j^{(i)}\\log (p_j^{(i)})$$\n",
    "\n",
    "Binary Classification과의 관계\n",
    "Logistic Regression에서의 cost function을 다시 써 보면 다음과 같다.\n",
    "$$\\mathcal{L}=-\\left(y\\log H(x) + (1-y)\\log (1-H(x)\\right)$$\n",
    "이것을 cross entropy 관점에서 해석 할 수 있다.\n",
    "\n",
    "- $y=y_1$\n",
    "- $1-y=y_2$\n",
    "- $H(x)=p_1$\n",
    "- $1-H(x)=p_2$\n",
    "\n",
    "라고 해석하면 $K=2$인 경우로 볼 수 있다. (Cross Entropy의 Special Case)\n",
    "\n",
    "$$\\mathcal{L}=-\\frac{1}{N}\\sum_{i=1}^{N}\\sum_{j=1}^{2}y_j^{(i)}\\log (p_j^{(i)})= -\\frac{1}{N}\\sum_{i=1}^{N}\\left(y^{(i)}\\log (p^{(i)})+(1-y^{(i)})\\log (1-p^{(i)})\\right)$$"
   ]
  },
  {
   "cell_type": "code",
   "execution_count": 5,
   "metadata": {
    "executionInfo": {
     "elapsed": 4651,
     "status": "ok",
     "timestamp": 1603687164456,
     "user": {
      "displayName": "Hyunjun Ju",
      "photoUrl": "https://lh3.googleusercontent.com/a-/AOh14GiCzaSSZyO3yoasrnyevyNptZrh7JcyJZBo1rp6eg=s64",
      "userId": "01229565994772394967"
     },
     "user_tz": -540
    },
    "id": "uBDEnodvAban"
   },
   "outputs": [],
   "source": [
    "z = torch.rand(3, 5, requires_grad=True)"
   ]
  },
  {
   "cell_type": "code",
   "execution_count": 6,
   "metadata": {
    "colab": {
     "base_uri": "https://localhost:8080/",
     "height": 71
    },
    "executionInfo": {
     "elapsed": 4640,
     "status": "ok",
     "timestamp": 1603687164456,
     "user": {
      "displayName": "Hyunjun Ju",
      "photoUrl": "https://lh3.googleusercontent.com/a-/AOh14GiCzaSSZyO3yoasrnyevyNptZrh7JcyJZBo1rp6eg=s64",
      "userId": "01229565994772394967"
     },
     "user_tz": -540
    },
    "id": "lHVJqP7YFvN_",
    "outputId": "65ac02a6-ed69-4639-a461-8ae5e2f455f5"
   },
   "outputs": [
    {
     "name": "stdout",
     "output_type": "stream",
     "text": [
      "tensor([[0.1885, 0.2054, 0.1466, 0.2055, 0.2540],\n",
      "        [0.1767, 0.1518, 0.2529, 0.1650, 0.2537],\n",
      "        [0.2615, 0.1173, 0.1766, 0.2525, 0.1921]], grad_fn=<SoftmaxBackward>)\n"
     ]
    }
   ],
   "source": [
    "hypothesis = F.softmax(z, dim=1)\n",
    "print(hypothesis)"
   ]
  },
  {
   "cell_type": "code",
   "execution_count": 7,
   "metadata": {
    "colab": {
     "base_uri": "https://localhost:8080/",
     "height": 35
    },
    "executionInfo": {
     "elapsed": 4630,
     "status": "ok",
     "timestamp": 1603687164457,
     "user": {
      "displayName": "Hyunjun Ju",
      "photoUrl": "https://lh3.googleusercontent.com/a-/AOh14GiCzaSSZyO3yoasrnyevyNptZrh7JcyJZBo1rp6eg=s64",
      "userId": "01229565994772394967"
     },
     "user_tz": -540
    },
    "id": "0gR1DXobF37G",
    "outputId": "4e79b177-07fa-436e-af46-d754d52631c3"
   },
   "outputs": [
    {
     "name": "stdout",
     "output_type": "stream",
     "text": [
      "tensor([0, 1, 4])\n"
     ]
    }
   ],
   "source": [
    "# Label 생성\n",
    "y = torch.randint(high=5, size=(3,)).long()\n",
    "print(y)"
   ]
  },
  {
   "cell_type": "code",
   "execution_count": 8,
   "metadata": {
    "colab": {
     "base_uri": "https://localhost:8080/",
     "height": 71
    },
    "executionInfo": {
     "elapsed": 4628,
     "status": "ok",
     "timestamp": 1603687164457,
     "user": {
      "displayName": "Hyunjun Ju",
      "photoUrl": "https://lh3.googleusercontent.com/a-/AOh14GiCzaSSZyO3yoasrnyevyNptZrh7JcyJZBo1rp6eg=s64",
      "userId": "01229565994772394967"
     },
     "user_tz": -540
    },
    "id": "Tr3XpPyVF7G9",
    "outputId": "8495a84f-711e-437d-92bc-f0869557aa46"
   },
   "outputs": [
    {
     "data": {
      "text/plain": [
       "tensor([[1., 0., 0., 0., 0.],\n",
       "        [0., 1., 0., 0., 0.],\n",
       "        [0., 0., 0., 0., 1.]])"
      ]
     },
     "execution_count": 8,
     "metadata": {},
     "output_type": "execute_result"
    }
   ],
   "source": [
    "# One-hot encoding\n",
    "y_one_hot = torch.zeros_like(hypothesis)\n",
    "y_one_hot.scatter_(dim=1, index=y.unsqueeze(1), value=1)"
   ]
  },
  {
   "cell_type": "code",
   "execution_count": 9,
   "metadata": {
    "colab": {
     "base_uri": "https://localhost:8080/",
     "height": 71
    },
    "executionInfo": {
     "elapsed": 4618,
     "status": "ok",
     "timestamp": 1603687164458,
     "user": {
      "displayName": "Hyunjun Ju",
      "photoUrl": "https://lh3.googleusercontent.com/a-/AOh14GiCzaSSZyO3yoasrnyevyNptZrh7JcyJZBo1rp6eg=s64",
      "userId": "01229565994772394967"
     },
     "user_tz": -540
    },
    "id": "x5sEdh0zGtFL",
    "outputId": "82ca11d9-344b-4bf6-b9d7-969da4e10117"
   },
   "outputs": [
    {
     "data": {
      "text/plain": [
       "tensor([[0],\n",
       "        [1],\n",
       "        [4]])"
      ]
     },
     "execution_count": 9,
     "metadata": {},
     "output_type": "execute_result"
    }
   ],
   "source": [
    "y.unsqueeze(1)"
   ]
  },
  {
   "cell_type": "code",
   "execution_count": 10,
   "metadata": {
    "colab": {
     "base_uri": "https://localhost:8080/",
     "height": 71
    },
    "executionInfo": {
     "elapsed": 4607,
     "status": "ok",
     "timestamp": 1603687164459,
     "user": {
      "displayName": "Hyunjun Ju",
      "photoUrl": "https://lh3.googleusercontent.com/a-/AOh14GiCzaSSZyO3yoasrnyevyNptZrh7JcyJZBo1rp6eg=s64",
      "userId": "01229565994772394967"
     },
     "user_tz": -540
    },
    "id": "k0O9OuN2HEZH",
    "outputId": "dcede29b-3c61-47a6-c95d-a67012974884"
   },
   "outputs": [
    {
     "name": "stdout",
     "output_type": "stream",
     "text": [
      "tensor([[1., 0., 0., 0., 0.],\n",
      "        [0., 1., 0., 0., 0.],\n",
      "        [0., 0., 0., 0., 1.]])\n"
     ]
    }
   ],
   "source": [
    "print(y_one_hot)"
   ]
  },
  {
   "cell_type": "code",
   "execution_count": 11,
   "metadata": {
    "colab": {
     "base_uri": "https://localhost:8080/",
     "height": 35
    },
    "executionInfo": {
     "elapsed": 4597,
     "status": "ok",
     "timestamp": 1603687164459,
     "user": {
      "displayName": "Hyunjun Ju",
      "photoUrl": "https://lh3.googleusercontent.com/a-/AOh14GiCzaSSZyO3yoasrnyevyNptZrh7JcyJZBo1rp6eg=s64",
      "userId": "01229565994772394967"
     },
     "user_tz": -540
    },
    "id": "vB9Ib-YyHhQ2",
    "outputId": "86680c79-cebf-4637-866f-1d7ea66e4481"
   },
   "outputs": [
    {
     "name": "stdout",
     "output_type": "stream",
     "text": [
      "tensor(1.7346, grad_fn=<MeanBackward0>)\n"
     ]
    }
   ],
   "source": [
    "cost = (y_one_hot * -torch.log(hypothesis)).sum(dim=1).mean()\n",
    "print(cost)"
   ]
  },
  {
   "cell_type": "markdown",
   "metadata": {
    "id": "F7LcPSiAMjIm"
   },
   "source": [
    "다른 함수 활용하기\n",
    "\n",
    "1. F.softmax() + torch.log() = F.log_softmax()"
   ]
  },
  {
   "cell_type": "code",
   "execution_count": 12,
   "metadata": {
    "colab": {
     "base_uri": "https://localhost:8080/",
     "height": 71
    },
    "executionInfo": {
     "elapsed": 4588,
     "status": "ok",
     "timestamp": 1603687164460,
     "user": {
      "displayName": "Hyunjun Ju",
      "photoUrl": "https://lh3.googleusercontent.com/a-/AOh14GiCzaSSZyO3yoasrnyevyNptZrh7JcyJZBo1rp6eg=s64",
      "userId": "01229565994772394967"
     },
     "user_tz": -540
    },
    "id": "JDR3AY8qMTbJ",
    "outputId": "1dab5844-b013-43a8-eb47-86d06b8a11bb"
   },
   "outputs": [
    {
     "data": {
      "text/plain": [
       "tensor([[-1.6689, -1.5826, -1.9201, -1.5823, -1.3704],\n",
       "        [-1.7336, -1.8854, -1.3748, -1.8019, -1.3715],\n",
       "        [-1.3415, -2.1433, -1.7338, -1.3763, -1.6495]], grad_fn=<LogBackward>)"
      ]
     },
     "execution_count": 12,
     "metadata": {},
     "output_type": "execute_result"
    }
   ],
   "source": [
    "# 처음 구현 했을 때\n",
    "torch.log(F.softmax(z, dim=1))"
   ]
  },
  {
   "cell_type": "code",
   "execution_count": 13,
   "metadata": {
    "colab": {
     "base_uri": "https://localhost:8080/",
     "height": 89
    },
    "executionInfo": {
     "elapsed": 4578,
     "status": "ok",
     "timestamp": 1603687164460,
     "user": {
      "displayName": "Hyunjun Ju",
      "photoUrl": "https://lh3.googleusercontent.com/a-/AOh14GiCzaSSZyO3yoasrnyevyNptZrh7JcyJZBo1rp6eg=s64",
      "userId": "01229565994772394967"
     },
     "user_tz": -540
    },
    "id": "pdr8m6ljMxLM",
    "outputId": "bcb21146-0001-4fb9-bbcf-d5f1a7af17ab"
   },
   "outputs": [
    {
     "data": {
      "text/plain": [
       "tensor([[-1.6689, -1.5826, -1.9201, -1.5823, -1.3704],\n",
       "        [-1.7336, -1.8854, -1.3748, -1.8019, -1.3715],\n",
       "        [-1.3415, -2.1433, -1.7338, -1.3763, -1.6495]],\n",
       "       grad_fn=<LogSoftmaxBackward>)"
      ]
     },
     "execution_count": 13,
     "metadata": {},
     "output_type": "execute_result"
    }
   ],
   "source": [
    "# F.log_softmax() 활용\n",
    "torch.log_softmax(z, dim=1)"
   ]
  },
  {
   "cell_type": "markdown",
   "metadata": {
    "id": "Q7fBYT5jM9Xy"
   },
   "source": [
    "2. F.log_softmax() + F.nll_loss() = F.cross_entropy()"
   ]
  },
  {
   "cell_type": "code",
   "execution_count": 14,
   "metadata": {
    "colab": {
     "base_uri": "https://localhost:8080/",
     "height": 35
    },
    "executionInfo": {
     "elapsed": 4570,
     "status": "ok",
     "timestamp": 1603687164461,
     "user": {
      "displayName": "Hyunjun Ju",
      "photoUrl": "https://lh3.googleusercontent.com/a-/AOh14GiCzaSSZyO3yoasrnyevyNptZrh7JcyJZBo1rp6eg=s64",
      "userId": "01229565994772394967"
     },
     "user_tz": -540
    },
    "id": "Jyl5ItBCM55N",
    "outputId": "b5a95148-5029-4181-da5b-d92e345d0e68"
   },
   "outputs": [
    {
     "data": {
      "text/plain": [
       "tensor(1.7346, grad_fn=<MeanBackward0>)"
      ]
     },
     "execution_count": 14,
     "metadata": {},
     "output_type": "execute_result"
    }
   ],
   "source": [
    "# 첫번째 수식\n",
    "(y_one_hot * -torch.log(F.softmax(z, dim=1))).sum(dim=1).mean()"
   ]
  },
  {
   "cell_type": "code",
   "execution_count": 15,
   "metadata": {
    "colab": {
     "base_uri": "https://localhost:8080/",
     "height": 35
    },
    "executionInfo": {
     "elapsed": 4561,
     "status": "ok",
     "timestamp": 1603687164462,
     "user": {
      "displayName": "Hyunjun Ju",
      "photoUrl": "https://lh3.googleusercontent.com/a-/AOh14GiCzaSSZyO3yoasrnyevyNptZrh7JcyJZBo1rp6eg=s64",
      "userId": "01229565994772394967"
     },
     "user_tz": -540
    },
    "id": "8YnX55KmNJr-",
    "outputId": "365670f1-e26d-498a-97df-4ad38b72c71b"
   },
   "outputs": [
    {
     "data": {
      "text/plain": [
       "tensor(1.7346, grad_fn=<MeanBackward0>)"
      ]
     },
     "execution_count": 15,
     "metadata": {},
     "output_type": "execute_result"
    }
   ],
   "source": [
    "# 두번째 수식\n",
    "(y_one_hot * - F.log_softmax(z, dim=1)).sum(dim=1).mean()"
   ]
  },
  {
   "cell_type": "code",
   "execution_count": 16,
   "metadata": {
    "colab": {
     "base_uri": "https://localhost:8080/",
     "height": 35
    },
    "executionInfo": {
     "elapsed": 5489,
     "status": "ok",
     "timestamp": 1603687165400,
     "user": {
      "displayName": "Hyunjun Ju",
      "photoUrl": "https://lh3.googleusercontent.com/a-/AOh14GiCzaSSZyO3yoasrnyevyNptZrh7JcyJZBo1rp6eg=s64",
      "userId": "01229565994772394967"
     },
     "user_tz": -540
    },
    "id": "1upvYtIZNL1G",
    "outputId": "41195db9-4401-4974-dc0d-dbe53c406afe"
   },
   "outputs": [
    {
     "data": {
      "text/plain": [
       "tensor(1.7346, grad_fn=<NllLossBackward>)"
      ]
     },
     "execution_count": 16,
     "metadata": {},
     "output_type": "execute_result"
    }
   ],
   "source": [
    "# 세번째 수식\n",
    "# F.nll_loss()를 사용하면 one-hot vector를 넣을 필요 없음.\n",
    "F.nll_loss(F.log_softmax(z, dim=1), y)"
   ]
  },
  {
   "cell_type": "code",
   "execution_count": 17,
   "metadata": {
    "colab": {
     "base_uri": "https://localhost:8080/",
     "height": 35
    },
    "executionInfo": {
     "elapsed": 5482,
     "status": "ok",
     "timestamp": 1603687165402,
     "user": {
      "displayName": "Hyunjun Ju",
      "photoUrl": "https://lh3.googleusercontent.com/a-/AOh14GiCzaSSZyO3yoasrnyevyNptZrh7JcyJZBo1rp6eg=s64",
      "userId": "01229565994772394967"
     },
     "user_tz": -540
    },
    "id": "Lf1C03LqNO7e",
    "outputId": "99b9e51e-9369-49cc-b8c8-04e3293deb15"
   },
   "outputs": [
    {
     "data": {
      "text/plain": [
       "tensor(1.7346, grad_fn=<NllLossBackward>)"
      ]
     },
     "execution_count": 17,
     "metadata": {},
     "output_type": "execute_result"
    }
   ],
   "source": [
    "# 네번째 수식\n",
    "F.cross_entropy(z, y)"
   ]
  },
  {
   "cell_type": "markdown",
   "metadata": {
    "id": "VbHNdS8-OJsP"
   },
   "source": [
    "## 2. Multi-class Classification Implementation"
   ]
  },
  {
   "cell_type": "code",
   "execution_count": 18,
   "metadata": {
    "executionInfo": {
     "elapsed": 5480,
     "status": "ok",
     "timestamp": 1603687165403,
     "user": {
      "displayName": "Hyunjun Ju",
      "photoUrl": "https://lh3.googleusercontent.com/a-/AOh14GiCzaSSZyO3yoasrnyevyNptZrh7JcyJZBo1rp6eg=s64",
      "userId": "01229565994772394967"
     },
     "user_tz": -540
    },
    "id": "qjzAcvkdOFro"
   },
   "outputs": [],
   "source": [
    "import torch\n",
    "import torch.nn as nn\n",
    "import torch.nn.functional as F\n",
    "import torch.optim as optim"
   ]
  },
  {
   "cell_type": "code",
   "execution_count": 19,
   "metadata": {
    "executionInfo": {
     "elapsed": 5479,
     "status": "ok",
     "timestamp": 1603687165404,
     "user": {
      "displayName": "Hyunjun Ju",
      "photoUrl": "https://lh3.googleusercontent.com/a-/AOh14GiCzaSSZyO3yoasrnyevyNptZrh7JcyJZBo1rp6eg=s64",
      "userId": "01229565994772394967"
     },
     "user_tz": -540
    },
    "id": "7lCEl4k5Q3Lb"
   },
   "outputs": [],
   "source": [
    "x_train = [[1, 2, 1, 1],\n",
    "           [2, 1, 3, 2],\n",
    "           [3, 1, 3, 4],\n",
    "           [4, 1, 5, 5],\n",
    "           [1, 7, 5, 5],\n",
    "           [1, 2, 5, 6],\n",
    "           [1, 6, 6, 6],\n",
    "           [1, 7, 7, 7]]\n",
    "y_train = [2, 2, 2, 1, 1, 1, 0, 0]\n",
    "x_train = torch.FloatTensor(x_train)\n",
    "y_train = torch.LongTensor(y_train)"
   ]
  },
  {
   "cell_type": "code",
   "execution_count": 20,
   "metadata": {
    "colab": {
     "base_uri": "https://localhost:8080/",
     "height": 53
    },
    "executionInfo": {
     "elapsed": 5469,
     "status": "ok",
     "timestamp": 1603687165404,
     "user": {
      "displayName": "Hyunjun Ju",
      "photoUrl": "https://lh3.googleusercontent.com/a-/AOh14GiCzaSSZyO3yoasrnyevyNptZrh7JcyJZBo1rp6eg=s64",
      "userId": "01229565994772394967"
     },
     "user_tz": -540
    },
    "id": "xjxQorHwQ3lk",
    "outputId": "7426abe5-d6b9-46ba-c924-66788ca6bb07"
   },
   "outputs": [
    {
     "name": "stdout",
     "output_type": "stream",
     "text": [
      "torch.Size([8, 4])\n",
      "torch.Size([8])\n"
     ]
    }
   ],
   "source": [
    "print(x_train.shape)\n",
    "print(y_train.shape)"
   ]
  },
  {
   "cell_type": "markdown",
   "metadata": {
    "id": "tbC47Sg9Q-g-"
   },
   "source": [
    "### 2.1. Low-level Implementation"
   ]
  },
  {
   "cell_type": "code",
   "execution_count": 21,
   "metadata": {
    "colab": {
     "base_uri": "https://localhost:8080/",
     "height": 35
    },
    "executionInfo": {
     "elapsed": 5462,
     "status": "ok",
     "timestamp": 1603687165405,
     "user": {
      "displayName": "Hyunjun Ju",
      "photoUrl": "https://lh3.googleusercontent.com/a-/AOh14GiCzaSSZyO3yoasrnyevyNptZrh7JcyJZBo1rp6eg=s64",
      "userId": "01229565994772394967"
     },
     "user_tz": -540
    },
    "id": "Z6W7kiBhQ53E",
    "outputId": "13d4780e-4df5-4985-974a-4824409130dd"
   },
   "outputs": [
    {
     "name": "stdout",
     "output_type": "stream",
     "text": [
      "torch.Size([8, 3])\n"
     ]
    }
   ],
   "source": [
    "# One-hot Encoding\n",
    "y_one_hot = torch.zeros(8, 3)\n",
    "y_one_hot.scatter_(1, y_train.unsqueeze(1), 1)\n",
    "print(y_one_hot.shape)"
   ]
  },
  {
   "cell_type": "code",
   "execution_count": 22,
   "metadata": {
    "executionInfo": {
     "elapsed": 5460,
     "status": "ok",
     "timestamp": 1603687165406,
     "user": {
      "displayName": "Hyunjun Ju",
      "photoUrl": "https://lh3.googleusercontent.com/a-/AOh14GiCzaSSZyO3yoasrnyevyNptZrh7JcyJZBo1rp6eg=s64",
      "userId": "01229565994772394967"
     },
     "user_tz": -540
    },
    "id": "keCBs70kRERE"
   },
   "outputs": [],
   "source": [
    "# 모델 초기화\n",
    "W = torch.zeros((4, 3), requires_grad=True)\n",
    "b = torch.zeros(1, requires_grad=True)\n",
    "# optimizer 설정\n",
    "optimizer = optim.SGD([W, b], lr=0.1)"
   ]
  },
  {
   "cell_type": "code",
   "execution_count": 23,
   "metadata": {
    "colab": {
     "base_uri": "https://localhost:8080/",
     "height": 215
    },
    "executionInfo": {
     "elapsed": 5453,
     "status": "ok",
     "timestamp": 1603687165407,
     "user": {
      "displayName": "Hyunjun Ju",
      "photoUrl": "https://lh3.googleusercontent.com/a-/AOh14GiCzaSSZyO3yoasrnyevyNptZrh7JcyJZBo1rp6eg=s64",
      "userId": "01229565994772394967"
     },
     "user_tz": -540
    },
    "id": "p0HWIy-dRINs",
    "outputId": "b171b6f1-1dcb-4f81-95a9-3a0245a90e8f"
   },
   "outputs": [
    {
     "name": "stdout",
     "output_type": "stream",
     "text": [
      "Epoch    0/1000 Cost: 1.098612\n",
      "Epoch  100/1000 Cost: 0.761050\n",
      "Epoch  200/1000 Cost: 0.689991\n",
      "Epoch  300/1000 Cost: 0.643229\n",
      "Epoch  400/1000 Cost: 0.604117\n",
      "Epoch  500/1000 Cost: 0.568255\n",
      "Epoch  600/1000 Cost: 0.533922\n",
      "Epoch  700/1000 Cost: 0.500291\n",
      "Epoch  800/1000 Cost: 0.466908\n",
      "Epoch  900/1000 Cost: 0.433507\n",
      "Epoch 1000/1000 Cost: 0.399962\n"
     ]
    }
   ],
   "source": [
    "nb_epochs = 1000\n",
    "for epoch in range(nb_epochs + 1):\n",
    "\n",
    "    # 가설\n",
    "    hypothesis = F.softmax(x_train.matmul(W) + b, dim=1) \n",
    "\n",
    "    # 비용 함수\n",
    "    cost = (y_one_hot * -torch.log(hypothesis)).sum(dim=1).mean()\n",
    "\n",
    "    # cost로 H(x) 개선\n",
    "    optimizer.zero_grad()\n",
    "    cost.backward()\n",
    "    optimizer.step()\n",
    "\n",
    "    # 100번마다 로그 출력\n",
    "    if epoch % 100 == 0:\n",
    "        print('Epoch {:4d}/{} Cost: {:.6f}'.format(\n",
    "            epoch, nb_epochs, cost.item()\n",
    "        ))"
   ]
  },
  {
   "cell_type": "markdown",
   "metadata": {
    "id": "JsfvbGe0RTe6"
   },
   "source": [
    "### 2.2 High-level Implementation"
   ]
  },
  {
   "cell_type": "markdown",
   "metadata": {
    "id": "v-5yNzEjRakV"
   },
   "source": [
    "F.cross_entropy() 사용하기"
   ]
  },
  {
   "cell_type": "code",
   "execution_count": 24,
   "metadata": {
    "colab": {
     "base_uri": "https://localhost:8080/",
     "height": 215
    },
    "executionInfo": {
     "elapsed": 5445,
     "status": "ok",
     "timestamp": 1603687165408,
     "user": {
      "displayName": "Hyunjun Ju",
      "photoUrl": "https://lh3.googleusercontent.com/a-/AOh14GiCzaSSZyO3yoasrnyevyNptZrh7JcyJZBo1rp6eg=s64",
      "userId": "01229565994772394967"
     },
     "user_tz": -540
    },
    "id": "qh23JzHfRK_c",
    "outputId": "3f0d8592-cf22-4e37-a30f-7a919d375f79"
   },
   "outputs": [
    {
     "name": "stdout",
     "output_type": "stream",
     "text": [
      "Epoch 0/1000 Cost:  1.098612\n",
      "Epoch 100/1000 Cost:  0.761050\n",
      "Epoch 200/1000 Cost:  0.689991\n",
      "Epoch 300/1000 Cost:  0.643229\n",
      "Epoch 400/1000 Cost:  0.604117\n",
      "Epoch 500/1000 Cost:  0.568255\n",
      "Epoch 600/1000 Cost:  0.533922\n",
      "Epoch 700/1000 Cost:  0.500291\n",
      "Epoch 800/1000 Cost:  0.466908\n",
      "Epoch 900/1000 Cost:  0.433507\n",
      "Epoch 1000/1000 Cost:  0.399962\n"
     ]
    }
   ],
   "source": [
    "# 모델 초기화\n",
    "W = torch.zeros((4, 3), requires_grad=True)\n",
    "b = torch.zeros(1, requires_grad=True)\n",
    "# optimizer 설정\n",
    "optimizer = optim.SGD([W, b], lr=0.1)\n",
    "\n",
    "nb_epochs = 1000\n",
    "for epoch in range(nb_epochs + 1):\n",
    "\n",
    "    # Cost 계산\n",
    "    z = x_train.matmul(W) + b\n",
    "    cost = F.cross_entropy(z, y_train)\n",
    "\n",
    "    # cost로 H(x) 개선\n",
    "    optimizer.zero_grad()\n",
    "    cost.backward()\n",
    "    optimizer.step()\n",
    "\n",
    "    # 100번마다 로그 출력\n",
    "    if epoch % 100 == 0:\n",
    "        print(f\"Epoch {epoch}/{nb_epochs} Cost: {cost.item(): .6f}\")"
   ]
  },
  {
   "cell_type": "markdown",
   "metadata": {
    "id": "4HlttvOfRfeQ"
   },
   "source": [
    "### 2.3. Implementation with nn.Module"
   ]
  },
  {
   "cell_type": "code",
   "execution_count": 25,
   "metadata": {
    "executionInfo": {
     "elapsed": 5442,
     "status": "ok",
     "timestamp": 1603687165408,
     "user": {
      "displayName": "Hyunjun Ju",
      "photoUrl": "https://lh3.googleusercontent.com/a-/AOh14GiCzaSSZyO3yoasrnyevyNptZrh7JcyJZBo1rp6eg=s64",
      "userId": "01229565994772394967"
     },
     "user_tz": -540
    },
    "id": "K3wjq39RRXx1"
   },
   "outputs": [],
   "source": [
    "# 모델을 선언 및 초기화. 4개의 특성을 가지고 3개의 클래스로 분류. input_dim=4, output_dim=3.\n",
    "model = nn.Linear(4, 3)"
   ]
  },
  {
   "cell_type": "code",
   "execution_count": 26,
   "metadata": {
    "colab": {
     "base_uri": "https://localhost:8080/",
     "height": 215
    },
    "executionInfo": {
     "elapsed": 5434,
     "status": "ok",
     "timestamp": 1603687165409,
     "user": {
      "displayName": "Hyunjun Ju",
      "photoUrl": "https://lh3.googleusercontent.com/a-/AOh14GiCzaSSZyO3yoasrnyevyNptZrh7JcyJZBo1rp6eg=s64",
      "userId": "01229565994772394967"
     },
     "user_tz": -540
    },
    "id": "bqpBZ0geRj_U",
    "outputId": "41f7bc86-56dd-4ce9-c7ad-aad94f54fd0d"
   },
   "outputs": [
    {
     "name": "stdout",
     "output_type": "stream",
     "text": [
      "Epoch 0/1000 Cost:  1.637332\n",
      "Epoch 100/1000 Cost:  0.708469\n",
      "Epoch 200/1000 Cost:  0.625582\n",
      "Epoch 300/1000 Cost:  0.568529\n",
      "Epoch 400/1000 Cost:  0.518470\n",
      "Epoch 500/1000 Cost:  0.471167\n",
      "Epoch 600/1000 Cost:  0.425051\n",
      "Epoch 700/1000 Cost:  0.379383\n",
      "Epoch 800/1000 Cost:  0.333873\n",
      "Epoch 900/1000 Cost:  0.289033\n",
      "Epoch 1000/1000 Cost:  0.250204\n"
     ]
    }
   ],
   "source": [
    "# optimizer 설정\n",
    "optimizer = optim.SGD(model.parameters(), lr=0.1)\n",
    "\n",
    "nb_epochs = 1000\n",
    "for epoch in range(nb_epochs + 1):\n",
    "\n",
    "    # H(x) 계산\n",
    "    prediction = model(x_train)\n",
    "\n",
    "    # cost 계산\n",
    "    cost = F.cross_entropy(prediction, y_train)\n",
    "\n",
    "    # cost로 H(x) 개선\n",
    "    optimizer.zero_grad()\n",
    "    cost.backward()\n",
    "    optimizer.step()\n",
    "\n",
    "    # 20번마다 로그 출력\n",
    "    if epoch % 100 == 0:\n",
    "        print(f\"Epoch {epoch}/{nb_epochs} Cost: {cost.item(): .6f}\")"
   ]
  },
  {
   "cell_type": "markdown",
   "metadata": {
    "id": "rrolhfdxRmk9"
   },
   "source": [
    "### 2.4 Implementatio with class"
   ]
  },
  {
   "cell_type": "code",
   "execution_count": 27,
   "metadata": {
    "executionInfo": {
     "elapsed": 5432,
     "status": "ok",
     "timestamp": 1603687165409,
     "user": {
      "displayName": "Hyunjun Ju",
      "photoUrl": "https://lh3.googleusercontent.com/a-/AOh14GiCzaSSZyO3yoasrnyevyNptZrh7JcyJZBo1rp6eg=s64",
      "userId": "01229565994772394967"
     },
     "user_tz": -540
    },
    "id": "1Sja8bKjRlf0"
   },
   "outputs": [],
   "source": [
    "class SoftmaxClassifierModel(nn.Module):\n",
    "    def __init__(self):\n",
    "        super().__init__()\n",
    "        self.linear = nn.Linear(4, 3) # Output이 3!\n",
    "\n",
    "    def forward(self, x):\n",
    "        return self.linear(x)"
   ]
  },
  {
   "cell_type": "code",
   "execution_count": 28,
   "metadata": {
    "executionInfo": {
     "elapsed": 5430,
     "status": "ok",
     "timestamp": 1603687165410,
     "user": {
      "displayName": "Hyunjun Ju",
      "photoUrl": "https://lh3.googleusercontent.com/a-/AOh14GiCzaSSZyO3yoasrnyevyNptZrh7JcyJZBo1rp6eg=s64",
      "userId": "01229565994772394967"
     },
     "user_tz": -540
    },
    "id": "DwuunNv5RvLU"
   },
   "outputs": [],
   "source": [
    "model = SoftmaxClassifierModel()"
   ]
  },
  {
   "cell_type": "code",
   "execution_count": 29,
   "metadata": {
    "colab": {
     "base_uri": "https://localhost:8080/",
     "height": 215
    },
    "executionInfo": {
     "elapsed": 5422,
     "status": "ok",
     "timestamp": 1603687165410,
     "user": {
      "displayName": "Hyunjun Ju",
      "photoUrl": "https://lh3.googleusercontent.com/a-/AOh14GiCzaSSZyO3yoasrnyevyNptZrh7JcyJZBo1rp6eg=s64",
      "userId": "01229565994772394967"
     },
     "user_tz": -540
    },
    "id": "JzL08umwRwx0",
    "outputId": "40177cbd-3d56-4095-a3cf-c6c0eb903c52"
   },
   "outputs": [
    {
     "name": "stdout",
     "output_type": "stream",
     "text": [
      "Epoch 0/1000 Cost:  1.648667\n",
      "Epoch 100/1000 Cost:  0.690555\n",
      "Epoch 200/1000 Cost:  0.613849\n",
      "Epoch 300/1000 Cost:  0.557133\n",
      "Epoch 400/1000 Cost:  0.506813\n",
      "Epoch 500/1000 Cost:  0.459176\n",
      "Epoch 600/1000 Cost:  0.412740\n",
      "Epoch 700/1000 Cost:  0.366799\n",
      "Epoch 800/1000 Cost:  0.321162\n",
      "Epoch 900/1000 Cost:  0.276957\n",
      "Epoch 1000/1000 Cost:  0.243912\n"
     ]
    }
   ],
   "source": [
    "# optimizer 설정\n",
    "optimizer = optim.SGD(model.parameters(), lr=0.1)\n",
    "\n",
    "nb_epochs = 1000\n",
    "for epoch in range(nb_epochs + 1):\n",
    "\n",
    "    # H(x) 계산\n",
    "    prediction = model(x_train)\n",
    "\n",
    "    # cost 계산\n",
    "    cost = F.cross_entropy(prediction, y_train)\n",
    "\n",
    "    # cost로 H(x) 개선\n",
    "    optimizer.zero_grad()\n",
    "    cost.backward()\n",
    "    optimizer.step()\n",
    "\n",
    "    # 20번마다 로그 출력\n",
    "    if epoch % 100 == 0:\n",
    "        print(f\"Epoch {epoch}/{nb_epochs} Cost: {cost.item(): .6f}\")"
   ]
  },
  {
   "cell_type": "code",
   "execution_count": null,
   "metadata": {
    "executionInfo": {
     "elapsed": 5420,
     "status": "ok",
     "timestamp": 1603687165411,
     "user": {
      "displayName": "Hyunjun Ju",
      "photoUrl": "https://lh3.googleusercontent.com/a-/AOh14GiCzaSSZyO3yoasrnyevyNptZrh7JcyJZBo1rp6eg=s64",
      "userId": "01229565994772394967"
     },
     "user_tz": -540
    },
    "id": "-n7LxTT9Ryfk"
   },
   "outputs": [],
   "source": []
  },
  {
   "cell_type": "markdown",
   "metadata": {
    "id": "7gZgSlVbU29a"
   },
   "source": [
    "## 3. MNIST Classification with Linear Model"
   ]
  },
  {
   "cell_type": "code",
   "execution_count": 30,
   "metadata": {
    "executionInfo": {
     "elapsed": 5932,
     "status": "ok",
     "timestamp": 1603687165926,
     "user": {
      "displayName": "Hyunjun Ju",
      "photoUrl": "https://lh3.googleusercontent.com/a-/AOh14GiCzaSSZyO3yoasrnyevyNptZrh7JcyJZBo1rp6eg=s64",
      "userId": "01229565994772394967"
     },
     "user_tz": -540
    },
    "id": "YmcD8isrU9NU"
   },
   "outputs": [],
   "source": [
    "import torch\n",
    "import torchvision.datasets as dsets\n",
    "import torchvision.transforms as transforms\n",
    "from torch.utils.data import DataLoader\n",
    "import torch.nn as nn\n",
    "import matplotlib.pyplot as plt\n",
    "import random"
   ]
  },
  {
   "cell_type": "code",
   "execution_count": 31,
   "metadata": {
    "executionInfo": {
     "elapsed": 5932,
     "status": "ok",
     "timestamp": 1603687165928,
     "user": {
      "displayName": "Hyunjun Ju",
      "photoUrl": "https://lh3.googleusercontent.com/a-/AOh14GiCzaSSZyO3yoasrnyevyNptZrh7JcyJZBo1rp6eg=s64",
      "userId": "01229565994772394967"
     },
     "user_tz": -540
    },
    "id": "xHu_2Y8gU_ZV"
   },
   "outputs": [],
   "source": [
    "device = torch.device(\"cuda\" if torch.cuda.is_available() else \"cpu\")"
   ]
  },
  {
   "cell_type": "code",
   "execution_count": 32,
   "metadata": {
    "colab": {
     "base_uri": "https://localhost:8080/",
     "height": 35
    },
    "executionInfo": {
     "elapsed": 5925,
     "status": "ok",
     "timestamp": 1603687165929,
     "user": {
      "displayName": "Hyunjun Ju",
      "photoUrl": "https://lh3.googleusercontent.com/a-/AOh14GiCzaSSZyO3yoasrnyevyNptZrh7JcyJZBo1rp6eg=s64",
      "userId": "01229565994772394967"
     },
     "user_tz": -540
    },
    "id": "slicCA2tVKJk",
    "outputId": "76c0eb8f-7028-4e07-f413-7281537b9cab"
   },
   "outputs": [
    {
     "name": "stdout",
     "output_type": "stream",
     "text": [
      "cuda\n"
     ]
    }
   ],
   "source": [
    "print(device)"
   ]
  },
  {
   "cell_type": "code",
   "execution_count": 33,
   "metadata": {
    "executionInfo": {
     "elapsed": 5925,
     "status": "ok",
     "timestamp": 1603687165931,
     "user": {
      "displayName": "Hyunjun Ju",
      "photoUrl": "https://lh3.googleusercontent.com/a-/AOh14GiCzaSSZyO3yoasrnyevyNptZrh7JcyJZBo1rp6eg=s64",
      "userId": "01229565994772394967"
     },
     "user_tz": -540
    },
    "id": "p6YH22bnVU6u"
   },
   "outputs": [],
   "source": [
    "# for reproducibility\n",
    "random.seed(777)\n",
    "torch.manual_seed(777)\n",
    "if device == 'cuda':\n",
    "    torch.cuda.manual_seed_all(777)"
   ]
  },
  {
   "cell_type": "code",
   "execution_count": 34,
   "metadata": {
    "executionInfo": {
     "elapsed": 5924,
     "status": "ok",
     "timestamp": 1603687165932,
     "user": {
      "displayName": "Hyunjun Ju",
      "photoUrl": "https://lh3.googleusercontent.com/a-/AOh14GiCzaSSZyO3yoasrnyevyNptZrh7JcyJZBo1rp6eg=s64",
      "userId": "01229565994772394967"
     },
     "user_tz": -540
    },
    "id": "UWGKOGPqVf5k"
   },
   "outputs": [],
   "source": [
    "# hyperparameters\n",
    "training_epochs = 15\n",
    "batch_size = 100"
   ]
  },
  {
   "cell_type": "markdown",
   "metadata": {
    "id": "wBdHDB4iVlGR"
   },
   "source": [
    "MNIST Classifier"
   ]
  },
  {
   "cell_type": "code",
   "execution_count": 35,
   "metadata": {
    "colab": {
     "base_uri": "https://localhost:8080/",
     "height": 399,
     "referenced_widgets": [
      "2738847a2cb043d6870e4635e9d43c87",
      "dcf153456d574f7184bfb71a55f847c6",
      "db7d6ac761aa479dba27b608e8cb893e",
      "2e58c8c0ec074cf78f4ae52dd5d25775",
      "5977c1a03a144b52adf8f2ce2949e4e9",
      "7206d62fb95b46d59856cc36f1b8ea28",
      "983cd538d54248ad9ebeea66bf1986e0",
      "7e7a91869b1a448d9f586ad04ef95c6b",
      "a4fa5edad7264cf48034f305fe638c7b",
      "b3a5a4e3c9a14715b1165ef34570e831",
      "d27355c6670d4d98aaa1507718fbd55b",
      "3d7897e73a4b424a9257c6987560a821",
      "bcbdc203fcd84f7285288d6b5b8bb23d",
      "a523523f1c55491f9f4bfd796d5aded8",
      "4dc6db8c0ab34234b1a6029cbab33c93",
      "4f73f6d14886452a9c6d7fc735f7d54f",
      "e556f7f9f1d04aa38951947488368d9b",
      "6156833e975646828337f651bb40428b",
      "58a74977f5a3408388b70e14a48c37f1",
      "a4d8cf9556eb4a09a47ef370416a3297",
      "02cb8a82db5a4276a8a21d0714a63175",
      "cb760007ae5d4e54beb806c997ca2d07",
      "ec988480fe5b4d89a491d0243ee7a39e",
      "75afe65f9eed41f2a367315c06c93df7",
      "0e9557de4ac5490e8c1e84af1f2692f7",
      "049ca91bb7654121973dcdde30125e16",
      "78898dd58ad948378f41faf28060acbe",
      "1ae2c59b2a054b1899c3232079163681",
      "4e64c6f4f76d4f5facd4ff50c45916f7",
      "aa5b4bdc7a5d4254bf08b592d5eb06f2",
      "580b6a7a5f3b49819921e1cb8671759b",
      "102c4b9adb3944a485002eb8e500b87c"
     ]
    },
    "executionInfo": {
     "elapsed": 8533,
     "status": "ok",
     "timestamp": 1603687168549,
     "user": {
      "displayName": "Hyunjun Ju",
      "photoUrl": "https://lh3.googleusercontent.com/a-/AOh14GiCzaSSZyO3yoasrnyevyNptZrh7JcyJZBo1rp6eg=s64",
      "userId": "01229565994772394967"
     },
     "user_tz": -540
    },
    "id": "hYDYMiCZVhO8",
    "outputId": "7f2b9d23-3c09-4868-83db-6ea3b0d22d40"
   },
   "outputs": [
    {
     "name": "stderr",
     "output_type": "stream",
     "text": [
      "/home/hyunjun/anaconda3/envs/rs/lib/python3.8/site-packages/torchvision/datasets/mnist.py:498: UserWarning: The given NumPy array is not writeable, and PyTorch does not support non-writeable tensors. This means you can write to the underlying (supposedly non-writeable) NumPy array using the tensor. You may want to copy the array to protect its data or make it writeable before converting it to a tensor. This type of warning will be suppressed for the rest of this program. (Triggered internally at  /opt/conda/conda-bld/pytorch_1631630839582/work/torch/csrc/utils/tensor_numpy.cpp:180.)\n",
      "  return torch.from_numpy(parsed.astype(m[2], copy=False)).view(*s)\n"
     ]
    }
   ],
   "source": [
    "# MNIST dataset\n",
    "mnist_train = dsets.MNIST(root='MNIST_data/',\n",
    "                          train=True,\n",
    "                          transform=transforms.ToTensor(),\n",
    "                          download=True)\n",
    "\n",
    "mnist_test = dsets.MNIST(root='MNIST_data/',\n",
    "                         train=False,\n",
    "                         transform=transforms.ToTensor(),\n",
    "                         download=True)"
   ]
  },
  {
   "cell_type": "code",
   "execution_count": 36,
   "metadata": {
    "executionInfo": {
     "elapsed": 8532,
     "status": "ok",
     "timestamp": 1603687168550,
     "user": {
      "displayName": "Hyunjun Ju",
      "photoUrl": "https://lh3.googleusercontent.com/a-/AOh14GiCzaSSZyO3yoasrnyevyNptZrh7JcyJZBo1rp6eg=s64",
      "userId": "01229565994772394967"
     },
     "user_tz": -540
    },
    "id": "60t9fFYiVoNU"
   },
   "outputs": [],
   "source": [
    "# dataset loader\n",
    "data_loader = DataLoader(dataset=mnist_train,\n",
    "                         batch_size=batch_size, # 배치 크기는 100\n",
    "                         shuffle=True,\n",
    "                         drop_last=True)"
   ]
  },
  {
   "cell_type": "code",
   "execution_count": 37,
   "metadata": {
    "executionInfo": {
     "elapsed": 18739,
     "status": "ok",
     "timestamp": 1603687178759,
     "user": {
      "displayName": "Hyunjun Ju",
      "photoUrl": "https://lh3.googleusercontent.com/a-/AOh14GiCzaSSZyO3yoasrnyevyNptZrh7JcyJZBo1rp6eg=s64",
      "userId": "01229565994772394967"
     },
     "user_tz": -540
    },
    "id": "SonswzDyVsBM"
   },
   "outputs": [],
   "source": [
    "# MNIST data image of shape 28 * 28 = 784\n",
    "linear = nn.Linear(784, 10, bias=True).to(device)"
   ]
  },
  {
   "cell_type": "code",
   "execution_count": 38,
   "metadata": {
    "executionInfo": {
     "elapsed": 18740,
     "status": "ok",
     "timestamp": 1603687178762,
     "user": {
      "displayName": "Hyunjun Ju",
      "photoUrl": "https://lh3.googleusercontent.com/a-/AOh14GiCzaSSZyO3yoasrnyevyNptZrh7JcyJZBo1rp6eg=s64",
      "userId": "01229565994772394967"
     },
     "user_tz": -540
    },
    "id": "D3Xn7RaRV2EE"
   },
   "outputs": [],
   "source": [
    "# 비용 함수와 옵티마이저 정의\n",
    "criterion = nn.CrossEntropyLoss() # 내부적으로 소프트맥스 함수를 포함하고 있음.\n",
    "optimizer = torch.optim.SGD(linear.parameters(), lr=0.1)"
   ]
  },
  {
   "cell_type": "code",
   "execution_count": 39,
   "metadata": {
    "colab": {
     "base_uri": "https://localhost:8080/",
     "height": 305
    },
    "executionInfo": {
     "elapsed": 81562,
     "status": "ok",
     "timestamp": 1603687241592,
     "user": {
      "displayName": "Hyunjun Ju",
      "photoUrl": "https://lh3.googleusercontent.com/a-/AOh14GiCzaSSZyO3yoasrnyevyNptZrh7JcyJZBo1rp6eg=s64",
      "userId": "01229565994772394967"
     },
     "user_tz": -540
    },
    "id": "_BKX4IsaV7AM",
    "outputId": "d4a20920-373b-44ef-aa40-784c5a84d28c"
   },
   "outputs": [
    {
     "name": "stdout",
     "output_type": "stream",
     "text": [
      "Epoch:    1 Cost: 0.535146952\n",
      "Epoch:    2 Cost: 0.359576732\n",
      "Epoch:    3 Cost: 0.331263363\n",
      "Epoch:    4 Cost: 0.316403836\n",
      "Epoch:    5 Cost: 0.307106405\n",
      "Epoch:    6 Cost: 0.300456613\n",
      "Epoch:    7 Cost: 0.294932663\n",
      "Epoch:    8 Cost: 0.290955693\n",
      "Epoch:    9 Cost: 0.287074119\n",
      "Epoch:   10 Cost: 0.284515440\n",
      "Epoch:   11 Cost: 0.281915218\n",
      "Epoch:   12 Cost: 0.279527277\n",
      "Epoch:   13 Cost: 0.277636498\n",
      "Epoch:   14 Cost: 0.275875330\n",
      "Epoch:   15 Cost: 0.274422616\n",
      "Learning finished\n"
     ]
    }
   ],
   "source": [
    "for epoch in range(training_epochs): # 앞서 training_epochs의 값은 15로 지정함.\n",
    "    avg_cost = 0\n",
    "    total_batch = len(data_loader)\n",
    "\n",
    "    for X, Y in data_loader:\n",
    "        # 배치 크기가 100이므로 아래의 연산에서 X는 (100, 784)의 텐서가 된다.\n",
    "        X = X.view(-1, 28 * 28).to(device)\n",
    "        # 레이블은 원-핫 인코딩이 된 상태가 아니라 0 ~ 9의 정수.\n",
    "        Y = Y.to(device)\n",
    "\n",
    "        optimizer.zero_grad()\n",
    "        hypothesis = linear(X)\n",
    "        cost = criterion(hypothesis, Y)\n",
    "        cost.backward()\n",
    "        optimizer.step()\n",
    "\n",
    "        avg_cost += cost / total_batch\n",
    "    print(f\"Epoch: {epoch+1:4d} Cost: {avg_cost:.9f}\")\n",
    "\n",
    "print('Learning finished')"
   ]
  },
  {
   "cell_type": "markdown",
   "metadata": {
    "id": "Ql7EbVDvUYKb"
   },
   "source": [
    "Class를 이용해서 구현 + Custom DataLoader 사용해 보기"
   ]
  },
  {
   "cell_type": "code",
   "execution_count": 40,
   "metadata": {
    "executionInfo": {
     "elapsed": 81561,
     "status": "ok",
     "timestamp": 1603687241593,
     "user": {
      "displayName": "Hyunjun Ju",
      "photoUrl": "https://lh3.googleusercontent.com/a-/AOh14GiCzaSSZyO3yoasrnyevyNptZrh7JcyJZBo1rp6eg=s64",
      "userId": "01229565994772394967"
     },
     "user_tz": -540
    },
    "id": "QBnvOVm9V9Fk"
   },
   "outputs": [],
   "source": [
    "import torch\n",
    "from torchvision import transforms\n",
    "\n",
    "class MNISTDataset(torch.utils.data.Dataset):\n",
    "    def __init__(self, x, y):\n",
    "        self.x = x.type(torch.float)\n",
    "        self.y = y\n",
    "    \n",
    "    def __len__(self):\n",
    "        return len(self.x)\n",
    "    \n",
    "    def __getitem__(self, idx):\n",
    "        x = self.x[idx]\n",
    "        y = self.y[idx]\n",
    "        return x, y"
   ]
  },
  {
   "cell_type": "code",
   "execution_count": 41,
   "metadata": {
    "id": "6RNyJECiUezW"
   },
   "outputs": [],
   "source": [
    "x_train = mnist_train.data / 256.\n",
    "y_train = mnist_train.targets\n",
    "\n",
    "x_test = mnist_test.data\n",
    "y_test = mnist_test.targets"
   ]
  },
  {
   "cell_type": "code",
   "execution_count": 42,
   "metadata": {
    "id": "VgnqD4syUhFY"
   },
   "outputs": [],
   "source": [
    "mnist_train_data = MNISTDataset(x_train, y_train)\n",
    "data_loader = DataLoader(dataset=mnist_train_data,\n",
    "                         batch_size=batch_size,\n",
    "                         shuffle=True,\n",
    "                         drop_last=True)"
   ]
  },
  {
   "cell_type": "code",
   "execution_count": 43,
   "metadata": {
    "id": "4JkPIEoFUkDi"
   },
   "outputs": [],
   "source": [
    "class MultiClassLinear(nn.Module):\n",
    "    def __init__(self):\n",
    "        super().__init__()\n",
    "        self.linear = nn.Linear(784, 10, bias=True)\n",
    "    \n",
    "    def forward(self, x):\n",
    "        return self.linear(x)"
   ]
  },
  {
   "cell_type": "code",
   "execution_count": 44,
   "metadata": {
    "id": "bEdNQK0aUln6"
   },
   "outputs": [],
   "source": [
    "model = MultiClassLinear().to(device)"
   ]
  },
  {
   "cell_type": "code",
   "execution_count": 45,
   "metadata": {
    "id": "aOP92oVcUofe"
   },
   "outputs": [],
   "source": [
    "criterion = nn.CrossEntropyLoss()\n",
    "optimizer = torch.optim.SGD(model.parameters(), lr=0.1)"
   ]
  },
  {
   "cell_type": "code",
   "execution_count": 46,
   "metadata": {
    "id": "qB5Ly3NSUqcl"
   },
   "outputs": [
    {
     "name": "stdout",
     "output_type": "stream",
     "text": [
      "Epoch 1 Cost: 0.536661208\n",
      "Epoch 2 Cost: 0.359472930\n",
      "Epoch 3 Cost: 0.331387818\n",
      "Epoch 4 Cost: 0.316781759\n",
      "Epoch 5 Cost: 0.307173431\n",
      "Epoch 6 Cost: 0.300340682\n",
      "Epoch 7 Cost: 0.295135945\n",
      "Epoch 8 Cost: 0.291005462\n",
      "Epoch 9 Cost: 0.287376732\n",
      "Epoch 10 Cost: 0.284606814\n",
      "Epoch 11 Cost: 0.282073289\n",
      "Epoch 12 Cost: 0.279778481\n",
      "Epoch 13 Cost: 0.277753502\n",
      "Epoch 14 Cost: 0.276224583\n",
      "Epoch 15 Cost: 0.274617076\n",
      "Learning finished\n"
     ]
    }
   ],
   "source": [
    "for epoch in range(training_epochs):\n",
    "    avg_cost = 0\n",
    "    total_batch = len(data_loader)\n",
    "    \n",
    "    for x, y in data_loader:\n",
    "        x = x.view(-1, 28 * 28).to(device)\n",
    "        y = y.to(device)\n",
    "        hypothesis = model(x)\n",
    "        cost = criterion(hypothesis, y)\n",
    "        optimizer.zero_grad()\n",
    "        cost.backward()\n",
    "        optimizer.step()\n",
    "\n",
    "        avg_cost += cost / total_batch\n",
    "    print(f\"Epoch {epoch+1} Cost: {avg_cost:.9f}\")\n",
    "print('Learning finished')"
   ]
  },
  {
   "cell_type": "code",
   "execution_count": null,
   "metadata": {},
   "outputs": [],
   "source": []
  }
 ],
 "metadata": {
  "accelerator": "GPU",
  "colab": {
   "authorship_tag": "ABX9TyPtUwHPUxuL5cKTKov2tRHL",
   "collapsed_sections": [],
   "name": "4.Pytorch_Multiclass_Classification.ipynb",
   "provenance": [],
   "toc_visible": true
  },
  "kernelspec": {
   "display_name": "Python 3 (ipykernel)",
   "language": "python",
   "name": "python3"
  },
  "language_info": {
   "codemirror_mode": {
    "name": "ipython",
    "version": 3
   },
   "file_extension": ".py",
   "mimetype": "text/x-python",
   "name": "python",
   "nbconvert_exporter": "python",
   "pygments_lexer": "ipython3",
   "version": "3.8.12"
  },
  "widgets": {
   "application/vnd.jupyter.widget-state+json": {
    "02cb8a82db5a4276a8a21d0714a63175": {
     "model_module": "@jupyter-widgets/controls",
     "model_name": "ProgressStyleModel",
     "state": {
      "_model_module": "@jupyter-widgets/controls",
      "_model_module_version": "1.5.0",
      "_model_name": "ProgressStyleModel",
      "_view_count": null,
      "_view_module": "@jupyter-widgets/base",
      "_view_module_version": "1.2.0",
      "_view_name": "StyleView",
      "bar_color": null,
      "description_width": "initial"
     }
    },
    "049ca91bb7654121973dcdde30125e16": {
     "model_module": "@jupyter-widgets/base",
     "model_name": "LayoutModel",
     "state": {
      "_model_module": "@jupyter-widgets/base",
      "_model_module_version": "1.2.0",
      "_model_name": "LayoutModel",
      "_view_count": null,
      "_view_module": "@jupyter-widgets/base",
      "_view_module_version": "1.2.0",
      "_view_name": "LayoutView",
      "align_content": null,
      "align_items": null,
      "align_self": null,
      "border": null,
      "bottom": null,
      "display": null,
      "flex": null,
      "flex_flow": null,
      "grid_area": null,
      "grid_auto_columns": null,
      "grid_auto_flow": null,
      "grid_auto_rows": null,
      "grid_column": null,
      "grid_gap": null,
      "grid_row": null,
      "grid_template_areas": null,
      "grid_template_columns": null,
      "grid_template_rows": null,
      "height": null,
      "justify_content": null,
      "justify_items": null,
      "left": null,
      "margin": null,
      "max_height": null,
      "max_width": null,
      "min_height": null,
      "min_width": null,
      "object_fit": null,
      "object_position": null,
      "order": null,
      "overflow": null,
      "overflow_x": null,
      "overflow_y": null,
      "padding": null,
      "right": null,
      "top": null,
      "visibility": null,
      "width": null
     }
    },
    "0e9557de4ac5490e8c1e84af1f2692f7": {
     "model_module": "@jupyter-widgets/controls",
     "model_name": "HBoxModel",
     "state": {
      "_dom_classes": [],
      "_model_module": "@jupyter-widgets/controls",
      "_model_module_version": "1.5.0",
      "_model_name": "HBoxModel",
      "_view_count": null,
      "_view_module": "@jupyter-widgets/controls",
      "_view_module_version": "1.5.0",
      "_view_name": "HBoxView",
      "box_style": "",
      "children": [
       "IPY_MODEL_78898dd58ad948378f41faf28060acbe",
       "IPY_MODEL_1ae2c59b2a054b1899c3232079163681"
      ],
      "layout": "IPY_MODEL_049ca91bb7654121973dcdde30125e16"
     }
    },
    "102c4b9adb3944a485002eb8e500b87c": {
     "model_module": "@jupyter-widgets/base",
     "model_name": "LayoutModel",
     "state": {
      "_model_module": "@jupyter-widgets/base",
      "_model_module_version": "1.2.0",
      "_model_name": "LayoutModel",
      "_view_count": null,
      "_view_module": "@jupyter-widgets/base",
      "_view_module_version": "1.2.0",
      "_view_name": "LayoutView",
      "align_content": null,
      "align_items": null,
      "align_self": null,
      "border": null,
      "bottom": null,
      "display": null,
      "flex": null,
      "flex_flow": null,
      "grid_area": null,
      "grid_auto_columns": null,
      "grid_auto_flow": null,
      "grid_auto_rows": null,
      "grid_column": null,
      "grid_gap": null,
      "grid_row": null,
      "grid_template_areas": null,
      "grid_template_columns": null,
      "grid_template_rows": null,
      "height": null,
      "justify_content": null,
      "justify_items": null,
      "left": null,
      "margin": null,
      "max_height": null,
      "max_width": null,
      "min_height": null,
      "min_width": null,
      "object_fit": null,
      "object_position": null,
      "order": null,
      "overflow": null,
      "overflow_x": null,
      "overflow_y": null,
      "padding": null,
      "right": null,
      "top": null,
      "visibility": null,
      "width": null
     }
    },
    "1ae2c59b2a054b1899c3232079163681": {
     "model_module": "@jupyter-widgets/controls",
     "model_name": "HTMLModel",
     "state": {
      "_dom_classes": [],
      "_model_module": "@jupyter-widgets/controls",
      "_model_module_version": "1.5.0",
      "_model_name": "HTMLModel",
      "_view_count": null,
      "_view_module": "@jupyter-widgets/controls",
      "_view_module_version": "1.5.0",
      "_view_name": "HTMLView",
      "description": "",
      "description_tooltip": null,
      "layout": "IPY_MODEL_102c4b9adb3944a485002eb8e500b87c",
      "placeholder": "​",
      "style": "IPY_MODEL_580b6a7a5f3b49819921e1cb8671759b",
      "value": " 0/4542 [00:00&lt;?, ?it/s]"
     }
    },
    "2738847a2cb043d6870e4635e9d43c87": {
     "model_module": "@jupyter-widgets/controls",
     "model_name": "HBoxModel",
     "state": {
      "_dom_classes": [],
      "_model_module": "@jupyter-widgets/controls",
      "_model_module_version": "1.5.0",
      "_model_name": "HBoxModel",
      "_view_count": null,
      "_view_module": "@jupyter-widgets/controls",
      "_view_module_version": "1.5.0",
      "_view_name": "HBoxView",
      "box_style": "",
      "children": [
       "IPY_MODEL_db7d6ac761aa479dba27b608e8cb893e",
       "IPY_MODEL_2e58c8c0ec074cf78f4ae52dd5d25775"
      ],
      "layout": "IPY_MODEL_dcf153456d574f7184bfb71a55f847c6"
     }
    },
    "2e58c8c0ec074cf78f4ae52dd5d25775": {
     "model_module": "@jupyter-widgets/controls",
     "model_name": "HTMLModel",
     "state": {
      "_dom_classes": [],
      "_model_module": "@jupyter-widgets/controls",
      "_model_module_version": "1.5.0",
      "_model_name": "HTMLModel",
      "_view_count": null,
      "_view_module": "@jupyter-widgets/controls",
      "_view_module_version": "1.5.0",
      "_view_name": "HTMLView",
      "description": "",
      "description_tooltip": null,
      "layout": "IPY_MODEL_7e7a91869b1a448d9f586ad04ef95c6b",
      "placeholder": "​",
      "style": "IPY_MODEL_983cd538d54248ad9ebeea66bf1986e0",
      "value": " 9920512/? [00:20&lt;00:00, 792864.60it/s]"
     }
    },
    "3d7897e73a4b424a9257c6987560a821": {
     "model_module": "@jupyter-widgets/controls",
     "model_name": "HTMLModel",
     "state": {
      "_dom_classes": [],
      "_model_module": "@jupyter-widgets/controls",
      "_model_module_version": "1.5.0",
      "_model_name": "HTMLModel",
      "_view_count": null,
      "_view_module": "@jupyter-widgets/controls",
      "_view_module_version": "1.5.0",
      "_view_name": "HTMLView",
      "description": "",
      "description_tooltip": null,
      "layout": "IPY_MODEL_4f73f6d14886452a9c6d7fc735f7d54f",
      "placeholder": "​",
      "style": "IPY_MODEL_4dc6db8c0ab34234b1a6029cbab33c93",
      "value": " 32768/? [00:00&lt;00:00, 117654.42it/s]"
     }
    },
    "4dc6db8c0ab34234b1a6029cbab33c93": {
     "model_module": "@jupyter-widgets/controls",
     "model_name": "DescriptionStyleModel",
     "state": {
      "_model_module": "@jupyter-widgets/controls",
      "_model_module_version": "1.5.0",
      "_model_name": "DescriptionStyleModel",
      "_view_count": null,
      "_view_module": "@jupyter-widgets/base",
      "_view_module_version": "1.2.0",
      "_view_name": "StyleView",
      "description_width": ""
     }
    },
    "4e64c6f4f76d4f5facd4ff50c45916f7": {
     "model_module": "@jupyter-widgets/controls",
     "model_name": "ProgressStyleModel",
     "state": {
      "_model_module": "@jupyter-widgets/controls",
      "_model_module_version": "1.5.0",
      "_model_name": "ProgressStyleModel",
      "_view_count": null,
      "_view_module": "@jupyter-widgets/base",
      "_view_module_version": "1.2.0",
      "_view_name": "StyleView",
      "bar_color": null,
      "description_width": "initial"
     }
    },
    "4f73f6d14886452a9c6d7fc735f7d54f": {
     "model_module": "@jupyter-widgets/base",
     "model_name": "LayoutModel",
     "state": {
      "_model_module": "@jupyter-widgets/base",
      "_model_module_version": "1.2.0",
      "_model_name": "LayoutModel",
      "_view_count": null,
      "_view_module": "@jupyter-widgets/base",
      "_view_module_version": "1.2.0",
      "_view_name": "LayoutView",
      "align_content": null,
      "align_items": null,
      "align_self": null,
      "border": null,
      "bottom": null,
      "display": null,
      "flex": null,
      "flex_flow": null,
      "grid_area": null,
      "grid_auto_columns": null,
      "grid_auto_flow": null,
      "grid_auto_rows": null,
      "grid_column": null,
      "grid_gap": null,
      "grid_row": null,
      "grid_template_areas": null,
      "grid_template_columns": null,
      "grid_template_rows": null,
      "height": null,
      "justify_content": null,
      "justify_items": null,
      "left": null,
      "margin": null,
      "max_height": null,
      "max_width": null,
      "min_height": null,
      "min_width": null,
      "object_fit": null,
      "object_position": null,
      "order": null,
      "overflow": null,
      "overflow_x": null,
      "overflow_y": null,
      "padding": null,
      "right": null,
      "top": null,
      "visibility": null,
      "width": null
     }
    },
    "580b6a7a5f3b49819921e1cb8671759b": {
     "model_module": "@jupyter-widgets/controls",
     "model_name": "DescriptionStyleModel",
     "state": {
      "_model_module": "@jupyter-widgets/controls",
      "_model_module_version": "1.5.0",
      "_model_name": "DescriptionStyleModel",
      "_view_count": null,
      "_view_module": "@jupyter-widgets/base",
      "_view_module_version": "1.2.0",
      "_view_name": "StyleView",
      "description_width": ""
     }
    },
    "58a74977f5a3408388b70e14a48c37f1": {
     "model_module": "@jupyter-widgets/controls",
     "model_name": "FloatProgressModel",
     "state": {
      "_dom_classes": [],
      "_model_module": "@jupyter-widgets/controls",
      "_model_module_version": "1.5.0",
      "_model_name": "FloatProgressModel",
      "_view_count": null,
      "_view_module": "@jupyter-widgets/controls",
      "_view_module_version": "1.5.0",
      "_view_name": "ProgressView",
      "bar_style": "info",
      "description": "",
      "description_tooltip": null,
      "layout": "IPY_MODEL_cb760007ae5d4e54beb806c997ca2d07",
      "max": 1,
      "min": 0,
      "orientation": "horizontal",
      "style": "IPY_MODEL_02cb8a82db5a4276a8a21d0714a63175",
      "value": 1
     }
    },
    "5977c1a03a144b52adf8f2ce2949e4e9": {
     "model_module": "@jupyter-widgets/controls",
     "model_name": "ProgressStyleModel",
     "state": {
      "_model_module": "@jupyter-widgets/controls",
      "_model_module_version": "1.5.0",
      "_model_name": "ProgressStyleModel",
      "_view_count": null,
      "_view_module": "@jupyter-widgets/base",
      "_view_module_version": "1.2.0",
      "_view_name": "StyleView",
      "bar_color": null,
      "description_width": "initial"
     }
    },
    "6156833e975646828337f651bb40428b": {
     "model_module": "@jupyter-widgets/base",
     "model_name": "LayoutModel",
     "state": {
      "_model_module": "@jupyter-widgets/base",
      "_model_module_version": "1.2.0",
      "_model_name": "LayoutModel",
      "_view_count": null,
      "_view_module": "@jupyter-widgets/base",
      "_view_module_version": "1.2.0",
      "_view_name": "LayoutView",
      "align_content": null,
      "align_items": null,
      "align_self": null,
      "border": null,
      "bottom": null,
      "display": null,
      "flex": null,
      "flex_flow": null,
      "grid_area": null,
      "grid_auto_columns": null,
      "grid_auto_flow": null,
      "grid_auto_rows": null,
      "grid_column": null,
      "grid_gap": null,
      "grid_row": null,
      "grid_template_areas": null,
      "grid_template_columns": null,
      "grid_template_rows": null,
      "height": null,
      "justify_content": null,
      "justify_items": null,
      "left": null,
      "margin": null,
      "max_height": null,
      "max_width": null,
      "min_height": null,
      "min_width": null,
      "object_fit": null,
      "object_position": null,
      "order": null,
      "overflow": null,
      "overflow_x": null,
      "overflow_y": null,
      "padding": null,
      "right": null,
      "top": null,
      "visibility": null,
      "width": null
     }
    },
    "7206d62fb95b46d59856cc36f1b8ea28": {
     "model_module": "@jupyter-widgets/base",
     "model_name": "LayoutModel",
     "state": {
      "_model_module": "@jupyter-widgets/base",
      "_model_module_version": "1.2.0",
      "_model_name": "LayoutModel",
      "_view_count": null,
      "_view_module": "@jupyter-widgets/base",
      "_view_module_version": "1.2.0",
      "_view_name": "LayoutView",
      "align_content": null,
      "align_items": null,
      "align_self": null,
      "border": null,
      "bottom": null,
      "display": null,
      "flex": null,
      "flex_flow": null,
      "grid_area": null,
      "grid_auto_columns": null,
      "grid_auto_flow": null,
      "grid_auto_rows": null,
      "grid_column": null,
      "grid_gap": null,
      "grid_row": null,
      "grid_template_areas": null,
      "grid_template_columns": null,
      "grid_template_rows": null,
      "height": null,
      "justify_content": null,
      "justify_items": null,
      "left": null,
      "margin": null,
      "max_height": null,
      "max_width": null,
      "min_height": null,
      "min_width": null,
      "object_fit": null,
      "object_position": null,
      "order": null,
      "overflow": null,
      "overflow_x": null,
      "overflow_y": null,
      "padding": null,
      "right": null,
      "top": null,
      "visibility": null,
      "width": null
     }
    },
    "75afe65f9eed41f2a367315c06c93df7": {
     "model_module": "@jupyter-widgets/base",
     "model_name": "LayoutModel",
     "state": {
      "_model_module": "@jupyter-widgets/base",
      "_model_module_version": "1.2.0",
      "_model_name": "LayoutModel",
      "_view_count": null,
      "_view_module": "@jupyter-widgets/base",
      "_view_module_version": "1.2.0",
      "_view_name": "LayoutView",
      "align_content": null,
      "align_items": null,
      "align_self": null,
      "border": null,
      "bottom": null,
      "display": null,
      "flex": null,
      "flex_flow": null,
      "grid_area": null,
      "grid_auto_columns": null,
      "grid_auto_flow": null,
      "grid_auto_rows": null,
      "grid_column": null,
      "grid_gap": null,
      "grid_row": null,
      "grid_template_areas": null,
      "grid_template_columns": null,
      "grid_template_rows": null,
      "height": null,
      "justify_content": null,
      "justify_items": null,
      "left": null,
      "margin": null,
      "max_height": null,
      "max_width": null,
      "min_height": null,
      "min_width": null,
      "object_fit": null,
      "object_position": null,
      "order": null,
      "overflow": null,
      "overflow_x": null,
      "overflow_y": null,
      "padding": null,
      "right": null,
      "top": null,
      "visibility": null,
      "width": null
     }
    },
    "78898dd58ad948378f41faf28060acbe": {
     "model_module": "@jupyter-widgets/controls",
     "model_name": "FloatProgressModel",
     "state": {
      "_dom_classes": [],
      "_model_module": "@jupyter-widgets/controls",
      "_model_module_version": "1.5.0",
      "_model_name": "FloatProgressModel",
      "_view_count": null,
      "_view_module": "@jupyter-widgets/controls",
      "_view_module_version": "1.5.0",
      "_view_name": "ProgressView",
      "bar_style": "info",
      "description": "  0%",
      "description_tooltip": null,
      "layout": "IPY_MODEL_aa5b4bdc7a5d4254bf08b592d5eb06f2",
      "max": 1,
      "min": 0,
      "orientation": "horizontal",
      "style": "IPY_MODEL_4e64c6f4f76d4f5facd4ff50c45916f7",
      "value": 0
     }
    },
    "7e7a91869b1a448d9f586ad04ef95c6b": {
     "model_module": "@jupyter-widgets/base",
     "model_name": "LayoutModel",
     "state": {
      "_model_module": "@jupyter-widgets/base",
      "_model_module_version": "1.2.0",
      "_model_name": "LayoutModel",
      "_view_count": null,
      "_view_module": "@jupyter-widgets/base",
      "_view_module_version": "1.2.0",
      "_view_name": "LayoutView",
      "align_content": null,
      "align_items": null,
      "align_self": null,
      "border": null,
      "bottom": null,
      "display": null,
      "flex": null,
      "flex_flow": null,
      "grid_area": null,
      "grid_auto_columns": null,
      "grid_auto_flow": null,
      "grid_auto_rows": null,
      "grid_column": null,
      "grid_gap": null,
      "grid_row": null,
      "grid_template_areas": null,
      "grid_template_columns": null,
      "grid_template_rows": null,
      "height": null,
      "justify_content": null,
      "justify_items": null,
      "left": null,
      "margin": null,
      "max_height": null,
      "max_width": null,
      "min_height": null,
      "min_width": null,
      "object_fit": null,
      "object_position": null,
      "order": null,
      "overflow": null,
      "overflow_x": null,
      "overflow_y": null,
      "padding": null,
      "right": null,
      "top": null,
      "visibility": null,
      "width": null
     }
    },
    "983cd538d54248ad9ebeea66bf1986e0": {
     "model_module": "@jupyter-widgets/controls",
     "model_name": "DescriptionStyleModel",
     "state": {
      "_model_module": "@jupyter-widgets/controls",
      "_model_module_version": "1.5.0",
      "_model_name": "DescriptionStyleModel",
      "_view_count": null,
      "_view_module": "@jupyter-widgets/base",
      "_view_module_version": "1.2.0",
      "_view_name": "StyleView",
      "description_width": ""
     }
    },
    "a4d8cf9556eb4a09a47ef370416a3297": {
     "model_module": "@jupyter-widgets/controls",
     "model_name": "HTMLModel",
     "state": {
      "_dom_classes": [],
      "_model_module": "@jupyter-widgets/controls",
      "_model_module_version": "1.5.0",
      "_model_name": "HTMLModel",
      "_view_count": null,
      "_view_module": "@jupyter-widgets/controls",
      "_view_module_version": "1.5.0",
      "_view_name": "HTMLView",
      "description": "",
      "description_tooltip": null,
      "layout": "IPY_MODEL_75afe65f9eed41f2a367315c06c93df7",
      "placeholder": "​",
      "style": "IPY_MODEL_ec988480fe5b4d89a491d0243ee7a39e",
      "value": " 1654784/? [00:18&lt;00:00, 534373.72it/s]"
     }
    },
    "a4fa5edad7264cf48034f305fe638c7b": {
     "model_module": "@jupyter-widgets/controls",
     "model_name": "HBoxModel",
     "state": {
      "_dom_classes": [],
      "_model_module": "@jupyter-widgets/controls",
      "_model_module_version": "1.5.0",
      "_model_name": "HBoxModel",
      "_view_count": null,
      "_view_module": "@jupyter-widgets/controls",
      "_view_module_version": "1.5.0",
      "_view_name": "HBoxView",
      "box_style": "",
      "children": [
       "IPY_MODEL_d27355c6670d4d98aaa1507718fbd55b",
       "IPY_MODEL_3d7897e73a4b424a9257c6987560a821"
      ],
      "layout": "IPY_MODEL_b3a5a4e3c9a14715b1165ef34570e831"
     }
    },
    "a523523f1c55491f9f4bfd796d5aded8": {
     "model_module": "@jupyter-widgets/base",
     "model_name": "LayoutModel",
     "state": {
      "_model_module": "@jupyter-widgets/base",
      "_model_module_version": "1.2.0",
      "_model_name": "LayoutModel",
      "_view_count": null,
      "_view_module": "@jupyter-widgets/base",
      "_view_module_version": "1.2.0",
      "_view_name": "LayoutView",
      "align_content": null,
      "align_items": null,
      "align_self": null,
      "border": null,
      "bottom": null,
      "display": null,
      "flex": null,
      "flex_flow": null,
      "grid_area": null,
      "grid_auto_columns": null,
      "grid_auto_flow": null,
      "grid_auto_rows": null,
      "grid_column": null,
      "grid_gap": null,
      "grid_row": null,
      "grid_template_areas": null,
      "grid_template_columns": null,
      "grid_template_rows": null,
      "height": null,
      "justify_content": null,
      "justify_items": null,
      "left": null,
      "margin": null,
      "max_height": null,
      "max_width": null,
      "min_height": null,
      "min_width": null,
      "object_fit": null,
      "object_position": null,
      "order": null,
      "overflow": null,
      "overflow_x": null,
      "overflow_y": null,
      "padding": null,
      "right": null,
      "top": null,
      "visibility": null,
      "width": null
     }
    },
    "aa5b4bdc7a5d4254bf08b592d5eb06f2": {
     "model_module": "@jupyter-widgets/base",
     "model_name": "LayoutModel",
     "state": {
      "_model_module": "@jupyter-widgets/base",
      "_model_module_version": "1.2.0",
      "_model_name": "LayoutModel",
      "_view_count": null,
      "_view_module": "@jupyter-widgets/base",
      "_view_module_version": "1.2.0",
      "_view_name": "LayoutView",
      "align_content": null,
      "align_items": null,
      "align_self": null,
      "border": null,
      "bottom": null,
      "display": null,
      "flex": null,
      "flex_flow": null,
      "grid_area": null,
      "grid_auto_columns": null,
      "grid_auto_flow": null,
      "grid_auto_rows": null,
      "grid_column": null,
      "grid_gap": null,
      "grid_row": null,
      "grid_template_areas": null,
      "grid_template_columns": null,
      "grid_template_rows": null,
      "height": null,
      "justify_content": null,
      "justify_items": null,
      "left": null,
      "margin": null,
      "max_height": null,
      "max_width": null,
      "min_height": null,
      "min_width": null,
      "object_fit": null,
      "object_position": null,
      "order": null,
      "overflow": null,
      "overflow_x": null,
      "overflow_y": null,
      "padding": null,
      "right": null,
      "top": null,
      "visibility": null,
      "width": null
     }
    },
    "b3a5a4e3c9a14715b1165ef34570e831": {
     "model_module": "@jupyter-widgets/base",
     "model_name": "LayoutModel",
     "state": {
      "_model_module": "@jupyter-widgets/base",
      "_model_module_version": "1.2.0",
      "_model_name": "LayoutModel",
      "_view_count": null,
      "_view_module": "@jupyter-widgets/base",
      "_view_module_version": "1.2.0",
      "_view_name": "LayoutView",
      "align_content": null,
      "align_items": null,
      "align_self": null,
      "border": null,
      "bottom": null,
      "display": null,
      "flex": null,
      "flex_flow": null,
      "grid_area": null,
      "grid_auto_columns": null,
      "grid_auto_flow": null,
      "grid_auto_rows": null,
      "grid_column": null,
      "grid_gap": null,
      "grid_row": null,
      "grid_template_areas": null,
      "grid_template_columns": null,
      "grid_template_rows": null,
      "height": null,
      "justify_content": null,
      "justify_items": null,
      "left": null,
      "margin": null,
      "max_height": null,
      "max_width": null,
      "min_height": null,
      "min_width": null,
      "object_fit": null,
      "object_position": null,
      "order": null,
      "overflow": null,
      "overflow_x": null,
      "overflow_y": null,
      "padding": null,
      "right": null,
      "top": null,
      "visibility": null,
      "width": null
     }
    },
    "bcbdc203fcd84f7285288d6b5b8bb23d": {
     "model_module": "@jupyter-widgets/controls",
     "model_name": "ProgressStyleModel",
     "state": {
      "_model_module": "@jupyter-widgets/controls",
      "_model_module_version": "1.5.0",
      "_model_name": "ProgressStyleModel",
      "_view_count": null,
      "_view_module": "@jupyter-widgets/base",
      "_view_module_version": "1.2.0",
      "_view_name": "StyleView",
      "bar_color": null,
      "description_width": "initial"
     }
    },
    "cb760007ae5d4e54beb806c997ca2d07": {
     "model_module": "@jupyter-widgets/base",
     "model_name": "LayoutModel",
     "state": {
      "_model_module": "@jupyter-widgets/base",
      "_model_module_version": "1.2.0",
      "_model_name": "LayoutModel",
      "_view_count": null,
      "_view_module": "@jupyter-widgets/base",
      "_view_module_version": "1.2.0",
      "_view_name": "LayoutView",
      "align_content": null,
      "align_items": null,
      "align_self": null,
      "border": null,
      "bottom": null,
      "display": null,
      "flex": null,
      "flex_flow": null,
      "grid_area": null,
      "grid_auto_columns": null,
      "grid_auto_flow": null,
      "grid_auto_rows": null,
      "grid_column": null,
      "grid_gap": null,
      "grid_row": null,
      "grid_template_areas": null,
      "grid_template_columns": null,
      "grid_template_rows": null,
      "height": null,
      "justify_content": null,
      "justify_items": null,
      "left": null,
      "margin": null,
      "max_height": null,
      "max_width": null,
      "min_height": null,
      "min_width": null,
      "object_fit": null,
      "object_position": null,
      "order": null,
      "overflow": null,
      "overflow_x": null,
      "overflow_y": null,
      "padding": null,
      "right": null,
      "top": null,
      "visibility": null,
      "width": null
     }
    },
    "d27355c6670d4d98aaa1507718fbd55b": {
     "model_module": "@jupyter-widgets/controls",
     "model_name": "FloatProgressModel",
     "state": {
      "_dom_classes": [],
      "_model_module": "@jupyter-widgets/controls",
      "_model_module_version": "1.5.0",
      "_model_name": "FloatProgressModel",
      "_view_count": null,
      "_view_module": "@jupyter-widgets/controls",
      "_view_module_version": "1.5.0",
      "_view_name": "ProgressView",
      "bar_style": "success",
      "description": "",
      "description_tooltip": null,
      "layout": "IPY_MODEL_a523523f1c55491f9f4bfd796d5aded8",
      "max": 1,
      "min": 0,
      "orientation": "horizontal",
      "style": "IPY_MODEL_bcbdc203fcd84f7285288d6b5b8bb23d",
      "value": 1
     }
    },
    "db7d6ac761aa479dba27b608e8cb893e": {
     "model_module": "@jupyter-widgets/controls",
     "model_name": "FloatProgressModel",
     "state": {
      "_dom_classes": [],
      "_model_module": "@jupyter-widgets/controls",
      "_model_module_version": "1.5.0",
      "_model_name": "FloatProgressModel",
      "_view_count": null,
      "_view_module": "@jupyter-widgets/controls",
      "_view_module_version": "1.5.0",
      "_view_name": "ProgressView",
      "bar_style": "info",
      "description": "",
      "description_tooltip": null,
      "layout": "IPY_MODEL_7206d62fb95b46d59856cc36f1b8ea28",
      "max": 1,
      "min": 0,
      "orientation": "horizontal",
      "style": "IPY_MODEL_5977c1a03a144b52adf8f2ce2949e4e9",
      "value": 1
     }
    },
    "dcf153456d574f7184bfb71a55f847c6": {
     "model_module": "@jupyter-widgets/base",
     "model_name": "LayoutModel",
     "state": {
      "_model_module": "@jupyter-widgets/base",
      "_model_module_version": "1.2.0",
      "_model_name": "LayoutModel",
      "_view_count": null,
      "_view_module": "@jupyter-widgets/base",
      "_view_module_version": "1.2.0",
      "_view_name": "LayoutView",
      "align_content": null,
      "align_items": null,
      "align_self": null,
      "border": null,
      "bottom": null,
      "display": null,
      "flex": null,
      "flex_flow": null,
      "grid_area": null,
      "grid_auto_columns": null,
      "grid_auto_flow": null,
      "grid_auto_rows": null,
      "grid_column": null,
      "grid_gap": null,
      "grid_row": null,
      "grid_template_areas": null,
      "grid_template_columns": null,
      "grid_template_rows": null,
      "height": null,
      "justify_content": null,
      "justify_items": null,
      "left": null,
      "margin": null,
      "max_height": null,
      "max_width": null,
      "min_height": null,
      "min_width": null,
      "object_fit": null,
      "object_position": null,
      "order": null,
      "overflow": null,
      "overflow_x": null,
      "overflow_y": null,
      "padding": null,
      "right": null,
      "top": null,
      "visibility": null,
      "width": null
     }
    },
    "e556f7f9f1d04aa38951947488368d9b": {
     "model_module": "@jupyter-widgets/controls",
     "model_name": "HBoxModel",
     "state": {
      "_dom_classes": [],
      "_model_module": "@jupyter-widgets/controls",
      "_model_module_version": "1.5.0",
      "_model_name": "HBoxModel",
      "_view_count": null,
      "_view_module": "@jupyter-widgets/controls",
      "_view_module_version": "1.5.0",
      "_view_name": "HBoxView",
      "box_style": "",
      "children": [
       "IPY_MODEL_58a74977f5a3408388b70e14a48c37f1",
       "IPY_MODEL_a4d8cf9556eb4a09a47ef370416a3297"
      ],
      "layout": "IPY_MODEL_6156833e975646828337f651bb40428b"
     }
    },
    "ec988480fe5b4d89a491d0243ee7a39e": {
     "model_module": "@jupyter-widgets/controls",
     "model_name": "DescriptionStyleModel",
     "state": {
      "_model_module": "@jupyter-widgets/controls",
      "_model_module_version": "1.5.0",
      "_model_name": "DescriptionStyleModel",
      "_view_count": null,
      "_view_module": "@jupyter-widgets/base",
      "_view_module_version": "1.2.0",
      "_view_name": "StyleView",
      "description_width": ""
     }
    }
   }
  }
 },
 "nbformat": 4,
 "nbformat_minor": 1
}
