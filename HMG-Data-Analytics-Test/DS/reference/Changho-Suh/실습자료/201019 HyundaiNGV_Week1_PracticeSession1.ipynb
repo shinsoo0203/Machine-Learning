{
 "cells": [
  {
   "cell_type": "code",
   "execution_count": 82,
   "metadata": {},
   "outputs": [],
   "source": [
    "from sklearn.datasets import load_iris, load_digits\n",
    "from sklearn.model_selection import train_test_split\n",
    "X, y = load_iris(return_X_y=True)\n",
    "X_train, X_test, y_train, y_test = train_test_split(X,y,test_size=0.2)"
   ]
  },
  {
   "cell_type": "code",
   "execution_count": 83,
   "metadata": {},
   "outputs": [
    {
     "data": {
      "text/plain": [
       "array([[6.2, 2.8, 4.8, 1.8],\n",
       "       [7.2, 3.6, 6.1, 2.5],\n",
       "       [6.3, 3.4, 5.6, 2.4],\n",
       "       [5.2, 4.1, 1.5, 0.1],\n",
       "       [6.6, 2.9, 4.6, 1.3],\n",
       "       [7.9, 3.8, 6.4, 2. ],\n",
       "       [5.2, 3.5, 1.5, 0.2],\n",
       "       [6.4, 3.2, 4.5, 1.5],\n",
       "       [5.8, 2.7, 3.9, 1.2],\n",
       "       [5.6, 2.9, 3.6, 1.3],\n",
       "       [6.6, 3. , 4.4, 1.4],\n",
       "       [5.1, 3.8, 1.6, 0.2],\n",
       "       [5.5, 3.5, 1.3, 0.2],\n",
       "       [5.8, 2.8, 5.1, 2.4],\n",
       "       [5.5, 2.4, 3.7, 1. ],\n",
       "       [5.7, 2.5, 5. , 2. ],\n",
       "       [5.6, 2.5, 3.9, 1.1],\n",
       "       [4.9, 3.6, 1.4, 0.1],\n",
       "       [5.7, 4.4, 1.5, 0.4],\n",
       "       [6.9, 3.1, 5.4, 2.1],\n",
       "       [4.9, 3.1, 1.5, 0.2],\n",
       "       [5.9, 3. , 5.1, 1.8],\n",
       "       [5.3, 3.7, 1.5, 0.2],\n",
       "       [4.8, 3.1, 1.6, 0.2],\n",
       "       [4.6, 3.1, 1.5, 0.2],\n",
       "       [7.1, 3. , 5.9, 2.1],\n",
       "       [7.7, 3. , 6.1, 2.3],\n",
       "       [5.5, 4.2, 1.4, 0.2],\n",
       "       [5.1, 2.5, 3. , 1.1],\n",
       "       [5.1, 3.8, 1.9, 0.4],\n",
       "       [5. , 2.3, 3.3, 1. ],\n",
       "       [5.8, 2.7, 5.1, 1.9],\n",
       "       [5.7, 2.9, 4.2, 1.3],\n",
       "       [6.9, 3.1, 5.1, 2.3],\n",
       "       [4.8, 3.4, 1.6, 0.2],\n",
       "       [4.5, 2.3, 1.3, 0.3],\n",
       "       [5.4, 3.9, 1.3, 0.4],\n",
       "       [6.7, 3.1, 5.6, 2.4],\n",
       "       [4.7, 3.2, 1.6, 0.2],\n",
       "       [7.3, 2.9, 6.3, 1.8],\n",
       "       [7.2, 3. , 5.8, 1.6],\n",
       "       [5.4, 3.4, 1.7, 0.2],\n",
       "       [5.4, 3.4, 1.5, 0.4],\n",
       "       [6. , 3. , 4.8, 1.8],\n",
       "       [5. , 3.2, 1.2, 0.2],\n",
       "       [6.5, 3. , 5.8, 2.2],\n",
       "       [6.2, 2.9, 4.3, 1.3],\n",
       "       [5.9, 3. , 4.2, 1.5],\n",
       "       [4.7, 3.2, 1.3, 0.2],\n",
       "       [5.7, 3. , 4.2, 1.2],\n",
       "       [4.9, 2.5, 4.5, 1.7],\n",
       "       [6.9, 3.2, 5.7, 2.3],\n",
       "       [6.7, 3.3, 5.7, 2.1],\n",
       "       [5. , 3.4, 1.6, 0.4],\n",
       "       [5.7, 2.8, 4.5, 1.3],\n",
       "       [7.7, 3.8, 6.7, 2.2],\n",
       "       [7.7, 2.6, 6.9, 2.3],\n",
       "       [5.8, 2.7, 5.1, 1.9],\n",
       "       [5.5, 2.6, 4.4, 1.2],\n",
       "       [4.4, 3.2, 1.3, 0.2],\n",
       "       [6.7, 3.1, 4.7, 1.5],\n",
       "       [5.8, 2.7, 4.1, 1. ],\n",
       "       [4.4, 2.9, 1.4, 0.2],\n",
       "       [6.4, 2.8, 5.6, 2.2],\n",
       "       [6.1, 2.8, 4. , 1.3],\n",
       "       [5.4, 3. , 4.5, 1.5],\n",
       "       [4.8, 3. , 1.4, 0.3],\n",
       "       [6.7, 3.3, 5.7, 2.5],\n",
       "       [6.4, 3.1, 5.5, 1.8],\n",
       "       [6.5, 2.8, 4.6, 1.5],\n",
       "       [6. , 3.4, 4.5, 1.6],\n",
       "       [7.4, 2.8, 6.1, 1.9],\n",
       "       [4.4, 3. , 1.3, 0.2],\n",
       "       [6.4, 3.2, 5.3, 2.3],\n",
       "       [6.1, 3. , 4.6, 1.4],\n",
       "       [6.7, 2.5, 5.8, 1.8],\n",
       "       [5.8, 4. , 1.2, 0.2],\n",
       "       [6.1, 2.8, 4.7, 1.2],\n",
       "       [6.2, 3.4, 5.4, 2.3],\n",
       "       [6.1, 2.6, 5.6, 1.4],\n",
       "       [5.7, 3.8, 1.7, 0.3],\n",
       "       [5.5, 2.3, 4. , 1.3],\n",
       "       [6.8, 2.8, 4.8, 1.4],\n",
       "       [7.7, 2.8, 6.7, 2. ],\n",
       "       [5.6, 2.7, 4.2, 1.3],\n",
       "       [6.3, 2.5, 4.9, 1.5],\n",
       "       [5.1, 3.4, 1.5, 0.2],\n",
       "       [6.3, 2.9, 5.6, 1.8],\n",
       "       [4.8, 3. , 1.4, 0.1],\n",
       "       [6.5, 3. , 5.5, 1.8],\n",
       "       [4.6, 3.2, 1.4, 0.2],\n",
       "       [6. , 2.9, 4.5, 1.5],\n",
       "       [5. , 3.6, 1.4, 0.2],\n",
       "       [6.9, 3.1, 4.9, 1.5],\n",
       "       [5. , 3.3, 1.4, 0.2],\n",
       "       [5.7, 2.6, 3.5, 1. ],\n",
       "       [5.1, 3.3, 1.7, 0.5],\n",
       "       [5.1, 3.5, 1.4, 0.3],\n",
       "       [6.4, 2.7, 5.3, 1.9],\n",
       "       [5.1, 3.5, 1.4, 0.2],\n",
       "       [6. , 2.7, 5.1, 1.6],\n",
       "       [6.3, 2.7, 4.9, 1.8],\n",
       "       [4.9, 2.4, 3.3, 1. ],\n",
       "       [6. , 2.2, 5. , 1.5],\n",
       "       [6.3, 2.5, 5. , 1.9],\n",
       "       [6.7, 3.1, 4.4, 1.4],\n",
       "       [6.1, 3. , 4.9, 1.8],\n",
       "       [6.7, 3. , 5. , 1.7],\n",
       "       [6. , 2.2, 4. , 1. ],\n",
       "       [5. , 3. , 1.6, 0.2],\n",
       "       [6.4, 2.9, 4.3, 1.3],\n",
       "       [5.1, 3.7, 1.5, 0.4],\n",
       "       [5.1, 3.8, 1.5, 0.3],\n",
       "       [6.3, 2.3, 4.4, 1.3],\n",
       "       [5. , 2. , 3.5, 1. ],\n",
       "       [4.6, 3.6, 1. , 0.2],\n",
       "       [7.2, 3.2, 6. , 1.8],\n",
       "       [4.9, 3. , 1.4, 0.2],\n",
       "       [6.2, 2.2, 4.5, 1.5],\n",
       "       [5.5, 2.5, 4. , 1.3]])"
      ]
     },
     "execution_count": 83,
     "metadata": {},
     "output_type": "execute_result"
    }
   ],
   "source": [
    "X_train"
   ]
  },
  {
   "cell_type": "code",
   "execution_count": 84,
   "metadata": {},
   "outputs": [
    {
     "data": {
      "text/plain": [
       "array([2, 2, 2, 0, 1, 2, 0, 1, 1, 1, 1, 0, 0, 2, 1, 2, 1, 0, 0, 2, 0, 2,\n",
       "       0, 0, 0, 2, 2, 0, 1, 0, 1, 2, 1, 2, 0, 0, 0, 2, 0, 2, 2, 0, 0, 2,\n",
       "       0, 2, 1, 1, 0, 1, 2, 2, 2, 0, 1, 2, 2, 2, 1, 0, 1, 1, 0, 2, 1, 1,\n",
       "       0, 2, 2, 1, 1, 2, 0, 2, 1, 2, 0, 1, 2, 2, 0, 1, 1, 2, 1, 1, 0, 2,\n",
       "       0, 2, 0, 1, 0, 1, 0, 1, 0, 0, 2, 0, 1, 2, 1, 2, 2, 1, 2, 1, 1, 0,\n",
       "       1, 0, 0, 1, 1, 0, 2, 0, 1, 1])"
      ]
     },
     "execution_count": 84,
     "metadata": {},
     "output_type": "execute_result"
    }
   ],
   "source": [
    "y_train"
   ]
  },
  {
   "cell_type": "code",
   "execution_count": 85,
   "metadata": {},
   "outputs": [
    {
     "data": {
      "text/plain": [
       "((120, 4), (30, 4), (120,), (30,))"
      ]
     },
     "execution_count": 85,
     "metadata": {},
     "output_type": "execute_result"
    }
   ],
   "source": [
    "X_train.shape, X_test.shape, y_train.shape, y_test.shape"
   ]
  },
  {
   "cell_type": "code",
   "execution_count": null,
   "metadata": {},
   "outputs": [],
   "source": []
  },
  {
   "cell_type": "code",
   "execution_count": 121,
   "metadata": {},
   "outputs": [
    {
     "data": {
      "text/plain": [
       "RidgeClassifier(alpha=0)"
      ]
     },
     "execution_count": 121,
     "metadata": {},
     "output_type": "execute_result"
    }
   ],
   "source": [
    "from sklearn.linear_model import RidgeClassifier\n",
    "model_LS1=RidgeClassifier(alpha=0)\n",
    "model_LS1.fit(X_train, y_train)"
   ]
  },
  {
   "cell_type": "code",
   "execution_count": 122,
   "metadata": {},
   "outputs": [
    {
     "data": {
      "text/plain": [
       "array([0, 2, 1, 1, 0, 0, 1, 2, 2, 2, 2, 2, 2, 0, 1, 0, 2, 2, 2, 0, 2, 1,\n",
       "       0, 2, 0, 2, 0, 0, 2, 2])"
      ]
     },
     "execution_count": 122,
     "metadata": {},
     "output_type": "execute_result"
    }
   ],
   "source": [
    "model_LS1.predict(X_test)"
   ]
  },
  {
   "cell_type": "code",
   "execution_count": 123,
   "metadata": {},
   "outputs": [
    {
     "data": {
      "text/plain": [
       "0.7666666666666667"
      ]
     },
     "execution_count": 123,
     "metadata": {},
     "output_type": "execute_result"
    }
   ],
   "source": [
    "model_LS1.score(X_test, y_test)"
   ]
  },
  {
   "cell_type": "code",
   "execution_count": 124,
   "metadata": {},
   "outputs": [
    {
     "data": {
      "text/plain": [
       "array([[ 0.1244976 ,  0.46822535, -0.43349102, -0.1410632 ],\n",
       "       [ 0.11643496, -0.98108163,  0.31068105, -0.87732108],\n",
       "       [-0.24093256,  0.51285628,  0.12280998,  1.01838428]])"
      ]
     },
     "execution_count": 124,
     "metadata": {},
     "output_type": "execute_result"
    }
   ],
   "source": [
    "model_LS1.coef_"
   ]
  },
  {
   "cell_type": "code",
   "execution_count": 125,
   "metadata": {},
   "outputs": [
    {
     "data": {
      "text/plain": [
       "RidgeClassifier(alpha=100)"
      ]
     },
     "execution_count": 125,
     "metadata": {},
     "output_type": "execute_result"
    }
   ],
   "source": [
    "model_LS2=RidgeClassifier(alpha=100)\n",
    "model_LS2.fit(X_train, y_train)"
   ]
  },
  {
   "cell_type": "code",
   "execution_count": 126,
   "metadata": {},
   "outputs": [
    {
     "data": {
      "text/plain": [
       "array([0, 2, 1, 2, 0, 0, 2, 2, 2, 1, 2, 2, 2, 0, 2, 0, 2, 2, 2, 0, 2, 1,\n",
       "       0, 2, 0, 2, 0, 0, 2, 2])"
      ]
     },
     "execution_count": 126,
     "metadata": {},
     "output_type": "execute_result"
    }
   ],
   "source": [
    "model_LS2.predict(X_test)"
   ]
  },
  {
   "cell_type": "code",
   "execution_count": 127,
   "metadata": {},
   "outputs": [
    {
     "data": {
      "text/plain": [
       "0.7666666666666667"
      ]
     },
     "execution_count": 127,
     "metadata": {},
     "output_type": "execute_result"
    }
   ],
   "source": [
    "model_LS2.score(X_test, y_test)"
   ]
  },
  {
   "cell_type": "code",
   "execution_count": 128,
   "metadata": {},
   "outputs": [
    {
     "data": {
      "text/plain": [
       "array([[-0.05244184,  0.12643433, -0.31815661, -0.1278749 ],\n",
       "       [-0.02344246, -0.17359458,  0.08355299, -0.0256129 ],\n",
       "       [ 0.07588429,  0.04716025,  0.23460363,  0.15348779]])"
      ]
     },
     "execution_count": 128,
     "metadata": {},
     "output_type": "execute_result"
    }
   ],
   "source": [
    "model_LS2.coef_"
   ]
  },
  {
   "cell_type": "code",
   "execution_count": null,
   "metadata": {},
   "outputs": [],
   "source": []
  },
  {
   "cell_type": "code",
   "execution_count": 129,
   "metadata": {},
   "outputs": [
    {
     "data": {
      "text/plain": [
       "LogisticRegression(max_iter=1000, penalty='none')"
      ]
     },
     "execution_count": 129,
     "metadata": {},
     "output_type": "execute_result"
    }
   ],
   "source": [
    "from sklearn.linear_model import LogisticRegression\n",
    "model_LR=LogisticRegression(penalty='none',max_iter=1000)\n",
    "model_LR.fit(X_train,y_train)"
   ]
  },
  {
   "cell_type": "code",
   "execution_count": 130,
   "metadata": {},
   "outputs": [
    {
     "data": {
      "text/plain": [
       "array([0, 1, 1, 1, 0, 0, 1, 1, 2, 1, 1, 2, 2, 0, 1, 0, 2, 1, 2, 0, 2, 1,\n",
       "       0, 2, 0, 1, 0, 0, 2, 2])"
      ]
     },
     "execution_count": 130,
     "metadata": {},
     "output_type": "execute_result"
    }
   ],
   "source": [
    "model_LR.predict(X_test)"
   ]
  },
  {
   "cell_type": "code",
   "execution_count": 131,
   "metadata": {},
   "outputs": [
    {
     "data": {
      "text/plain": [
       "0.9666666666666667"
      ]
     },
     "execution_count": 131,
     "metadata": {},
     "output_type": "execute_result"
    }
   ],
   "source": [
    "model_LR.score(X_test, y_test)"
   ]
  },
  {
   "cell_type": "code",
   "execution_count": 132,
   "metadata": {},
   "outputs": [
    {
     "data": {
      "text/plain": [
       "array([[ 2055.26889166,  4461.93311811, -5904.58876875, -2745.45225904],\n",
       "       [ -836.24328382, -1549.87317683,  2065.35551809, -1033.57113987],\n",
       "       [-1219.02560784, -2912.05994128,  3839.23325066,  3779.02339891]])"
      ]
     },
     "execution_count": 132,
     "metadata": {},
     "output_type": "execute_result"
    }
   ],
   "source": [
    "model_LR.coef_"
   ]
  },
  {
   "cell_type": "code",
   "execution_count": null,
   "metadata": {},
   "outputs": [],
   "source": []
  },
  {
   "cell_type": "code",
   "execution_count": 134,
   "metadata": {},
   "outputs": [],
   "source": [
    "X_train_0 = X_train[y_train==0]\n",
    "X_train_1 = X_train[y_train==1]"
   ]
  },
  {
   "cell_type": "code",
   "execution_count": 135,
   "metadata": {},
   "outputs": [],
   "source": [
    "import matplotlib.pyplot as plt"
   ]
  },
  {
   "cell_type": "code",
   "execution_count": 139,
   "metadata": {},
   "outputs": [
    {
     "data": {
      "image/png": "[encoded data removed]",
      "text/plain": [
       "<Figure size 432x288 with 1 Axes>"
      ]
     },
     "metadata": {
      "needs_background": "light"
     },
     "output_type": "display_data"
    }
   ],
   "source": [
    "plt.scatter(X_train_0[:, 0], X_train_0[:, 1], label='Setosa')\n",
    "plt.scatter(X_train_1[:, 0], X_train_1[:, 1], label='Versicolor')\n",
    "plt.legend()\n",
    "plt.show()"
   ]
  },
  {
   "cell_type": "code",
   "execution_count": 141,
   "metadata": {},
   "outputs": [
    {
     "ename": "NameError",
     "evalue": "name 'xmanx' is not defined",
     "output_type": "error",
     "traceback": [
      "\u001b[1;31m---------------------------------------------------------------------------\u001b[0m",
      "\u001b[1;31mNameError\u001b[0m                                 Traceback (most recent call last)",
      "\u001b[1;32m<ipython-input-141-90d332951c99>\u001b[0m in \u001b[0;36m<module>\u001b[1;34m\u001b[0m\n\u001b[0;32m      7\u001b[0m \u001b[1;33m\u001b[0m\u001b[0m\n\u001b[0;32m      8\u001b[0m \u001b[1;32mimport\u001b[0m \u001b[0mnumpy\u001b[0m \u001b[1;32mas\u001b[0m \u001b[0mnp\u001b[0m\u001b[1;33m\u001b[0m\u001b[1;33m\u001b[0m\u001b[0m\n\u001b[1;32m----> 9\u001b[1;33m \u001b[0mxgrid\u001b[0m\u001b[1;33m,\u001b[0m \u001b[0mygrid\u001b[0m \u001b[1;33m=\u001b[0m \u001b[0mnp\u001b[0m\u001b[1;33m.\u001b[0m\u001b[0mmeshgrid\u001b[0m\u001b[1;33m(\u001b[0m\u001b[0mnp\u001b[0m\u001b[1;33m.\u001b[0m\u001b[0mlinspace\u001b[0m\u001b[1;33m(\u001b[0m\u001b[0mxmin\u001b[0m\u001b[1;33m,\u001b[0m \u001b[0mxmanx\u001b[0m\u001b[1;33m,\u001b[0m\u001b[1;36m30\u001b[0m\u001b[1;33m)\u001b[0m\u001b[1;33m,\u001b[0m\u001b[0mnp\u001b[0m\u001b[1;33m.\u001b[0m\u001b[0mlinspace\u001b[0m\u001b[1;33m(\u001b[0m\u001b[0mymin\u001b[0m\u001b[1;33m,\u001b[0m \u001b[0mymax\u001b[0m\u001b[1;33m,\u001b[0m \u001b[1;36m30\u001b[0m\u001b[1;33m)\u001b[0m\u001b[1;33m)\u001b[0m\u001b[1;33m\u001b[0m\u001b[1;33m\u001b[0m\u001b[0m\n\u001b[0m",
      "\u001b[1;31mNameError\u001b[0m: name 'xmanx' is not defined"
     ]
    },
    {
     "data": {
      "image/png": "[encoded data removed]",
      "text/plain": [
       "<Figure size 432x288 with 1 Axes>"
      ]
     },
     "metadata": {
      "needs_background": "light"
     },
     "output_type": "display_data"
    }
   ],
   "source": [
    "plt.scatter(X_train_0[:, 0], X_train_0[:, 1], label='Setosa')\n",
    "plt.scatter(X_train_1[:, 0], X_train_1[:, 1], label='Versicolor')\n",
    "\n",
    "axes = plt.gca()\n",
    "xmin, xmax  = axes.get_xlim()\n",
    "ymin, ymax  = axes.get_ylim()\n",
    "\n",
    "import numpy as np\n",
    "xgrid, ygrid = np.meshgrid(np.linspace(xmin, xmanx,30),np.linspace(ymin, ymax, 30))\n",
    "dummies = np.concatenate()"
   ]
  },
  {
   "cell_type": "code",
   "execution_count": null,
   "metadata": {},
   "outputs": [],
   "source": []
  },
  {
   "cell_type": "code",
   "execution_count": 145,
   "metadata": {},
   "outputs": [
    {
     "data": {
      "text/plain": [
       "0.8"
      ]
     },
     "execution_count": 145,
     "metadata": {},
     "output_type": "execute_result"
    }
   ],
   "source": [
    "X, y = load_iris(return_X_y=True)\n",
    "X_train, X_test, y_train, y_test = train_test_split(X,y,test_size=0.2)\n",
    "model_LS3=RidgeClassifier(alpha=0)\n",
    "model_LS3.fit(X_train, y_train)\n",
    "model_LS3.score(X_test, y_test)"
   ]
  },
  {
   "cell_type": "code",
   "execution_count": 146,
   "metadata": {},
   "outputs": [
    {
     "data": {
      "text/plain": [
       "array([[ 0.1244976 ,  0.46822535, -0.43349102, -0.1410632 ],\n",
       "       [ 0.11643496, -0.98108163,  0.31068105, -0.87732108],\n",
       "       [-0.24093256,  0.51285628,  0.12280998,  1.01838428]])"
      ]
     },
     "execution_count": 146,
     "metadata": {},
     "output_type": "execute_result"
    }
   ],
   "source": [
    "model_LS1.coef_"
   ]
  },
  {
   "cell_type": "code",
   "execution_count": null,
   "metadata": {},
   "outputs": [],
   "source": []
  },
  {
   "cell_type": "code",
   "execution_count": 147,
   "metadata": {},
   "outputs": [
    {
     "data": {
      "text/plain": [
       "0.9"
      ]
     },
     "execution_count": 147,
     "metadata": {},
     "output_type": "execute_result"
    }
   ],
   "source": [
    "model_LR=LogisticRegression(penalty='none',max_iter=1000)\n",
    "model_LR.fit(X_train,y_train)\n",
    "model_LR.score(X_test, y_test)"
   ]
  },
  {
   "cell_type": "code",
   "execution_count": 148,
   "metadata": {},
   "outputs": [
    {
     "data": {
      "text/plain": [
       "array([[  70.48392403,  199.46480487, -306.95463303, -139.46319914],\n",
       "       [  14.52291816,  -64.4079268 ,   83.23952687,   -9.53685308],\n",
       "       [ -85.00684218, -135.05687807,  223.71510616,  149.00005222]])"
      ]
     },
     "execution_count": 148,
     "metadata": {},
     "output_type": "execute_result"
    }
   ],
   "source": [
    "model_LR.coef_"
   ]
  },
  {
   "cell_type": "code",
   "execution_count": null,
   "metadata": {},
   "outputs": [],
   "source": []
  },
  {
   "cell_type": "code",
   "execution_count": 150,
   "metadata": {},
   "outputs": [
    {
     "data": {
      "text/plain": [
       "Pipeline(steps=[('standardscaler', StandardScaler()),\n",
       "                ('svc', SVC(gamma='auto'))])"
      ]
     },
     "execution_count": 150,
     "metadata": {},
     "output_type": "execute_result"
    }
   ],
   "source": [
    "import numpy as np\n",
    "from sklearn.pipeline import make_pipeline\n",
    "from sklearn.preprocessing import StandardScaler\n",
    "X = np.array([[-1, -1], [-2, -1], [1, 1], [2, 1]])\n",
    "y = np.array([1, 1, 2, 2])\n",
    "from sklearn.svm import SVC\n",
    "clf = make_pipeline(StandardScaler(), SVC(gamma='auto'))\n",
    "clf.fit(X, y)\n"
   ]
  },
  {
   "cell_type": "code",
   "execution_count": 151,
   "metadata": {},
   "outputs": [
    {
     "name": "stdout",
     "output_type": "stream",
     "text": [
      "[1]\n"
     ]
    }
   ],
   "source": [
    "print(clf.predict([[-0.8, -1]]))"
   ]
  },
  {
   "cell_type": "code",
   "execution_count": null,
   "metadata": {},
   "outputs": [],
   "source": []
  }
 ],
 "metadata": {
  "kernelspec": {
   "display_name": "Python 3",
   "language": "python",
   "name": "python3"
  },
  "language_info": {
   "codemirror_mode": {
    "name": "ipython",
    "version": 3
   },
   "file_extension": ".py",
   "mimetype": "text/x-python",
   "name": "python",
   "nbconvert_exporter": "python",
   "pygments_lexer": "ipython3",
   "version": "3.7.7"
  }
 },
 "nbformat": 4,
 "nbformat_minor": 4
}
