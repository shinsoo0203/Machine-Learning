{
 "cells": [
  {
   "cell_type": "markdown",
   "metadata": {},
   "source": [
    "## CIFAR10 그룹 프로젝트"
   ]
  },
  {
   "cell_type": "code",
   "execution_count": 39,
   "metadata": {},
   "outputs": [],
   "source": [
    "import numpy as np\n",
    "import tensorflow as tf\n",
    "import matplotlib.pyplot as plt\n",
    "\n",
    "from itertools import product\n",
    "from sklearn.decomposition import PCA, KernelPCA\n",
    "from sklearn.manifold import TSNE\n",
    "\n",
    "from tensorflow.keras import regularizers\n",
    "from tensorflow.keras.datasets import mnist, cifar10\n",
    "from tensorflow.keras.models import Sequential\n",
    "from tensorflow.keras.layers import Input, Dense, Flatten, Activation, BatchNormalization, ReLU, Add, Conv2D, MaxPool2D, AveragePooling2D, ZeroPadding2D\n",
    "from tensorflow.keras.callbacks import LearningRateScheduler, ModelCheckpoint, EarlyStopping, Callback\n",
    "from tensorflow.keras.layers import ZeroPadding2D\n",
    "from tensorflow.keras.layers.experimental.preprocessing import RandomCrop, RandomFlip, RandomRotation\n",
    "from tensorflow.keras.regularizers import l2\n"
   ]
  },
  {
   "cell_type": "code",
   "execution_count": 8,
   "metadata": {},
   "outputs": [
    {
     "name": "stdout",
     "output_type": "stream",
     "text": [
      "(50000, 32, 32, 3) (50000,) (10000, 32, 32, 3) (50000,) (10000,)\n"
     ]
    }
   ],
   "source": [
    "# 데이터 불러오기, 정리하기\n",
    "\n",
    "from tensorflow.keras.datasets import cifar10\n",
    "import matplotlib.pyplot as plt\n",
    "from sklearn.model_selection import train_test_split\n",
    "\n",
    "\n",
    "(X_train, y_train), (X_test, y_test) = cifar10.load_data()\n",
    "X_train, X_test = X_train / 255.0, X_test / 255.0\n",
    "\n",
    "y_train = y_train.squeeze()\n",
    "y_test = y_test.squeeze()\n",
    "\n",
    "print(X_train.shape, y_train.shape,X_test.shape, y_train.shape, y_test.shape)"
   ]
  },
  {
   "cell_type": "code",
   "execution_count": 9,
   "metadata": {},
   "outputs": [],
   "source": [
    "# data augmentaion\n",
    "\n",
    "data_augmentation = Sequential()\n",
    "data_augmentation.add(ZeroPadding2D(4, input_shape=(32,32,3)))    # zero padding\n",
    "data_augmentation.add(RandomCrop(32,32))                          # crop\n",
    "data_augmentation.add(RandomFlip('horizontal'))                   # filp\n",
    "data_augmentation.add(RandomRotation(0.05))                       # rotation\n"
   ]
  },
  {
   "cell_type": "code",
   "execution_count": 16,
   "metadata": {},
   "outputs": [
    {
     "data": {
      "text/plain": [
       "<tensorflow.python.keras.callbacks.History at 0x20ecad55608>"
      ]
     },
     "execution_count": 16,
     "metadata": {},
     "output_type": "execute_result"
    }
   ],
   "source": [
    "# DNN 확인\n",
    "\n",
    "network = Sequential()\n",
    "\n",
    "network.add(Flatten(input_shape=(32,32,3)))    #input\n",
    "network.add(Dense(2048, activation='relu'))    #1\n",
    "network.add(Dense(1024, activation='relu'))    #2\n",
    "network.add(Dense(10, activation='softmax'))   #output\n",
    "\n",
    "network_daug = Sequential()\n",
    "network_daug.add(data_augmentation)\n",
    "network_daug.add(network)\n",
    "\n",
    "#network.compile(optimizer='adam', loss='sparse_categorical_crossentropy', metrics=['acc'])\n",
    "#network.fit(X_train, y_train, epochs=5, verbose=0)\n",
    "\n",
    "network_daug.compile(optimizer='adam', loss='sparse_categorical_crossentropy', metrics=['acc'])\n",
    "network_daug.fit(X_train, y_train, epochs=1, verbose=0)\n"
   ]
  },
  {
   "cell_type": "code",
   "execution_count": 15,
   "metadata": {},
   "outputs": [
    {
     "name": "stdout",
     "output_type": "stream",
     "text": [
      "Model: \"sequential_5\"\n",
      "_________________________________________________________________\n",
      "Layer (type)                 Output Shape              Param #   \n",
      "=================================================================\n",
      "flatten_2 (Flatten)          (None, 3072)              0         \n",
      "_________________________________________________________________\n",
      "dense_6 (Dense)              (None, 2048)              6293504   \n",
      "_________________________________________________________________\n",
      "dense_7 (Dense)              (None, 1024)              2098176   \n",
      "_________________________________________________________________\n",
      "dense_8 (Dense)              (None, 10)                10250     \n",
      "=================================================================\n",
      "Total params: 8,401,930\n",
      "Trainable params: 8,401,930\n",
      "Non-trainable params: 0\n",
      "_________________________________________________________________\n",
      "313/313 [==============================] - 3s 9ms/step - loss: 1.4807 - acc: 0.4757\n"
     ]
    },
    {
     "data": {
      "text/plain": [
       "[1.480728268623352, 0.4756999909877777]"
      ]
     },
     "execution_count": 15,
     "metadata": {},
     "output_type": "execute_result"
    }
   ],
   "source": [
    "# epoch=1\n",
    "\n",
    "network.summary()\n",
    "network.evaluate(X_test,y_test)"
   ]
  },
  {
   "cell_type": "code",
   "execution_count": 17,
   "metadata": {},
   "outputs": [
    {
     "name": "stdout",
     "output_type": "stream",
     "text": [
      "Model: \"sequential_7\"\n",
      "_________________________________________________________________\n",
      "Layer (type)                 Output Shape              Param #   \n",
      "=================================================================\n",
      "sequential_2 (Sequential)    (None, 32, 32, 3)         0         \n",
      "_________________________________________________________________\n",
      "sequential_6 (Sequential)    (None, 10)                8401930   \n",
      "=================================================================\n",
      "Total params: 8,401,930\n",
      "Trainable params: 8,401,930\n",
      "Non-trainable params: 0\n",
      "_________________________________________________________________\n",
      "313/313 [==============================] - 3s 9ms/step - loss: 2.0874 - acc: 0.2219\n"
     ]
    },
    {
     "data": {
      "text/plain": [
       "[2.08740496635437, 0.22190000116825104]"
      ]
     },
     "execution_count": 17,
     "metadata": {},
     "output_type": "execute_result"
    }
   ],
   "source": [
    "# data augmentation 했고, epoch = 1\n",
    "# data 가 후질 때는 aug.. 한다고 좋아지는 것은 아님\n",
    "\n",
    "network_daug.summary()\n",
    "network_daug.evaluate(X_test,y_test)"
   ]
  },
  {
   "cell_type": "code",
   "execution_count": null,
   "metadata": {},
   "outputs": [],
   "source": []
  },
  {
   "cell_type": "code",
   "execution_count": 33,
   "metadata": {},
   "outputs": [],
   "source": [
    "# 학습 중 그래프 표시하기\n",
    "# plot 활용하는 콜백 클라스 정의\n",
    "\n",
    "from IPython.display import clear_output\n",
    "\n",
    "class PlottingCallback(tf.keras.callbacks.Callback):\n",
    "\n",
    "    def __init__(self):\n",
    "        self.logs = {'loss':[], 'val_loss':[], 'acc':[], 'val_acc':[]}\n",
    "    \n",
    "    def on_epoch_end(self, epoch, logs=None):\n",
    "        self.logs['loss'].append(logs['loss'])\n",
    "        self.logs['val_loss'].append(logs['val_loss'])\n",
    "        self.logs['acc'].append(logs['acc'])\n",
    "        self.logs['val_acc'].append(logs['val_acc'])\n",
    "\n",
    "        clear_output()\n",
    "        plt.figure(figsize=(8,4), dpi=150)\n",
    "        \n",
    "        plt.subplot(1,2,1)\n",
    "        plt.plot(self.logs['loss'], label='train loss')\n",
    "        plt.plot(self.logs['val_loss'], label='val loss')\n",
    "        plt.legend()\n",
    "        \n",
    "        plt.subplot(1,2,2)\n",
    "        plt.plot(self.logs['acc'], label='train acc')\n",
    "        plt.plot(self.logs['val_acc'], label='val acc')        \n",
    "        plt.legend()\n",
    "\n",
    "        plt.show()\n",
    "        print('Epoch: {}, Loss: {:7.5f}, Acc: {:5.2f}%'.format(epoch, logs['loss'], 100*logs['acc']))"
   ]
  },
  {
   "cell_type": "code",
   "execution_count": null,
   "metadata": {},
   "outputs": [],
   "source": []
  },
  {
   "cell_type": "code",
   "execution_count": null,
   "metadata": {},
   "outputs": [],
   "source": []
  },
  {
   "cell_type": "code",
   "execution_count": 32,
   "metadata": {},
   "outputs": [
    {
     "data": {
      "image/png": "[encoded data removed]",
      "text/plain": [
       "<Figure size 1200x600 with 2 Axes>"
      ]
     },
     "metadata": {
      "needs_background": "light"
     },
     "output_type": "display_data"
    },
    {
     "name": "stdout",
     "output_type": "stream",
     "text": [
      "Epoch: 0, Loss: 1.33464, Acc: 53.12%\n",
      "\b\b\b\b\b\b\b\b\b\b\b\b\b\b\b\b\b\b\b\b\b\b\b\b\b\b\b\b\b\b\b\b\b\b\b\b\b\b\b\b\b\b\b\b\b\b\b\b\b\b\b\b\b\b\b\b\b\b\b\b\b\b\b\b\b\b\b\b\b\b\b\b\b\b\b\b\b\b\b\b\b\r",
      "1563/1563 [==============================] - 488s 312ms/step - loss: 1.3346 - acc: 0.5312 - val_loss: 1.1814 - val_acc: 0.5929\n"
     ]
    },
    {
     "data": {
      "text/plain": [
       "<tensorflow.python.keras.callbacks.History at 0x20ece04f408>"
      ]
     },
     "execution_count": 32,
     "metadata": {},
     "output_type": "execute_result"
    }
   ],
   "source": [
    "# 알렉스넷, 배치놈 적용\n",
    "\n",
    "alexnet = Sequential()\n",
    "\n",
    "#1st layer : [Conv]+[ReLU]+[Pool]\n",
    "#32*32*3\n",
    "alexnet.add(Conv2D(input_shape=(32,32,3),   \n",
    "                      kernel_size=(3,3),       \n",
    "                      filters=64,\n",
    "                      strides=(1,1),\n",
    "                      padding='same',\n",
    "                      activation='relu'))\n",
    "alexnet.add(BatchNormalization()) \n",
    "#32*32*64\n",
    "alexnet.add(MaxPool2D(pool_size=(2,2),\n",
    "                         strides=(2,2),\n",
    "                         padding='valid'))\n",
    "\n",
    "#2nd layer : [Conv]+[ReLU]+[Pool]\n",
    "#16*16*64\n",
    "alexnet.add(Conv2D(kernel_size=(3,3),        \n",
    "                      filters=128,\n",
    "                      strides=(1,1),\n",
    "                      padding='same',\n",
    "                      activation='relu'))\n",
    "alexnet.add(BatchNormalization()) \n",
    "#16*16*128\n",
    "alexnet.add(MaxPool2D(pool_size=(2,2),\n",
    "                         strides=(2,2),\n",
    "                         padding='valid'))\n",
    "\n",
    "#3rd layer : [Conv]+[ReLU]\n",
    "#8*8*128\n",
    "alexnet.add(Conv2D(kernel_size=(3,3),        \n",
    "                      filters=256,\n",
    "                      strides=(2,2),\n",
    "                      padding='same',\n",
    "                      activation='relu'))\n",
    "alexnet.add(BatchNormalization()) \n",
    "\n",
    "#4th layer : [Conv]+[ReLU]\n",
    "#4*4*256\n",
    "alexnet.add(Conv2D(kernel_size=(3,3),       \n",
    "                      filters=512,\n",
    "                      strides=(2,2),\n",
    "                      padding='same',\n",
    "                      activation='relu'))\n",
    "alexnet.add(BatchNormalization()) \n",
    "\n",
    "#5th layer : [Conv]+[ReLU]\n",
    "#2*2*512\n",
    "alexnet.add(Conv2D(kernel_size=(2,2),       \n",
    "                      filters=1024,\n",
    "                      strides=(2,2),\n",
    "                      padding='same',\n",
    "                      activation='relu'))\n",
    "alexnet.add(BatchNormalization()) \n",
    "\n",
    "#6th layer\n",
    "#1*1*1024\n",
    "alexnet.add(Flatten())                         # input_shape 은 처음에만 \n",
    "alexnet.add(Dense(1024, activation='relu'))\n",
    "alexnet.add(BatchNormalization()) \n",
    "\n",
    "#7th layer\n",
    "alexnet.add(Dense(256, activation='relu'))\n",
    "alexnet.add(BatchNormalization()) \n",
    "\n",
    "#output\n",
    "alexnet.add(Dense(10, activation='softmax'))\n",
    "\n",
    "alexnet.compile(optimizer='adam', loss='sparse_categorical_crossentropy', metrics=['acc'])\n",
    "alexnet.fit(X_train.reshape(-1,32,32,3), y_train, validation_data=(X_test,y_test), epochs=1, \n",
    "            verbose=1, \n",
    "            callbacks=[PlottingCallback()])"
   ]
  },
  {
   "cell_type": "code",
   "execution_count": 22,
   "metadata": {},
   "outputs": [
    {
     "name": "stdout",
     "output_type": "stream",
     "text": [
      "Model: \"sequential_9\"\n",
      "_________________________________________________________________\n",
      "Layer (type)                 Output Shape              Param #   \n",
      "=================================================================\n",
      "conv2d_1 (Conv2D)            (None, 32, 32, 64)        1792      \n",
      "_________________________________________________________________\n",
      "max_pooling2d (MaxPooling2D) (None, 16, 16, 64)        0         \n",
      "_________________________________________________________________\n",
      "conv2d_2 (Conv2D)            (None, 16, 16, 128)       73856     \n",
      "_________________________________________________________________\n",
      "max_pooling2d_1 (MaxPooling2 (None, 8, 8, 128)         0         \n",
      "_________________________________________________________________\n",
      "conv2d_3 (Conv2D)            (None, 4, 4, 256)         131328    \n",
      "_________________________________________________________________\n",
      "conv2d_4 (Conv2D)            (None, 2, 2, 512)         524800    \n",
      "_________________________________________________________________\n",
      "conv2d_5 (Conv2D)            (None, 1, 1, 1024)        2098176   \n",
      "_________________________________________________________________\n",
      "flatten_4 (Flatten)          (None, 1024)              0         \n",
      "_________________________________________________________________\n",
      "dense_12 (Dense)             (None, 1024)              1049600   \n",
      "_________________________________________________________________\n",
      "dense_13 (Dense)             (None, 256)               262400    \n",
      "_________________________________________________________________\n",
      "dense_14 (Dense)             (None, 10)                2570      \n",
      "=================================================================\n",
      "Total params: 4,144,522\n",
      "Trainable params: 4,144,522\n",
      "Non-trainable params: 0\n",
      "_________________________________________________________________\n",
      "313/313 [==============================] - 5s 15ms/step - loss: 1.3209 - acc: 0.5185\n"
     ]
    },
    {
     "data": {
      "text/plain": [
       "[1.3208602666854858, 0.5184999704360962]"
      ]
     },
     "execution_count": 22,
     "metadata": {},
     "output_type": "execute_result"
    }
   ],
   "source": [
    "alexnet.summary()\n",
    "alexnet.evaluate(X_test,y_test)"
   ]
  },
  {
   "cell_type": "code",
   "execution_count": null,
   "metadata": {},
   "outputs": [],
   "source": []
  },
  {
   "cell_type": "code",
   "execution_count": 34,
   "metadata": {},
   "outputs": [
    {
     "data": {
      "image/png": "[encoded data removed]",
      "text/plain": [
       "<Figure size 1200x600 with 2 Axes>"
      ]
     },
     "metadata": {
      "needs_background": "light"
     },
     "output_type": "display_data"
    },
    {
     "name": "stdout",
     "output_type": "stream",
     "text": [
      "Epoch: 0, Loss: 1.58646, Acc: 42.99%\n",
      "\b\b\b\b\b\b\b\b\b\b\b\b\b\b\b\b\b\b\b\b\b\b\b\b\b\b\b\b\b\b\b\b\b\b\b\b\b\b\b\b\b\b\b\b\b\b\b\b\b\b\b\b\b\b\b\b\b\b\b\b\b\b\b\b\b\b\b\b\b\b\b\b\b\b\b\b\b\b\b\b\b\r",
      "1563/1563 [==============================] - 507s 324ms/step - loss: 1.5865 - acc: 0.4299 - val_loss: 1.5133 - val_acc: 0.4564\n"
     ]
    },
    {
     "data": {
      "text/plain": [
       "<tensorflow.python.keras.callbacks.History at 0x20e8192d888>"
      ]
     },
     "execution_count": 34,
     "metadata": {},
     "output_type": "execute_result"
    }
   ],
   "source": [
    "# 알렉스넷 - 배치놈, 데이터오그먼테이션\n",
    "\n",
    "alexnet = Sequential()\n",
    "\n",
    "#1st layer : [Conv]+[ReLU]+[Pool]\n",
    "#32*32*3\n",
    "alexnet.add(Conv2D(input_shape=(32,32,3),  \n",
    "                      kernel_size=(3,3),       \n",
    "                      filters=64,\n",
    "                      strides=(1,1),\n",
    "                      padding='same',\n",
    "                      activation='relu'))\n",
    "alexnet.add(BatchNormalization()) \n",
    "#32*32*64\n",
    "alexnet.add(MaxPool2D(pool_size=(2,2),\n",
    "                         strides=(2,2),\n",
    "                         padding='valid'))\n",
    "\n",
    "#2nd layer : [Conv]+[ReLU]+[Pool]\n",
    "#16*16*64\n",
    "alexnet.add(Conv2D(kernel_size=(3,3),        \n",
    "                      filters=128,\n",
    "                      strides=(1,1),\n",
    "                      padding='same',\n",
    "                      activation='relu'))\n",
    "alexnet.add(BatchNormalization()) \n",
    "#16*16*128\n",
    "alexnet.add(MaxPool2D(pool_size=(2,2),\n",
    "                         strides=(2,2),\n",
    "                         padding='valid'))\n",
    "\n",
    "#3rd layer : [Conv]+[ReLU]\n",
    "#8*8*128\n",
    "alexnet.add(Conv2D(kernel_size=(3,3),        \n",
    "                      filters=256,\n",
    "                      strides=(2,2),\n",
    "                      padding='same',\n",
    "                      activation='relu'))\n",
    "alexnet.add(BatchNormalization()) \n",
    "\n",
    "#4th layer : [Conv]+[ReLU]\n",
    "#4*4*256\n",
    "alexnet.add(Conv2D(kernel_size=(3,3),       \n",
    "                      filters=512,\n",
    "                      strides=(2,2),\n",
    "                      padding='same',\n",
    "                      activation='relu'))\n",
    "alexnet.add(BatchNormalization()) \n",
    "\n",
    "#5th layer : [Conv]+[ReLU]\n",
    "#2*2*512\n",
    "alexnet.add(Conv2D(kernel_size=(2,2),       \n",
    "                      filters=1024,\n",
    "                      strides=(2,2),\n",
    "                      padding='same',\n",
    "                      activation='relu'))\n",
    "alexnet.add(BatchNormalization()) \n",
    "\n",
    "#6th layer\n",
    "#1*1*1024\n",
    "alexnet.add(Flatten())                         # input_shape 은 처음에만 \n",
    "alexnet.add(Dense(1024, activation='relu'))\n",
    "alexnet.add(BatchNormalization()) \n",
    "\n",
    "#7th layer\n",
    "alexnet.add(Dense(256, activation='relu'))\n",
    "alexnet.add(BatchNormalization()) \n",
    "\n",
    "#output\n",
    "alexnet.add(Dense(10, activation='softmax'))\n",
    "\n",
    "#alexnet.compile(optimizer='adam', loss='sparse_categorical_crossentropy', metrics=['acc'])\n",
    "#alexnet.fit(X_train.reshape(-1,32,32,3), y_train, validation_data=(X_test,y_test), epochs=1, \n",
    "#            verbose=1, \n",
    "#            callbacks=[PlottingCallback()])\n",
    "\n",
    "\n",
    "model_bn_da = Sequential()\n",
    "model_bn_da.add(data_augmentation)\n",
    "model_bn_da.add(alexnet)\n",
    "\n",
    "model_bn_da.compile(optimizer='adam', loss='sparse_categorical_crossentropy', metrics=['acc'])\n",
    "model_bn_da.fit(X_train, y_train, validation_data=(X_test,y_test), epochs=1, \n",
    "                verbose=1, \n",
    "                callbacks=[PlottingCallback()])\n"
   ]
  },
  {
   "cell_type": "code",
   "execution_count": 36,
   "metadata": {},
   "outputs": [
    {
     "name": "stdout",
     "output_type": "stream",
     "text": [
      "Model: \"sequential_13\"\n",
      "_________________________________________________________________\n",
      "Layer (type)                 Output Shape              Param #   \n",
      "=================================================================\n",
      "sequential_2 (Sequential)    (None, 32, 32, 3)         0         \n",
      "_________________________________________________________________\n",
      "sequential_12 (Sequential)   (None, 10)                4976778   \n",
      "=================================================================\n",
      "Total params: 4,976,778\n",
      "Trainable params: 4,970,250\n",
      "Non-trainable params: 6,528\n",
      "_________________________________________________________________\n",
      "313/313 [==============================] - 6s 18ms/step - loss: 1.5133 - acc: 0.4564\n"
     ]
    },
    {
     "data": {
      "text/plain": [
       "[1.513312578201294, 0.4564000070095062]"
      ]
     },
     "execution_count": 36,
     "metadata": {},
     "output_type": "execute_result"
    }
   ],
   "source": [
    "model_bn_da.summary()\n",
    "model_bn_da.evaluate(X_test,y_test)"
   ]
  },
  {
   "cell_type": "code",
   "execution_count": null,
   "metadata": {},
   "outputs": [],
   "source": []
  },
  {
   "cell_type": "code",
   "execution_count": null,
   "metadata": {},
   "outputs": [],
   "source": []
  },
  {
   "cell_type": "code",
   "execution_count": null,
   "metadata": {},
   "outputs": [],
   "source": []
  },
  {
   "cell_type": "code",
   "execution_count": 47,
   "metadata": {
    "scrolled": false
   },
   "outputs": [
    {
     "name": "stdout",
     "output_type": "stream",
     "text": [
      "Model: \"functional_7\"\n",
      "__________________________________________________________________________________________________\n",
      "Layer (type)                    Output Shape         Param #     Connected to                     \n",
      "==================================================================================================\n",
      "input_10 (InputLayer)           [(None, 32, 32, 3)]  0                                            \n",
      "__________________________________________________________________________________________________\n",
      "conv2d_156 (Conv2D)             (None, 32, 32, 64)   1728        input_10[0][0]                   \n",
      "__________________________________________________________________________________________________\n",
      "batch_normalization_136 (BatchN (None, 32, 32, 64)   256         conv2d_156[0][0]                 \n",
      "__________________________________________________________________________________________________\n",
      "re_lu_115 (ReLU)                (None, 32, 32, 64)   0           batch_normalization_136[0][0]    \n",
      "__________________________________________________________________________________________________\n",
      "conv2d_157 (Conv2D)             (None, 32, 32, 64)   36864       re_lu_115[0][0]                  \n",
      "__________________________________________________________________________________________________\n",
      "batch_normalization_137 (BatchN (None, 32, 32, 64)   256         conv2d_157[0][0]                 \n",
      "__________________________________________________________________________________________________\n",
      "re_lu_116 (ReLU)                (None, 32, 32, 64)   0           batch_normalization_137[0][0]    \n",
      "__________________________________________________________________________________________________\n",
      "conv2d_158 (Conv2D)             (None, 32, 32, 64)   36864       re_lu_116[0][0]                  \n",
      "__________________________________________________________________________________________________\n",
      "batch_normalization_138 (BatchN (None, 32, 32, 64)   256         conv2d_158[0][0]                 \n",
      "__________________________________________________________________________________________________\n",
      "add_54 (Add)                    (None, 32, 32, 64)   0           batch_normalization_138[0][0]    \n",
      "                                                                 re_lu_115[0][0]                  \n",
      "__________________________________________________________________________________________________\n",
      "re_lu_117 (ReLU)                (None, 32, 32, 64)   0           add_54[0][0]                     \n",
      "__________________________________________________________________________________________________\n",
      "conv2d_159 (Conv2D)             (None, 32, 32, 64)   36864       re_lu_117[0][0]                  \n",
      "__________________________________________________________________________________________________\n",
      "batch_normalization_139 (BatchN (None, 32, 32, 64)   256         conv2d_159[0][0]                 \n",
      "__________________________________________________________________________________________________\n",
      "re_lu_118 (ReLU)                (None, 32, 32, 64)   0           batch_normalization_139[0][0]    \n",
      "__________________________________________________________________________________________________\n",
      "conv2d_160 (Conv2D)             (None, 32, 32, 64)   36864       re_lu_118[0][0]                  \n",
      "__________________________________________________________________________________________________\n",
      "batch_normalization_140 (BatchN (None, 32, 32, 64)   256         conv2d_160[0][0]                 \n",
      "__________________________________________________________________________________________________\n",
      "add_55 (Add)                    (None, 32, 32, 64)   0           batch_normalization_140[0][0]    \n",
      "                                                                 re_lu_117[0][0]                  \n",
      "__________________________________________________________________________________________________\n",
      "re_lu_119 (ReLU)                (None, 32, 32, 64)   0           add_55[0][0]                     \n",
      "__________________________________________________________________________________________________\n",
      "conv2d_162 (Conv2D)             (None, 16, 16, 128)  73728       re_lu_119[0][0]                  \n",
      "__________________________________________________________________________________________________\n",
      "batch_normalization_141 (BatchN (None, 16, 16, 128)  512         conv2d_162[0][0]                 \n",
      "__________________________________________________________________________________________________\n",
      "re_lu_120 (ReLU)                (None, 16, 16, 128)  0           batch_normalization_141[0][0]    \n",
      "__________________________________________________________________________________________________\n",
      "conv2d_163 (Conv2D)             (None, 16, 16, 128)  147456      re_lu_120[0][0]                  \n",
      "__________________________________________________________________________________________________\n",
      "batch_normalization_142 (BatchN (None, 16, 16, 128)  512         conv2d_163[0][0]                 \n",
      "__________________________________________________________________________________________________\n",
      "conv2d_161 (Conv2D)             (None, 16, 16, 128)  8192        re_lu_119[0][0]                  \n",
      "__________________________________________________________________________________________________\n",
      "add_56 (Add)                    (None, 16, 16, 128)  0           batch_normalization_142[0][0]    \n",
      "                                                                 conv2d_161[0][0]                 \n",
      "__________________________________________________________________________________________________\n",
      "re_lu_121 (ReLU)                (None, 16, 16, 128)  0           add_56[0][0]                     \n",
      "__________________________________________________________________________________________________\n",
      "conv2d_164 (Conv2D)             (None, 16, 16, 128)  147456      re_lu_121[0][0]                  \n",
      "__________________________________________________________________________________________________\n",
      "batch_normalization_143 (BatchN (None, 16, 16, 128)  512         conv2d_164[0][0]                 \n",
      "__________________________________________________________________________________________________\n",
      "re_lu_122 (ReLU)                (None, 16, 16, 128)  0           batch_normalization_143[0][0]    \n",
      "__________________________________________________________________________________________________\n",
      "conv2d_165 (Conv2D)             (None, 16, 16, 128)  147456      re_lu_122[0][0]                  \n",
      "__________________________________________________________________________________________________\n",
      "batch_normalization_144 (BatchN (None, 16, 16, 128)  512         conv2d_165[0][0]                 \n",
      "__________________________________________________________________________________________________\n",
      "add_57 (Add)                    (None, 16, 16, 128)  0           batch_normalization_144[0][0]    \n",
      "                                                                 re_lu_121[0][0]                  \n",
      "__________________________________________________________________________________________________\n",
      "re_lu_123 (ReLU)                (None, 16, 16, 128)  0           add_57[0][0]                     \n",
      "__________________________________________________________________________________________________\n",
      "conv2d_167 (Conv2D)             (None, 8, 8, 256)    294912      re_lu_123[0][0]                  \n",
      "__________________________________________________________________________________________________\n",
      "batch_normalization_145 (BatchN (None, 8, 8, 256)    1024        conv2d_167[0][0]                 \n",
      "__________________________________________________________________________________________________\n",
      "re_lu_124 (ReLU)                (None, 8, 8, 256)    0           batch_normalization_145[0][0]    \n",
      "__________________________________________________________________________________________________\n",
      "conv2d_168 (Conv2D)             (None, 8, 8, 256)    589824      re_lu_124[0][0]                  \n",
      "__________________________________________________________________________________________________\n",
      "batch_normalization_146 (BatchN (None, 8, 8, 256)    1024        conv2d_168[0][0]                 \n",
      "__________________________________________________________________________________________________\n",
      "conv2d_166 (Conv2D)             (None, 8, 8, 256)    32768       re_lu_123[0][0]                  \n",
      "__________________________________________________________________________________________________\n",
      "add_58 (Add)                    (None, 8, 8, 256)    0           batch_normalization_146[0][0]    \n",
      "                                                                 conv2d_166[0][0]                 \n",
      "__________________________________________________________________________________________________\n",
      "re_lu_125 (ReLU)                (None, 8, 8, 256)    0           add_58[0][0]                     \n",
      "__________________________________________________________________________________________________\n",
      "conv2d_169 (Conv2D)             (None, 8, 8, 256)    589824      re_lu_125[0][0]                  \n",
      "__________________________________________________________________________________________________\n",
      "batch_normalization_147 (BatchN (None, 8, 8, 256)    1024        conv2d_169[0][0]                 \n",
      "__________________________________________________________________________________________________\n",
      "re_lu_126 (ReLU)                (None, 8, 8, 256)    0           batch_normalization_147[0][0]    \n",
      "__________________________________________________________________________________________________\n",
      "conv2d_170 (Conv2D)             (None, 8, 8, 256)    589824      re_lu_126[0][0]                  \n",
      "__________________________________________________________________________________________________\n",
      "batch_normalization_148 (BatchN (None, 8, 8, 256)    1024        conv2d_170[0][0]                 \n",
      "__________________________________________________________________________________________________\n",
      "add_59 (Add)                    (None, 8, 8, 256)    0           batch_normalization_148[0][0]    \n",
      "                                                                 re_lu_125[0][0]                  \n",
      "__________________________________________________________________________________________________\n",
      "re_lu_127 (ReLU)                (None, 8, 8, 256)    0           add_59[0][0]                     \n",
      "__________________________________________________________________________________________________\n",
      "conv2d_172 (Conv2D)             (None, 4, 4, 512)    1179648     re_lu_127[0][0]                  \n",
      "__________________________________________________________________________________________________\n",
      "batch_normalization_149 (BatchN (None, 4, 4, 512)    2048        conv2d_172[0][0]                 \n",
      "__________________________________________________________________________________________________\n",
      "re_lu_128 (ReLU)                (None, 4, 4, 512)    0           batch_normalization_149[0][0]    \n",
      "__________________________________________________________________________________________________\n",
      "conv2d_173 (Conv2D)             (None, 4, 4, 512)    2359296     re_lu_128[0][0]                  \n",
      "__________________________________________________________________________________________________\n",
      "batch_normalization_150 (BatchN (None, 4, 4, 512)    2048        conv2d_173[0][0]                 \n",
      "__________________________________________________________________________________________________\n",
      "conv2d_171 (Conv2D)             (None, 4, 4, 512)    131072      re_lu_127[0][0]                  \n",
      "__________________________________________________________________________________________________\n",
      "add_60 (Add)                    (None, 4, 4, 512)    0           batch_normalization_150[0][0]    \n",
      "                                                                 conv2d_171[0][0]                 \n",
      "__________________________________________________________________________________________________\n",
      "re_lu_129 (ReLU)                (None, 4, 4, 512)    0           add_60[0][0]                     \n",
      "__________________________________________________________________________________________________\n",
      "conv2d_174 (Conv2D)             (None, 4, 4, 512)    2359296     re_lu_129[0][0]                  \n",
      "__________________________________________________________________________________________________\n",
      "batch_normalization_151 (BatchN (None, 4, 4, 512)    2048        conv2d_174[0][0]                 \n",
      "__________________________________________________________________________________________________\n",
      "re_lu_130 (ReLU)                (None, 4, 4, 512)    0           batch_normalization_151[0][0]    \n",
      "__________________________________________________________________________________________________\n",
      "conv2d_175 (Conv2D)             (None, 4, 4, 512)    2359296     re_lu_130[0][0]                  \n",
      "__________________________________________________________________________________________________\n",
      "batch_normalization_152 (BatchN (None, 4, 4, 512)    2048        conv2d_175[0][0]                 \n",
      "__________________________________________________________________________________________________\n",
      "add_61 (Add)                    (None, 4, 4, 512)    0           batch_normalization_152[0][0]    \n",
      "                                                                 re_lu_129[0][0]                  \n",
      "__________________________________________________________________________________________________\n",
      "re_lu_131 (ReLU)                (None, 4, 4, 512)    0           add_61[0][0]                     \n",
      "__________________________________________________________________________________________________\n",
      "average_pooling2d_3 (AveragePoo (None, 1, 1, 512)    0           re_lu_131[0][0]                  \n",
      "__________________________________________________________________________________________________\n",
      "flatten_11 (Flatten)            (None, 512)          0           average_pooling2d_3[0][0]        \n",
      "__________________________________________________________________________________________________\n",
      "dense_27 (Dense)                (None, 10)           5130        flatten_11[0][0]                 \n",
      "==================================================================================================\n",
      "Total params: 11,179,978\n",
      "Trainable params: 11,172,170\n",
      "Non-trainable params: 7,808\n",
      "__________________________________________________________________________________________________\n",
      "Model: \"sequential_21\"\n",
      "_________________________________________________________________\n",
      "Layer (type)                 Output Shape              Param #   \n",
      "=================================================================\n",
      "sequential_20 (Sequential)   (None, 32, 32, 3)         0         \n",
      "_________________________________________________________________\n",
      "functional_7 (Functional)    (None, 10)                11179978  \n",
      "=================================================================\n",
      "Total params: 11,179,978\n",
      "Trainable params: 11,172,170\n",
      "Non-trainable params: 7,808\n",
      "_________________________________________________________________\n"
     ]
    }
   ],
   "source": [
    "# Resnet18\n",
    "\n",
    "# 32*32*3\n",
    "input_ = Input(shape=(32,32,3))\n",
    "\n",
    "# 32*32*64\n",
    "x = Conv2D(64, kernel_size=3, padding='same', strides=(1,1), use_bias=False, # 레즈넷은 bias 안 씀\n",
    "           kernel_regularizer=l2(5e-4))(input_)\n",
    "x = BatchNormalization()(x)\n",
    "x = ReLU()(x)\n",
    "\n",
    "# 1st block\n",
    "# 32*32*64\n",
    "node = 64\n",
    "ksize = 3\n",
    "skip = x\n",
    "x = Conv2D(node, kernel_size=ksize, padding='same', strides=(1,1), use_bias=False, kernel_regularizer=l2(5e-4))(x)\n",
    "x = BatchNormalization()(x)\n",
    "x = ReLU()(x)\n",
    "# 32*32*64\n",
    "x = Conv2D(node, kernel_size=ksize, padding='same', strides=(1,1), use_bias=False, kernel_regularizer=l2(5e-4))(x)\n",
    "x = BatchNormalization()(x)\n",
    "x = Add()([x, skip])                                                          # 저장해 놓은 skip을 넣어줌\n",
    "x = ReLU()(x)\n",
    "\n",
    "# 32*32*64\n",
    "skip = x\n",
    "x = Conv2D(node, kernel_size=ksize, padding='same', strides=(1,1), use_bias=False, kernel_regularizer=l2(5e-4))(x)\n",
    "x = BatchNormalization()(x)\n",
    "x = ReLU()(x)\n",
    "# 32*32*64\n",
    "x = Conv2D(node, kernel_size=ksize, padding='same', strides=(1,1), use_bias=False, kernel_regularizer=l2(5e-4))(x)\n",
    "x = BatchNormalization()(x)\n",
    "x = Add()([x, skip])\n",
    "x = ReLU()(x)\n",
    "\n",
    "# 2nd block\n",
    "# 16*16*128\n",
    "node=128\n",
    "skip = Conv2D(node, kernel_size=1, padding='same', strides=(2,2), use_bias=False, kernel_regularizer=l2(5e-4))(x)   # 32*32 -> 16*16 으로 크기를 조정해야 함\n",
    "x = Conv2D(node, kernel_size=ksize, padding='same', strides=(2,2), use_bias=False, kernel_regularizer=l2(5e-4))(x)\n",
    "x = BatchNormalization()(x)\n",
    "x = ReLU()(x)\n",
    "# 16*16*128\n",
    "x = Conv2D(node, kernel_size=ksize, padding='same', strides=(1,1), use_bias=False, kernel_regularizer=l2(5e-4))(x)\n",
    "x = BatchNormalization()(x)\n",
    "x = Add()([x, skip])\n",
    "x = ReLU()(x)\n",
    "\n",
    "# 16*16*128\n",
    "skip = x\n",
    "x = Conv2D(node, kernel_size=ksize, padding='same', strides=(1,1), use_bias=False, kernel_regularizer=l2(5e-4))(x)\n",
    "x = BatchNormalization()(x)\n",
    "x = ReLU()(x)\n",
    "# 16*16*128\n",
    "x = Conv2D(node, kernel_size=ksize, padding='same', strides=(1,1), use_bias=False, kernel_regularizer=l2(5e-4))(x)\n",
    "x = BatchNormalization()(x)\n",
    "x = Add()([x, skip])\n",
    "x = ReLU()(x)\n",
    "\n",
    "# 3rd block\n",
    "# 8*8*256\n",
    "node=256\n",
    "skip = Conv2D(node, kernel_size=1, padding='same', strides=(2,2), use_bias=False, kernel_regularizer=l2(5e-4))(x)   # 16*16 -> 8*8 으로 크기를 조정해야 함\n",
    "x = Conv2D(node, kernel_size=ksize, padding='same', strides=(2,2), use_bias=False, kernel_regularizer=l2(5e-4))(x)\n",
    "x = BatchNormalization()(x)\n",
    "x = ReLU()(x)\n",
    "# 8*8*256\n",
    "x = Conv2D(node, kernel_size=ksize, padding='same', strides=(1,1), use_bias=False, kernel_regularizer=l2(5e-4))(x)\n",
    "x = BatchNormalization()(x)\n",
    "x = Add()([x, skip])\n",
    "x = ReLU()(x)\n",
    "\n",
    "# 8*8*256\n",
    "skip = x\n",
    "x = Conv2D(node, kernel_size=ksize, padding='same', strides=(1,1), use_bias=False, kernel_regularizer=l2(5e-4))(x)\n",
    "x = BatchNormalization()(x)\n",
    "x = ReLU()(x)\n",
    "# 8*8*256\n",
    "x = Conv2D(node, kernel_size=ksize, padding='same', strides=(1,1), use_bias=False, kernel_regularizer=l2(5e-4))(x)\n",
    "x = BatchNormalization()(x)\n",
    "x = Add()([x, skip])\n",
    "x = ReLU()(x)\n",
    "\n",
    "# 4th block\n",
    "# 4*4*512\n",
    "node=512\n",
    "skip = Conv2D(node, kernel_size=1, padding='same', strides=(2,2), use_bias=False, kernel_regularizer=l2(5e-4))(x)   # 8*8 -> 4*4 으로 크기를 조정해야 함\n",
    "x = Conv2D(node, kernel_size=ksize, padding='same', strides=(2,2), use_bias=False, kernel_regularizer=l2(5e-4))(x)\n",
    "x = BatchNormalization()(x)\n",
    "x = ReLU()(x)\n",
    "# 4*4*512\n",
    "x = Conv2D(node, kernel_size=ksize, padding='same', strides=(1,1), use_bias=False, kernel_regularizer=l2(5e-4))(x)\n",
    "x = BatchNormalization()(x)\n",
    "x = Add()([x, skip])\n",
    "x = ReLU()(x)\n",
    "\n",
    "# 4*4*512\n",
    "skip = x\n",
    "x = Conv2D(node, kernel_size=ksize, padding='same', strides=(1,1), use_bias=False, kernel_regularizer=l2(5e-4))(x)\n",
    "x = BatchNormalization()(x)\n",
    "x = ReLU()(x)\n",
    "# 4*4*512\n",
    "x = Conv2D(node, kernel_size=ksize, padding='same', strides=(1,1), use_bias=False, kernel_regularizer=l2(5e-4))(x)\n",
    "x = BatchNormalization()(x)\n",
    "x = Add()([x, skip])\n",
    "x = ReLU()(x)\n",
    "\n",
    "# Pooling, Flatten\n",
    "x = AveragePooling2D(pool_size=(4, 4))(x)         # 4*4*512 -> 1*1*512 로 변경\n",
    "x = Flatten()(x)                                  # 1*1*512 -> 512 로 변경\n",
    "\n",
    "# Fully-connected layer\n",
    "output = Dense(10, activation=tf.nn.softmax)(x)\n",
    "resnet = tf.keras.Model(input_, output)\n",
    "\n",
    "data_augmentation = Sequential()\n",
    "data_augmentation.add(ZeroPadding2D(4, input_shape=(32,32,3)))\n",
    "data_augmentation.add(RandomCrop(32, 32))\n",
    "data_augmentation.add(RandomFlip('horizontal'))\n",
    "data_augmentation.add(RandomRotation(0.05))\n",
    "\n",
    "model = Sequential()\n",
    "model.add(data_augmentation)\n",
    "model.add(resnet)\n",
    "\n",
    "resnet.summary()\n",
    "model.summary()"
   ]
  },
  {
   "cell_type": "code",
   "execution_count": 48,
   "metadata": {},
   "outputs": [
    {
     "data": {
      "image/png": "[encoded data removed]",
      "text/plain": [
       "<Figure size 1200x600 with 2 Axes>"
      ]
     },
     "metadata": {
      "needs_background": "light"
     },
     "output_type": "display_data"
    },
    {
     "name": "stdout",
     "output_type": "stream",
     "text": [
      "Epoch: 0, Loss: 2.50147, Acc: 42.28%\n",
      "\b\b\b\b\b\b\b\b\b\b\b\b\b\b\b\b\b\b\b\b\b\b\b\b\b\b\b\b\b\b\b\b\b\b\b\b\b\b\b\b\b\b\b\b\b\b\b\b\b\b\b\b\b\b\b\b\b\b\b\b\b\b\b\b\b\b\b\b\b\b\b\b\b\b\b\b\b\b\b\b\b\r",
      "1563/1563 [==============================] - 1973s 1s/step - loss: 2.5015 - acc: 0.4228 - val_loss: 2.0776 - val_acc: 0.4403\n"
     ]
    },
    {
     "data": {
      "text/plain": [
       "<tensorflow.python.keras.callbacks.History at 0x20e8a6eb4c8>"
      ]
     },
     "execution_count": 48,
     "metadata": {},
     "output_type": "execute_result"
    }
   ],
   "source": [
    "model.compile(optimizer='adam', loss='sparse_categorical_crossentropy', metrics=['acc'])\n",
    "model.fit(X_train, y_train, validation_data=(X_test,y_test), epochs=1, verbose=1, callbacks=[PlottingCallback()])"
   ]
  },
  {
   "cell_type": "code",
   "execution_count": 50,
   "metadata": {},
   "outputs": [
    {
     "name": "stdout",
     "output_type": "stream",
     "text": [
      "Model: \"sequential_21\"\n",
      "_________________________________________________________________\n",
      "Layer (type)                 Output Shape              Param #   \n",
      "=================================================================\n",
      "sequential_20 (Sequential)   (None, 32, 32, 3)         0         \n",
      "_________________________________________________________________\n",
      "functional_7 (Functional)    (None, 10)                11179978  \n",
      "=================================================================\n",
      "Total params: 11,179,978\n",
      "Trainable params: 11,172,170\n",
      "Non-trainable params: 7,808\n",
      "_________________________________________________________________\n",
      "313/313 [==============================] - 73s 233ms/step - loss: 2.0776 - acc: 0.4403\n"
     ]
    },
    {
     "data": {
      "text/plain": [
       "[2.077609062194824, 0.44029998779296875]"
      ]
     },
     "execution_count": 50,
     "metadata": {},
     "output_type": "execute_result"
    }
   ],
   "source": [
    "model.summary()\n",
    "model.evaluate(X_test,y_test)"
   ]
  }
 ],
 "metadata": {
  "kernelspec": {
   "display_name": "Python 3",
   "language": "python",
   "name": "python3"
  },
  "language_info": {
   "codemirror_mode": {
    "name": "ipython",
    "version": 3
   },
   "file_extension": ".py",
   "mimetype": "text/x-python",
   "name": "python",
   "nbconvert_exporter": "python",
   "pygments_lexer": "ipython3",
   "version": "3.7.7"
  }
 },
 "nbformat": 4,
 "nbformat_minor": 4
}
