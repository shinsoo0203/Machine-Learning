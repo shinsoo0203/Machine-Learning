{
 "cells": [
  {
   "cell_type": "markdown",
   "metadata": {},
   "source": [
    "##### CNN 실습"
   ]
  },
  {
   "cell_type": "code",
   "execution_count": 98,
   "metadata": {},
   "outputs": [],
   "source": [
    "# mnist data 가져오기\n",
    "\n",
    "from tensorflow.keras.datasets import mnist\n",
    "\n",
    "(Xm_train, ym_train), (Xm_test, ym_test) = mnist.load_data()\n",
    "Xm_train, Xm_test = Xm_train / 255.0, Xm_test / 255.0"
   ]
  },
  {
   "cell_type": "code",
   "execution_count": 62,
   "metadata": {},
   "outputs": [
    {
     "data": {
      "text/plain": [
       "<tensorflow.python.keras.callbacks.History at 0x1de804e23c8>"
      ]
     },
     "execution_count": 62,
     "metadata": {},
     "output_type": "execute_result"
    }
   ],
   "source": [
    "# mnist DNN - Sequential 만들기\n",
    "\n",
    "from tensorflow.keras.models import Sequential\n",
    "from tensorflow.keras.layers import Flatten, Dense\n",
    "\n",
    "model_DNN = Sequential()\n",
    "model_DNN.add(Flatten(input_shape=(28,28)))    #input\n",
    "model_DNN.add(Dense(128, activation='relu'))   #1\n",
    "model_DNN.add(Dense(10, activation='softmax')) #output\n",
    "\n",
    "model_DNN.compile(optimizer='adam', loss='sparse_categorical_crossentropy', metrics=['acc'])\n",
    "model_DNN.fit(X_train, y_train, epochs=10, verbose=0)"
   ]
  },
  {
   "cell_type": "code",
   "execution_count": 108,
   "metadata": {
    "collapsed": true
   },
   "outputs": [
    {
     "name": "stdout",
     "output_type": "stream",
     "text": [
      "313/313 [==============================] - 0s 915us/step - loss: 0.0838 - acc: 0.9781\n",
      "97.81%\n",
      "\n",
      "WARNING:tensorflow:6 out of the last 21 calls to <function Model.make_predict_function.<locals>.predict_function at 0x000001DE8590D4C8> triggered tf.function retracing. Tracing is expensive and the excessive number of tracings could be due to (1) creating @tf.function repeatedly in a loop, (2) passing tensors with different shapes, (3) passing Python objects instead of tensors. For (1), please define your @tf.function outside of the loop. For (2), @tf.function has experimental_relax_shapes=True option that relaxes argument shapes that can avoid unnecessary retracing. For (3), please refer to https://www.tensorflow.org/tutorials/customization/performance#python_or_tensor_args and https://www.tensorflow.org/api_docs/python/tf/function for  more details.\n",
      "[[2.1562900e-10 1.4293804e-10 3.8588951e-07 1.5534673e-06 1.6031752e-12\n",
      "  2.0845813e-10 6.5519289e-17 9.9999595e-01 1.3791909e-07 1.9725489e-06]]\n"
     ]
    },
    {
     "data": {
      "text/plain": [
       "[<tensorflow.python.keras.engine.input_layer.InputLayer at 0x1de8575ad88>,\n",
       " <tensorflow.python.keras.layers.core.Flatten at 0x1de857ae688>,\n",
       " <tensorflow.python.keras.layers.core.Dense at 0x1de857ae9c8>,\n",
       " <tensorflow.python.keras.layers.core.Dense at 0x1de857ae848>]"
      ]
     },
     "execution_count": 108,
     "metadata": {},
     "output_type": "execute_result"
    }
   ],
   "source": [
    "# model_DNN 확인\n",
    "\n",
    "model=model_DNN\n",
    "\n",
    "(test_loss, test_acc) = model.evaluate(X_test,y_test)\n",
    "print('{:.2f}%\\n'.format(100*test_acc))\n",
    "\n",
    "print(model.predict(X_test[0].reshape(1,28,28)))\n",
    "\n",
    "model.layers"
   ]
  },
  {
   "cell_type": "code",
   "execution_count": 99,
   "metadata": {},
   "outputs": [
    {
     "data": {
      "text/plain": [
       "6"
      ]
     },
     "execution_count": 99,
     "metadata": {},
     "output_type": "execute_result"
    },
    {
     "data": {
      "image/png": "[encoded data removed]",
      "text/plain": [
       "<Figure size 432x288 with 1 Axes>"
      ]
     },
     "metadata": {
      "needs_background": "light"
     },
     "output_type": "display_data"
    }
   ],
   "source": [
    "# 이미지 샘플 확인\n",
    "\n",
    "import matplotlib.pyplot as plt\n",
    "\n",
    "i=13\n",
    "X=Xm_train[i]\n",
    "y=ym_train[i]\n",
    "\n",
    "plt.figure()\n",
    "plt.imshow(X, cmap='gray')\n",
    "y"
   ]
  },
  {
   "cell_type": "code",
   "execution_count": 31,
   "metadata": {},
   "outputs": [
    {
     "data": {
      "text/plain": [
       "<tensorflow.python.keras.callbacks.History at 0x1de8babcf08>"
      ]
     },
     "execution_count": 31,
     "metadata": {},
     "output_type": "execute_result"
    }
   ],
   "source": [
    "# mnist CNN 만들기 (filter개수, filter크기, padding, stride)\n",
    "\n",
    "from tensorflow.keras.models import Sequential\n",
    "from tensorflow.keras.layers import Flatten, Dense, Conv2D, MaxPool2D\n",
    "\n",
    "model_lenet = Sequential()\n",
    "\n",
    "#1st layer : [Conv]+[ReLU]+[Pool]\n",
    "model_lenet.add(Conv2D(input_shape=(28,28,1),   # 28*28(사이즈)*1(채널-흑백:1,RGB:3)\n",
    "                      kernel_size=(3,3),        # filter 크기\n",
    "                      filters=32,\n",
    "                      strides=(1,1),\n",
    "                      padding='same',\n",
    "                      activation='relu'))\n",
    "model_lenet.add(MaxPool2D(pool_size=(2,2),\n",
    "                         strides=(2,2),\n",
    "                         padding='valid'))\n",
    "\n",
    "#2nd layer : [Conv]+[ReLU]+[Pool]\n",
    "model_lenet.add(Conv2D(kernel_size=(5,5),        # filter 크기\n",
    "                      filters=48,\n",
    "                      strides=(1,1),\n",
    "                      padding='same',\n",
    "                      activation='relu'))\n",
    "model_lenet.add(MaxPool2D(pool_size=(2,2),\n",
    "                         strides=(2,2),\n",
    "                         padding='valid'))\n",
    "\n",
    "#3rd layer\n",
    "model_lenet.add(Flatten())                         # input_shape 은 처음에만 \n",
    "model_lenet.add(Dense(256, activation='relu'))\n",
    "\n",
    "#4th layer\n",
    "model_lenet.add(Dense(128, activation='relu'))\n",
    "\n",
    "#output\n",
    "model_lenet.add(Dense(10, activation='softmax'))\n",
    "\n",
    "model_lenet.compile(optimizer='adam', loss='sparse_categorical_crossentropy', metrics=['acc'])\n",
    "model_lenet.fit(X_train.reshape(-1,28,28,1), y_train, epochs=10, verbose=0)"
   ]
  },
  {
   "cell_type": "code",
   "execution_count": 80,
   "metadata": {},
   "outputs": [
    {
     "ename": "ValueError",
     "evalue": "cannot reshape array of size 30720000 into shape (28,28,1)",
     "output_type": "error",
     "traceback": [
      "\u001b[1;31m---------------------------------------------------------------------------\u001b[0m",
      "\u001b[1;31mValueError\u001b[0m                                Traceback (most recent call last)",
      "\u001b[1;32m<ipython-input-80-040db096aea7>\u001b[0m in \u001b[0;36m<module>\u001b[1;34m\u001b[0m\n\u001b[0;32m      3\u001b[0m \u001b[0mmodel\u001b[0m\u001b[1;33m=\u001b[0m\u001b[0mmodel_lenet\u001b[0m\u001b[1;33m\u001b[0m\u001b[1;33m\u001b[0m\u001b[0m\n\u001b[0;32m      4\u001b[0m \u001b[1;33m\u001b[0m\u001b[0m\n\u001b[1;32m----> 5\u001b[1;33m \u001b[1;33m(\u001b[0m\u001b[0mtest_loss\u001b[0m\u001b[1;33m,\u001b[0m \u001b[0mtest_acc\u001b[0m\u001b[1;33m)\u001b[0m \u001b[1;33m=\u001b[0m \u001b[0mmodel\u001b[0m\u001b[1;33m.\u001b[0m\u001b[0mevaluate\u001b[0m\u001b[1;33m(\u001b[0m\u001b[0mX_test\u001b[0m\u001b[1;33m.\u001b[0m\u001b[0mreshape\u001b[0m\u001b[1;33m(\u001b[0m\u001b[1;33m-\u001b[0m\u001b[1;36m1\u001b[0m\u001b[1;33m,\u001b[0m\u001b[1;36m28\u001b[0m\u001b[1;33m,\u001b[0m\u001b[1;36m28\u001b[0m\u001b[1;33m,\u001b[0m\u001b[1;36m1\u001b[0m\u001b[1;33m)\u001b[0m\u001b[1;33m,\u001b[0m\u001b[0my_test\u001b[0m\u001b[1;33m)\u001b[0m\u001b[1;33m\u001b[0m\u001b[1;33m\u001b[0m\u001b[0m\n\u001b[0m\u001b[0;32m      6\u001b[0m \u001b[0mprint\u001b[0m\u001b[1;33m(\u001b[0m\u001b[1;34m'{:.2f}%\\n'\u001b[0m\u001b[1;33m.\u001b[0m\u001b[0mformat\u001b[0m\u001b[1;33m(\u001b[0m\u001b[1;36m100\u001b[0m\u001b[1;33m*\u001b[0m\u001b[0mtest_acc\u001b[0m\u001b[1;33m)\u001b[0m\u001b[1;33m)\u001b[0m\u001b[1;33m\u001b[0m\u001b[1;33m\u001b[0m\u001b[0m\n\u001b[0;32m      7\u001b[0m \u001b[1;33m\u001b[0m\u001b[0m\n",
      "\u001b[1;31mValueError\u001b[0m: cannot reshape array of size 30720000 into shape (28,28,1)"
     ]
    }
   ],
   "source": [
    "# model_lenet 확인\n",
    "\n",
    "model=model_lenet\n",
    "\n",
    "(test_loss, test_acc) = model.evaluate(X_test.reshape(-1,28,28,1),y_test)\n",
    "print('{:.2f}%\\n'.format(100*test_acc))\n",
    "\n",
    "print(model.predict(X_test[0].reshape(1,28,28,1)))\n",
    "\n",
    "model.layers"
   ]
  },
  {
   "cell_type": "code",
   "execution_count": 74,
   "metadata": {},
   "outputs": [
    {
     "name": "stdout",
     "output_type": "stream",
     "text": [
      "Downloading data from https://www.cs.toronto.edu/~kriz/cifar-10-python.tar.gz\n",
      "170500096/170498071 [==============================] - 733s 4us/step\n"
     ]
    }
   ],
   "source": [
    "# CIFAR10 data 가져오기\n",
    "\n",
    "from tensorflow.keras.datasets import cifar10\n",
    "\n",
    "(X_train, y_train), (X_test, y_test) = cifar10.load_data()\n",
    "X_train, X_test = X_train / 255.0, X_test / 255.0"
   ]
  },
  {
   "cell_type": "code",
   "execution_count": 75,
   "metadata": {},
   "outputs": [
    {
     "data": {
      "text/plain": [
       "<tensorflow.python.keras.callbacks.History at 0x1de808abec8>"
      ]
     },
     "execution_count": 75,
     "metadata": {},
     "output_type": "execute_result"
    }
   ],
   "source": [
    "# CIFAR10 alexnet 만들기\n",
    "\n",
    "from tensorflow.keras.models import Sequential\n",
    "from tensorflow.keras.layers import Flatten, Dense, Conv2D, MaxPool2D\n",
    "\n",
    "model_alex = Sequential()\n",
    "\n",
    "#1st layer : [Conv]+[ReLU]+[Pool]\n",
    "model_alex.add(Conv2D(input_shape=(32,32,3),   # 모르겠으면 X_train.shape 해서 그대로\n",
    "                      kernel_size=(3,3),        # filter 크기\n",
    "                      filters=48,\n",
    "                      strides=(1,1),\n",
    "                      padding='same',\n",
    "                      activation='relu'))\n",
    "model_alex.add(MaxPool2D(pool_size=(2,2),\n",
    "                         strides=(2,2),\n",
    "                         padding='valid'))\n",
    "\n",
    "#2nd layer : [Conv]+[ReLU]+[Pool]\n",
    "model_alex.add(Conv2D(kernel_size=(3,3),\n",
    "                      filters=96,\n",
    "                      strides=(1,1),\n",
    "                      padding='same',\n",
    "                      activation='relu'))\n",
    "model_alex.add(MaxPool2D(pool_size=(2,2),\n",
    "                         strides=(2,2),\n",
    "                         padding='valid'))\n",
    "\n",
    "#3rd layer\n",
    "model_alex.add(Conv2D(kernel_size=(3,3),\n",
    "                      filters=192,\n",
    "                      strides=(1,1),\n",
    "                      padding='same',\n",
    "                      activation='relu'))\n",
    "\n",
    "#4th layer\n",
    "model_alex.add(Conv2D(kernel_size=(3,3),\n",
    "                      filters=192,\n",
    "                      strides=(1,1),\n",
    "                      padding='same',\n",
    "                      activation='relu'))\n",
    "\n",
    "#5th layer : [Conv]+[ReLU]+[Pool]\n",
    "model_alex.add(Conv2D(kernel_size=(3,3),\n",
    "                      filters=256,\n",
    "                      strides=(1,1),\n",
    "                      padding='same',\n",
    "                      activation='relu'))\n",
    "model_alex.add(MaxPool2D(pool_size=(2,2),\n",
    "                         strides=(2,2),\n",
    "                         padding='valid'))\n",
    "\n",
    "#6th layer\n",
    "model_alex.add(Flatten())                         # input_shape 은 처음에만 \n",
    "model_alex.add(Dense(512, activation='relu'))\n",
    "\n",
    "#7th layer\n",
    "model_alex.add(Dense(256, activation='relu'))\n",
    "\n",
    "#output\n",
    "model_alex.add(Dense(10, activation='softmax'))\n",
    "\n",
    "model_alex.compile(optimizer='adam', loss='sparse_categorical_crossentropy', metrics=['acc'])\n",
    "model_alex.fit(X_train.reshape(-1,32,32,3), y_train, epochs=5, verbose=0)"
   ]
  },
  {
   "cell_type": "code",
   "execution_count": 97,
   "metadata": {},
   "outputs": [
    {
     "name": "stdout",
     "output_type": "stream",
     "text": [
      "313/313 [==============================] - 6s 20ms/step - loss: 0.8142 - acc: 0.7254\n",
      "72.54%\n",
      "\n",
      "[[0.00171434 0.00266545 0.00498872 0.512295   0.00139883 0.45029518\n",
      "  0.00499675 0.00557925 0.00668131 0.00938508]]\n"
     ]
    },
    {
     "data": {
      "text/plain": [
       "[<tensorflow.python.keras.layers.convolutional.Conv2D at 0x1de80844948>,\n",
       " <tensorflow.python.keras.layers.pooling.MaxPooling2D at 0x1de80854388>,\n",
       " <tensorflow.python.keras.layers.convolutional.Conv2D at 0x1de8084a588>,\n",
       " <tensorflow.python.keras.layers.pooling.MaxPooling2D at 0x1de8084a1c8>,\n",
       " <tensorflow.python.keras.layers.convolutional.Conv2D at 0x1de8085cfc8>,\n",
       " <tensorflow.python.keras.layers.convolutional.Conv2D at 0x1de8085c448>,\n",
       " <tensorflow.python.keras.layers.convolutional.Conv2D at 0x1de80864a08>,\n",
       " <tensorflow.python.keras.layers.pooling.MaxPooling2D at 0x1de8086d9c8>,\n",
       " <tensorflow.python.keras.layers.core.Flatten at 0x1de80875848>,\n",
       " <tensorflow.python.keras.layers.core.Dense at 0x1de808785c8>,\n",
       " <tensorflow.python.keras.layers.core.Dense at 0x1de8087fc88>,\n",
       " <tensorflow.python.keras.layers.core.Dense at 0x1de80878608>]"
      ]
     },
     "execution_count": 97,
     "metadata": {},
     "output_type": "execute_result"
    }
   ],
   "source": [
    "# model_alex 확인\n",
    "\n",
    "model=model_alex\n",
    "\n",
    "(test_loss, test_acc) = model.evaluate(X_test.reshape(-1,32,32,3),y_test)\n",
    "print('{:.2f}%\\n'.format(100*test_acc))\n",
    "\n",
    "print(model.predict(X_test[0].reshape(1,32,32,3)))\n",
    "\n",
    "model.layers"
   ]
  },
  {
   "cell_type": "code",
   "execution_count": 111,
   "metadata": {},
   "outputs": [
    {
     "data": {
      "text/plain": [
       "<tensorflow.python.keras.callbacks.History at 0x1de85ae4048>"
      ]
     },
     "execution_count": 111,
     "metadata": {},
     "output_type": "execute_result"
    }
   ],
   "source": [
    "# mnist DNN -model 만들기\n",
    "\n",
    "from tensorflow.keras.models import Model\n",
    "from tensorflow.keras.layers import Flatten, Dense, Input\n",
    "\n",
    "inputs = Input(shape=(28,28))\n",
    "flatten = Flatten()(inputs)\n",
    "hidden1 = Dense(128, activation='relu')(flatten)   #1\n",
    "hidden2 = Dense(256, activation='relu')(hidden1)   #2\n",
    "hidden3 = Dense(128, activation='relu')(hidden2)   #3\n",
    "outputs = Dense(10, activation='softmax')(hidden3) #output\n",
    "model_NN = Model(inputs=inputs,outputs=outputs)\n",
    "\n",
    "model_NN.compile(optimizer='adam', loss='sparse_categorical_crossentropy', metrics=['acc'])\n",
    "model_NN.fit(Xm_train, ym_train, epochs=10, verbose=0)"
   ]
  },
  {
   "cell_type": "code",
   "execution_count": 112,
   "metadata": {},
   "outputs": [
    {
     "name": "stdout",
     "output_type": "stream",
     "text": [
      "313/313 [==============================] - 0s 676us/step - loss: 0.0814 - acc: 0.9799\n",
      "97.99%\n",
      "\n",
      "WARNING:tensorflow:6 out of the last 11 calls to <function Model.make_predict_function.<locals>.predict_function at 0x000001DE85B2CCA8> triggered tf.function retracing. Tracing is expensive and the excessive number of tracings could be due to (1) creating @tf.function repeatedly in a loop, (2) passing tensors with different shapes, (3) passing Python objects instead of tensors. For (1), please define your @tf.function outside of the loop. For (2), @tf.function has experimental_relax_shapes=True option that relaxes argument shapes that can avoid unnecessary retracing. For (3), please refer to https://www.tensorflow.org/tutorials/customization/performance#python_or_tensor_args and https://www.tensorflow.org/api_docs/python/tf/function for  more details.\n",
      "[[6.19717439e-13 6.02397021e-09 1.48855435e-08 2.13779480e-11\n",
      "  8.33181790e-09 4.98888582e-13 3.23157959e-19 9.99999523e-01\n",
      "  2.87261603e-11 4.71141163e-07]]\n"
     ]
    },
    {
     "data": {
      "text/plain": [
       "[<tensorflow.python.keras.engine.input_layer.InputLayer at 0x1de85aaf1c8>,\n",
       " <tensorflow.python.keras.layers.core.Flatten at 0x1de85aaf408>,\n",
       " <tensorflow.python.keras.layers.core.Dense at 0x1de85aaf888>,\n",
       " <tensorflow.python.keras.layers.core.Dense at 0x1de85aafb48>,\n",
       " <tensorflow.python.keras.layers.core.Dense at 0x1de85ab1648>,\n",
       " <tensorflow.python.keras.layers.core.Dense at 0x1de85ab2c48>]"
      ]
     },
     "execution_count": 112,
     "metadata": {},
     "output_type": "execute_result"
    }
   ],
   "source": [
    "# model_NN 확인\n",
    "\n",
    "model=model_NN\n",
    "\n",
    "(test_loss, test_acc) = model.evaluate(Xm_test,ym_test)\n",
    "print('{:.2f}%\\n'.format(100*test_acc))\n",
    "\n",
    "print(model.predict(Xm_test[0].reshape(1,28,28)))\n",
    "\n",
    "model.layers"
   ]
  }
 ],
 "metadata": {
  "kernelspec": {
   "display_name": "Python 3",
   "language": "python",
   "name": "python3"
  },
  "language_info": {
   "codemirror_mode": {
    "name": "ipython",
    "version": 3
   },
   "file_extension": ".py",
   "mimetype": "text/x-python",
   "name": "python",
   "nbconvert_exporter": "python",
   "pygments_lexer": "ipython3",
   "version": "3.7.7"
  }
 },
 "nbformat": 4,
 "nbformat_minor": 4
}
