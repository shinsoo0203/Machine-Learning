{
 "cells": [
  {
   "cell_type": "markdown",
   "metadata": {},
   "source": [
    "<br><br><center><h1 style=\"font-size:3em;color:#2467C0\">Mini project 2</h1></center>\n",
    "<br>\n",
    "<table>\n",
    "<col width=\"550\">\n",
    "<col width=\"450\">\n",
    "<tr>\n",
    "<td><img src=\"job.jpg\" align=\"middle\" style=\"width:500px;height:250px;\"/></td>\n",
    "<td>\n",
    "직장을 옮기는 이직은 빈번히 발생한다. 본 프로젝트에서는 이직과 관련된 요소를 추출하고, 이를 기반으로 이직을 예측할 수 있는 모델을 구축해본다. 본 프로젝트를 통해서 학습 했던 내용(데이터 정제, 모델 구축, 모델 성능 평가 등)을 실습하여 본다.\n",
    "</td>\n",
    "</tr>\n",
    "</table>"
   ]
  },
  {
   "cell_type": "markdown",
   "metadata": {
    "papermill": {
     "duration": 0.068466,
     "end_time": "2020-12-31T11:18:09.539019",
     "exception": false,
     "start_time": "2020-12-31T11:18:09.470553",
     "status": "completed"
    },
    "tags": []
   },
   "source": [
    "<h1 style=\"font-size:2em;color:#2467C0\">1. Import Libraries</h1>"
   ]
  },
  {
   "cell_type": "code",
   "execution_count": 2,
   "metadata": {
    "_cell_guid": "b1076dfc-b9ad-4769-8c92-a6c4dae69d19",
    "_uuid": "8f2839f25d086af736a60e9eeb907d3b93b6e0e5",
    "execution": {
     "iopub.execute_input": "2020-12-31T11:18:20.960807Z",
     "iopub.status.busy": "2020-12-31T11:18:20.959990Z",
     "iopub.status.idle": "2020-12-31T11:18:24.540929Z",
     "shell.execute_reply": "2020-12-31T11:18:24.541594Z"
    },
    "papermill": {
     "duration": 3.664135,
     "end_time": "2020-12-31T11:18:24.541779",
     "exception": false,
     "start_time": "2020-12-31T11:18:20.877644",
     "status": "completed"
    },
    "tags": []
   },
   "outputs": [],
   "source": [
    "import numpy as np \n",
    "import pandas as pd\n",
    "import matplotlib.pyplot as plt\n",
    "import seaborn as sns\n",
    "from sklearn.preprocessing import LabelEncoder\n",
    "from sklearn.model_selection import train_test_split\n",
    "from sklearn.preprocessing import MinMaxScaler\n",
    "from sklearn.ensemble import RandomForestClassifier\n",
    "from sklearn.metrics import classification_report\n",
    "from sklearn.metrics import accuracy_score"
   ]
  },
  {
   "cell_type": "code",
   "execution_count": 3,
   "metadata": {
    "_cell_guid": "79c7e3d0-c299-4dcb-8224-4455121ee9b0",
    "_uuid": "d629ff2d2480ee46fbb7e2d37f6b5fab8052498a",
    "execution": {
     "iopub.execute_input": "2020-12-31T11:18:24.691914Z",
     "iopub.status.busy": "2020-12-31T11:18:24.691193Z",
     "iopub.status.idle": "2020-12-31T11:18:24.829866Z",
     "shell.execute_reply": "2020-12-31T11:18:24.830563Z"
    },
    "papermill": {
     "duration": 0.220507,
     "end_time": "2020-12-31T11:18:24.830700",
     "exception": false,
     "start_time": "2020-12-31T11:18:24.610193",
     "status": "completed"
    },
    "tags": []
   },
   "outputs": [
    {
     "data": {
      "text/plain": [
       "(19158, 14)"
      ]
     },
     "execution_count": 3,
     "metadata": {},
     "output_type": "execute_result"
    }
   ],
   "source": [
    "data = pd.read_csv('data/aug_train.csv')\n",
    "data.shape"
   ]
  },
  {
   "cell_type": "code",
   "execution_count": 4,
   "metadata": {},
   "outputs": [
    {
     "data": {
      "text/html": [
       "<div>\n",
       "<style scoped>\n",
       "    .dataframe tbody tr th:only-of-type {\n",
       "        vertical-align: middle;\n",
       "    }\n",
       "\n",
       "    .dataframe tbody tr th {\n",
       "        vertical-align: top;\n",
       "    }\n",
       "\n",
       "    .dataframe thead th {\n",
       "        text-align: right;\n",
       "    }\n",
       "</style>\n",
       "<table border=\"1\" class=\"dataframe\">\n",
       "  <thead>\n",
       "    <tr style=\"text-align: right;\">\n",
       "      <th></th>\n",
       "      <th>enrollee_id</th>\n",
       "      <th>city</th>\n",
       "      <th>city_development_index</th>\n",
       "      <th>gender</th>\n",
       "      <th>relevent_experience</th>\n",
       "      <th>enrolled_university</th>\n",
       "      <th>education_level</th>\n",
       "      <th>major_discipline</th>\n",
       "      <th>experience</th>\n",
       "      <th>company_size</th>\n",
       "      <th>company_type</th>\n",
       "      <th>last_new_job</th>\n",
       "      <th>training_hours</th>\n",
       "      <th>target</th>\n",
       "    </tr>\n",
       "  </thead>\n",
       "  <tbody>\n",
       "    <tr>\n",
       "      <th>0</th>\n",
       "      <td>8949</td>\n",
       "      <td>city_103</td>\n",
       "      <td>0.920</td>\n",
       "      <td>Male</td>\n",
       "      <td>Has relevent experience</td>\n",
       "      <td>no_enrollment</td>\n",
       "      <td>Graduate</td>\n",
       "      <td>STEM</td>\n",
       "      <td>&gt;20</td>\n",
       "      <td>NaN</td>\n",
       "      <td>NaN</td>\n",
       "      <td>1</td>\n",
       "      <td>36</td>\n",
       "      <td>1.0</td>\n",
       "    </tr>\n",
       "    <tr>\n",
       "      <th>1</th>\n",
       "      <td>29725</td>\n",
       "      <td>city_40</td>\n",
       "      <td>0.776</td>\n",
       "      <td>Male</td>\n",
       "      <td>No relevent experience</td>\n",
       "      <td>no_enrollment</td>\n",
       "      <td>Graduate</td>\n",
       "      <td>STEM</td>\n",
       "      <td>15</td>\n",
       "      <td>50-99</td>\n",
       "      <td>Pvt Ltd</td>\n",
       "      <td>&gt;4</td>\n",
       "      <td>47</td>\n",
       "      <td>0.0</td>\n",
       "    </tr>\n",
       "    <tr>\n",
       "      <th>2</th>\n",
       "      <td>11561</td>\n",
       "      <td>city_21</td>\n",
       "      <td>0.624</td>\n",
       "      <td>NaN</td>\n",
       "      <td>No relevent experience</td>\n",
       "      <td>Full time course</td>\n",
       "      <td>Graduate</td>\n",
       "      <td>STEM</td>\n",
       "      <td>5</td>\n",
       "      <td>NaN</td>\n",
       "      <td>NaN</td>\n",
       "      <td>never</td>\n",
       "      <td>83</td>\n",
       "      <td>0.0</td>\n",
       "    </tr>\n",
       "    <tr>\n",
       "      <th>3</th>\n",
       "      <td>33241</td>\n",
       "      <td>city_115</td>\n",
       "      <td>0.789</td>\n",
       "      <td>NaN</td>\n",
       "      <td>No relevent experience</td>\n",
       "      <td>NaN</td>\n",
       "      <td>Graduate</td>\n",
       "      <td>Business Degree</td>\n",
       "      <td>&lt;1</td>\n",
       "      <td>NaN</td>\n",
       "      <td>Pvt Ltd</td>\n",
       "      <td>never</td>\n",
       "      <td>52</td>\n",
       "      <td>1.0</td>\n",
       "    </tr>\n",
       "    <tr>\n",
       "      <th>4</th>\n",
       "      <td>666</td>\n",
       "      <td>city_162</td>\n",
       "      <td>0.767</td>\n",
       "      <td>Male</td>\n",
       "      <td>Has relevent experience</td>\n",
       "      <td>no_enrollment</td>\n",
       "      <td>Masters</td>\n",
       "      <td>STEM</td>\n",
       "      <td>&gt;20</td>\n",
       "      <td>50-99</td>\n",
       "      <td>Funded Startup</td>\n",
       "      <td>4</td>\n",
       "      <td>8</td>\n",
       "      <td>0.0</td>\n",
       "    </tr>\n",
       "    <tr>\n",
       "      <th>5</th>\n",
       "      <td>21651</td>\n",
       "      <td>city_176</td>\n",
       "      <td>0.764</td>\n",
       "      <td>NaN</td>\n",
       "      <td>Has relevent experience</td>\n",
       "      <td>Part time course</td>\n",
       "      <td>Graduate</td>\n",
       "      <td>STEM</td>\n",
       "      <td>11</td>\n",
       "      <td>NaN</td>\n",
       "      <td>NaN</td>\n",
       "      <td>1</td>\n",
       "      <td>24</td>\n",
       "      <td>1.0</td>\n",
       "    </tr>\n",
       "    <tr>\n",
       "      <th>6</th>\n",
       "      <td>28806</td>\n",
       "      <td>city_160</td>\n",
       "      <td>0.920</td>\n",
       "      <td>Male</td>\n",
       "      <td>Has relevent experience</td>\n",
       "      <td>no_enrollment</td>\n",
       "      <td>High School</td>\n",
       "      <td>NaN</td>\n",
       "      <td>5</td>\n",
       "      <td>50-99</td>\n",
       "      <td>Funded Startup</td>\n",
       "      <td>1</td>\n",
       "      <td>24</td>\n",
       "      <td>0.0</td>\n",
       "    </tr>\n",
       "    <tr>\n",
       "      <th>7</th>\n",
       "      <td>402</td>\n",
       "      <td>city_46</td>\n",
       "      <td>0.762</td>\n",
       "      <td>Male</td>\n",
       "      <td>Has relevent experience</td>\n",
       "      <td>no_enrollment</td>\n",
       "      <td>Graduate</td>\n",
       "      <td>STEM</td>\n",
       "      <td>13</td>\n",
       "      <td>&lt;10</td>\n",
       "      <td>Pvt Ltd</td>\n",
       "      <td>&gt;4</td>\n",
       "      <td>18</td>\n",
       "      <td>1.0</td>\n",
       "    </tr>\n",
       "    <tr>\n",
       "      <th>8</th>\n",
       "      <td>27107</td>\n",
       "      <td>city_103</td>\n",
       "      <td>0.920</td>\n",
       "      <td>Male</td>\n",
       "      <td>Has relevent experience</td>\n",
       "      <td>no_enrollment</td>\n",
       "      <td>Graduate</td>\n",
       "      <td>STEM</td>\n",
       "      <td>7</td>\n",
       "      <td>50-99</td>\n",
       "      <td>Pvt Ltd</td>\n",
       "      <td>1</td>\n",
       "      <td>46</td>\n",
       "      <td>1.0</td>\n",
       "    </tr>\n",
       "    <tr>\n",
       "      <th>9</th>\n",
       "      <td>699</td>\n",
       "      <td>city_103</td>\n",
       "      <td>0.920</td>\n",
       "      <td>NaN</td>\n",
       "      <td>Has relevent experience</td>\n",
       "      <td>no_enrollment</td>\n",
       "      <td>Graduate</td>\n",
       "      <td>STEM</td>\n",
       "      <td>17</td>\n",
       "      <td>10000+</td>\n",
       "      <td>Pvt Ltd</td>\n",
       "      <td>&gt;4</td>\n",
       "      <td>123</td>\n",
       "      <td>0.0</td>\n",
       "    </tr>\n",
       "  </tbody>\n",
       "</table>\n",
       "</div>"
      ],
      "text/plain": [
       "   enrollee_id      city  city_development_index gender  \\\n",
       "0         8949  city_103                   0.920   Male   \n",
       "1        29725   city_40                   0.776   Male   \n",
       "2        11561   city_21                   0.624    NaN   \n",
       "3        33241  city_115                   0.789    NaN   \n",
       "4          666  city_162                   0.767   Male   \n",
       "5        21651  city_176                   0.764    NaN   \n",
       "6        28806  city_160                   0.920   Male   \n",
       "7          402   city_46                   0.762   Male   \n",
       "8        27107  city_103                   0.920   Male   \n",
       "9          699  city_103                   0.920    NaN   \n",
       "\n",
       "       relevent_experience enrolled_university education_level  \\\n",
       "0  Has relevent experience       no_enrollment        Graduate   \n",
       "1   No relevent experience       no_enrollment        Graduate   \n",
       "2   No relevent experience    Full time course        Graduate   \n",
       "3   No relevent experience                 NaN        Graduate   \n",
       "4  Has relevent experience       no_enrollment         Masters   \n",
       "5  Has relevent experience    Part time course        Graduate   \n",
       "6  Has relevent experience       no_enrollment     High School   \n",
       "7  Has relevent experience       no_enrollment        Graduate   \n",
       "8  Has relevent experience       no_enrollment        Graduate   \n",
       "9  Has relevent experience       no_enrollment        Graduate   \n",
       "\n",
       "  major_discipline experience company_size    company_type last_new_job  \\\n",
       "0             STEM        >20          NaN             NaN            1   \n",
       "1             STEM         15        50-99         Pvt Ltd           >4   \n",
       "2             STEM          5          NaN             NaN        never   \n",
       "3  Business Degree         <1          NaN         Pvt Ltd        never   \n",
       "4             STEM        >20        50-99  Funded Startup            4   \n",
       "5             STEM         11          NaN             NaN            1   \n",
       "6              NaN          5        50-99  Funded Startup            1   \n",
       "7             STEM         13          <10         Pvt Ltd           >4   \n",
       "8             STEM          7        50-99         Pvt Ltd            1   \n",
       "9             STEM         17       10000+         Pvt Ltd           >4   \n",
       "\n",
       "   training_hours  target  \n",
       "0              36     1.0  \n",
       "1              47     0.0  \n",
       "2              83     0.0  \n",
       "3              52     1.0  \n",
       "4               8     0.0  \n",
       "5              24     1.0  \n",
       "6              24     0.0  \n",
       "7              18     1.0  \n",
       "8              46     1.0  \n",
       "9             123     0.0  "
      ]
     },
     "execution_count": 4,
     "metadata": {},
     "output_type": "execute_result"
    }
   ],
   "source": [
    "data.head(10)"
   ]
  },
  {
   "cell_type": "markdown",
   "metadata": {},
   "source": [
    "데이터를 보면 NaN이 많이 포함되어 있음. \n",
    "\n",
    "이는 반드시 제거를 해주어야 머신러닝 모델링을 진행할 수 있다.\n",
    "\n",
    "전처리 작업이 필요."
   ]
  },
  {
   "cell_type": "code",
   "execution_count": 5,
   "metadata": {
    "execution": {
     "iopub.execute_input": "2020-12-31T11:18:24.974750Z",
     "iopub.status.busy": "2020-12-31T11:18:24.973847Z",
     "iopub.status.idle": "2020-12-31T11:18:25.005275Z",
     "shell.execute_reply": "2020-12-31T11:18:25.004647Z"
    },
    "papermill": {
     "duration": 0.104811,
     "end_time": "2020-12-31T11:18:25.005412",
     "exception": false,
     "start_time": "2020-12-31T11:18:24.900601",
     "status": "completed"
    },
    "tags": []
   },
   "outputs": [
    {
     "name": "stdout",
     "output_type": "stream",
     "text": [
      "<class 'pandas.core.frame.DataFrame'>\n",
      "RangeIndex: 19158 entries, 0 to 19157\n",
      "Data columns (total 14 columns):\n",
      " #   Column                  Non-Null Count  Dtype  \n",
      "---  ------                  --------------  -----  \n",
      " 0   enrollee_id             19158 non-null  int64  \n",
      " 1   city                    19158 non-null  object \n",
      " 2   city_development_index  19158 non-null  float64\n",
      " 3   gender                  14650 non-null  object \n",
      " 4   relevent_experience     19158 non-null  object \n",
      " 5   enrolled_university     18772 non-null  object \n",
      " 6   education_level         18698 non-null  object \n",
      " 7   major_discipline        16345 non-null  object \n",
      " 8   experience              19093 non-null  object \n",
      " 9   company_size            13220 non-null  object \n",
      " 10  company_type            13018 non-null  object \n",
      " 11  last_new_job            18735 non-null  object \n",
      " 12  training_hours          19158 non-null  int64  \n",
      " 13  target                  19158 non-null  float64\n",
      "dtypes: float64(2), int64(2), object(10)\n",
      "memory usage: 2.0+ MB\n"
     ]
    }
   ],
   "source": [
    "data.info()"
   ]
  },
  {
   "cell_type": "code",
   "execution_count": 6,
   "metadata": {
    "execution": {
     "iopub.execute_input": "2020-12-31T11:18:25.167297Z",
     "iopub.status.busy": "2020-12-31T11:18:25.166152Z",
     "iopub.status.idle": "2020-12-31T11:18:25.208112Z",
     "shell.execute_reply": "2020-12-31T11:18:25.207532Z"
    },
    "papermill": {
     "duration": 0.130127,
     "end_time": "2020-12-31T11:18:25.208221",
     "exception": false,
     "start_time": "2020-12-31T11:18:25.078094",
     "status": "completed"
    },
    "tags": []
   },
   "outputs": [
    {
     "data": {
      "text/html": [
       "<div>\n",
       "<style scoped>\n",
       "    .dataframe tbody tr th:only-of-type {\n",
       "        vertical-align: middle;\n",
       "    }\n",
       "\n",
       "    .dataframe tbody tr th {\n",
       "        vertical-align: top;\n",
       "    }\n",
       "\n",
       "    .dataframe thead th {\n",
       "        text-align: right;\n",
       "    }\n",
       "</style>\n",
       "<table border=\"1\" class=\"dataframe\">\n",
       "  <thead>\n",
       "    <tr style=\"text-align: right;\">\n",
       "      <th></th>\n",
       "      <th>enrollee_id</th>\n",
       "      <th>city</th>\n",
       "      <th>city_development_index</th>\n",
       "      <th>gender</th>\n",
       "      <th>relevent_experience</th>\n",
       "      <th>enrolled_university</th>\n",
       "      <th>education_level</th>\n",
       "      <th>major_discipline</th>\n",
       "      <th>experience</th>\n",
       "      <th>company_size</th>\n",
       "      <th>company_type</th>\n",
       "      <th>last_new_job</th>\n",
       "      <th>training_hours</th>\n",
       "      <th>target</th>\n",
       "    </tr>\n",
       "  </thead>\n",
       "  <tbody>\n",
       "    <tr>\n",
       "      <th>0</th>\n",
       "      <td>False</td>\n",
       "      <td>False</td>\n",
       "      <td>False</td>\n",
       "      <td>False</td>\n",
       "      <td>False</td>\n",
       "      <td>False</td>\n",
       "      <td>False</td>\n",
       "      <td>False</td>\n",
       "      <td>False</td>\n",
       "      <td>True</td>\n",
       "      <td>True</td>\n",
       "      <td>False</td>\n",
       "      <td>False</td>\n",
       "      <td>False</td>\n",
       "    </tr>\n",
       "    <tr>\n",
       "      <th>1</th>\n",
       "      <td>False</td>\n",
       "      <td>False</td>\n",
       "      <td>False</td>\n",
       "      <td>False</td>\n",
       "      <td>False</td>\n",
       "      <td>False</td>\n",
       "      <td>False</td>\n",
       "      <td>False</td>\n",
       "      <td>False</td>\n",
       "      <td>False</td>\n",
       "      <td>False</td>\n",
       "      <td>False</td>\n",
       "      <td>False</td>\n",
       "      <td>False</td>\n",
       "    </tr>\n",
       "    <tr>\n",
       "      <th>2</th>\n",
       "      <td>False</td>\n",
       "      <td>False</td>\n",
       "      <td>False</td>\n",
       "      <td>True</td>\n",
       "      <td>False</td>\n",
       "      <td>False</td>\n",
       "      <td>False</td>\n",
       "      <td>False</td>\n",
       "      <td>False</td>\n",
       "      <td>True</td>\n",
       "      <td>True</td>\n",
       "      <td>False</td>\n",
       "      <td>False</td>\n",
       "      <td>False</td>\n",
       "    </tr>\n",
       "    <tr>\n",
       "      <th>3</th>\n",
       "      <td>False</td>\n",
       "      <td>False</td>\n",
       "      <td>False</td>\n",
       "      <td>True</td>\n",
       "      <td>False</td>\n",
       "      <td>True</td>\n",
       "      <td>False</td>\n",
       "      <td>False</td>\n",
       "      <td>False</td>\n",
       "      <td>True</td>\n",
       "      <td>False</td>\n",
       "      <td>False</td>\n",
       "      <td>False</td>\n",
       "      <td>False</td>\n",
       "    </tr>\n",
       "    <tr>\n",
       "      <th>4</th>\n",
       "      <td>False</td>\n",
       "      <td>False</td>\n",
       "      <td>False</td>\n",
       "      <td>False</td>\n",
       "      <td>False</td>\n",
       "      <td>False</td>\n",
       "      <td>False</td>\n",
       "      <td>False</td>\n",
       "      <td>False</td>\n",
       "      <td>False</td>\n",
       "      <td>False</td>\n",
       "      <td>False</td>\n",
       "      <td>False</td>\n",
       "      <td>False</td>\n",
       "    </tr>\n",
       "    <tr>\n",
       "      <th>...</th>\n",
       "      <td>...</td>\n",
       "      <td>...</td>\n",
       "      <td>...</td>\n",
       "      <td>...</td>\n",
       "      <td>...</td>\n",
       "      <td>...</td>\n",
       "      <td>...</td>\n",
       "      <td>...</td>\n",
       "      <td>...</td>\n",
       "      <td>...</td>\n",
       "      <td>...</td>\n",
       "      <td>...</td>\n",
       "      <td>...</td>\n",
       "      <td>...</td>\n",
       "    </tr>\n",
       "    <tr>\n",
       "      <th>19153</th>\n",
       "      <td>False</td>\n",
       "      <td>False</td>\n",
       "      <td>False</td>\n",
       "      <td>False</td>\n",
       "      <td>False</td>\n",
       "      <td>False</td>\n",
       "      <td>False</td>\n",
       "      <td>False</td>\n",
       "      <td>False</td>\n",
       "      <td>True</td>\n",
       "      <td>True</td>\n",
       "      <td>False</td>\n",
       "      <td>False</td>\n",
       "      <td>False</td>\n",
       "    </tr>\n",
       "    <tr>\n",
       "      <th>19154</th>\n",
       "      <td>False</td>\n",
       "      <td>False</td>\n",
       "      <td>False</td>\n",
       "      <td>False</td>\n",
       "      <td>False</td>\n",
       "      <td>False</td>\n",
       "      <td>False</td>\n",
       "      <td>False</td>\n",
       "      <td>False</td>\n",
       "      <td>True</td>\n",
       "      <td>True</td>\n",
       "      <td>False</td>\n",
       "      <td>False</td>\n",
       "      <td>False</td>\n",
       "    </tr>\n",
       "    <tr>\n",
       "      <th>19155</th>\n",
       "      <td>False</td>\n",
       "      <td>False</td>\n",
       "      <td>False</td>\n",
       "      <td>False</td>\n",
       "      <td>False</td>\n",
       "      <td>False</td>\n",
       "      <td>False</td>\n",
       "      <td>False</td>\n",
       "      <td>False</td>\n",
       "      <td>False</td>\n",
       "      <td>False</td>\n",
       "      <td>False</td>\n",
       "      <td>False</td>\n",
       "      <td>False</td>\n",
       "    </tr>\n",
       "    <tr>\n",
       "      <th>19156</th>\n",
       "      <td>False</td>\n",
       "      <td>False</td>\n",
       "      <td>False</td>\n",
       "      <td>False</td>\n",
       "      <td>False</td>\n",
       "      <td>False</td>\n",
       "      <td>False</td>\n",
       "      <td>True</td>\n",
       "      <td>False</td>\n",
       "      <td>False</td>\n",
       "      <td>False</td>\n",
       "      <td>False</td>\n",
       "      <td>False</td>\n",
       "      <td>False</td>\n",
       "    </tr>\n",
       "    <tr>\n",
       "      <th>19157</th>\n",
       "      <td>False</td>\n",
       "      <td>False</td>\n",
       "      <td>False</td>\n",
       "      <td>True</td>\n",
       "      <td>False</td>\n",
       "      <td>False</td>\n",
       "      <td>False</td>\n",
       "      <td>True</td>\n",
       "      <td>False</td>\n",
       "      <td>True</td>\n",
       "      <td>True</td>\n",
       "      <td>False</td>\n",
       "      <td>False</td>\n",
       "      <td>False</td>\n",
       "    </tr>\n",
       "  </tbody>\n",
       "</table>\n",
       "<p>19158 rows × 14 columns</p>\n",
       "</div>"
      ],
      "text/plain": [
       "       enrollee_id   city  city_development_index  gender  \\\n",
       "0            False  False                   False   False   \n",
       "1            False  False                   False   False   \n",
       "2            False  False                   False    True   \n",
       "3            False  False                   False    True   \n",
       "4            False  False                   False   False   \n",
       "...            ...    ...                     ...     ...   \n",
       "19153        False  False                   False   False   \n",
       "19154        False  False                   False   False   \n",
       "19155        False  False                   False   False   \n",
       "19156        False  False                   False   False   \n",
       "19157        False  False                   False    True   \n",
       "\n",
       "       relevent_experience  enrolled_university  education_level  \\\n",
       "0                    False                False            False   \n",
       "1                    False                False            False   \n",
       "2                    False                False            False   \n",
       "3                    False                 True            False   \n",
       "4                    False                False            False   \n",
       "...                    ...                  ...              ...   \n",
       "19153                False                False            False   \n",
       "19154                False                False            False   \n",
       "19155                False                False            False   \n",
       "19156                False                False            False   \n",
       "19157                False                False            False   \n",
       "\n",
       "       major_discipline  experience  company_size  company_type  last_new_job  \\\n",
       "0                 False       False          True          True         False   \n",
       "1                 False       False         False         False         False   \n",
       "2                 False       False          True          True         False   \n",
       "3                 False       False          True         False         False   \n",
       "4                 False       False         False         False         False   \n",
       "...                 ...         ...           ...           ...           ...   \n",
       "19153             False       False          True          True         False   \n",
       "19154             False       False          True          True         False   \n",
       "19155             False       False         False         False         False   \n",
       "19156              True       False         False         False         False   \n",
       "19157              True       False          True          True         False   \n",
       "\n",
       "       training_hours  target  \n",
       "0               False   False  \n",
       "1               False   False  \n",
       "2               False   False  \n",
       "3               False   False  \n",
       "4               False   False  \n",
       "...               ...     ...  \n",
       "19153           False   False  \n",
       "19154           False   False  \n",
       "19155           False   False  \n",
       "19156           False   False  \n",
       "19157           False   False  \n",
       "\n",
       "[19158 rows x 14 columns]"
      ]
     },
     "execution_count": 6,
     "metadata": {},
     "output_type": "execute_result"
    }
   ],
   "source": [
    "data.isna()"
   ]
  },
  {
   "cell_type": "code",
   "execution_count": 7,
   "metadata": {},
   "outputs": [
    {
     "data": {
      "text/plain": [
       "enrollee_id                  0\n",
       "city                         0\n",
       "city_development_index       0\n",
       "gender                    4508\n",
       "relevent_experience          0\n",
       "enrolled_university        386\n",
       "education_level            460\n",
       "major_discipline          2813\n",
       "experience                  65\n",
       "company_size              5938\n",
       "company_type              6140\n",
       "last_new_job               423\n",
       "training_hours               0\n",
       "target                       0\n",
       "dtype: int64"
      ]
     },
     "execution_count": 7,
     "metadata": {},
     "output_type": "execute_result"
    }
   ],
   "source": [
    "# False = 0 이고 True = 1 이기 때문에,\n",
    "# sum()을 해주고, 0 보다 큰 값이 나온다는 것은 각 column에 대해 NaN값이 존재함을 의미\n",
    "data.isna().sum()"
   ]
  },
  {
   "cell_type": "markdown",
   "metadata": {},
   "source": [
    "NaN 값이 많은 것을 확인."
   ]
  },
  {
   "cell_type": "markdown",
   "metadata": {
    "papermill": {
     "duration": 0.074056,
     "end_time": "2020-12-31T11:18:25.512820",
     "exception": false,
     "start_time": "2020-12-31T11:18:25.438764",
     "status": "completed"
    },
    "tags": []
   },
   "source": [
    "<h1 style=\"font-size:2em;color:#2467C0\">2. Data Cleaning</h1>"
   ]
  },
  {
   "cell_type": "code",
   "execution_count": 8,
   "metadata": {
    "execution": {
     "iopub.execute_input": "2020-12-31T11:18:25.666487Z",
     "iopub.status.busy": "2020-12-31T11:18:25.665825Z",
     "iopub.status.idle": "2020-12-31T11:18:25.674288Z",
     "shell.execute_reply": "2020-12-31T11:18:25.674859Z"
    },
    "papermill": {
     "duration": 0.086194,
     "end_time": "2020-12-31T11:18:25.675026",
     "exception": false,
     "start_time": "2020-12-31T11:18:25.588832",
     "status": "completed"
    },
    "tags": []
   },
   "outputs": [
    {
     "data": {
      "text/plain": [
       "Index(['enrollee_id', 'city', 'city_development_index', 'gender',\n",
       "       'relevent_experience', 'enrolled_university', 'education_level',\n",
       "       'major_discipline', 'experience', 'company_size', 'company_type',\n",
       "       'last_new_job', 'training_hours', 'target'],\n",
       "      dtype='object')"
      ]
     },
     "execution_count": 8,
     "metadata": {},
     "output_type": "execute_result"
    }
   ],
   "source": [
    "data.columns # column 정보를 한번 출력"
   ]
  },
  {
   "cell_type": "markdown",
   "metadata": {
    "papermill": {
     "duration": 0.073633,
     "end_time": "2020-12-31T11:18:26.378800",
     "exception": false,
     "start_time": "2020-12-31T11:18:26.305167",
     "status": "completed"
    },
    "tags": []
   },
   "source": [
    "## city"
   ]
  },
  {
   "cell_type": "code",
   "execution_count": 9,
   "metadata": {
    "execution": {
     "iopub.execute_input": "2020-12-31T11:18:26.542282Z",
     "iopub.status.busy": "2020-12-31T11:18:26.536902Z",
     "iopub.status.idle": "2020-12-31T11:18:26.557690Z",
     "shell.execute_reply": "2020-12-31T11:18:26.558306Z"
    },
    "papermill": {
     "duration": 0.106568,
     "end_time": "2020-12-31T11:18:26.558491",
     "exception": false,
     "start_time": "2020-12-31T11:18:26.451923",
     "status": "completed"
    },
    "tags": []
   },
   "outputs": [],
   "source": [
    "data.city = data.city.apply(lambda x: int(x.split('_')[1]))"
   ]
  },
  {
   "cell_type": "code",
   "execution_count": 10,
   "metadata": {},
   "outputs": [
    {
     "data": {
      "text/plain": [
       "0        103\n",
       "1         40\n",
       "2         21\n",
       "3        115\n",
       "4        162\n",
       "        ... \n",
       "19153    173\n",
       "19154    103\n",
       "19155    103\n",
       "19156     65\n",
       "19157     67\n",
       "Name: city, Length: 19158, dtype: int64"
      ]
     },
     "execution_count": 10,
     "metadata": {},
     "output_type": "execute_result"
    }
   ],
   "source": [
    "# city 숫자 ID만 추출.\n",
    "data.city "
   ]
  },
  {
   "cell_type": "markdown",
   "metadata": {
    "papermill": {
     "duration": 0.07237,
     "end_time": "2020-12-31T11:18:26.704612",
     "exception": false,
     "start_time": "2020-12-31T11:18:26.632242",
     "status": "completed"
    },
    "tags": []
   },
   "source": [
    "## gender"
   ]
  },
  {
   "cell_type": "code",
   "execution_count": 11,
   "metadata": {
    "execution": {
     "iopub.execute_input": "2020-12-31T11:18:26.861431Z",
     "iopub.status.busy": "2020-12-31T11:18:26.860757Z",
     "iopub.status.idle": "2020-12-31T11:18:26.865188Z",
     "shell.execute_reply": "2020-12-31T11:18:26.864580Z"
    },
    "papermill": {
     "duration": 0.085857,
     "end_time": "2020-12-31T11:18:26.865303",
     "exception": false,
     "start_time": "2020-12-31T11:18:26.779446",
     "status": "completed"
    },
    "tags": []
   },
   "outputs": [
    {
     "data": {
      "text/plain": [
       "4508"
      ]
     },
     "execution_count": 11,
     "metadata": {},
     "output_type": "execute_result"
    }
   ],
   "source": [
    "data.gender.isna().sum()"
   ]
  },
  {
   "cell_type": "code",
   "execution_count": 12,
   "metadata": {
    "execution": {
     "iopub.execute_input": "2020-12-31T11:18:27.021132Z",
     "iopub.status.busy": "2020-12-31T11:18:27.020474Z",
     "iopub.status.idle": "2020-12-31T11:18:27.026353Z",
     "shell.execute_reply": "2020-12-31T11:18:27.026981Z"
    },
    "papermill": {
     "duration": 0.087896,
     "end_time": "2020-12-31T11:18:27.027122",
     "exception": false,
     "start_time": "2020-12-31T11:18:26.939226",
     "status": "completed"
    },
    "tags": []
   },
   "outputs": [
    {
     "data": {
      "text/plain": [
       "Male      13221\n",
       "Female     1238\n",
       "Other       191\n",
       "Name: gender, dtype: int64"
      ]
     },
     "execution_count": 12,
     "metadata": {},
     "output_type": "execute_result"
    }
   ],
   "source": [
    "data.gender.value_counts()"
   ]
  },
  {
   "cell_type": "code",
   "execution_count": 13,
   "metadata": {
    "execution": {
     "iopub.execute_input": "2020-12-31T11:18:27.187946Z",
     "iopub.status.busy": "2020-12-31T11:18:27.187237Z",
     "iopub.status.idle": "2020-12-31T11:18:27.191569Z",
     "shell.execute_reply": "2020-12-31T11:18:27.190823Z"
    },
    "papermill": {
     "duration": 0.088809,
     "end_time": "2020-12-31T11:18:27.191683",
     "exception": false,
     "start_time": "2020-12-31T11:18:27.102874",
     "status": "completed"
    },
    "tags": []
   },
   "outputs": [],
   "source": [
    "# NaN대신에 'Male'로 데이터를 채워줌.\n",
    "data.gender = data.gender.fillna('Male')"
   ]
  },
  {
   "cell_type": "markdown",
   "metadata": {
    "papermill": {
     "duration": 0.074133,
     "end_time": "2020-12-31T11:18:27.341151",
     "exception": false,
     "start_time": "2020-12-31T11:18:27.267018",
     "status": "completed"
    },
    "tags": []
   },
   "source": [
    "## enrolled_university"
   ]
  },
  {
   "cell_type": "code",
   "execution_count": 14,
   "metadata": {
    "execution": {
     "iopub.execute_input": "2020-12-31T11:18:27.498630Z",
     "iopub.status.busy": "2020-12-31T11:18:27.497948Z",
     "iopub.status.idle": "2020-12-31T11:18:27.504845Z",
     "shell.execute_reply": "2020-12-31T11:18:27.503809Z"
    },
    "papermill": {
     "duration": 0.089581,
     "end_time": "2020-12-31T11:18:27.505002",
     "exception": false,
     "start_time": "2020-12-31T11:18:27.415421",
     "status": "completed"
    },
    "tags": []
   },
   "outputs": [
    {
     "data": {
      "text/plain": [
       "386"
      ]
     },
     "execution_count": 14,
     "metadata": {},
     "output_type": "execute_result"
    }
   ],
   "source": [
    "data.enrolled_university.isna().sum()"
   ]
  },
  {
   "cell_type": "code",
   "execution_count": 15,
   "metadata": {
    "execution": {
     "iopub.execute_input": "2020-12-31T11:18:27.740068Z",
     "iopub.status.busy": "2020-12-31T11:18:27.739195Z",
     "iopub.status.idle": "2020-12-31T11:18:27.749926Z",
     "shell.execute_reply": "2020-12-31T11:18:27.750806Z"
    },
    "papermill": {
     "duration": 0.129391,
     "end_time": "2020-12-31T11:18:27.750976",
     "exception": false,
     "start_time": "2020-12-31T11:18:27.621585",
     "status": "completed"
    },
    "tags": []
   },
   "outputs": [
    {
     "data": {
      "text/plain": [
       "no_enrollment       13817\n",
       "Full time course     3757\n",
       "Part time course     1198\n",
       "Name: enrolled_university, dtype: int64"
      ]
     },
     "execution_count": 15,
     "metadata": {},
     "output_type": "execute_result"
    }
   ],
   "source": [
    "data.enrolled_university.value_counts()"
   ]
  },
  {
   "cell_type": "code",
   "execution_count": 16,
   "metadata": {
    "execution": {
     "iopub.execute_input": "2020-12-31T11:18:27.988594Z",
     "iopub.status.busy": "2020-12-31T11:18:27.987153Z",
     "iopub.status.idle": "2020-12-31T11:18:27.994926Z",
     "shell.execute_reply": "2020-12-31T11:18:27.994228Z"
    },
    "papermill": {
     "duration": 0.128225,
     "end_time": "2020-12-31T11:18:27.995049",
     "exception": false,
     "start_time": "2020-12-31T11:18:27.866824",
     "status": "completed"
    },
    "tags": []
   },
   "outputs": [],
   "source": [
    "# NaN대신에 'no_enrollment'로 데이터를 채워줌.\n",
    "data.enrolled_university = data.enrolled_university.fillna('no_enrollment')"
   ]
  },
  {
   "cell_type": "markdown",
   "metadata": {
    "papermill": {
     "duration": 0.078567,
     "end_time": "2020-12-31T11:18:28.152490",
     "exception": false,
     "start_time": "2020-12-31T11:18:28.073923",
     "status": "completed"
    },
    "tags": []
   },
   "source": [
    "## education_level"
   ]
  },
  {
   "cell_type": "code",
   "execution_count": 17,
   "metadata": {
    "execution": {
     "iopub.execute_input": "2020-12-31T11:18:28.316952Z",
     "iopub.status.busy": "2020-12-31T11:18:28.316179Z",
     "iopub.status.idle": "2020-12-31T11:18:28.323923Z",
     "shell.execute_reply": "2020-12-31T11:18:28.323326Z"
    },
    "papermill": {
     "duration": 0.094366,
     "end_time": "2020-12-31T11:18:28.324042",
     "exception": false,
     "start_time": "2020-12-31T11:18:28.229676",
     "status": "completed"
    },
    "tags": []
   },
   "outputs": [
    {
     "data": {
      "text/plain": [
       "460"
      ]
     },
     "execution_count": 17,
     "metadata": {},
     "output_type": "execute_result"
    }
   ],
   "source": [
    "data.education_level.isna().sum()"
   ]
  },
  {
   "cell_type": "code",
   "execution_count": 18,
   "metadata": {
    "execution": {
     "iopub.execute_input": "2020-12-31T11:18:28.491960Z",
     "iopub.status.busy": "2020-12-31T11:18:28.491303Z",
     "iopub.status.idle": "2020-12-31T11:18:28.502651Z",
     "shell.execute_reply": "2020-12-31T11:18:28.501500Z"
    },
    "papermill": {
     "duration": 0.100669,
     "end_time": "2020-12-31T11:18:28.502782",
     "exception": false,
     "start_time": "2020-12-31T11:18:28.402113",
     "status": "completed"
    },
    "tags": []
   },
   "outputs": [
    {
     "data": {
      "text/plain": [
       "Graduate          11598\n",
       "Masters            4361\n",
       "High School        2017\n",
       "Phd                 414\n",
       "Primary School      308\n",
       "Name: education_level, dtype: int64"
      ]
     },
     "execution_count": 18,
     "metadata": {},
     "output_type": "execute_result"
    }
   ],
   "source": [
    "data.education_level.value_counts()"
   ]
  },
  {
   "cell_type": "code",
   "execution_count": 19,
   "metadata": {
    "execution": {
     "iopub.execute_input": "2020-12-31T11:18:28.674378Z",
     "iopub.status.busy": "2020-12-31T11:18:28.673367Z",
     "iopub.status.idle": "2020-12-31T11:18:28.679782Z",
     "shell.execute_reply": "2020-12-31T11:18:28.679168Z"
    },
    "papermill": {
     "duration": 0.100105,
     "end_time": "2020-12-31T11:18:28.679897",
     "exception": false,
     "start_time": "2020-12-31T11:18:28.579792",
     "status": "completed"
    },
    "tags": []
   },
   "outputs": [],
   "source": [
    "# NaN대신에 forward fill 기반으로 데이터를 채워줌.\n",
    "data.education_level = data.education_level.fillna(method='ffill')"
   ]
  },
  {
   "cell_type": "markdown",
   "metadata": {
    "papermill": {
     "duration": 0.077598,
     "end_time": "2020-12-31T11:18:28.834890",
     "exception": false,
     "start_time": "2020-12-31T11:18:28.757292",
     "status": "completed"
    },
    "tags": []
   },
   "source": [
    "## major_discipline"
   ]
  },
  {
   "cell_type": "code",
   "execution_count": 21,
   "metadata": {
    "execution": {
     "iopub.execute_input": "2020-12-31T11:18:28.995994Z",
     "iopub.status.busy": "2020-12-31T11:18:28.995310Z",
     "iopub.status.idle": "2020-12-31T11:18:28.999989Z",
     "shell.execute_reply": "2020-12-31T11:18:28.999345Z"
    },
    "papermill": {
     "duration": 0.090048,
     "end_time": "2020-12-31T11:18:29.000101",
     "exception": false,
     "start_time": "2020-12-31T11:18:28.910053",
     "status": "completed"
    },
    "tags": []
   },
   "outputs": [
    {
     "data": {
      "text/plain": [
       "2813"
      ]
     },
     "execution_count": 21,
     "metadata": {},
     "output_type": "execute_result"
    }
   ],
   "source": [
    "data.major_discipline.isna().sum()"
   ]
  },
  {
   "cell_type": "code",
   "execution_count": 22,
   "metadata": {
    "execution": {
     "iopub.execute_input": "2020-12-31T11:18:29.167365Z",
     "iopub.status.busy": "2020-12-31T11:18:29.166630Z",
     "iopub.status.idle": "2020-12-31T11:18:29.174560Z",
     "shell.execute_reply": "2020-12-31T11:18:29.172904Z"
    },
    "papermill": {
     "duration": 0.097724,
     "end_time": "2020-12-31T11:18:29.174702",
     "exception": false,
     "start_time": "2020-12-31T11:18:29.076978",
     "status": "completed"
    },
    "tags": []
   },
   "outputs": [
    {
     "data": {
      "text/plain": [
       "STEM               14492\n",
       "Humanities           669\n",
       "Other                381\n",
       "Business Degree      327\n",
       "Arts                 253\n",
       "No Major             223\n",
       "Name: major_discipline, dtype: int64"
      ]
     },
     "execution_count": 22,
     "metadata": {},
     "output_type": "execute_result"
    }
   ],
   "source": [
    "data.major_discipline.value_counts()"
   ]
  },
  {
   "cell_type": "code",
   "execution_count": 23,
   "metadata": {
    "execution": {
     "iopub.execute_input": "2020-12-31T11:18:29.342170Z",
     "iopub.status.busy": "2020-12-31T11:18:29.341308Z",
     "iopub.status.idle": "2020-12-31T11:18:29.345313Z",
     "shell.execute_reply": "2020-12-31T11:18:29.344546Z"
    },
    "papermill": {
     "duration": 0.092977,
     "end_time": "2020-12-31T11:18:29.345479",
     "exception": false,
     "start_time": "2020-12-31T11:18:29.252502",
     "status": "completed"
    },
    "tags": []
   },
   "outputs": [],
   "source": [
    "# NaN대신에 'STEM'으로 데이터를 채워줌.\n",
    "data.major_discipline = data.major_discipline.fillna('STEM')"
   ]
  },
  {
   "cell_type": "markdown",
   "metadata": {
    "papermill": {
     "duration": 0.118666,
     "end_time": "2020-12-31T11:18:29.585133",
     "exception": false,
     "start_time": "2020-12-31T11:18:29.466467",
     "status": "completed"
    },
    "tags": []
   },
   "source": [
    "## experience"
   ]
  },
  {
   "cell_type": "code",
   "execution_count": 24,
   "metadata": {
    "execution": {
     "iopub.execute_input": "2020-12-31T11:18:29.830162Z",
     "iopub.status.busy": "2020-12-31T11:18:29.829135Z",
     "iopub.status.idle": "2020-12-31T11:18:29.838319Z",
     "shell.execute_reply": "2020-12-31T11:18:29.839110Z"
    },
    "papermill": {
     "duration": 0.13354,
     "end_time": "2020-12-31T11:18:29.839293",
     "exception": false,
     "start_time": "2020-12-31T11:18:29.705753",
     "status": "completed"
    },
    "tags": []
   },
   "outputs": [
    {
     "data": {
      "text/plain": [
       "65"
      ]
     },
     "execution_count": 24,
     "metadata": {},
     "output_type": "execute_result"
    }
   ],
   "source": [
    "data.experience.isna().sum()"
   ]
  },
  {
   "cell_type": "code",
   "execution_count": 25,
   "metadata": {
    "execution": {
     "iopub.execute_input": "2020-12-31T11:18:30.088242Z",
     "iopub.status.busy": "2020-12-31T11:18:30.087373Z",
     "iopub.status.idle": "2020-12-31T11:18:30.101077Z",
     "shell.execute_reply": "2020-12-31T11:18:30.100346Z"
    },
    "papermill": {
     "duration": 0.142836,
     "end_time": "2020-12-31T11:18:30.101211",
     "exception": false,
     "start_time": "2020-12-31T11:18:29.958375",
     "status": "completed"
    },
    "tags": []
   },
   "outputs": [
    {
     "data": {
      "text/plain": [
       ">20    3286\n",
       "5      1430\n",
       "4      1403\n",
       "3      1354\n",
       "6      1216\n",
       "2      1127\n",
       "7      1028\n",
       "10      985\n",
       "9       980\n",
       "8       802\n",
       "15      686\n",
       "11      664\n",
       "14      586\n",
       "1       549\n",
       "<1      522\n",
       "16      508\n",
       "12      494\n",
       "13      399\n",
       "17      342\n",
       "19      304\n",
       "18      280\n",
       "20      148\n",
       "Name: experience, dtype: int64"
      ]
     },
     "execution_count": 25,
     "metadata": {},
     "output_type": "execute_result"
    }
   ],
   "source": [
    "data.experience.value_counts()"
   ]
  },
  {
   "cell_type": "code",
   "execution_count": 26,
   "metadata": {
    "execution": {
     "iopub.execute_input": "2020-12-31T11:18:30.279843Z",
     "iopub.status.busy": "2020-12-31T11:18:30.279085Z",
     "iopub.status.idle": "2020-12-31T11:18:30.284767Z",
     "shell.execute_reply": "2020-12-31T11:18:30.283762Z"
    },
    "papermill": {
     "duration": 0.099001,
     "end_time": "2020-12-31T11:18:30.284890",
     "exception": false,
     "start_time": "2020-12-31T11:18:30.185889",
     "status": "completed"
    },
    "tags": []
   },
   "outputs": [],
   "source": [
    "# NaN대신에 forward fill 기반으로 데이터를 채워줌.\n",
    "data.experience = data.experience.fillna(method='ffill')"
   ]
  },
  {
   "cell_type": "markdown",
   "metadata": {
    "papermill": {
     "duration": 0.121856,
     "end_time": "2020-12-31T11:18:30.497484",
     "exception": false,
     "start_time": "2020-12-31T11:18:30.375628",
     "status": "completed"
    },
    "tags": []
   },
   "source": [
    "## company_size"
   ]
  },
  {
   "cell_type": "code",
   "execution_count": 27,
   "metadata": {
    "execution": {
     "iopub.execute_input": "2020-12-31T11:18:30.755107Z",
     "iopub.status.busy": "2020-12-31T11:18:30.754150Z",
     "iopub.status.idle": "2020-12-31T11:18:30.759571Z",
     "shell.execute_reply": "2020-12-31T11:18:30.758694Z"
    },
    "papermill": {
     "duration": 0.140141,
     "end_time": "2020-12-31T11:18:30.759701",
     "exception": false,
     "start_time": "2020-12-31T11:18:30.619560",
     "status": "completed"
    },
    "tags": []
   },
   "outputs": [
    {
     "data": {
      "text/plain": [
       "5938"
      ]
     },
     "execution_count": 27,
     "metadata": {},
     "output_type": "execute_result"
    }
   ],
   "source": [
    "data.company_size.isna().sum()"
   ]
  },
  {
   "cell_type": "code",
   "execution_count": 28,
   "metadata": {
    "execution": {
     "iopub.execute_input": "2020-12-31T11:18:30.930286Z",
     "iopub.status.busy": "2020-12-31T11:18:30.929185Z",
     "iopub.status.idle": "2020-12-31T11:18:30.937758Z",
     "shell.execute_reply": "2020-12-31T11:18:30.937039Z"
    },
    "papermill": {
     "duration": 0.099019,
     "end_time": "2020-12-31T11:18:30.937872",
     "exception": false,
     "start_time": "2020-12-31T11:18:30.838853",
     "status": "completed"
    },
    "tags": []
   },
   "outputs": [
    {
     "data": {
      "text/plain": [
       "50-99        3083\n",
       "100-500      2571\n",
       "10000+       2019\n",
       "10/49        1471\n",
       "1000-4999    1328\n",
       "<10          1308\n",
       "500-999       877\n",
       "5000-9999     563\n",
       "Name: company_size, dtype: int64"
      ]
     },
     "execution_count": 28,
     "metadata": {},
     "output_type": "execute_result"
    }
   ],
   "source": [
    "data.company_size.value_counts()"
   ]
  },
  {
   "cell_type": "code",
   "execution_count": 29,
   "metadata": {
    "execution": {
     "iopub.execute_input": "2020-12-31T11:18:31.110520Z",
     "iopub.status.busy": "2020-12-31T11:18:31.109629Z",
     "iopub.status.idle": "2020-12-31T11:18:31.114605Z",
     "shell.execute_reply": "2020-12-31T11:18:31.114021Z"
    },
    "papermill": {
     "duration": 0.095613,
     "end_time": "2020-12-31T11:18:31.114726",
     "exception": false,
     "start_time": "2020-12-31T11:18:31.019113",
     "status": "completed"
    },
    "tags": []
   },
   "outputs": [],
   "source": [
    "# NaN대신에 forward fill 기반으로 데이터를 채워줌.\n",
    "data.company_size = data.company_size.fillna(method = 'ffill')\n",
    "# 가장 처음 샘플의 경우 bfill로 진행할 수 있도록 채워줌.\n",
    "data.company_size = data.company_size.fillna(method = 'bfill')"
   ]
  },
  {
   "cell_type": "markdown",
   "metadata": {
    "papermill": {
     "duration": 0.080482,
     "end_time": "2020-12-31T11:18:31.623158",
     "exception": false,
     "start_time": "2020-12-31T11:18:31.542676",
     "status": "completed"
    },
    "tags": []
   },
   "source": [
    "## company_type"
   ]
  },
  {
   "cell_type": "code",
   "execution_count": 30,
   "metadata": {
    "execution": {
     "iopub.execute_input": "2020-12-31T11:18:31.815240Z",
     "iopub.status.busy": "2020-12-31T11:18:31.814092Z",
     "iopub.status.idle": "2020-12-31T11:18:31.818071Z",
     "shell.execute_reply": "2020-12-31T11:18:31.818642Z"
    },
    "papermill": {
     "duration": 0.115343,
     "end_time": "2020-12-31T11:18:31.818784",
     "exception": false,
     "start_time": "2020-12-31T11:18:31.703441",
     "status": "completed"
    },
    "tags": []
   },
   "outputs": [
    {
     "data": {
      "text/plain": [
       "array([nan, 'Pvt Ltd', 'Funded Startup', 'Early Stage Startup', 'Other',\n",
       "       'Public Sector', 'NGO'], dtype=object)"
      ]
     },
     "execution_count": 30,
     "metadata": {},
     "output_type": "execute_result"
    }
   ],
   "source": [
    "data.company_type.unique()"
   ]
  },
  {
   "cell_type": "code",
   "execution_count": 31,
   "metadata": {
    "execution": {
     "iopub.execute_input": "2020-12-31T11:18:32.000604Z",
     "iopub.status.busy": "2020-12-31T11:18:31.999900Z",
     "iopub.status.idle": "2020-12-31T11:18:32.006336Z",
     "shell.execute_reply": "2020-12-31T11:18:32.005668Z"
    },
    "papermill": {
     "duration": 0.098541,
     "end_time": "2020-12-31T11:18:32.006477",
     "exception": false,
     "start_time": "2020-12-31T11:18:31.907936",
     "status": "completed"
    },
    "tags": []
   },
   "outputs": [
    {
     "data": {
      "text/plain": [
       "Pvt Ltd                9817\n",
       "Funded Startup         1001\n",
       "Public Sector           955\n",
       "Early Stage Startup     603\n",
       "NGO                     521\n",
       "Other                   121\n",
       "Name: company_type, dtype: int64"
      ]
     },
     "execution_count": 31,
     "metadata": {},
     "output_type": "execute_result"
    }
   ],
   "source": [
    "data.company_type.value_counts()"
   ]
  },
  {
   "cell_type": "code",
   "execution_count": 32,
   "metadata": {
    "execution": {
     "iopub.execute_input": "2020-12-31T11:18:32.179832Z",
     "iopub.status.busy": "2020-12-31T11:18:32.179134Z",
     "iopub.status.idle": "2020-12-31T11:18:32.185221Z",
     "shell.execute_reply": "2020-12-31T11:18:32.184612Z"
    },
    "papermill": {
     "duration": 0.096786,
     "end_time": "2020-12-31T11:18:32.185336",
     "exception": false,
     "start_time": "2020-12-31T11:18:32.088550",
     "status": "completed"
    },
    "tags": []
   },
   "outputs": [],
   "source": [
    "# NaN대신에 'Pvt Ltd'으로 데이터를 채워줌.\n",
    "data.company_type = data.company_type.fillna('Pvt Ltd')"
   ]
  },
  {
   "cell_type": "markdown",
   "metadata": {
    "papermill": {
     "duration": 0.083758,
     "end_time": "2020-12-31T11:18:32.356954",
     "exception": false,
     "start_time": "2020-12-31T11:18:32.273196",
     "status": "completed"
    },
    "tags": []
   },
   "source": [
    "## last_new_job"
   ]
  },
  {
   "cell_type": "code",
   "execution_count": 33,
   "metadata": {
    "execution": {
     "iopub.execute_input": "2020-12-31T11:18:32.536563Z",
     "iopub.status.busy": "2020-12-31T11:18:32.535828Z",
     "iopub.status.idle": "2020-12-31T11:18:32.543234Z",
     "shell.execute_reply": "2020-12-31T11:18:32.543800Z"
    },
    "papermill": {
     "duration": 0.101223,
     "end_time": "2020-12-31T11:18:32.543955",
     "exception": false,
     "start_time": "2020-12-31T11:18:32.442732",
     "status": "completed"
    },
    "tags": []
   },
   "outputs": [
    {
     "data": {
      "text/plain": [
       "array(['1', '>4', 'never', '4', '3', '2', nan], dtype=object)"
      ]
     },
     "execution_count": 33,
     "metadata": {},
     "output_type": "execute_result"
    }
   ],
   "source": [
    "data.last_new_job.unique()"
   ]
  },
  {
   "cell_type": "code",
   "execution_count": 34,
   "metadata": {
    "execution": {
     "iopub.execute_input": "2020-12-31T11:18:32.728815Z",
     "iopub.status.busy": "2020-12-31T11:18:32.728059Z",
     "iopub.status.idle": "2020-12-31T11:18:32.735026Z",
     "shell.execute_reply": "2020-12-31T11:18:32.735557Z"
    },
    "papermill": {
     "duration": 0.106183,
     "end_time": "2020-12-31T11:18:32.735709",
     "exception": false,
     "start_time": "2020-12-31T11:18:32.629526",
     "status": "completed"
    },
    "tags": []
   },
   "outputs": [
    {
     "data": {
      "text/plain": [
       "1        8040\n",
       ">4       3290\n",
       "2        2900\n",
       "never    2452\n",
       "4        1029\n",
       "3        1024\n",
       "Name: last_new_job, dtype: int64"
      ]
     },
     "execution_count": 34,
     "metadata": {},
     "output_type": "execute_result"
    }
   ],
   "source": [
    "data.last_new_job.value_counts()"
   ]
  },
  {
   "cell_type": "code",
   "execution_count": 35,
   "metadata": {
    "execution": {
     "iopub.execute_input": "2020-12-31T11:18:32.915663Z",
     "iopub.status.busy": "2020-12-31T11:18:32.914922Z",
     "iopub.status.idle": "2020-12-31T11:18:32.921179Z",
     "shell.execute_reply": "2020-12-31T11:18:32.919862Z"
    },
    "papermill": {
     "duration": 0.102481,
     "end_time": "2020-12-31T11:18:32.921323",
     "exception": false,
     "start_time": "2020-12-31T11:18:32.818842",
     "status": "completed"
    },
    "tags": []
   },
   "outputs": [],
   "source": [
    "# NaN대신에 backward fill 기반으로 데이터를 채워줌.\n",
    "data.last_new_job = data.last_new_job.fillna(method = 'bfill')"
   ]
  },
  {
   "cell_type": "markdown",
   "metadata": {},
   "source": [
    "이로써 NaN에 대한 데이터 처리를 완료함."
   ]
  },
  {
   "cell_type": "markdown",
   "metadata": {
    "papermill": {
     "duration": 0.084809,
     "end_time": "2020-12-31T11:18:33.091144",
     "exception": false,
     "start_time": "2020-12-31T11:18:33.006335",
     "status": "completed"
    },
    "tags": []
   },
   "source": [
    "<h1 style=\"font-size:2em;color:#2467C0\">3. EDA</h1>"
   ]
  },
  {
   "cell_type": "code",
   "execution_count": 36,
   "metadata": {
    "execution": {
     "iopub.execute_input": "2020-12-31T11:18:33.277595Z",
     "iopub.status.busy": "2020-12-31T11:18:33.276831Z",
     "iopub.status.idle": "2020-12-31T11:18:33.282702Z",
     "shell.execute_reply": "2020-12-31T11:18:33.282074Z"
    },
    "papermill": {
     "duration": 0.109952,
     "end_time": "2020-12-31T11:18:33.282815",
     "exception": false,
     "start_time": "2020-12-31T11:18:33.172863",
     "status": "completed"
    },
    "tags": []
   },
   "outputs": [
    {
     "data": {
      "text/html": [
       "<div>\n",
       "<style scoped>\n",
       "    .dataframe tbody tr th:only-of-type {\n",
       "        vertical-align: middle;\n",
       "    }\n",
       "\n",
       "    .dataframe tbody tr th {\n",
       "        vertical-align: top;\n",
       "    }\n",
       "\n",
       "    .dataframe thead th {\n",
       "        text-align: right;\n",
       "    }\n",
       "</style>\n",
       "<table border=\"1\" class=\"dataframe\">\n",
       "  <thead>\n",
       "    <tr style=\"text-align: right;\">\n",
       "      <th></th>\n",
       "      <th>enrollee_id</th>\n",
       "      <th>city</th>\n",
       "      <th>city_development_index</th>\n",
       "      <th>gender</th>\n",
       "      <th>relevent_experience</th>\n",
       "      <th>enrolled_university</th>\n",
       "      <th>education_level</th>\n",
       "      <th>major_discipline</th>\n",
       "      <th>experience</th>\n",
       "      <th>company_size</th>\n",
       "      <th>company_type</th>\n",
       "      <th>last_new_job</th>\n",
       "      <th>training_hours</th>\n",
       "      <th>target</th>\n",
       "    </tr>\n",
       "  </thead>\n",
       "  <tbody>\n",
       "    <tr>\n",
       "      <th>0</th>\n",
       "      <td>8949</td>\n",
       "      <td>103</td>\n",
       "      <td>0.920</td>\n",
       "      <td>Male</td>\n",
       "      <td>Has relevent experience</td>\n",
       "      <td>no_enrollment</td>\n",
       "      <td>Graduate</td>\n",
       "      <td>STEM</td>\n",
       "      <td>&gt;20</td>\n",
       "      <td>50-99</td>\n",
       "      <td>Pvt Ltd</td>\n",
       "      <td>1</td>\n",
       "      <td>36</td>\n",
       "      <td>1.0</td>\n",
       "    </tr>\n",
       "    <tr>\n",
       "      <th>1</th>\n",
       "      <td>29725</td>\n",
       "      <td>40</td>\n",
       "      <td>0.776</td>\n",
       "      <td>Male</td>\n",
       "      <td>No relevent experience</td>\n",
       "      <td>no_enrollment</td>\n",
       "      <td>Graduate</td>\n",
       "      <td>STEM</td>\n",
       "      <td>15</td>\n",
       "      <td>50-99</td>\n",
       "      <td>Pvt Ltd</td>\n",
       "      <td>&gt;4</td>\n",
       "      <td>47</td>\n",
       "      <td>0.0</td>\n",
       "    </tr>\n",
       "    <tr>\n",
       "      <th>2</th>\n",
       "      <td>11561</td>\n",
       "      <td>21</td>\n",
       "      <td>0.624</td>\n",
       "      <td>Male</td>\n",
       "      <td>No relevent experience</td>\n",
       "      <td>Full time course</td>\n",
       "      <td>Graduate</td>\n",
       "      <td>STEM</td>\n",
       "      <td>5</td>\n",
       "      <td>50-99</td>\n",
       "      <td>Pvt Ltd</td>\n",
       "      <td>never</td>\n",
       "      <td>83</td>\n",
       "      <td>0.0</td>\n",
       "    </tr>\n",
       "    <tr>\n",
       "      <th>3</th>\n",
       "      <td>33241</td>\n",
       "      <td>115</td>\n",
       "      <td>0.789</td>\n",
       "      <td>Male</td>\n",
       "      <td>No relevent experience</td>\n",
       "      <td>no_enrollment</td>\n",
       "      <td>Graduate</td>\n",
       "      <td>Business Degree</td>\n",
       "      <td>&lt;1</td>\n",
       "      <td>50-99</td>\n",
       "      <td>Pvt Ltd</td>\n",
       "      <td>never</td>\n",
       "      <td>52</td>\n",
       "      <td>1.0</td>\n",
       "    </tr>\n",
       "    <tr>\n",
       "      <th>4</th>\n",
       "      <td>666</td>\n",
       "      <td>162</td>\n",
       "      <td>0.767</td>\n",
       "      <td>Male</td>\n",
       "      <td>Has relevent experience</td>\n",
       "      <td>no_enrollment</td>\n",
       "      <td>Masters</td>\n",
       "      <td>STEM</td>\n",
       "      <td>&gt;20</td>\n",
       "      <td>50-99</td>\n",
       "      <td>Funded Startup</td>\n",
       "      <td>4</td>\n",
       "      <td>8</td>\n",
       "      <td>0.0</td>\n",
       "    </tr>\n",
       "  </tbody>\n",
       "</table>\n",
       "</div>"
      ],
      "text/plain": [
       "   enrollee_id  city  city_development_index gender      relevent_experience  \\\n",
       "0         8949   103                   0.920   Male  Has relevent experience   \n",
       "1        29725    40                   0.776   Male   No relevent experience   \n",
       "2        11561    21                   0.624   Male   No relevent experience   \n",
       "3        33241   115                   0.789   Male   No relevent experience   \n",
       "4          666   162                   0.767   Male  Has relevent experience   \n",
       "\n",
       "  enrolled_university education_level major_discipline experience  \\\n",
       "0       no_enrollment        Graduate             STEM        >20   \n",
       "1       no_enrollment        Graduate             STEM         15   \n",
       "2    Full time course        Graduate             STEM          5   \n",
       "3       no_enrollment        Graduate  Business Degree         <1   \n",
       "4       no_enrollment         Masters             STEM        >20   \n",
       "\n",
       "  company_size    company_type last_new_job  training_hours  target  \n",
       "0        50-99         Pvt Ltd            1              36     1.0  \n",
       "1        50-99         Pvt Ltd           >4              47     0.0  \n",
       "2        50-99         Pvt Ltd        never              83     0.0  \n",
       "3        50-99         Pvt Ltd        never              52     1.0  \n",
       "4        50-99  Funded Startup            4               8     0.0  "
      ]
     },
     "execution_count": 36,
     "metadata": {},
     "output_type": "execute_result"
    }
   ],
   "source": [
    "data.head()"
   ]
  },
  {
   "cell_type": "code",
   "execution_count": 37,
   "metadata": {
    "execution": {
     "iopub.execute_input": "2020-12-31T11:18:33.465575Z",
     "iopub.status.busy": "2020-12-31T11:18:33.464124Z",
     "iopub.status.idle": "2020-12-31T11:18:33.492701Z",
     "shell.execute_reply": "2020-12-31T11:18:33.492043Z"
    },
    "papermill": {
     "duration": 0.124254,
     "end_time": "2020-12-31T11:18:33.492809",
     "exception": false,
     "start_time": "2020-12-31T11:18:33.368555",
     "status": "completed"
    },
    "tags": []
   },
   "outputs": [
    {
     "data": {
      "text/html": [
       "<div>\n",
       "<style scoped>\n",
       "    .dataframe tbody tr th:only-of-type {\n",
       "        vertical-align: middle;\n",
       "    }\n",
       "\n",
       "    .dataframe tbody tr th {\n",
       "        vertical-align: top;\n",
       "    }\n",
       "\n",
       "    .dataframe thead th {\n",
       "        text-align: right;\n",
       "    }\n",
       "</style>\n",
       "<table border=\"1\" class=\"dataframe\">\n",
       "  <thead>\n",
       "    <tr style=\"text-align: right;\">\n",
       "      <th></th>\n",
       "      <th>enrollee_id</th>\n",
       "      <th>city</th>\n",
       "      <th>city_development_index</th>\n",
       "      <th>training_hours</th>\n",
       "      <th>target</th>\n",
       "    </tr>\n",
       "  </thead>\n",
       "  <tbody>\n",
       "    <tr>\n",
       "      <th>count</th>\n",
       "      <td>19158.000000</td>\n",
       "      <td>19158.000000</td>\n",
       "      <td>19158.000000</td>\n",
       "      <td>19158.000000</td>\n",
       "      <td>19158.000000</td>\n",
       "    </tr>\n",
       "    <tr>\n",
       "      <th>mean</th>\n",
       "      <td>16875.358179</td>\n",
       "      <td>80.128876</td>\n",
       "      <td>0.828848</td>\n",
       "      <td>65.366896</td>\n",
       "      <td>0.249348</td>\n",
       "    </tr>\n",
       "    <tr>\n",
       "      <th>std</th>\n",
       "      <td>9616.292592</td>\n",
       "      <td>46.413570</td>\n",
       "      <td>0.123362</td>\n",
       "      <td>60.058462</td>\n",
       "      <td>0.432647</td>\n",
       "    </tr>\n",
       "    <tr>\n",
       "      <th>min</th>\n",
       "      <td>1.000000</td>\n",
       "      <td>1.000000</td>\n",
       "      <td>0.448000</td>\n",
       "      <td>1.000000</td>\n",
       "      <td>0.000000</td>\n",
       "    </tr>\n",
       "    <tr>\n",
       "      <th>25%</th>\n",
       "      <td>8554.250000</td>\n",
       "      <td>21.000000</td>\n",
       "      <td>0.740000</td>\n",
       "      <td>23.000000</td>\n",
       "      <td>0.000000</td>\n",
       "    </tr>\n",
       "    <tr>\n",
       "      <th>50%</th>\n",
       "      <td>16982.500000</td>\n",
       "      <td>101.000000</td>\n",
       "      <td>0.903000</td>\n",
       "      <td>47.000000</td>\n",
       "      <td>0.000000</td>\n",
       "    </tr>\n",
       "    <tr>\n",
       "      <th>75%</th>\n",
       "      <td>25169.750000</td>\n",
       "      <td>104.000000</td>\n",
       "      <td>0.920000</td>\n",
       "      <td>88.000000</td>\n",
       "      <td>0.000000</td>\n",
       "    </tr>\n",
       "    <tr>\n",
       "      <th>max</th>\n",
       "      <td>33380.000000</td>\n",
       "      <td>180.000000</td>\n",
       "      <td>0.949000</td>\n",
       "      <td>336.000000</td>\n",
       "      <td>1.000000</td>\n",
       "    </tr>\n",
       "  </tbody>\n",
       "</table>\n",
       "</div>"
      ],
      "text/plain": [
       "        enrollee_id          city  city_development_index  training_hours  \\\n",
       "count  19158.000000  19158.000000            19158.000000    19158.000000   \n",
       "mean   16875.358179     80.128876                0.828848       65.366896   \n",
       "std     9616.292592     46.413570                0.123362       60.058462   \n",
       "min        1.000000      1.000000                0.448000        1.000000   \n",
       "25%     8554.250000     21.000000                0.740000       23.000000   \n",
       "50%    16982.500000    101.000000                0.903000       47.000000   \n",
       "75%    25169.750000    104.000000                0.920000       88.000000   \n",
       "max    33380.000000    180.000000                0.949000      336.000000   \n",
       "\n",
       "             target  \n",
       "count  19158.000000  \n",
       "mean       0.249348  \n",
       "std        0.432647  \n",
       "min        0.000000  \n",
       "25%        0.000000  \n",
       "50%        0.000000  \n",
       "75%        0.000000  \n",
       "max        1.000000  "
      ]
     },
     "execution_count": 37,
     "metadata": {},
     "output_type": "execute_result"
    }
   ],
   "source": [
    "data.describe()"
   ]
  },
  {
   "cell_type": "code",
   "execution_count": 38,
   "metadata": {
    "execution": {
     "iopub.execute_input": "2020-12-31T11:18:33.669852Z",
     "iopub.status.busy": "2020-12-31T11:18:33.669194Z",
     "iopub.status.idle": "2020-12-31T11:18:38.214199Z",
     "shell.execute_reply": "2020-12-31T11:18:38.212678Z"
    },
    "papermill": {
     "duration": 4.637469,
     "end_time": "2020-12-31T11:18:38.214330",
     "exception": false,
     "start_time": "2020-12-31T11:18:33.576861",
     "status": "completed"
    },
    "tags": []
   },
   "outputs": [
    {
     "data": {
      "text/plain": [
       "[]"
      ]
     },
     "execution_count": 38,
     "metadata": {},
     "output_type": "execute_result"
    },
    {
     "data": {
      "image/png": "[encoded data removed]",
      "text/plain": [
       "<Figure size 772x720 with 20 Axes>"
      ]
     },
     "metadata": {
      "needs_background": "light"
     },
     "output_type": "display_data"
    }
   ],
   "source": [
    "sns.pairplot(data, hue='target', markers = ['s', 'o']) # s는 square(사각형), o는 원\n",
    "plt.plot()"
   ]
  },
  {
   "cell_type": "code",
   "execution_count": 40,
   "metadata": {
    "execution": {
     "iopub.execute_input": "2020-12-31T11:18:38.414022Z",
     "iopub.status.busy": "2020-12-31T11:18:38.412923Z",
     "iopub.status.idle": "2020-12-31T11:18:38.840595Z",
     "shell.execute_reply": "2020-12-31T11:18:38.839842Z"
    },
    "papermill": {
     "duration": 0.53175,
     "end_time": "2020-12-31T11:18:38.840709",
     "exception": false,
     "start_time": "2020-12-31T11:18:38.308959",
     "status": "completed"
    },
    "tags": []
   },
   "outputs": [
    {
     "data": {
      "text/plain": [
       "<Figure size 720x576 with 0 Axes>"
      ]
     },
     "metadata": {},
     "output_type": "display_data"
    },
    {
     "data": {
      "image/png": "[encoded data removed]",
      "text/plain": [
       "<Figure size 720x720 with 4 Axes>"
      ]
     },
     "metadata": {
      "needs_background": "light"
     },
     "output_type": "display_data"
    }
   ],
   "source": [
    "plt.figure(figsize=(10,8))\n",
    "sns.clustermap(data.corr(),annot = True)\n",
    "plt.show()"
   ]
  },
  {
   "cell_type": "markdown",
   "metadata": {
    "papermill": {
     "duration": 0.098686,
     "end_time": "2020-12-31T11:18:42.311040",
     "exception": false,
     "start_time": "2020-12-31T11:18:42.212354",
     "status": "completed"
    },
    "tags": []
   },
   "source": [
    "<h1 style=\"font-size:2em;color:#2467C0\">4. Feature Engineering</h1>"
   ]
  },
  {
   "cell_type": "code",
   "execution_count": 41,
   "metadata": {
    "execution": {
     "iopub.execute_input": "2020-12-31T11:18:42.520225Z",
     "iopub.status.busy": "2020-12-31T11:18:42.519297Z",
     "iopub.status.idle": "2020-12-31T11:18:42.525371Z",
     "shell.execute_reply": "2020-12-31T11:18:42.526044Z"
    },
    "papermill": {
     "duration": 0.114914,
     "end_time": "2020-12-31T11:18:42.526236",
     "exception": false,
     "start_time": "2020-12-31T11:18:42.411322",
     "status": "completed"
    },
    "tags": []
   },
   "outputs": [
    {
     "name": "stdout",
     "output_type": "stream",
     "text": [
      "['enrollee_id', 'city', 'city_development_index', 'training_hours', 'target']\n"
     ]
    }
   ],
   "source": [
    "# 숫자 값이 들어있는 features\n",
    "numeric_columns = list(data.select_dtypes(exclude=['object']).dtypes.index)\n",
    "print(numeric_columns)"
   ]
  },
  {
   "cell_type": "markdown",
   "metadata": {
    "papermill": {
     "duration": 0.152877,
     "end_time": "2020-12-31T11:18:45.392037",
     "exception": false,
     "start_time": "2020-12-31T11:18:45.239160",
     "status": "completed"
    },
    "tags": []
   },
   "source": [
    "## Encoding"
   ]
  },
  {
   "cell_type": "markdown",
   "metadata": {},
   "source": [
    "현재 data에는 숫자가 아닌 문자 값으로 구성된 feature들이 많음.\n",
    "\n",
    "이를 숫자로 바꾸는 작업, 즉 encoding을 진행할 예정."
   ]
  },
  {
   "cell_type": "code",
   "execution_count": 42,
   "metadata": {
    "execution": {
     "iopub.execute_input": "2020-12-31T11:18:45.859180Z",
     "iopub.status.busy": "2020-12-31T11:18:45.858465Z",
     "iopub.status.idle": "2020-12-31T11:18:45.866431Z",
     "shell.execute_reply": "2020-12-31T11:18:45.865835Z"
    },
    "papermill": {
     "duration": 0.140341,
     "end_time": "2020-12-31T11:18:45.866553",
     "exception": false,
     "start_time": "2020-12-31T11:18:45.726212",
     "status": "completed"
    },
    "tags": []
   },
   "outputs": [
    {
     "data": {
      "text/html": [
       "<div>\n",
       "<style scoped>\n",
       "    .dataframe tbody tr th:only-of-type {\n",
       "        vertical-align: middle;\n",
       "    }\n",
       "\n",
       "    .dataframe tbody tr th {\n",
       "        vertical-align: top;\n",
       "    }\n",
       "\n",
       "    .dataframe thead th {\n",
       "        text-align: right;\n",
       "    }\n",
       "</style>\n",
       "<table border=\"1\" class=\"dataframe\">\n",
       "  <thead>\n",
       "    <tr style=\"text-align: right;\">\n",
       "      <th></th>\n",
       "      <th>enrollee_id</th>\n",
       "      <th>city</th>\n",
       "      <th>city_development_index</th>\n",
       "      <th>gender</th>\n",
       "      <th>relevent_experience</th>\n",
       "      <th>enrolled_university</th>\n",
       "      <th>education_level</th>\n",
       "      <th>major_discipline</th>\n",
       "      <th>experience</th>\n",
       "      <th>company_size</th>\n",
       "      <th>company_type</th>\n",
       "      <th>last_new_job</th>\n",
       "      <th>training_hours</th>\n",
       "      <th>target</th>\n",
       "    </tr>\n",
       "  </thead>\n",
       "  <tbody>\n",
       "    <tr>\n",
       "      <th>0</th>\n",
       "      <td>8949</td>\n",
       "      <td>103</td>\n",
       "      <td>0.920</td>\n",
       "      <td>Male</td>\n",
       "      <td>Has relevent experience</td>\n",
       "      <td>no_enrollment</td>\n",
       "      <td>Graduate</td>\n",
       "      <td>STEM</td>\n",
       "      <td>&gt;20</td>\n",
       "      <td>50-99</td>\n",
       "      <td>Pvt Ltd</td>\n",
       "      <td>1</td>\n",
       "      <td>36</td>\n",
       "      <td>1.0</td>\n",
       "    </tr>\n",
       "    <tr>\n",
       "      <th>1</th>\n",
       "      <td>29725</td>\n",
       "      <td>40</td>\n",
       "      <td>0.776</td>\n",
       "      <td>Male</td>\n",
       "      <td>No relevent experience</td>\n",
       "      <td>no_enrollment</td>\n",
       "      <td>Graduate</td>\n",
       "      <td>STEM</td>\n",
       "      <td>15</td>\n",
       "      <td>50-99</td>\n",
       "      <td>Pvt Ltd</td>\n",
       "      <td>&gt;4</td>\n",
       "      <td>47</td>\n",
       "      <td>0.0</td>\n",
       "    </tr>\n",
       "    <tr>\n",
       "      <th>2</th>\n",
       "      <td>11561</td>\n",
       "      <td>21</td>\n",
       "      <td>0.624</td>\n",
       "      <td>Male</td>\n",
       "      <td>No relevent experience</td>\n",
       "      <td>Full time course</td>\n",
       "      <td>Graduate</td>\n",
       "      <td>STEM</td>\n",
       "      <td>5</td>\n",
       "      <td>50-99</td>\n",
       "      <td>Pvt Ltd</td>\n",
       "      <td>never</td>\n",
       "      <td>83</td>\n",
       "      <td>0.0</td>\n",
       "    </tr>\n",
       "    <tr>\n",
       "      <th>3</th>\n",
       "      <td>33241</td>\n",
       "      <td>115</td>\n",
       "      <td>0.789</td>\n",
       "      <td>Male</td>\n",
       "      <td>No relevent experience</td>\n",
       "      <td>no_enrollment</td>\n",
       "      <td>Graduate</td>\n",
       "      <td>Business Degree</td>\n",
       "      <td>&lt;1</td>\n",
       "      <td>50-99</td>\n",
       "      <td>Pvt Ltd</td>\n",
       "      <td>never</td>\n",
       "      <td>52</td>\n",
       "      <td>1.0</td>\n",
       "    </tr>\n",
       "    <tr>\n",
       "      <th>4</th>\n",
       "      <td>666</td>\n",
       "      <td>162</td>\n",
       "      <td>0.767</td>\n",
       "      <td>Male</td>\n",
       "      <td>Has relevent experience</td>\n",
       "      <td>no_enrollment</td>\n",
       "      <td>Masters</td>\n",
       "      <td>STEM</td>\n",
       "      <td>&gt;20</td>\n",
       "      <td>50-99</td>\n",
       "      <td>Funded Startup</td>\n",
       "      <td>4</td>\n",
       "      <td>8</td>\n",
       "      <td>0.0</td>\n",
       "    </tr>\n",
       "  </tbody>\n",
       "</table>\n",
       "</div>"
      ],
      "text/plain": [
       "   enrollee_id  city  city_development_index gender      relevent_experience  \\\n",
       "0         8949   103                   0.920   Male  Has relevent experience   \n",
       "1        29725    40                   0.776   Male   No relevent experience   \n",
       "2        11561    21                   0.624   Male   No relevent experience   \n",
       "3        33241   115                   0.789   Male   No relevent experience   \n",
       "4          666   162                   0.767   Male  Has relevent experience   \n",
       "\n",
       "  enrolled_university education_level major_discipline experience  \\\n",
       "0       no_enrollment        Graduate             STEM        >20   \n",
       "1       no_enrollment        Graduate             STEM         15   \n",
       "2    Full time course        Graduate             STEM          5   \n",
       "3       no_enrollment        Graduate  Business Degree         <1   \n",
       "4       no_enrollment         Masters             STEM        >20   \n",
       "\n",
       "  company_size    company_type last_new_job  training_hours  target  \n",
       "0        50-99         Pvt Ltd            1              36     1.0  \n",
       "1        50-99         Pvt Ltd           >4              47     0.0  \n",
       "2        50-99         Pvt Ltd        never              83     0.0  \n",
       "3        50-99         Pvt Ltd        never              52     1.0  \n",
       "4        50-99  Funded Startup            4               8     0.0  "
      ]
     },
     "execution_count": 42,
     "metadata": {},
     "output_type": "execute_result"
    }
   ],
   "source": [
    "data.head()"
   ]
  },
  {
   "cell_type": "markdown",
   "metadata": {
    "papermill": {
     "duration": 0.112791,
     "end_time": "2020-12-31T11:18:46.094962",
     "exception": false,
     "start_time": "2020-12-31T11:18:45.982171",
     "status": "completed"
    },
    "tags": []
   },
   "source": [
    "### gender"
   ]
  },
  {
   "cell_type": "code",
   "execution_count": 43,
   "metadata": {
    "execution": {
     "iopub.execute_input": "2020-12-31T11:18:46.333953Z",
     "iopub.status.busy": "2020-12-31T11:18:46.333296Z",
     "iopub.status.idle": "2020-12-31T11:18:46.347545Z",
     "shell.execute_reply": "2020-12-31T11:18:46.348289Z"
    },
    "papermill": {
     "duration": 0.13861,
     "end_time": "2020-12-31T11:18:46.348461",
     "exception": false,
     "start_time": "2020-12-31T11:18:46.209851",
     "status": "completed"
    },
    "tags": []
   },
   "outputs": [],
   "source": [
    "# LabelEncoder()를 통해서 자동으로 문자형을 숫자형의 레이블로 바꾸어줌\n",
    "le = LabelEncoder()\n",
    "data.gender = le.fit_transform(data['gender'])"
   ]
  },
  {
   "cell_type": "code",
   "execution_count": 44,
   "metadata": {
    "execution": {
     "iopub.execute_input": "2020-12-31T11:18:46.613047Z",
     "iopub.status.busy": "2020-12-31T11:18:46.612100Z",
     "iopub.status.idle": "2020-12-31T11:18:46.617043Z",
     "shell.execute_reply": "2020-12-31T11:18:46.616239Z"
    },
    "papermill": {
     "duration": 0.150433,
     "end_time": "2020-12-31T11:18:46.617151",
     "exception": false,
     "start_time": "2020-12-31T11:18:46.466718",
     "status": "completed"
    },
    "tags": []
   },
   "outputs": [
    {
     "data": {
      "text/plain": [
       "0        1\n",
       "1        1\n",
       "2        1\n",
       "3        1\n",
       "4        1\n",
       "        ..\n",
       "19153    1\n",
       "19154    1\n",
       "19155    1\n",
       "19156    1\n",
       "19157    1\n",
       "Name: gender, Length: 19158, dtype: int64"
      ]
     },
     "execution_count": 44,
     "metadata": {},
     "output_type": "execute_result"
    }
   ],
   "source": [
    "data.gender"
   ]
  },
  {
   "cell_type": "markdown",
   "metadata": {
    "papermill": {
     "duration": 0.113419,
     "end_time": "2020-12-31T11:18:46.845000",
     "exception": false,
     "start_time": "2020-12-31T11:18:46.731581",
     "status": "completed"
    },
    "tags": []
   },
   "source": [
    "### relevent_experience"
   ]
  },
  {
   "cell_type": "code",
   "execution_count": 45,
   "metadata": {
    "execution": {
     "iopub.execute_input": "2020-12-31T11:18:47.080692Z",
     "iopub.status.busy": "2020-12-31T11:18:47.079747Z",
     "iopub.status.idle": "2020-12-31T11:18:47.091587Z",
     "shell.execute_reply": "2020-12-31T11:18:47.092087Z"
    },
    "papermill": {
     "duration": 0.13213,
     "end_time": "2020-12-31T11:18:47.092236",
     "exception": false,
     "start_time": "2020-12-31T11:18:46.960106",
     "status": "completed"
    },
    "tags": []
   },
   "outputs": [],
   "source": [
    "# LabelEncoder()를 설정하여, relevant_experience 값을 숫자화 시킴\n",
    "le = LabelEncoder()\n",
    "data.relevent_experience = le.fit_transform(data['relevent_experience'])"
   ]
  },
  {
   "cell_type": "markdown",
   "metadata": {
    "papermill": {
     "duration": 0.114851,
     "end_time": "2020-12-31T11:18:47.319429",
     "exception": false,
     "start_time": "2020-12-31T11:18:47.204578",
     "status": "completed"
    },
    "tags": []
   },
   "source": [
    "### enrolled_university"
   ]
  },
  {
   "cell_type": "code",
   "execution_count": 46,
   "metadata": {
    "execution": {
     "iopub.execute_input": "2020-12-31T11:18:47.562028Z",
     "iopub.status.busy": "2020-12-31T11:18:47.560425Z",
     "iopub.status.idle": "2020-12-31T11:18:47.565357Z",
     "shell.execute_reply": "2020-12-31T11:18:47.565862Z"
    },
    "papermill": {
     "duration": 0.131807,
     "end_time": "2020-12-31T11:18:47.566007",
     "exception": false,
     "start_time": "2020-12-31T11:18:47.434200",
     "status": "completed"
    },
    "tags": []
   },
   "outputs": [],
   "source": [
    "# LabelEncoder()를 설정하여, enrolloed_university 값을 숫자화 시킴\n",
    "le = LabelEncoder()\n",
    "data.enrolled_university = le.fit_transform(data['enrolled_university'])"
   ]
  },
  {
   "cell_type": "markdown",
   "metadata": {
    "papermill": {
     "duration": 0.121974,
     "end_time": "2020-12-31T11:18:47.802807",
     "exception": false,
     "start_time": "2020-12-31T11:18:47.680833",
     "status": "completed"
    },
    "tags": []
   },
   "source": [
    "### education_level"
   ]
  },
  {
   "cell_type": "code",
   "execution_count": 47,
   "metadata": {
    "execution": {
     "iopub.execute_input": "2020-12-31T11:18:48.043597Z",
     "iopub.status.busy": "2020-12-31T11:18:48.042683Z",
     "iopub.status.idle": "2020-12-31T11:18:48.051184Z",
     "shell.execute_reply": "2020-12-31T11:18:48.050270Z"
    },
    "papermill": {
     "duration": 0.133427,
     "end_time": "2020-12-31T11:18:48.051359",
     "exception": false,
     "start_time": "2020-12-31T11:18:47.917932",
     "status": "completed"
    },
    "tags": []
   },
   "outputs": [],
   "source": [
    "# LabelEncoder()를 설정하여, education_level 값을 숫자화 시킴\n",
    "le = LabelEncoder()\n",
    "data.education_level = le.fit_transform(data['education_level'])"
   ]
  },
  {
   "cell_type": "markdown",
   "metadata": {
    "papermill": {
     "duration": 0.117242,
     "end_time": "2020-12-31T11:18:48.898464",
     "exception": false,
     "start_time": "2020-12-31T11:18:48.781222",
     "status": "completed"
    },
    "tags": []
   },
   "source": [
    "### major_discipline"
   ]
  },
  {
   "cell_type": "code",
   "execution_count": 48,
   "metadata": {
    "execution": {
     "iopub.execute_input": "2020-12-31T11:18:49.142469Z",
     "iopub.status.busy": "2020-12-31T11:18:49.141586Z",
     "iopub.status.idle": "2020-12-31T11:18:49.148650Z",
     "shell.execute_reply": "2020-12-31T11:18:49.147949Z"
    },
    "papermill": {
     "duration": 0.13381,
     "end_time": "2020-12-31T11:18:49.148762",
     "exception": false,
     "start_time": "2020-12-31T11:18:49.014952",
     "status": "completed"
    },
    "tags": []
   },
   "outputs": [],
   "source": [
    "# LabelEncoder()를 설정하여, majoir_discipline 값을 숫자화 시킴\n",
    "le = LabelEncoder()\n",
    "data.major_discipline = le.fit_transform(data['major_discipline'])"
   ]
  },
  {
   "cell_type": "markdown",
   "metadata": {
    "papermill": {
     "duration": 0.1161,
     "end_time": "2020-12-31T11:18:49.382901",
     "exception": false,
     "start_time": "2020-12-31T11:18:49.266801",
     "status": "completed"
    },
    "tags": []
   },
   "source": [
    "### experience"
   ]
  },
  {
   "cell_type": "code",
   "execution_count": 49,
   "metadata": {},
   "outputs": [],
   "source": [
    "# LabelEncoder()를 설정하여, experience 값을 숫자화 시킴\n",
    "le = LabelEncoder()\n",
    "data.experience = le.fit_transform(data['experience'])"
   ]
  },
  {
   "cell_type": "code",
   "execution_count": 50,
   "metadata": {},
   "outputs": [
    {
     "data": {
      "text/html": [
       "<div>\n",
       "<style scoped>\n",
       "    .dataframe tbody tr th:only-of-type {\n",
       "        vertical-align: middle;\n",
       "    }\n",
       "\n",
       "    .dataframe tbody tr th {\n",
       "        vertical-align: top;\n",
       "    }\n",
       "\n",
       "    .dataframe thead th {\n",
       "        text-align: right;\n",
       "    }\n",
       "</style>\n",
       "<table border=\"1\" class=\"dataframe\">\n",
       "  <thead>\n",
       "    <tr style=\"text-align: right;\">\n",
       "      <th></th>\n",
       "      <th>enrollee_id</th>\n",
       "      <th>city</th>\n",
       "      <th>city_development_index</th>\n",
       "      <th>gender</th>\n",
       "      <th>relevent_experience</th>\n",
       "      <th>enrolled_university</th>\n",
       "      <th>education_level</th>\n",
       "      <th>major_discipline</th>\n",
       "      <th>experience</th>\n",
       "      <th>company_size</th>\n",
       "      <th>company_type</th>\n",
       "      <th>last_new_job</th>\n",
       "      <th>training_hours</th>\n",
       "      <th>target</th>\n",
       "    </tr>\n",
       "  </thead>\n",
       "  <tbody>\n",
       "    <tr>\n",
       "      <th>0</th>\n",
       "      <td>8949</td>\n",
       "      <td>103</td>\n",
       "      <td>0.920</td>\n",
       "      <td>1</td>\n",
       "      <td>0</td>\n",
       "      <td>2</td>\n",
       "      <td>0</td>\n",
       "      <td>5</td>\n",
       "      <td>21</td>\n",
       "      <td>50-99</td>\n",
       "      <td>Pvt Ltd</td>\n",
       "      <td>1</td>\n",
       "      <td>36</td>\n",
       "      <td>1.0</td>\n",
       "    </tr>\n",
       "    <tr>\n",
       "      <th>1</th>\n",
       "      <td>29725</td>\n",
       "      <td>40</td>\n",
       "      <td>0.776</td>\n",
       "      <td>1</td>\n",
       "      <td>1</td>\n",
       "      <td>2</td>\n",
       "      <td>0</td>\n",
       "      <td>5</td>\n",
       "      <td>6</td>\n",
       "      <td>50-99</td>\n",
       "      <td>Pvt Ltd</td>\n",
       "      <td>&gt;4</td>\n",
       "      <td>47</td>\n",
       "      <td>0.0</td>\n",
       "    </tr>\n",
       "    <tr>\n",
       "      <th>2</th>\n",
       "      <td>11561</td>\n",
       "      <td>21</td>\n",
       "      <td>0.624</td>\n",
       "      <td>1</td>\n",
       "      <td>1</td>\n",
       "      <td>0</td>\n",
       "      <td>0</td>\n",
       "      <td>5</td>\n",
       "      <td>15</td>\n",
       "      <td>50-99</td>\n",
       "      <td>Pvt Ltd</td>\n",
       "      <td>never</td>\n",
       "      <td>83</td>\n",
       "      <td>0.0</td>\n",
       "    </tr>\n",
       "    <tr>\n",
       "      <th>3</th>\n",
       "      <td>33241</td>\n",
       "      <td>115</td>\n",
       "      <td>0.789</td>\n",
       "      <td>1</td>\n",
       "      <td>1</td>\n",
       "      <td>2</td>\n",
       "      <td>0</td>\n",
       "      <td>1</td>\n",
       "      <td>20</td>\n",
       "      <td>50-99</td>\n",
       "      <td>Pvt Ltd</td>\n",
       "      <td>never</td>\n",
       "      <td>52</td>\n",
       "      <td>1.0</td>\n",
       "    </tr>\n",
       "    <tr>\n",
       "      <th>4</th>\n",
       "      <td>666</td>\n",
       "      <td>162</td>\n",
       "      <td>0.767</td>\n",
       "      <td>1</td>\n",
       "      <td>0</td>\n",
       "      <td>2</td>\n",
       "      <td>2</td>\n",
       "      <td>5</td>\n",
       "      <td>21</td>\n",
       "      <td>50-99</td>\n",
       "      <td>Funded Startup</td>\n",
       "      <td>4</td>\n",
       "      <td>8</td>\n",
       "      <td>0.0</td>\n",
       "    </tr>\n",
       "    <tr>\n",
       "      <th>...</th>\n",
       "      <td>...</td>\n",
       "      <td>...</td>\n",
       "      <td>...</td>\n",
       "      <td>...</td>\n",
       "      <td>...</td>\n",
       "      <td>...</td>\n",
       "      <td>...</td>\n",
       "      <td>...</td>\n",
       "      <td>...</td>\n",
       "      <td>...</td>\n",
       "      <td>...</td>\n",
       "      <td>...</td>\n",
       "      <td>...</td>\n",
       "      <td>...</td>\n",
       "    </tr>\n",
       "    <tr>\n",
       "      <th>19153</th>\n",
       "      <td>7386</td>\n",
       "      <td>173</td>\n",
       "      <td>0.878</td>\n",
       "      <td>1</td>\n",
       "      <td>1</td>\n",
       "      <td>2</td>\n",
       "      <td>0</td>\n",
       "      <td>2</td>\n",
       "      <td>5</td>\n",
       "      <td>10/49</td>\n",
       "      <td>Pvt Ltd</td>\n",
       "      <td>1</td>\n",
       "      <td>42</td>\n",
       "      <td>1.0</td>\n",
       "    </tr>\n",
       "    <tr>\n",
       "      <th>19154</th>\n",
       "      <td>31398</td>\n",
       "      <td>103</td>\n",
       "      <td>0.920</td>\n",
       "      <td>1</td>\n",
       "      <td>0</td>\n",
       "      <td>2</td>\n",
       "      <td>0</td>\n",
       "      <td>5</td>\n",
       "      <td>5</td>\n",
       "      <td>10/49</td>\n",
       "      <td>Pvt Ltd</td>\n",
       "      <td>4</td>\n",
       "      <td>52</td>\n",
       "      <td>1.0</td>\n",
       "    </tr>\n",
       "    <tr>\n",
       "      <th>19155</th>\n",
       "      <td>24576</td>\n",
       "      <td>103</td>\n",
       "      <td>0.920</td>\n",
       "      <td>1</td>\n",
       "      <td>0</td>\n",
       "      <td>2</td>\n",
       "      <td>0</td>\n",
       "      <td>5</td>\n",
       "      <td>21</td>\n",
       "      <td>50-99</td>\n",
       "      <td>Pvt Ltd</td>\n",
       "      <td>4</td>\n",
       "      <td>44</td>\n",
       "      <td>0.0</td>\n",
       "    </tr>\n",
       "    <tr>\n",
       "      <th>19156</th>\n",
       "      <td>5756</td>\n",
       "      <td>65</td>\n",
       "      <td>0.802</td>\n",
       "      <td>1</td>\n",
       "      <td>0</td>\n",
       "      <td>2</td>\n",
       "      <td>1</td>\n",
       "      <td>5</td>\n",
       "      <td>20</td>\n",
       "      <td>500-999</td>\n",
       "      <td>Pvt Ltd</td>\n",
       "      <td>2</td>\n",
       "      <td>97</td>\n",
       "      <td>0.0</td>\n",
       "    </tr>\n",
       "    <tr>\n",
       "      <th>19157</th>\n",
       "      <td>23834</td>\n",
       "      <td>67</td>\n",
       "      <td>0.855</td>\n",
       "      <td>1</td>\n",
       "      <td>1</td>\n",
       "      <td>2</td>\n",
       "      <td>4</td>\n",
       "      <td>5</td>\n",
       "      <td>11</td>\n",
       "      <td>500-999</td>\n",
       "      <td>Pvt Ltd</td>\n",
       "      <td>1</td>\n",
       "      <td>127</td>\n",
       "      <td>0.0</td>\n",
       "    </tr>\n",
       "  </tbody>\n",
       "</table>\n",
       "<p>19158 rows × 14 columns</p>\n",
       "</div>"
      ],
      "text/plain": [
       "       enrollee_id  city  city_development_index  gender  relevent_experience  \\\n",
       "0             8949   103                   0.920       1                    0   \n",
       "1            29725    40                   0.776       1                    1   \n",
       "2            11561    21                   0.624       1                    1   \n",
       "3            33241   115                   0.789       1                    1   \n",
       "4              666   162                   0.767       1                    0   \n",
       "...            ...   ...                     ...     ...                  ...   \n",
       "19153         7386   173                   0.878       1                    1   \n",
       "19154        31398   103                   0.920       1                    0   \n",
       "19155        24576   103                   0.920       1                    0   \n",
       "19156         5756    65                   0.802       1                    0   \n",
       "19157        23834    67                   0.855       1                    1   \n",
       "\n",
       "       enrolled_university  education_level  major_discipline  experience  \\\n",
       "0                        2                0                 5          21   \n",
       "1                        2                0                 5           6   \n",
       "2                        0                0                 5          15   \n",
       "3                        2                0                 1          20   \n",
       "4                        2                2                 5          21   \n",
       "...                    ...              ...               ...         ...   \n",
       "19153                    2                0                 2           5   \n",
       "19154                    2                0                 5           5   \n",
       "19155                    2                0                 5          21   \n",
       "19156                    2                1                 5          20   \n",
       "19157                    2                4                 5          11   \n",
       "\n",
       "      company_size    company_type last_new_job  training_hours  target  \n",
       "0            50-99         Pvt Ltd            1              36     1.0  \n",
       "1            50-99         Pvt Ltd           >4              47     0.0  \n",
       "2            50-99         Pvt Ltd        never              83     0.0  \n",
       "3            50-99         Pvt Ltd        never              52     1.0  \n",
       "4            50-99  Funded Startup            4               8     0.0  \n",
       "...            ...             ...          ...             ...     ...  \n",
       "19153        10/49         Pvt Ltd            1              42     1.0  \n",
       "19154        10/49         Pvt Ltd            4              52     1.0  \n",
       "19155        50-99         Pvt Ltd            4              44     0.0  \n",
       "19156      500-999         Pvt Ltd            2              97     0.0  \n",
       "19157      500-999         Pvt Ltd            1             127     0.0  \n",
       "\n",
       "[19158 rows x 14 columns]"
      ]
     },
     "execution_count": 50,
     "metadata": {},
     "output_type": "execute_result"
    }
   ],
   "source": [
    "data"
   ]
  },
  {
   "cell_type": "markdown",
   "metadata": {
    "papermill": {
     "duration": 0.121356,
     "end_time": "2020-12-31T11:18:50.436175",
     "exception": false,
     "start_time": "2020-12-31T11:18:50.314819",
     "status": "completed"
    },
    "tags": []
   },
   "source": [
    "### company_size"
   ]
  },
  {
   "cell_type": "code",
   "execution_count": 51,
   "metadata": {
    "execution": {
     "iopub.execute_input": "2020-12-31T11:18:50.687005Z",
     "iopub.status.busy": "2020-12-31T11:18:50.686014Z",
     "iopub.status.idle": "2020-12-31T11:18:50.690547Z",
     "shell.execute_reply": "2020-12-31T11:18:50.689910Z"
    },
    "papermill": {
     "duration": 0.134863,
     "end_time": "2020-12-31T11:18:50.690666",
     "exception": false,
     "start_time": "2020-12-31T11:18:50.555803",
     "status": "completed"
    },
    "tags": []
   },
   "outputs": [
    {
     "data": {
      "text/plain": [
       "50-99        4502\n",
       "100-500      3765\n",
       "10000+       2900\n",
       "10/49        2108\n",
       "1000-4999    1935\n",
       "<10          1853\n",
       "500-999      1280\n",
       "5000-9999     815\n",
       "Name: company_size, dtype: int64"
      ]
     },
     "execution_count": 51,
     "metadata": {},
     "output_type": "execute_result"
    }
   ],
   "source": [
    "data.company_size.value_counts()"
   ]
  },
  {
   "cell_type": "code",
   "execution_count": 56,
   "metadata": {
    "execution": {
     "iopub.execute_input": "2020-12-31T11:18:50.944269Z",
     "iopub.status.busy": "2020-12-31T11:18:50.942726Z",
     "iopub.status.idle": "2020-12-31T11:18:50.947207Z",
     "shell.execute_reply": "2020-12-31T11:18:50.946593Z"
    },
    "papermill": {
     "duration": 0.133785,
     "end_time": "2020-12-31T11:18:50.947313",
     "exception": false,
     "start_time": "2020-12-31T11:18:50.813528",
     "status": "completed"
    },
    "tags": []
   },
   "outputs": [],
   "source": [
    "# LabelEncoder()를 설정하여, company_size 값을 숫자화 시킴\n",
    "le = LabelEncoder()\n",
    "data.company_size = le.fit_transform(data['company_size'])"
   ]
  },
  {
   "cell_type": "markdown",
   "metadata": {
    "papermill": {
     "duration": 0.127557,
     "end_time": "2020-12-31T11:18:51.194816",
     "exception": false,
     "start_time": "2020-12-31T11:18:51.067259",
     "status": "completed"
    },
    "tags": []
   },
   "source": [
    "### company_type"
   ]
  },
  {
   "cell_type": "code",
   "execution_count": 57,
   "metadata": {
    "execution": {
     "iopub.execute_input": "2020-12-31T11:18:51.448622Z",
     "iopub.status.busy": "2020-12-31T11:18:51.440055Z",
     "iopub.status.idle": "2020-12-31T11:18:51.454426Z",
     "shell.execute_reply": "2020-12-31T11:18:51.453556Z"
    },
    "papermill": {
     "duration": 0.138504,
     "end_time": "2020-12-31T11:18:51.454567",
     "exception": false,
     "start_time": "2020-12-31T11:18:51.316063",
     "status": "completed"
    },
    "tags": []
   },
   "outputs": [],
   "source": [
    "# LabelEncoder()를 설정하여, company_type 값을 숫자화 시킴\n",
    "le = LabelEncoder()\n",
    "data.company_type = le.fit_transform(data['company_type'])"
   ]
  },
  {
   "cell_type": "markdown",
   "metadata": {
    "papermill": {
     "duration": 0.174917,
     "end_time": "2020-12-31T11:18:51.802607",
     "exception": false,
     "start_time": "2020-12-31T11:18:51.627690",
     "status": "completed"
    },
    "tags": []
   },
   "source": [
    "### last_new_job"
   ]
  },
  {
   "cell_type": "code",
   "execution_count": 59,
   "metadata": {
    "execution": {
     "iopub.execute_input": "2020-12-31T11:18:52.421481Z",
     "iopub.status.busy": "2020-12-31T11:18:52.420576Z",
     "iopub.status.idle": "2020-12-31T11:18:52.428076Z",
     "shell.execute_reply": "2020-12-31T11:18:52.427163Z"
    },
    "papermill": {
     "duration": 0.133441,
     "end_time": "2020-12-31T11:18:52.428201",
     "exception": false,
     "start_time": "2020-12-31T11:18:52.294760",
     "status": "completed"
    },
    "tags": []
   },
   "outputs": [],
   "source": [
    "# LabelEncoder()를 설정하여, last_new_job 값을 숫자화 시킴\n",
    "le = LabelEncoder()\n",
    "data.last_new_job = le.fit_transform(data['last_new_job'])"
   ]
  },
  {
   "cell_type": "code",
   "execution_count": 84,
   "metadata": {},
   "outputs": [
    {
     "data": {
      "text/html": [
       "<div>\n",
       "<style scoped>\n",
       "    .dataframe tbody tr th:only-of-type {\n",
       "        vertical-align: middle;\n",
       "    }\n",
       "\n",
       "    .dataframe tbody tr th {\n",
       "        vertical-align: top;\n",
       "    }\n",
       "\n",
       "    .dataframe thead th {\n",
       "        text-align: right;\n",
       "    }\n",
       "</style>\n",
       "<table border=\"1\" class=\"dataframe\">\n",
       "  <thead>\n",
       "    <tr style=\"text-align: right;\">\n",
       "      <th></th>\n",
       "      <th>enrollee_id</th>\n",
       "      <th>city</th>\n",
       "      <th>city_development_index</th>\n",
       "      <th>gender</th>\n",
       "      <th>relevent_experience</th>\n",
       "      <th>enrolled_university</th>\n",
       "      <th>education_level</th>\n",
       "      <th>major_discipline</th>\n",
       "      <th>experience</th>\n",
       "      <th>company_size</th>\n",
       "      <th>company_type</th>\n",
       "      <th>last_new_job</th>\n",
       "      <th>training_hours</th>\n",
       "      <th>target</th>\n",
       "    </tr>\n",
       "  </thead>\n",
       "  <tbody>\n",
       "    <tr>\n",
       "      <th>0</th>\n",
       "      <td>8949</td>\n",
       "      <td>103</td>\n",
       "      <td>0.920</td>\n",
       "      <td>1</td>\n",
       "      <td>0</td>\n",
       "      <td>2</td>\n",
       "      <td>0</td>\n",
       "      <td>5</td>\n",
       "      <td>21</td>\n",
       "      <td>2</td>\n",
       "      <td>5</td>\n",
       "      <td>1</td>\n",
       "      <td>36</td>\n",
       "      <td>1.0</td>\n",
       "    </tr>\n",
       "    <tr>\n",
       "      <th>1</th>\n",
       "      <td>29725</td>\n",
       "      <td>40</td>\n",
       "      <td>0.776</td>\n",
       "      <td>1</td>\n",
       "      <td>1</td>\n",
       "      <td>2</td>\n",
       "      <td>0</td>\n",
       "      <td>5</td>\n",
       "      <td>6</td>\n",
       "      <td>2</td>\n",
       "      <td>5</td>\n",
       "      <td>5</td>\n",
       "      <td>47</td>\n",
       "      <td>0.0</td>\n",
       "    </tr>\n",
       "    <tr>\n",
       "      <th>2</th>\n",
       "      <td>11561</td>\n",
       "      <td>21</td>\n",
       "      <td>0.624</td>\n",
       "      <td>1</td>\n",
       "      <td>1</td>\n",
       "      <td>0</td>\n",
       "      <td>0</td>\n",
       "      <td>5</td>\n",
       "      <td>15</td>\n",
       "      <td>2</td>\n",
       "      <td>5</td>\n",
       "      <td>0</td>\n",
       "      <td>83</td>\n",
       "      <td>0.0</td>\n",
       "    </tr>\n",
       "    <tr>\n",
       "      <th>3</th>\n",
       "      <td>33241</td>\n",
       "      <td>115</td>\n",
       "      <td>0.789</td>\n",
       "      <td>1</td>\n",
       "      <td>1</td>\n",
       "      <td>2</td>\n",
       "      <td>0</td>\n",
       "      <td>1</td>\n",
       "      <td>20</td>\n",
       "      <td>2</td>\n",
       "      <td>5</td>\n",
       "      <td>0</td>\n",
       "      <td>52</td>\n",
       "      <td>1.0</td>\n",
       "    </tr>\n",
       "    <tr>\n",
       "      <th>4</th>\n",
       "      <td>666</td>\n",
       "      <td>162</td>\n",
       "      <td>0.767</td>\n",
       "      <td>1</td>\n",
       "      <td>0</td>\n",
       "      <td>2</td>\n",
       "      <td>2</td>\n",
       "      <td>5</td>\n",
       "      <td>21</td>\n",
       "      <td>2</td>\n",
       "      <td>1</td>\n",
       "      <td>4</td>\n",
       "      <td>8</td>\n",
       "      <td>0.0</td>\n",
       "    </tr>\n",
       "    <tr>\n",
       "      <th>...</th>\n",
       "      <td>...</td>\n",
       "      <td>...</td>\n",
       "      <td>...</td>\n",
       "      <td>...</td>\n",
       "      <td>...</td>\n",
       "      <td>...</td>\n",
       "      <td>...</td>\n",
       "      <td>...</td>\n",
       "      <td>...</td>\n",
       "      <td>...</td>\n",
       "      <td>...</td>\n",
       "      <td>...</td>\n",
       "      <td>...</td>\n",
       "      <td>...</td>\n",
       "    </tr>\n",
       "    <tr>\n",
       "      <th>19153</th>\n",
       "      <td>7386</td>\n",
       "      <td>173</td>\n",
       "      <td>0.878</td>\n",
       "      <td>1</td>\n",
       "      <td>1</td>\n",
       "      <td>2</td>\n",
       "      <td>0</td>\n",
       "      <td>2</td>\n",
       "      <td>5</td>\n",
       "      <td>1</td>\n",
       "      <td>5</td>\n",
       "      <td>1</td>\n",
       "      <td>42</td>\n",
       "      <td>1.0</td>\n",
       "    </tr>\n",
       "    <tr>\n",
       "      <th>19154</th>\n",
       "      <td>31398</td>\n",
       "      <td>103</td>\n",
       "      <td>0.920</td>\n",
       "      <td>1</td>\n",
       "      <td>0</td>\n",
       "      <td>2</td>\n",
       "      <td>0</td>\n",
       "      <td>5</td>\n",
       "      <td>5</td>\n",
       "      <td>1</td>\n",
       "      <td>5</td>\n",
       "      <td>4</td>\n",
       "      <td>52</td>\n",
       "      <td>1.0</td>\n",
       "    </tr>\n",
       "    <tr>\n",
       "      <th>19155</th>\n",
       "      <td>24576</td>\n",
       "      <td>103</td>\n",
       "      <td>0.920</td>\n",
       "      <td>1</td>\n",
       "      <td>0</td>\n",
       "      <td>2</td>\n",
       "      <td>0</td>\n",
       "      <td>5</td>\n",
       "      <td>21</td>\n",
       "      <td>2</td>\n",
       "      <td>5</td>\n",
       "      <td>4</td>\n",
       "      <td>44</td>\n",
       "      <td>0.0</td>\n",
       "    </tr>\n",
       "    <tr>\n",
       "      <th>19156</th>\n",
       "      <td>5756</td>\n",
       "      <td>65</td>\n",
       "      <td>0.802</td>\n",
       "      <td>1</td>\n",
       "      <td>0</td>\n",
       "      <td>2</td>\n",
       "      <td>1</td>\n",
       "      <td>5</td>\n",
       "      <td>20</td>\n",
       "      <td>4</td>\n",
       "      <td>5</td>\n",
       "      <td>2</td>\n",
       "      <td>97</td>\n",
       "      <td>0.0</td>\n",
       "    </tr>\n",
       "    <tr>\n",
       "      <th>19157</th>\n",
       "      <td>23834</td>\n",
       "      <td>67</td>\n",
       "      <td>0.855</td>\n",
       "      <td>1</td>\n",
       "      <td>1</td>\n",
       "      <td>2</td>\n",
       "      <td>4</td>\n",
       "      <td>5</td>\n",
       "      <td>11</td>\n",
       "      <td>4</td>\n",
       "      <td>5</td>\n",
       "      <td>1</td>\n",
       "      <td>127</td>\n",
       "      <td>0.0</td>\n",
       "    </tr>\n",
       "  </tbody>\n",
       "</table>\n",
       "<p>19158 rows × 14 columns</p>\n",
       "</div>"
      ],
      "text/plain": [
       "       enrollee_id  city  city_development_index  gender  relevent_experience  \\\n",
       "0             8949   103                   0.920       1                    0   \n",
       "1            29725    40                   0.776       1                    1   \n",
       "2            11561    21                   0.624       1                    1   \n",
       "3            33241   115                   0.789       1                    1   \n",
       "4              666   162                   0.767       1                    0   \n",
       "...            ...   ...                     ...     ...                  ...   \n",
       "19153         7386   173                   0.878       1                    1   \n",
       "19154        31398   103                   0.920       1                    0   \n",
       "19155        24576   103                   0.920       1                    0   \n",
       "19156         5756    65                   0.802       1                    0   \n",
       "19157        23834    67                   0.855       1                    1   \n",
       "\n",
       "       enrolled_university  education_level  major_discipline  experience  \\\n",
       "0                        2                0                 5          21   \n",
       "1                        2                0                 5           6   \n",
       "2                        0                0                 5          15   \n",
       "3                        2                0                 1          20   \n",
       "4                        2                2                 5          21   \n",
       "...                    ...              ...               ...         ...   \n",
       "19153                    2                0                 2           5   \n",
       "19154                    2                0                 5           5   \n",
       "19155                    2                0                 5          21   \n",
       "19156                    2                1                 5          20   \n",
       "19157                    2                4                 5          11   \n",
       "\n",
       "       company_size  company_type  last_new_job  training_hours  target  \n",
       "0                 2             5             1              36     1.0  \n",
       "1                 2             5             5              47     0.0  \n",
       "2                 2             5             0              83     0.0  \n",
       "3                 2             5             0              52     1.0  \n",
       "4                 2             1             4               8     0.0  \n",
       "...             ...           ...           ...             ...     ...  \n",
       "19153             1             5             1              42     1.0  \n",
       "19154             1             5             4              52     1.0  \n",
       "19155             2             5             4              44     0.0  \n",
       "19156             4             5             2              97     0.0  \n",
       "19157             4             5             1             127     0.0  \n",
       "\n",
       "[19158 rows x 14 columns]"
      ]
     },
     "execution_count": 84,
     "metadata": {},
     "output_type": "execute_result"
    }
   ],
   "source": [
    "data"
   ]
  },
  {
   "cell_type": "markdown",
   "metadata": {
    "papermill": {
     "duration": 0.12359,
     "end_time": "2020-12-31T11:18:52.678918",
     "exception": false,
     "start_time": "2020-12-31T11:18:52.555328",
     "status": "completed"
    },
    "tags": []
   },
   "source": [
    "<h1 style=\"font-size:2em;color:#2467C0\">5. Over Sampling & Train - Test Split</h1>"
   ]
  },
  {
   "cell_type": "markdown",
   "metadata": {},
   "source": [
    "현재 데이터 셋의 target label은 균등하지 않음 (아래와 같음). \n",
    "\n",
    "데이터를 늘리기 위해서 많이 사용하는 SMOTE 기법을 사용함."
   ]
  },
  {
   "cell_type": "code",
   "execution_count": 60,
   "metadata": {},
   "outputs": [
    {
     "data": {
      "text/plain": [
       "0.0    14381\n",
       "1.0     4777\n",
       "Name: target, dtype: int64"
      ]
     },
     "execution_count": 60,
     "metadata": {},
     "output_type": "execute_result"
    }
   ],
   "source": [
    "data.target.value_counts()"
   ]
  },
  {
   "cell_type": "code",
   "execution_count": 61,
   "metadata": {},
   "outputs": [
    {
     "name": "stdout",
     "output_type": "stream",
     "text": [
      "Requirement already satisfied: imblearn in /Users/kyungsikhan/opt/anaconda3/lib/python3.8/site-packages (0.0)\r\n",
      "Requirement already satisfied: imbalanced-learn in /Users/kyungsikhan/opt/anaconda3/lib/python3.8/site-packages (from imblearn) (0.7.0)\r\n",
      "Requirement already satisfied: scipy>=0.19.1 in /Users/kyungsikhan/opt/anaconda3/lib/python3.8/site-packages (from imbalanced-learn->imblearn) (1.5.0)\r\n",
      "Requirement already satisfied: numpy>=1.13.3 in /Users/kyungsikhan/opt/anaconda3/lib/python3.8/site-packages (from imbalanced-learn->imblearn) (1.18.5)\r\n",
      "Requirement already satisfied: joblib>=0.11 in /Users/kyungsikhan/opt/anaconda3/lib/python3.8/site-packages (from imbalanced-learn->imblearn) (0.16.0)\r\n",
      "Requirement already satisfied: scikit-learn>=0.23 in /Users/kyungsikhan/opt/anaconda3/lib/python3.8/site-packages (from imbalanced-learn->imblearn) (0.23.1)\r\n",
      "Requirement already satisfied: threadpoolctl>=2.0.0 in /Users/kyungsikhan/opt/anaconda3/lib/python3.8/site-packages (from scikit-learn>=0.23->imbalanced-learn->imblearn) (2.1.0)\r\n"
     ]
    }
   ],
   "source": [
    "# SMOTE를 사용하기 위해 필요한 imblearn 라이브러리 설치.\n",
    "!pip install imblearn"
   ]
  },
  {
   "cell_type": "code",
   "execution_count": 62,
   "metadata": {},
   "outputs": [],
   "source": [
    "from imblearn.over_sampling import SMOTE"
   ]
  },
  {
   "cell_type": "code",
   "execution_count": 63,
   "metadata": {
    "execution": {
     "iopub.execute_input": "2020-12-31T11:18:52.932248Z",
     "iopub.status.busy": "2020-12-31T11:18:52.925512Z",
     "iopub.status.idle": "2020-12-31T11:18:52.941347Z",
     "shell.execute_reply": "2020-12-31T11:18:52.940655Z"
    },
    "papermill": {
     "duration": 0.143983,
     "end_time": "2020-12-31T11:18:52.941486",
     "exception": false,
     "start_time": "2020-12-31T11:18:52.797503",
     "status": "completed"
    },
    "tags": []
   },
   "outputs": [
    {
     "data": {
      "text/html": [
       "<div>\n",
       "<style scoped>\n",
       "    .dataframe tbody tr th:only-of-type {\n",
       "        vertical-align: middle;\n",
       "    }\n",
       "\n",
       "    .dataframe tbody tr th {\n",
       "        vertical-align: top;\n",
       "    }\n",
       "\n",
       "    .dataframe thead th {\n",
       "        text-align: right;\n",
       "    }\n",
       "</style>\n",
       "<table border=\"1\" class=\"dataframe\">\n",
       "  <thead>\n",
       "    <tr style=\"text-align: right;\">\n",
       "      <th></th>\n",
       "      <th>enrollee_id</th>\n",
       "      <th>city</th>\n",
       "      <th>city_development_index</th>\n",
       "      <th>gender</th>\n",
       "      <th>relevent_experience</th>\n",
       "      <th>enrolled_university</th>\n",
       "      <th>education_level</th>\n",
       "      <th>major_discipline</th>\n",
       "      <th>experience</th>\n",
       "      <th>company_size</th>\n",
       "      <th>company_type</th>\n",
       "      <th>last_new_job</th>\n",
       "      <th>training_hours</th>\n",
       "      <th>target</th>\n",
       "    </tr>\n",
       "  </thead>\n",
       "  <tbody>\n",
       "    <tr>\n",
       "      <th>0</th>\n",
       "      <td>8949</td>\n",
       "      <td>103</td>\n",
       "      <td>0.920</td>\n",
       "      <td>1</td>\n",
       "      <td>0</td>\n",
       "      <td>2</td>\n",
       "      <td>0</td>\n",
       "      <td>5</td>\n",
       "      <td>21</td>\n",
       "      <td>2</td>\n",
       "      <td>5</td>\n",
       "      <td>1</td>\n",
       "      <td>36</td>\n",
       "      <td>1.0</td>\n",
       "    </tr>\n",
       "    <tr>\n",
       "      <th>1</th>\n",
       "      <td>29725</td>\n",
       "      <td>40</td>\n",
       "      <td>0.776</td>\n",
       "      <td>1</td>\n",
       "      <td>1</td>\n",
       "      <td>2</td>\n",
       "      <td>0</td>\n",
       "      <td>5</td>\n",
       "      <td>6</td>\n",
       "      <td>2</td>\n",
       "      <td>5</td>\n",
       "      <td>5</td>\n",
       "      <td>47</td>\n",
       "      <td>0.0</td>\n",
       "    </tr>\n",
       "    <tr>\n",
       "      <th>2</th>\n",
       "      <td>11561</td>\n",
       "      <td>21</td>\n",
       "      <td>0.624</td>\n",
       "      <td>1</td>\n",
       "      <td>1</td>\n",
       "      <td>0</td>\n",
       "      <td>0</td>\n",
       "      <td>5</td>\n",
       "      <td>15</td>\n",
       "      <td>2</td>\n",
       "      <td>5</td>\n",
       "      <td>0</td>\n",
       "      <td>83</td>\n",
       "      <td>0.0</td>\n",
       "    </tr>\n",
       "    <tr>\n",
       "      <th>3</th>\n",
       "      <td>33241</td>\n",
       "      <td>115</td>\n",
       "      <td>0.789</td>\n",
       "      <td>1</td>\n",
       "      <td>1</td>\n",
       "      <td>2</td>\n",
       "      <td>0</td>\n",
       "      <td>1</td>\n",
       "      <td>20</td>\n",
       "      <td>2</td>\n",
       "      <td>5</td>\n",
       "      <td>0</td>\n",
       "      <td>52</td>\n",
       "      <td>1.0</td>\n",
       "    </tr>\n",
       "    <tr>\n",
       "      <th>4</th>\n",
       "      <td>666</td>\n",
       "      <td>162</td>\n",
       "      <td>0.767</td>\n",
       "      <td>1</td>\n",
       "      <td>0</td>\n",
       "      <td>2</td>\n",
       "      <td>2</td>\n",
       "      <td>5</td>\n",
       "      <td>21</td>\n",
       "      <td>2</td>\n",
       "      <td>1</td>\n",
       "      <td>4</td>\n",
       "      <td>8</td>\n",
       "      <td>0.0</td>\n",
       "    </tr>\n",
       "  </tbody>\n",
       "</table>\n",
       "</div>"
      ],
      "text/plain": [
       "   enrollee_id  city  city_development_index  gender  relevent_experience  \\\n",
       "0         8949   103                   0.920       1                    0   \n",
       "1        29725    40                   0.776       1                    1   \n",
       "2        11561    21                   0.624       1                    1   \n",
       "3        33241   115                   0.789       1                    1   \n",
       "4          666   162                   0.767       1                    0   \n",
       "\n",
       "   enrolled_university  education_level  major_discipline  experience  \\\n",
       "0                    2                0                 5          21   \n",
       "1                    2                0                 5           6   \n",
       "2                    0                0                 5          15   \n",
       "3                    2                0                 1          20   \n",
       "4                    2                2                 5          21   \n",
       "\n",
       "   company_size  company_type  last_new_job  training_hours  target  \n",
       "0             2             5             1              36     1.0  \n",
       "1             2             5             5              47     0.0  \n",
       "2             2             5             0              83     0.0  \n",
       "3             2             5             0              52     1.0  \n",
       "4             2             1             4               8     0.0  "
      ]
     },
     "execution_count": 63,
     "metadata": {},
     "output_type": "execute_result"
    }
   ],
   "source": [
    "data.head()"
   ]
  },
  {
   "cell_type": "code",
   "execution_count": 68,
   "metadata": {
    "execution": {
     "iopub.execute_input": "2020-12-31T11:18:53.196716Z",
     "iopub.status.busy": "2020-12-31T11:18:53.195757Z",
     "iopub.status.idle": "2020-12-31T11:18:53.328678Z",
     "shell.execute_reply": "2020-12-31T11:18:53.327978Z"
    },
    "papermill": {
     "duration": 0.266217,
     "end_time": "2020-12-31T11:18:53.328790",
     "exception": false,
     "start_time": "2020-12-31T11:18:53.062573",
     "status": "completed"
    },
    "tags": []
   },
   "outputs": [],
   "source": [
    "y = data.target\n",
    "X = data.drop('target',axis=1)"
   ]
  },
  {
   "cell_type": "code",
   "execution_count": 69,
   "metadata": {},
   "outputs": [
    {
     "data": {
      "text/plain": [
       "0.0    14381\n",
       "1.0     4777\n",
       "Name: target, dtype: int64"
      ]
     },
     "execution_count": 69,
     "metadata": {},
     "output_type": "execute_result"
    }
   ],
   "source": [
    "y.value_counts()\n",
    "# 레이블 별 데이터 갯수가 다름"
   ]
  },
  {
   "cell_type": "code",
   "execution_count": 70,
   "metadata": {},
   "outputs": [],
   "source": [
    "# 이를 위해서 데이터 갯수를 맞추어 주는 SMOTE알고리즘 사용 (참고)\n",
    "sm = SMOTE(random_state=42)\n",
    "X, y = sm.fit_resample(X,y)"
   ]
  },
  {
   "cell_type": "code",
   "execution_count": 74,
   "metadata": {},
   "outputs": [
    {
     "data": {
      "text/plain": [
       "0.0    14381\n",
       "1.0    14381\n",
       "Name: target, dtype: int64"
      ]
     },
     "execution_count": 74,
     "metadata": {},
     "output_type": "execute_result"
    }
   ],
   "source": [
    "# 샘플 갯수 재확인 (많은 것 기준으로 맞추어진 것을 확인)\n",
    "y.value_counts()"
   ]
  },
  {
   "cell_type": "code",
   "execution_count": 75,
   "metadata": {
    "execution": {
     "iopub.execute_input": "2020-12-31T11:18:53.585246Z",
     "iopub.status.busy": "2020-12-31T11:18:53.584599Z",
     "iopub.status.idle": "2020-12-31T11:18:53.589242Z",
     "shell.execute_reply": "2020-12-31T11:18:53.588721Z"
    },
    "papermill": {
     "duration": 0.139766,
     "end_time": "2020-12-31T11:18:53.589354",
     "exception": false,
     "start_time": "2020-12-31T11:18:53.449588",
     "status": "completed"
    },
    "tags": []
   },
   "outputs": [],
   "source": [
    "X_train, X_test, y_train, y_test = train_test_split(X, y, test_size = 0.25, random_state=42)"
   ]
  },
  {
   "cell_type": "markdown",
   "metadata": {
    "papermill": {
     "duration": 0.126213,
     "end_time": "2020-12-31T11:18:53.850929",
     "exception": false,
     "start_time": "2020-12-31T11:18:53.724716",
     "status": "completed"
    },
    "tags": []
   },
   "source": [
    "### Scale Data"
   ]
  },
  {
   "cell_type": "markdown",
   "metadata": {},
   "source": [
    "정규화 진행."
   ]
  },
  {
   "cell_type": "code",
   "execution_count": 76,
   "metadata": {
    "execution": {
     "iopub.execute_input": "2020-12-31T11:18:54.102815Z",
     "iopub.status.busy": "2020-12-31T11:18:54.102114Z",
     "iopub.status.idle": "2020-12-31T11:18:54.114184Z",
     "shell.execute_reply": "2020-12-31T11:18:54.114899Z"
    },
    "papermill": {
     "duration": 0.143523,
     "end_time": "2020-12-31T11:18:54.115093",
     "exception": false,
     "start_time": "2020-12-31T11:18:53.971570",
     "status": "completed"
    },
    "tags": []
   },
   "outputs": [],
   "source": [
    "scaler = MinMaxScaler()\n",
    "X_train = scaler.fit_transform(X_train)\n",
    "X_test = scaler.transform(X_test)"
   ]
  },
  {
   "cell_type": "markdown",
   "metadata": {
    "papermill": {
     "duration": 0.13785,
     "end_time": "2020-12-31T11:18:54.393189",
     "exception": false,
     "start_time": "2020-12-31T11:18:54.255339",
     "status": "completed"
    },
    "tags": []
   },
   "source": [
    "<h1 style=\"font-size:2em;color:#2467C0\">6. Build Model</h1>"
   ]
  },
  {
   "cell_type": "markdown",
   "metadata": {
    "papermill": {
     "duration": 0.122951,
     "end_time": "2020-12-31T11:18:54.641982",
     "exception": false,
     "start_time": "2020-12-31T11:18:54.519031",
     "status": "completed"
    },
    "tags": []
   },
   "source": [
    "## Choose Base Model"
   ]
  },
  {
   "cell_type": "code",
   "execution_count": 77,
   "metadata": {
    "execution": {
     "iopub.execute_input": "2020-12-31T11:18:54.892066Z",
     "iopub.status.busy": "2020-12-31T11:18:54.891318Z",
     "iopub.status.idle": "2020-12-31T11:18:55.674333Z",
     "shell.execute_reply": "2020-12-31T11:18:55.675054Z"
    },
    "papermill": {
     "duration": 0.911281,
     "end_time": "2020-12-31T11:18:55.675221",
     "exception": false,
     "start_time": "2020-12-31T11:18:54.763940",
     "status": "completed"
    },
    "tags": []
   },
   "outputs": [],
   "source": [
    "from sklearn.naive_bayes import GaussianNB\n",
    "from sklearn.neighbors import KNeighborsClassifier  \n",
    "from sklearn.svm import SVC\n",
    "from sklearn.tree import DecisionTreeClassifier \n",
    "from sklearn.ensemble import RandomForestClassifier"
   ]
  },
  {
   "cell_type": "code",
   "execution_count": 78,
   "metadata": {
    "execution": {
     "iopub.execute_input": "2020-12-31T11:18:55.935211Z",
     "iopub.status.busy": "2020-12-31T11:18:55.929311Z",
     "iopub.status.idle": "2020-12-31T11:18:55.947340Z",
     "shell.execute_reply": "2020-12-31T11:18:55.946651Z"
    },
    "papermill": {
     "duration": 0.151463,
     "end_time": "2020-12-31T11:18:55.947487",
     "exception": false,
     "start_time": "2020-12-31T11:18:55.796024",
     "status": "completed"
    },
    "tags": []
   },
   "outputs": [],
   "source": [
    "models = []\n",
    "models.append(('Naive Bayes', GaussianNB()))\n",
    "models.append(('KNN', KNeighborsClassifier()))\n",
    "models.append(('CART', DecisionTreeClassifier(random_state = 42)))\n",
    "models.append(('Random Forest', RandomForestClassifier(random_state = 42)))\n",
    "models.append(('SVM', SVC(gamma='auto', random_state = 42)))\n",
    "\n",
    "# 각 모델 및 결과에 대한 정리를 위해 배열 추가\n",
    "results = []\n",
    "names = []"
   ]
  },
  {
   "cell_type": "code",
   "execution_count": 79,
   "metadata": {
    "execution": {
     "iopub.execute_input": "2020-12-31T11:18:56.203724Z",
     "iopub.status.busy": "2020-12-31T11:18:56.202176Z",
     "iopub.status.idle": "2020-12-31T11:20:00.862839Z",
     "shell.execute_reply": "2020-12-31T11:20:00.862066Z"
    },
    "papermill": {
     "duration": 64.791182,
     "end_time": "2020-12-31T11:20:00.862967",
     "exception": false,
     "start_time": "2020-12-31T11:18:56.071785",
     "status": "completed"
    },
    "tags": []
   },
   "outputs": [
    {
     "name": "stdout",
     "output_type": "stream",
     "text": [
      "Naive Bayes: 0.70\n",
      "KNN: 0.75\n",
      "CART: 0.74\n",
      "Random Forest: 0.81\n",
      "SVM: 0.73\n"
     ]
    }
   ],
   "source": [
    "for name, model in models:\n",
    "    model.fit(X_train, y_train)\n",
    "    y_pred = model.predict(X_test)\n",
    "    accuracy = accuracy_score(y_test, y_pred)\n",
    "    print(\"%s: %.2f\" % (name, accuracy))"
   ]
  },
  {
   "cell_type": "code",
   "execution_count": 91,
   "metadata": {},
   "outputs": [],
   "source": [
    "from sklearn.model_selection import cross_val_score"
   ]
  },
  {
   "cell_type": "code",
   "execution_count": 92,
   "metadata": {},
   "outputs": [],
   "source": [
    "scaler = MinMaxScaler()\n",
    "X_scaled = scaler.fit_transform(X)"
   ]
  },
  {
   "cell_type": "code",
   "execution_count": 93,
   "metadata": {},
   "outputs": [
    {
     "name": "stdout",
     "output_type": "stream",
     "text": [
      "[0.64018773 0.68138363 0.72444367 0.71888039 0.73087622]\n",
      "Naive Bayes: 0.70\n",
      "[0.65444116 0.704502   0.77121001 0.78442281 0.78598748]\n",
      "KNN: 0.74\n",
      "[0.61620024 0.69424648 0.79468011 0.79694019 0.78894298]\n",
      "CART: 0.74\n",
      "[0.65635321 0.74535025 0.87482615 0.86891516 0.87343533]\n",
      "Random Forest: 0.80\n",
      "[0.66000348 0.70467582 0.75295549 0.75208623 0.76338665]\n",
      "SVM: 0.73\n"
     ]
    }
   ],
   "source": [
    "for name, model in models:\n",
    "    results = cross_val_score(model, X_scaled, y, cv=5)\n",
    "    print(results)\n",
    "    print(\"%s: %.2f\" % (name, results.mean()))"
   ]
  },
  {
   "cell_type": "code",
   "execution_count": null,
   "metadata": {},
   "outputs": [],
   "source": []
  },
  {
   "cell_type": "markdown",
   "metadata": {
    "papermill": {
     "duration": 0.132777,
     "end_time": "2020-12-31T11:22:05.162681",
     "exception": false,
     "start_time": "2020-12-31T11:22:05.029904",
     "status": "completed"
    },
    "tags": []
   },
   "source": [
    "# Feature importance"
   ]
  },
  {
   "cell_type": "markdown",
   "metadata": {
    "papermill": {
     "duration": 0.12714,
     "end_time": "2020-12-31T11:22:05.419353",
     "exception": false,
     "start_time": "2020-12-31T11:22:05.292213",
     "status": "completed"
    },
    "tags": []
   },
   "source": [
    "각 feature가 모델의 성능에 영향을 주는 정도는 다르다. \n",
    "\n",
    "Random Forest 분류기는 각 feature에 대한 영향력을 파악할 수 있도록 feature importance 기능을 제공한다."
   ]
  },
  {
   "cell_type": "code",
   "execution_count": 80,
   "metadata": {
    "execution": {
     "iopub.execute_input": "2020-12-31T11:22:05.677178Z",
     "iopub.status.busy": "2020-12-31T11:22:05.676274Z",
     "iopub.status.idle": "2020-12-31T11:22:05.689264Z",
     "shell.execute_reply": "2020-12-31T11:22:05.688678Z"
    },
    "papermill": {
     "duration": 0.144937,
     "end_time": "2020-12-31T11:22:05.689406",
     "exception": false,
     "start_time": "2020-12-31T11:22:05.544469",
     "status": "completed"
    },
    "tags": []
   },
   "outputs": [
    {
     "name": "stdout",
     "output_type": "stream",
     "text": [
      "[[0.39 0.61]\n",
      " [0.91 0.09]\n",
      " [0.74 0.26]\n",
      " ...\n",
      " [0.4  0.6 ]\n",
      " [0.96 0.04]\n",
      " [0.78 0.22]]\n"
     ]
    }
   ],
   "source": [
    "# Random Forest\n",
    "model = RandomForestClassifier(random_state = 42)\n",
    "model.fit(X_train, y_train)\n",
    "y_pred = model.predict_proba(X_test)\n",
    "print(y_pred)"
   ]
  },
  {
   "cell_type": "markdown",
   "metadata": {
    "papermill": {
     "duration": 0.128524,
     "end_time": "2020-12-31T11:22:05.947952",
     "exception": false,
     "start_time": "2020-12-31T11:22:05.819428",
     "status": "completed"
    },
    "tags": []
   },
   "source": [
    "### 각 feature의 영향력은?"
   ]
  },
  {
   "cell_type": "code",
   "execution_count": 81,
   "metadata": {
    "execution": {
     "iopub.execute_input": "2020-12-31T11:22:06.219628Z",
     "iopub.status.busy": "2020-12-31T11:22:06.218973Z",
     "iopub.status.idle": "2020-12-31T11:22:06.226059Z",
     "shell.execute_reply": "2020-12-31T11:22:06.226740Z"
    },
    "papermill": {
     "duration": 0.1431,
     "end_time": "2020-12-31T11:22:06.226919",
     "exception": false,
     "start_time": "2020-12-31T11:22:06.083819",
     "status": "completed"
    },
    "tags": []
   },
   "outputs": [
    {
     "name": "stdout",
     "output_type": "stream",
     "text": [
      "[0.14079036 0.10736611 0.19303662 0.01292569 0.01943983 0.07363054\n",
      " 0.04447348 0.0213609  0.10112321 0.0708581  0.02994479 0.05467017\n",
      " 0.13038019]\n"
     ]
    }
   ],
   "source": [
    "print(model.feature_importances_)"
   ]
  },
  {
   "cell_type": "code",
   "execution_count": 86,
   "metadata": {
    "execution": {
     "iopub.execute_input": "2020-12-31T11:22:06.495465Z",
     "iopub.status.busy": "2020-12-31T11:22:06.494779Z",
     "iopub.status.idle": "2020-12-31T11:22:06.513234Z",
     "shell.execute_reply": "2020-12-31T11:22:06.513747Z"
    },
    "papermill": {
     "duration": 0.157524,
     "end_time": "2020-12-31T11:22:06.513902",
     "exception": false,
     "start_time": "2020-12-31T11:22:06.356378",
     "status": "completed"
    },
    "tags": []
   },
   "outputs": [
    {
     "data": {
      "text/html": [
       "<div>\n",
       "<style scoped>\n",
       "    .dataframe tbody tr th:only-of-type {\n",
       "        vertical-align: middle;\n",
       "    }\n",
       "\n",
       "    .dataframe tbody tr th {\n",
       "        vertical-align: top;\n",
       "    }\n",
       "\n",
       "    .dataframe thead th {\n",
       "        text-align: right;\n",
       "    }\n",
       "</style>\n",
       "<table border=\"1\" class=\"dataframe\">\n",
       "  <thead>\n",
       "    <tr style=\"text-align: right;\">\n",
       "      <th></th>\n",
       "      <th>Features</th>\n",
       "      <th>Importance</th>\n",
       "    </tr>\n",
       "  </thead>\n",
       "  <tbody>\n",
       "    <tr>\n",
       "      <th>3</th>\n",
       "      <td>gender</td>\n",
       "      <td>0.012926</td>\n",
       "    </tr>\n",
       "    <tr>\n",
       "      <th>4</th>\n",
       "      <td>relevent_experience</td>\n",
       "      <td>0.019440</td>\n",
       "    </tr>\n",
       "    <tr>\n",
       "      <th>7</th>\n",
       "      <td>major_discipline</td>\n",
       "      <td>0.021361</td>\n",
       "    </tr>\n",
       "    <tr>\n",
       "      <th>10</th>\n",
       "      <td>company_type</td>\n",
       "      <td>0.029945</td>\n",
       "    </tr>\n",
       "    <tr>\n",
       "      <th>6</th>\n",
       "      <td>education_level</td>\n",
       "      <td>0.044473</td>\n",
       "    </tr>\n",
       "    <tr>\n",
       "      <th>11</th>\n",
       "      <td>last_new_job</td>\n",
       "      <td>0.054670</td>\n",
       "    </tr>\n",
       "    <tr>\n",
       "      <th>9</th>\n",
       "      <td>company_size</td>\n",
       "      <td>0.070858</td>\n",
       "    </tr>\n",
       "    <tr>\n",
       "      <th>5</th>\n",
       "      <td>enrolled_university</td>\n",
       "      <td>0.073631</td>\n",
       "    </tr>\n",
       "    <tr>\n",
       "      <th>8</th>\n",
       "      <td>experience</td>\n",
       "      <td>0.101123</td>\n",
       "    </tr>\n",
       "    <tr>\n",
       "      <th>1</th>\n",
       "      <td>city</td>\n",
       "      <td>0.107366</td>\n",
       "    </tr>\n",
       "    <tr>\n",
       "      <th>12</th>\n",
       "      <td>training_hours</td>\n",
       "      <td>0.130380</td>\n",
       "    </tr>\n",
       "    <tr>\n",
       "      <th>0</th>\n",
       "      <td>enrollee_id</td>\n",
       "      <td>0.140790</td>\n",
       "    </tr>\n",
       "    <tr>\n",
       "      <th>2</th>\n",
       "      <td>city_development_index</td>\n",
       "      <td>0.193037</td>\n",
       "    </tr>\n",
       "  </tbody>\n",
       "</table>\n",
       "</div>"
      ],
      "text/plain": [
       "                  Features  Importance\n",
       "3                   gender    0.012926\n",
       "4      relevent_experience    0.019440\n",
       "7         major_discipline    0.021361\n",
       "10            company_type    0.029945\n",
       "6          education_level    0.044473\n",
       "11            last_new_job    0.054670\n",
       "9             company_size    0.070858\n",
       "5      enrolled_university    0.073631\n",
       "8               experience    0.101123\n",
       "1                     city    0.107366\n",
       "12          training_hours    0.130380\n",
       "0              enrollee_id    0.140790\n",
       "2   city_development_index    0.193037"
      ]
     },
     "execution_count": 86,
     "metadata": {},
     "output_type": "execute_result"
    }
   ],
   "source": [
    "importances = model.feature_importances_\n",
    "features = data.columns[:13]\n",
    "imp = pd.DataFrame({'Features': features, 'Importance': importances})\n",
    "imp = imp.sort_values(by = 'Importance')\n",
    "imp"
   ]
  },
  {
   "cell_type": "code",
   "execution_count": 83,
   "metadata": {
    "execution": {
     "iopub.execute_input": "2020-12-31T11:22:06.778782Z",
     "iopub.status.busy": "2020-12-31T11:22:06.777666Z",
     "iopub.status.idle": "2020-12-31T11:22:07.091303Z",
     "shell.execute_reply": "2020-12-31T11:22:07.091880Z"
    },
    "papermill": {
     "duration": 0.447998,
     "end_time": "2020-12-31T11:22:07.092039",
     "exception": false,
     "start_time": "2020-12-31T11:22:06.644041",
     "status": "completed"
    },
    "tags": []
   },
   "outputs": [
    {
     "data": {
      "image/png": "[encoded data removed]",
      "text/plain": [
       "<Figure size 576x432 with 1 Axes>"
      ]
     },
     "metadata": {
      "needs_background": "light"
     },
     "output_type": "display_data"
    }
   ],
   "source": [
    "plt.figure(figsize=(8,6))\n",
    "plt.barh(imp['Features'], imp['Importance'], color = 'g')\n",
    "plt.title('Feature importance in group assignment')\n",
    "plt.show()"
   ]
  }
 ],
 "metadata": {
  "kernelspec": {
   "display_name": "Python 3",
   "language": "python",
   "name": "python3"
  },
  "language_info": {
   "codemirror_mode": {
    "name": "ipython",
    "version": 3
   },
   "file_extension": ".py",
   "mimetype": "text/x-python",
   "name": "python",
   "nbconvert_exporter": "python",
   "pygments_lexer": "ipython3",
   "version": "3.8.3"
  },
  "papermill": {
   "duration": 245.845785,
   "end_time": "2020-12-31T11:22:08.554417",
   "environment_variables": {},
   "exception": null,
   "input_path": "__notebook__.ipynb",
   "output_path": "__notebook__.ipynb",
   "parameters": {},
   "start_time": "2020-12-31T11:18:02.708632",
   "version": "2.1.0"
  },
  "toc": {
   "base_numbering": 1,
   "nav_menu": {},
   "number_sections": false,
   "sideBar": true,
   "skip_h1_title": false,
   "title_cell": "Table of Contents",
   "title_sidebar": "Contents",
   "toc_cell": false,
   "toc_position": {},
   "toc_section_display": true,
   "toc_window_display": false
  }
 },
 "nbformat": 4,
 "nbformat_minor": 4
}
